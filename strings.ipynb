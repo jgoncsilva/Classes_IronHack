{
  "nbformat": 4,
  "nbformat_minor": 0,
  "metadata": {
    "colab": {
      "name": "strings.ipynb",
      "provenance": [],
      "collapsed_sections": [],
      "include_colab_link": true
    },
    "kernelspec": {
      "name": "python3",
      "display_name": "Python 3"
    }
  },
  "cells": [
    {
      "cell_type": "markdown",
      "metadata": {
        "id": "view-in-github",
        "colab_type": "text"
      },
      "source": [
        "<a href=\"https://colab.research.google.com/github/jgoncsilva/Classes_IronHack/blob/master/strings.ipynb\" target=\"_parent\"><img src=\"https://colab.research.google.com/assets/colab-badge.svg\" alt=\"Open In Colab\"/></a>"
      ]
    },
    {
      "cell_type": "code",
      "metadata": {
        "id": "Q-7_OfPG38WX",
        "colab_type": "code",
        "colab": {}
      },
      "source": [
        "mystring = \"hello I am a string\"\n",
        "\n",
        "# strings are\n",
        "\n",
        "# some mathematical operations -> + , *\n",
        "# they are iterables -> each element is a character inside the string\n",
        "# you can store numbers in it, and the data type treats everybody equally \"a\" \"2\"\n",
        "\n",
        "# OBJECTS -> like everything in python -> they have methods\n",
        "\n"
      ],
      "execution_count": null,
      "outputs": []
    },
    {
      "cell_type": "code",
      "metadata": {
        "id": "BzNjOAkv4kR8",
        "colab_type": "code",
        "colab": {
          "base_uri": "https://localhost:8080/",
          "height": 336
        },
        "outputId": "e44e44ca-b1e6-447e-e48d-91443a2d0b90"
      },
      "source": [
        "for letter in mystring:\n",
        "  print(letter)"
      ],
      "execution_count": null,
      "outputs": [
        {
          "output_type": "stream",
          "text": [
            "h\n",
            "e\n",
            "l\n",
            "l\n",
            "o\n",
            " \n",
            "I\n",
            " \n",
            "a\n",
            "m\n",
            " \n",
            "a\n",
            " \n",
            "s\n",
            "t\n",
            "r\n",
            "i\n",
            "n\n",
            "g\n"
          ],
          "name": "stdout"
        }
      ]
    },
    {
      "cell_type": "code",
      "metadata": {
        "id": "waSH_xr842YN",
        "colab_type": "code",
        "colab": {
          "base_uri": "https://localhost:8080/",
          "height": 35
        },
        "outputId": "09def397-6453-411c-fb21-cce893a1db38"
      },
      "source": [
        "# they have many many cool methods\n",
        "\n",
        "# all upper case\n",
        "mystring.upper()"
      ],
      "execution_count": null,
      "outputs": [
        {
          "output_type": "execute_result",
          "data": {
            "application/vnd.google.colaboratory.intrinsic": {
              "type": "string"
            },
            "text/plain": [
              "'HELLO I AM A STRING'"
            ]
          },
          "metadata": {
            "tags": []
          },
          "execution_count": 6
        }
      ]
    },
    {
      "cell_type": "code",
      "metadata": {
        "id": "Hz_89FKQ494H",
        "colab_type": "code",
        "colab": {
          "base_uri": "https://localhost:8080/",
          "height": 35
        },
        "outputId": "824af5ea-aa47-42dd-829d-7e4daedc9ce5"
      },
      "source": [
        "# all lowercase\n",
        "mystring.lower()"
      ],
      "execution_count": null,
      "outputs": [
        {
          "output_type": "execute_result",
          "data": {
            "application/vnd.google.colaboratory.intrinsic": {
              "type": "string"
            },
            "text/plain": [
              "'hello i am a string'"
            ]
          },
          "metadata": {
            "tags": []
          },
          "execution_count": 4
        }
      ]
    },
    {
      "cell_type": "code",
      "metadata": {
        "id": "7Na_tRJN4_hU",
        "colab_type": "code",
        "colab": {}
      },
      "source": [
        "# it is not inplace\n",
        "# if you want to change it, you must re-assign\n",
        "mystring = mystring.upper()"
      ],
      "execution_count": null,
      "outputs": []
    },
    {
      "cell_type": "code",
      "metadata": {
        "id": "bd0mlxVT5GQo",
        "colab_type": "code",
        "colab": {
          "base_uri": "https://localhost:8080/",
          "height": 35
        },
        "outputId": "408f3163-5a69-4723-ce51-adc8e80cfb84"
      },
      "source": [
        "mystring"
      ],
      "execution_count": null,
      "outputs": [
        {
          "output_type": "execute_result",
          "data": {
            "application/vnd.google.colaboratory.intrinsic": {
              "type": "string"
            },
            "text/plain": [
              "'HELLO I AM A STRING'"
            ]
          },
          "metadata": {
            "tags": []
          },
          "execution_count": 9
        }
      ]
    },
    {
      "cell_type": "code",
      "metadata": {
        "id": "kAozlZSQ5NFM",
        "colab_type": "code",
        "colab": {
          "base_uri": "https://localhost:8080/",
          "height": 195
        },
        "outputId": "ece0e8cd-4062-4c42-fda1-6c1eb6bb2b16"
      },
      "source": [
        "# they can be indexed\n",
        "\n",
        "# you cannot reassign a letter inside an existing string simply with an index call\n",
        "mystring[0] = 'a'"
      ],
      "execution_count": null,
      "outputs": [
        {
          "output_type": "error",
          "ename": "TypeError",
          "evalue": "ignored",
          "traceback": [
            "\u001b[0;31m---------------------------------------------------------------------------\u001b[0m",
            "\u001b[0;31mTypeError\u001b[0m                                 Traceback (most recent call last)",
            "\u001b[0;32m<ipython-input-13-7b4ba0853631>\u001b[0m in \u001b[0;36m<module>\u001b[0;34m()\u001b[0m\n\u001b[1;32m      1\u001b[0m \u001b[0;31m# they can be indexed\u001b[0m\u001b[0;34m\u001b[0m\u001b[0;34m\u001b[0m\u001b[0;34m\u001b[0m\u001b[0m\n\u001b[1;32m      2\u001b[0m \u001b[0;34m\u001b[0m\u001b[0m\n\u001b[0;32m----> 3\u001b[0;31m \u001b[0mmystring\u001b[0m\u001b[0;34m[\u001b[0m\u001b[0;36m0\u001b[0m\u001b[0;34m]\u001b[0m \u001b[0;34m=\u001b[0m \u001b[0;34m'a'\u001b[0m\u001b[0;34m\u001b[0m\u001b[0;34m\u001b[0m\u001b[0m\n\u001b[0m",
            "\u001b[0;31mTypeError\u001b[0m: 'str' object does not support item assignment"
          ]
        }
      ]
    },
    {
      "cell_type": "code",
      "metadata": {
        "id": "arU1rPWm557A",
        "colab_type": "code",
        "colab": {
          "base_uri": "https://localhost:8080/",
          "height": 35
        },
        "outputId": "8d19321b-7c27-4065-bc45-22f735b7ba2b"
      },
      "source": [
        "mystring = \"this is a good day to say this\"\n",
        "\n",
        "# count the number of occurences of a string inside another one\n",
        "mystring.count(\"this\")\n",
        "\n",
        "mystring.find(\"this\")\n",
        "\n",
        "mystring.replace(\"this\",\"tomorrow\")"
      ],
      "execution_count": null,
      "outputs": [
        {
          "output_type": "execute_result",
          "data": {
            "application/vnd.google.colaboratory.intrinsic": {
              "type": "string"
            },
            "text/plain": [
              "'tomorrow is a good day to say tomorrow'"
            ]
          },
          "metadata": {
            "tags": []
          },
          "execution_count": 16
        }
      ]
    },
    {
      "cell_type": "code",
      "metadata": {
        "id": "Qt2NTRAs6e5V",
        "colab_type": "code",
        "colab": {
          "base_uri": "https://localhost:8080/",
          "height": 34
        },
        "outputId": "54d5b79b-60ad-4761-eddb-e75b14d89a08"
      },
      "source": [
        "# check if a string is a substring\n",
        "\n",
        "\"Good\" in mystring"
      ],
      "execution_count": null,
      "outputs": [
        {
          "output_type": "execute_result",
          "data": {
            "text/plain": [
              "False"
            ]
          },
          "metadata": {
            "tags": []
          },
          "execution_count": 20
        }
      ]
    },
    {
      "cell_type": "code",
      "metadata": {
        "id": "tDd_TYjn6tfP",
        "colab_type": "code",
        "colab": {
          "base_uri": "https://localhost:8080/",
          "height": 34
        },
        "outputId": "b9ef0994-8922-4082-809f-265d058c1957"
      },
      "source": [
        "# how can I check if a given word is inside a string, but with any possible type of casing \"good is there \" -> Good \n",
        "\n",
        "\"GoOd\".upper() in mystring.upper()"
      ],
      "execution_count": null,
      "outputs": [
        {
          "output_type": "execute_result",
          "data": {
            "text/plain": [
              "True"
            ]
          },
          "metadata": {
            "tags": []
          },
          "execution_count": 21
        }
      ]
    },
    {
      "cell_type": "code",
      "metadata": {
        "id": "2cfCdcXR7MqN",
        "colab_type": "code",
        "colab": {
          "base_uri": "https://localhost:8080/",
          "height": 168
        },
        "outputId": "514033a1-680c-46c6-bc5f-57f21f9f537f"
      },
      "source": [
        "# the most useful string method -> split method\n",
        "\n",
        "mystring = \"\"\"A little bit of Monica in my life\n",
        "A little bit of Erica by my side\n",
        "A little bit of Rita is all I need\n",
        "A little bit of Tina is what I see\n",
        "A little bit of Sandra in the sun\n",
        "A little bit of Mary all night long\n",
        "A little bit of Jessica, here I am\n",
        "A little bit of you makes me your man \"\"\"\n",
        "\n",
        "mystring.split(\"little\")"
      ],
      "execution_count": null,
      "outputs": [
        {
          "output_type": "execute_result",
          "data": {
            "text/plain": [
              "['A ',\n",
              " ' bit of Monica in my life\\nA ',\n",
              " ' bit of Erica by my side\\nA ',\n",
              " ' bit of Rita is all I need\\nA ',\n",
              " ' bit of Tina is what I see\\nA ',\n",
              " ' bit of Sandra in the sun\\nA ',\n",
              " ' bit of Mary all night long\\nA ',\n",
              " ' bit of Jessica, here I am\\nA ',\n",
              " ' bit of you makes me your man ']"
            ]
          },
          "metadata": {
            "tags": []
          },
          "execution_count": 27
        }
      ]
    },
    {
      "cell_type": "code",
      "metadata": {
        "id": "adiaU7aM8VKB",
        "colab_type": "code",
        "colab": {
          "base_uri": "https://localhost:8080/",
          "height": 168
        },
        "outputId": "d6339e25-3935-4358-bc10-66c7b9c0f105"
      },
      "source": [
        "mystring.split(\"little\") "
      ],
      "execution_count": null,
      "outputs": [
        {
          "output_type": "execute_result",
          "data": {
            "text/plain": [
              "['A ',\n",
              " ' bit of Monica in my life\\nA ',\n",
              " ' bit of Erica by my side\\nA ',\n",
              " ' bit of Rita is all I need\\nA ',\n",
              " ' bit of Tina is what I see\\nA ',\n",
              " ' bit of Sandra in the sun\\nA ',\n",
              " ' bit of Mary all night long\\nA ',\n",
              " ' bit of Jessica, here I am\\nA ',\n",
              " ' bit of you makes me your man ']"
            ]
          },
          "metadata": {
            "tags": []
          },
          "execution_count": 28
        }
      ]
    },
    {
      "cell_type": "code",
      "metadata": {
        "id": "kpUuDpsi9lyk",
        "colab_type": "code",
        "colab": {
          "base_uri": "https://localhost:8080/",
          "height": 34
        },
        "outputId": "f50a7d9d-8131-4f4a-9561-0e2722568436"
      },
      "source": [
        "# pro tip: count how many times a word is in a string (without the counter method)\n",
        "\n",
        "len(mystring.split(\"little\") )-1"
      ],
      "execution_count": null,
      "outputs": [
        {
          "output_type": "execute_result",
          "data": {
            "text/plain": [
              "8"
            ]
          },
          "metadata": {
            "tags": []
          },
          "execution_count": 30
        }
      ]
    },
    {
      "cell_type": "code",
      "metadata": {
        "id": "KXbMgIgJ9xcl",
        "colab_type": "code",
        "colab": {
          "base_uri": "https://localhost:8080/",
          "height": 34
        },
        "outputId": "23db11c5-042d-4ba0-d461-484dd0077cc5"
      },
      "source": [
        "# not really a string method, but it uses strings\n",
        "\n",
        "# bring a list of strings back to one string only -> join method\n",
        "\n",
        "list_strings =['hello', 'my','name','is','pedro']\n",
        "\n",
        "print(' '.join(list_strings))"
      ],
      "execution_count": null,
      "outputs": [
        {
          "output_type": "stream",
          "text": [
            "hello my name is pedro\n"
          ],
          "name": "stdout"
        }
      ]
    },
    {
      "cell_type": "code",
      "metadata": {
        "id": "wbDrakm0--UJ",
        "colab_type": "code",
        "colab": {
          "base_uri": "https://localhost:8080/",
          "height": 101
        },
        "outputId": "503fca18-33e2-448a-aa60-f49853fdda8b"
      },
      "source": [
        "# not really a string method, but it uses strings\n",
        "\n",
        "# bring a list of strings back to one string only -> join method\n",
        "\n",
        "list_strings =['hello', 'my','name','is','pedro']\n",
        "\n",
        "print('\\n'.join(list_strings))"
      ],
      "execution_count": null,
      "outputs": [
        {
          "output_type": "stream",
          "text": [
            "hello\n",
            "my\n",
            "name\n",
            "is\n",
            "pedro\n"
          ],
          "name": "stdout"
        }
      ]
    },
    {
      "cell_type": "code",
      "metadata": {
        "id": "5j8dn5F6-16J",
        "colab_type": "code",
        "colab": {}
      },
      "source": [
        "# regex \n",
        "\n",
        "song = \"\"\"A little bit of Monica in my life\n",
        "A little bit of Erica by my side\n",
        "A little bit of Rita is all I need\n",
        "A little bit of Tina is what I see\n",
        "A little bit of Sandra in the sun\n",
        "A little bit of Mary all night long\n",
        "A little bit of Jessica, here I am\n",
        "A little bit of you makes me your man \"\"\"\n",
        "\n",
        "# sometimes string operations are not enough because you need more general rules/criteria -> Regex is a grammar that helps us with this\n",
        "\n",
        "# regex are a bunch of rules that allow you to detect patterns in text"
      ],
      "execution_count": null,
      "outputs": []
    },
    {
      "cell_type": "code",
      "metadata": {
        "id": "XVVbfpUqBFZs",
        "colab_type": "code",
        "colab": {}
      },
      "source": [
        "# importing regex\n",
        "import re\n",
        "\n",
        "# split\n",
        "\n",
        "#findall\n",
        "\n",
        "#sub\n",
        "\n",
        "#subn\n",
        "\n",
        "rule = '\\s[A-Z][a-z]+'\n"
      ],
      "execution_count": null,
      "outputs": []
    },
    {
      "cell_type": "code",
      "metadata": {
        "id": "YP2p3LUbBy0S",
        "colab_type": "code",
        "colab": {
          "base_uri": "https://localhost:8080/",
          "height": 151
        },
        "outputId": "274e4c6c-3799-4cd8-cfa2-780b8bd3082b"
      },
      "source": [
        "re.split(rule, song)"
      ],
      "execution_count": null,
      "outputs": [
        {
          "output_type": "execute_result",
          "data": {
            "text/plain": [
              "['A little bit of',\n",
              " ' in my life\\nA little bit of',\n",
              " ' by my side\\nA little bit of',\n",
              " ' is all I need\\nA little bit of',\n",
              " ' is what I see\\nA little bit of',\n",
              " ' in the sun\\nA little bit of',\n",
              " ' all night long\\nA little bit of',\n",
              " ', here I am\\nA little bit of you makes me your man ']"
            ]
          },
          "metadata": {
            "tags": []
          },
          "execution_count": 47
        }
      ]
    },
    {
      "cell_type": "code",
      "metadata": {
        "id": "ots2a8eWCChW",
        "colab_type": "code",
        "colab": {
          "base_uri": "https://localhost:8080/",
          "height": 52
        },
        "outputId": "ae660dc8-7c57-4f7f-a4b4-a90931cca349"
      },
      "source": [
        "import pprint\n",
        "\n",
        "# sub substitutes the ocurrences found with Felipython\n",
        "re.sub(rule, \" Diogo\" ,song)"
      ],
      "execution_count": null,
      "outputs": [
        {
          "output_type": "execute_result",
          "data": {
            "application/vnd.google.colaboratory.intrinsic": {
              "type": "string"
            },
            "text/plain": [
              "'A little bit of Diogo in my life\\nA little bit of Diogo by my side\\nA little bit of Diogo is all I need\\nA little bit of Diogo is what I see\\nA little bit of Diogo in the sun\\nA little bit of Diogo all night long\\nA little bit of Diogo, here I am\\nA little bit of you makes me your man '"
            ]
          },
          "metadata": {
            "tags": []
          },
          "execution_count": 60
        }
      ]
    },
    {
      "cell_type": "code",
      "metadata": {
        "id": "Kd9qn9s_D_Yx",
        "colab_type": "code",
        "colab": {
          "base_uri": "https://localhost:8080/",
          "height": 34
        },
        "outputId": "068de6d2-174d-4f64-be3e-27e45a5f9753"
      },
      "source": [
        "re.findall(rule, song)"
      ],
      "execution_count": null,
      "outputs": [
        {
          "output_type": "execute_result",
          "data": {
            "text/plain": [
              "[' Monica', ' Erica', ' Rita', ' Tina', ' Sandra', ' Mary', ' Jessica']"
            ]
          },
          "metadata": {
            "tags": []
          },
          "execution_count": 51
        }
      ]
    },
    {
      "cell_type": "code",
      "metadata": {
        "id": "LhAo9WMbENgH",
        "colab_type": "code",
        "colab": {
          "base_uri": "https://localhost:8080/",
          "height": 70
        },
        "outputId": "9421bdfc-71f6-4c67-94f5-161075cfddaa"
      },
      "source": [
        "# subn\n",
        "# returns a tuple, both with the replcaed string and the number of replacements\n",
        "# subn of index 0 is the same as the sub\n",
        "re.subn(rule, \" Felipython\", song)"
      ],
      "execution_count": null,
      "outputs": [
        {
          "output_type": "execute_result",
          "data": {
            "text/plain": [
              "('A little bit of Felipython in my life\\nA little bit of Felipython by my side\\nA little bit of Felipython is all I need\\nA little bit of Felipython is what I see\\nA little bit of Felipython in the sun\\nA little bit of Felipython all night long\\nA little bit of Felipython, here I am\\nA little bit of you makes me your man ',\n",
              " 7)"
            ]
          },
          "metadata": {
            "tags": []
          },
          "execution_count": 64
        }
      ]
    },
    {
      "cell_type": "code",
      "metadata": {
        "id": "gSrf_K61Fs0w",
        "colab_type": "code",
        "colab": {}
      },
      "source": [
        "string = \"Code is like Humor. When you have to explain it, it’s bad.\"\n",
        "\n"
      ],
      "execution_count": null,
      "outputs": []
    },
    {
      "cell_type": "code",
      "metadata": {
        "id": "IixV3he9HLmX",
        "colab_type": "code",
        "colab": {}
      },
      "source": [
        "# ask the user to input a password. it must obey the following rules:\n",
        "\n",
        "# - be between 6 and 12\n",
        "# - contain at least a number\n",
        "# - contain both upper case and lower case letters\n",
        "\n",
        "\n",
        "rule \"^(?=.*[A-Z])(?=.*[a-z])(?=.*\\d).{6,12}$\""
      ],
      "execution_count": null,
      "outputs": []
    },
    {
      "cell_type": "code",
      "metadata": {
        "id": "eoaIOGxq5QHr",
        "colab_type": "code",
        "colab": {}
      },
      "source": [
        "\"\"\"\n",
        "write a python code that takes a list of strings and returns another list with all the distinct letters found\n",
        "\n",
        "so for example [\"pedro\", \"alvaro\"] gives\n",
        "\n",
        "[a,e,r,o,d,p,l,v]\n",
        "\n",
        "\"\"\"\n",
        "\n",
        "\"hello /\\\"dddd\" \"\n",
        "\n",
        "# or\n",
        "\n",
        "'hello \"dddd\" '"
      ],
      "execution_count": null,
      "outputs": []
    }
  ]
}