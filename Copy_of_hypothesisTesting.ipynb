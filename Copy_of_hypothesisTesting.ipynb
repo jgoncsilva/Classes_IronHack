{
  "nbformat": 4,
  "nbformat_minor": 0,
  "metadata": {
    "kernelspec": {
      "display_name": "Python 3",
      "language": "python",
      "name": "python3"
    },
    "language_info": {
      "codemirror_mode": {
        "name": "ipython",
        "version": 3
      },
      "file_extension": ".py",
      "mimetype": "text/x-python",
      "name": "python",
      "nbconvert_exporter": "python",
      "pygments_lexer": "ipython3",
      "version": "3.6.8"
    },
    "colab": {
      "name": "Copy of hypothesisTesting.ipynb",
      "provenance": [],
      "include_colab_link": true
    }
  },
  "cells": [
    {
      "cell_type": "markdown",
      "metadata": {
        "id": "view-in-github",
        "colab_type": "text"
      },
      "source": [
        "<a href=\"https://colab.research.google.com/github/jgoncsilva/Classes_IronHack/blob/master/Copy_of_hypothesisTesting.ipynb\" target=\"_parent\"><img src=\"https://colab.research.google.com/assets/colab-badge.svg\" alt=\"Open In Colab\"/></a>"
      ]
    },
    {
      "cell_type": "code",
      "metadata": {
        "id": "5fd1GAeLKCxn",
        "colab_type": "code",
        "colab": {}
      },
      "source": [
        "# importing libraries\n",
        "import numpy as np\n",
        "import pandas as pd\n",
        "import seaborn as sns\n",
        "from scipy.stats import ttest_1samp, ttest_rel, ttest_ind\n",
        "from scipy.stats import f_oneway"
      ],
      "execution_count": null,
      "outputs": []
    },
    {
      "cell_type": "markdown",
      "metadata": {
        "id": "M2xR-B1EKCxr",
        "colab_type": "text"
      },
      "source": [
        "## Comparing with fix value"
      ]
    },
    {
      "cell_type": "code",
      "metadata": {
        "id": "SYc1AdZvKCxr",
        "colab_type": "code",
        "colab": {}
      },
      "source": [
        "# takes a dataset and a constant for comparison and returns the test statistic and the p value for a 2 sided test.\n",
        "patients = np.random.normal(5.1,1.6, 100)\n",
        "patients"
      ],
      "execution_count": null,
      "outputs": []
    },
    {
      "cell_type": "code",
      "metadata": {
        "id": "aghmz-JrKCxv",
        "colab_type": "code",
        "colab": {}
      },
      "source": [
        "ttest_1samp(patients, 5.7)"
      ],
      "execution_count": null,
      "outputs": []
    },
    {
      "cell_type": "markdown",
      "metadata": {
        "id": "nysY4SLmKCxx",
        "colab_type": "text"
      },
      "source": [
        "## Example: Matched Pair. \n",
        "\n",
        "The data in the two samples is dependent. In the data we are studying the blood pressure before and after the treatment."
      ]
    },
    {
      "cell_type": "code",
      "metadata": {
        "id": "5eCn0IWkKCxx",
        "colab_type": "code",
        "colab": {}
      },
      "source": [
        "blood_pressure = pd.read_csv('blood_pressure.csv')\n",
        "blood_pressure.head()"
      ],
      "execution_count": null,
      "outputs": []
    },
    {
      "cell_type": "code",
      "metadata": {
        "id": "SPwhYZr1KCxz",
        "colab_type": "code",
        "colab": {}
      },
      "source": [
        "ttest_rel(blood_pressure.after, blood_pressure.before)"
      ],
      "execution_count": null,
      "outputs": []
    },
    {
      "cell_type": "code",
      "metadata": {
        "id": "FXvDjonQKCx1",
        "colab_type": "code",
        "colab": {}
      },
      "source": [
        "ttest_1samp(blood_pressure.after-blood_pressure.before, 0)"
      ],
      "execution_count": null,
      "outputs": []
    },
    {
      "cell_type": "code",
      "metadata": {
        "id": "UKcIP2lDKCx3",
        "colab_type": "code",
        "colab": {}
      },
      "source": [
        "sns.boxplot(data = blood_pressure)"
      ],
      "execution_count": null,
      "outputs": []
    },
    {
      "cell_type": "code",
      "metadata": {
        "id": "v5vqmiVxKCx5",
        "colab_type": "code",
        "colab": {},
        "outputId": "dd2182ae-5618-40ea-9ed9-015b648cde0d"
      },
      "source": [
        "f_oneway(blood_pressure['before'], blood_pressure['after'])"
      ],
      "execution_count": null,
      "outputs": [
        {
          "output_type": "execute_result",
          "data": {
            "text/plain": [
              "F_onewayResult(statistic=748.3802995711546, pvalue=3.4898644191475694e-69)"
            ]
          },
          "metadata": {
            "tags": []
          },
          "execution_count": 8
        }
      ]
    },
    {
      "cell_type": "markdown",
      "metadata": {
        "id": "-w5tP5obKCx6",
        "colab_type": "text"
      },
      "source": [
        "## Indipentent Samples\n",
        "\n",
        "For two groups where we cannot match the rows to one another, for example men and women. In this case transactions from a website with different interfaces (a, b)"
      ]
    },
    {
      "cell_type": "code",
      "metadata": {
        "id": "cxEDQZ7lKCx7",
        "colab_type": "code",
        "colab": {}
      },
      "source": [
        "ab_test = pd.read_csv('ab_test.csv')\n",
        "ab_test.head()"
      ],
      "execution_count": null,
      "outputs": []
    },
    {
      "cell_type": "code",
      "metadata": {
        "id": "Os8ssobXKCx-",
        "colab_type": "code",
        "colab": {}
      },
      "source": [
        "ttest_ind(ab_test.a, ab_test.b, equal_var=True)  # if we don't assume equal variance the test will be more robust"
      ],
      "execution_count": null,
      "outputs": []
    },
    {
      "cell_type": "code",
      "metadata": {
        "id": "cGkVcfmvKCx_",
        "colab_type": "code",
        "colab": {}
      },
      "source": [
        "sns.boxplot(data = ab_test)"
      ],
      "execution_count": null,
      "outputs": []
    },
    {
      "cell_type": "code",
      "metadata": {
        "id": "qRumVld7KCyB",
        "colab_type": "code",
        "colab": {}
      },
      "source": [
        "f_oneway(ab_test['a'], ab_test['b'])"
      ],
      "execution_count": null,
      "outputs": []
    },
    {
      "cell_type": "code",
      "metadata": {
        "id": "EH83MIT3KCyD",
        "colab_type": "code",
        "colab": {}
      },
      "source": [
        ""
      ],
      "execution_count": null,
      "outputs": []
    }
  ]
}