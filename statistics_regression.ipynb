{
  "nbformat": 4,
  "nbformat_minor": 0,
  "metadata": {
    "colab": {
      "name": "statistics-regression.ipynb",
      "provenance": [],
      "collapsed_sections": [],
      "include_colab_link": true
    },
    "kernelspec": {
      "name": "python3",
      "display_name": "Python 3"
    }
  },
  "cells": [
    {
      "cell_type": "markdown",
      "metadata": {
        "id": "view-in-github",
        "colab_type": "text"
      },
      "source": [
        "<a href=\"https://colab.research.google.com/github/jgoncsilva/Classes_IronHack/blob/master/statistics_regression.ipynb\" target=\"_parent\"><img src=\"https://colab.research.google.com/assets/colab-badge.svg\" alt=\"Open In Colab\"/></a>"
      ]
    },
    {
      "cell_type": "code",
      "metadata": {
        "id": "qHBkNXUFxiU2",
        "colab_type": "code",
        "colab": {}
      },
      "source": [
        ""
      ],
      "execution_count": null,
      "outputs": []
    },
    {
      "cell_type": "code",
      "metadata": {
        "id": "17yAAHgA7gmm",
        "colab_type": "code",
        "colab": {}
      },
      "source": [
        ""
      ],
      "execution_count": null,
      "outputs": []
    },
    {
      "cell_type": "code",
      "metadata": {
        "id": "KKOVafp6xvaG",
        "colab_type": "code",
        "colab": {}
      },
      "source": [
        "# crucial library we will use is called scipy\n",
        "\n",
        "from scipy import stats\n",
        "import pandas as pd\n",
        "import numpy as np\n",
        "\n",
        "from matplotlib import pyplot as plt"
      ],
      "execution_count": null,
      "outputs": []
    },
    {
      "cell_type": "code",
      "metadata": {
        "id": "bmKs0Scnx4w1",
        "colab_type": "code",
        "colab": {}
      },
      "source": [
        "# generating a random distribution of numbers, centered around 10, with standard deviation of 2 and the skewness is \"a\"\n",
        "# generates 100 numbers (size)\n",
        "\n",
        "skewed_data = stats.skewnorm.rvs(a = -2 , loc = 10, scale = 2, size = 100)"
      ],
      "execution_count": null,
      "outputs": []
    },
    {
      "cell_type": "code",
      "metadata": {
        "id": "6ycU-mZqyzIB",
        "colab_type": "code",
        "colab": {
          "base_uri": "https://localhost:8080/",
          "height": 353
        },
        "outputId": "0ea12fc0-dc00-4deb-a487-7de1c597e259"
      },
      "source": [
        "plt.hist(skewed_data)"
      ],
      "execution_count": null,
      "outputs": [
        {
          "output_type": "execute_result",
          "data": {
            "text/plain": [
              "(array([ 1.,  3.,  3.,  4.,  3., 16., 27., 17., 16., 10.]),\n",
              " array([ 4.54709967,  5.18375248,  5.8204053 ,  6.45705811,  7.09371093,\n",
              "         7.73036374,  8.36701656,  9.00366937,  9.64032219, 10.276975  ,\n",
              "        10.91362782]),\n",
              " <a list of 10 Patch objects>)"
            ]
          },
          "metadata": {
            "tags": []
          },
          "execution_count": 9
        },
        {
          "output_type": "display_data",
          "data": {
            "image/png": "[encoded data removed]",
            "text/plain": [
              "<Figure size 432x288 with 1 Axes>"
            ]
          },
          "metadata": {
            "tags": [],
            "needs_background": "light"
          }
        }
      ]
    },
    {
      "cell_type": "code",
      "metadata": {
        "id": "-gxrR6Vvy19v",
        "colab_type": "code",
        "colab": {
          "base_uri": "https://localhost:8080/",
          "height": 34
        },
        "outputId": "c8c73c7a-7f83-4db2-be74-c56806232407"
      },
      "source": [
        "# but how much is the skewness coefficient of this distribution?\n",
        "# scipy has many functions that calculate the formulas of yesterday's class for you\n",
        "\n",
        "stats.skew(skewed_data)"
      ],
      "execution_count": null,
      "outputs": [
        {
          "output_type": "execute_result",
          "data": {
            "text/plain": [
              "-0.8823907866921308"
            ]
          },
          "metadata": {
            "tags": []
          },
          "execution_count": 10
        }
      ]
    },
    {
      "cell_type": "code",
      "metadata": {
        "id": "fah6Rl8Pzd_h",
        "colab_type": "code",
        "colab": {
          "base_uri": "https://localhost:8080/",
          "height": 34
        },
        "outputId": "3a66a607-8d37-4dc5-bc9b-53a526dacf10"
      },
      "source": [
        "# how about my kurtosis?\n",
        "\n",
        "stats.kurtosis(skewed_data, fisher = True)"
      ],
      "execution_count": null,
      "outputs": [
        {
          "output_type": "execute_result",
          "data": {
            "text/plain": [
              "0.8879997230477099"
            ]
          },
          "metadata": {
            "tags": []
          },
          "execution_count": 12
        }
      ]
    },
    {
      "cell_type": "code",
      "metadata": {
        "id": "QqgDtNISz0GF",
        "colab_type": "code",
        "colab": {}
      },
      "source": [
        "# the concepts of standardization and normalization\n",
        "\n",
        "\n",
        "# different way to quickly generate a normal distribution\n",
        "data1 = np.random.normal(loc = 20, scale = 5, size = 20000)\n",
        "data2 = np.random.normal(loc = 100, scale = 20, size = 2000)"
      ],
      "execution_count": null,
      "outputs": []
    },
    {
      "cell_type": "code",
      "metadata": {
        "id": "FgV0HUbr1fMC",
        "colab_type": "code",
        "colab": {
          "base_uri": "https://localhost:8080/",
          "height": 266
        },
        "outputId": "6ff28089-fd40-4820-bd3a-409fd26c76d6"
      },
      "source": [
        "# when I plot both number distributions together, of course they live in different worlds of scale and location\n",
        "plt.hist(data1)\n",
        "plt.hist(data2)\n",
        "plt.show()"
      ],
      "execution_count": null,
      "outputs": [
        {
          "output_type": "display_data",
          "data": {
            "image/png": "[encoded data removed]",
            "text/plain": [
              "<Figure size 432x288 with 1 Axes>"
            ]
          },
          "metadata": {
            "tags": [],
            "needs_background": "light"
          }
        }
      ]
    },
    {
      "cell_type": "code",
      "metadata": {
        "id": "qn2XosOW26Sw",
        "colab_type": "code",
        "colab": {
          "base_uri": "https://localhost:8080/",
          "height": 353
        },
        "outputId": "977186c1-88d9-4c2c-9119-0c849e3f57e9"
      },
      "source": [
        "# let's standardize them\n",
        "\n",
        "# this transformation forces the mean to be zero, by subtracting the mean. and then forcing the standard deviation to be 1\n",
        "\n",
        "data_3 = stats.skewnorm.rvs(a = -4 , loc = 10, scale = 2, size = 1000)\n",
        "\n",
        "data1_stand = (data1 - np.mean(data1))/np.std(data1)\n",
        "\n",
        "data2_stand = (data2 - np.mean(data2))/np.std(data2)\n",
        "\n",
        "data3_stand = (data_3 - np.mean(data_3))/np.std(data_3)\n",
        "\n",
        "plt.hist(data3_stand)"
      ],
      "execution_count": null,
      "outputs": [
        {
          "output_type": "execute_result",
          "data": {
            "text/plain": [
              "(array([  1.,   5.,  19.,  38.,  92., 179., 257., 261., 134.,  14.]),\n",
              " array([-4.3524985 , -3.68233851, -3.01217852, -2.34201853, -1.67185854,\n",
              "        -1.00169856, -0.33153857,  0.33862142,  1.00878141,  1.6789414 ,\n",
              "         2.34910139]),\n",
              " <a list of 10 Patch objects>)"
            ]
          },
          "metadata": {
            "tags": []
          },
          "execution_count": 61
        },
        {
          "output_type": "display_data",
          "data": {
            "image/png": "[encoded data removed]",
            "text/plain": [
              "<Figure size 432x288 with 1 Axes>"
            ]
          },
          "metadata": {
            "tags": [],
            "needs_background": "light"
          }
        }
      ]
    },
    {
      "cell_type": "code",
      "metadata": {
        "id": "5s1JGsVc3ai1",
        "colab_type": "code",
        "colab": {
          "base_uri": "https://localhost:8080/",
          "height": 264
        },
        "outputId": "0af646d8-4e7a-42ee-ca73-f137a7519b7b"
      },
      "source": [
        "# standardizations brings both distributions to be centered on zero and standard deviation 1 -> good for machine learning\n",
        "plt.hist(data2_stand)\n",
        "plt.hist(data3_stand)\n",
        "plt.show()"
      ],
      "execution_count": null,
      "outputs": [
        {
          "output_type": "display_data",
          "data": {
            "image/png": "[encoded data removed]",
            "text/plain": [
              "<Figure size 432x288 with 1 Axes>"
            ]
          },
          "metadata": {
            "tags": [],
            "needs_background": "light"
          }
        }
      ]
    },
    {
      "cell_type": "code",
      "metadata": {
        "id": "sfKjKLFX40Hk",
        "colab_type": "code",
        "colab": {}
      },
      "source": [
        "# normalization\n",
        "\n",
        "normalized_1 = (data1 - np.min(data1))/(np.max(data1)- np.min(data1))\n",
        "normalized_2 = (data2 - np.min(data2))/(np.max(data2)- np.min(data2))\n",
        "\n",
        "normalized_3 = (data_3 - np.min(data_3))/(np.max(data_3)- np.min(data_3))"
      ],
      "execution_count": null,
      "outputs": []
    },
    {
      "cell_type": "code",
      "metadata": {
        "id": "vZqlHaTK5KT_",
        "colab_type": "code",
        "colab": {
          "base_uri": "https://localhost:8080/",
          "height": 264
        },
        "outputId": "20030842-489a-4bbb-c3f6-d3839b35b136"
      },
      "source": [
        "plt.hist(normalized_2)\n",
        "plt.hist(normalized_3)\n",
        "plt.show()\n",
        "\n",
        "# in the standardization your are forcing them to have the same distribution (normal), in the normalization your are forcing them to be in the same referential"
      ],
      "execution_count": null,
      "outputs": [
        {
          "output_type": "display_data",
          "data": {
            "image/png": "[encoded data removed]",
            "text/plain": [
              "<Figure size 432x288 with 1 Axes>"
            ]
          },
          "metadata": {
            "tags": [],
            "needs_background": "light"
          }
        }
      ]
    },
    {
      "cell_type": "code",
      "metadata": {
        "id": "ntb4gRnE8CDq",
        "colab_type": "code",
        "colab": {
          "base_uri": "https://localhost:8080/",
          "height": 34
        },
        "outputId": "dd5ac173-5d09-4fb7-e547-f8efca9d592f"
      },
      "source": [
        "stats.skew(normalized_3)"
      ],
      "execution_count": null,
      "outputs": [
        {
          "output_type": "execute_result",
          "data": {
            "text/plain": [
              "-0.7190520474769648"
            ]
          },
          "metadata": {
            "tags": []
          },
          "execution_count": 68
        }
      ]
    },
    {
      "cell_type": "code",
      "metadata": {
        "id": "hIDHLh0I8XYq",
        "colab_type": "code",
        "colab": {
          "base_uri": "https://localhost:8080/",
          "height": 34
        },
        "outputId": "7fd3b626-7598-4443-f3ac-f933b5d9190d"
      },
      "source": [
        "stats.skew(data3_stand)"
      ],
      "execution_count": null,
      "outputs": [
        {
          "output_type": "execute_result",
          "data": {
            "text/plain": [
              "-0.719052047476962"
            ]
          },
          "metadata": {
            "tags": []
          },
          "execution_count": 69
        }
      ]
    },
    {
      "cell_type": "code",
      "metadata": {
        "id": "wo2DU2A40Suj",
        "colab_type": "code",
        "colab": {
          "base_uri": "https://localhost:8080/",
          "height": 353
        },
        "outputId": "a0c3b4d3-ae5f-4ba7-80e9-181996ab08e1"
      },
      "source": [
        "plt.hist(data1)"
      ],
      "execution_count": null,
      "outputs": [
        {
          "output_type": "execute_result",
          "data": {
            "text/plain": [
              "(array([  6.,  17.,  86., 249., 469., 488., 417., 210.,  46.,  12.]),\n",
              " array([-45.26977918, -35.08258525, -24.89539132, -14.7081974 ,\n",
              "         -4.52100347,   5.66619046,  15.85338438,  26.04057831,\n",
              "         36.22777224,  46.41496616,  56.60216009]),\n",
              " <a list of 10 Patch objects>)"
            ]
          },
          "metadata": {
            "tags": []
          },
          "execution_count": 24
        },
        {
          "output_type": "display_data",
          "data": {
            "image/png": "[encoded data removed]",
            "text/plain": [
              "<Figure size 432x288 with 1 Axes>"
            ]
          },
          "metadata": {
            "tags": [],
            "needs_background": "light"
          }
        }
      ]
    },
    {
      "cell_type": "code",
      "metadata": {
        "id": "bf9TEUX10Tb3",
        "colab_type": "code",
        "colab": {
          "base_uri": "https://localhost:8080/",
          "height": 34
        },
        "outputId": "f6c30f34-2f06-4087-f073-b6b0d6c2cb99"
      },
      "source": [
        "np.mean(data1)"
      ],
      "execution_count": null,
      "outputs": [
        {
          "output_type": "execute_result",
          "data": {
            "text/plain": [
              "0.07132529548357114"
            ]
          },
          "metadata": {
            "tags": []
          },
          "execution_count": 20
        }
      ]
    },
    {
      "cell_type": "code",
      "metadata": {
        "id": "ea6caY4f0xfg",
        "colab_type": "code",
        "colab": {}
      },
      "source": [
        "data_1 = np.random.normal(loc = 1, scale = 2, size = 200)\n",
        "data_2 = np.random.normal(loc = 1, scale = 2, size = 200)\n",
        "\n"
      ],
      "execution_count": null,
      "outputs": []
    },
    {
      "cell_type": "code",
      "metadata": {
        "id": "Hac47RVM9orX",
        "colab_type": "code",
        "colab": {}
      },
      "source": [
        "# I want to study their covariance\n",
        "\n",
        "# we must stack the points side by side\n",
        "\n",
        "stacked =  np.stack((data_1,data_2), axis = 0)"
      ],
      "execution_count": null,
      "outputs": []
    },
    {
      "cell_type": "code",
      "metadata": {
        "id": "FD0wjPoN9_QD",
        "colab_type": "code",
        "colab": {
          "base_uri": "https://localhost:8080/",
          "height": 52
        },
        "outputId": "0c050289-15fd-4dc8-9842-5d78585300e5"
      },
      "source": [
        "# now we are in a position to calculate the covariance \n",
        "\n",
        "np.cov(stacked)"
      ],
      "execution_count": null,
      "outputs": [
        {
          "output_type": "execute_result",
          "data": {
            "text/plain": [
              "array([[ 3.30173394, -0.43709525],\n",
              "       [-0.43709525,  4.00806355]])"
            ]
          },
          "metadata": {
            "tags": []
          },
          "execution_count": 76
        }
      ]
    },
    {
      "cell_type": "code",
      "metadata": {
        "id": "WGtRWSGG9_6R",
        "colab_type": "code",
        "colab": {}
      },
      "source": [
        "# how to interpret this matrix?\n",
        "\n",
        "# 1st position -> Cov(data_1 with data_1)\n",
        "\n",
        "# position 2 -> are the value of the covariance between both variables (data_1,data_2)\n",
        "# position 3 -> are the value of the covariance between both variables (data_2, data_1)\n",
        "\n",
        "# position 4 -> cov(data_2,data_2)"
      ],
      "execution_count": null,
      "outputs": []
    },
    {
      "cell_type": "code",
      "metadata": {
        "id": "iJAmZg9l_ixp",
        "colab_type": "code",
        "colab": {
          "base_uri": "https://localhost:8080/",
          "height": 52
        },
        "outputId": "2abc4394-fcd4-4275-aea2-5fc2b67e5639"
      },
      "source": [
        "np.corrcoef(stacked)"
      ],
      "execution_count": null,
      "outputs": [
        {
          "output_type": "execute_result",
          "data": {
            "text/plain": [
              "array([[ 1.        , -0.12015387],\n",
              "       [-0.12015387,  1.        ]])"
            ]
          },
          "metadata": {
            "tags": []
          },
          "execution_count": 77
        }
      ]
    },
    {
      "cell_type": "code",
      "metadata": {
        "id": "kL84vh8H_k93",
        "colab_type": "code",
        "colab": {}
      },
      "source": [
        "# Linear regression"
      ],
      "execution_count": null,
      "outputs": []
    },
    {
      "cell_type": "code",
      "metadata": {
        "id": "GpZJQJhNMIcN",
        "colab_type": "code",
        "colab": {
          "base_uri": "https://localhost:8080/",
          "height": 34
        },
        "outputId": "7f46636e-50a8-4d27-bbb5-b4cf78d4f7ed"
      },
      "source": [
        "# generating an array of x values\n",
        "x = np.arange(0,10,1)\n",
        "x"
      ],
      "execution_count": null,
      "outputs": [
        {
          "output_type": "execute_result",
          "data": {
            "text/plain": [
              "array([0, 1, 2, 3, 4, 5, 6, 7, 8, 9])"
            ]
          },
          "metadata": {
            "tags": []
          },
          "execution_count": 79
        }
      ]
    },
    {
      "cell_type": "code",
      "metadata": {
        "id": "SaClvQU0MMvL",
        "colab_type": "code",
        "colab": {}
      },
      "source": [
        "y = x + 2\n",
        "y2 = x + 3\n",
        "y3 = x - 1\n",
        "\n",
        "#here we are changing the y-intercept, which controls the height og the line"
      ],
      "execution_count": null,
      "outputs": []
    },
    {
      "cell_type": "code",
      "metadata": {
        "id": "N48GchfoMRRG",
        "colab_type": "code",
        "colab": {
          "base_uri": "https://localhost:8080/",
          "height": 34
        },
        "outputId": "77efc1f1-a51e-4118-ad5f-efd99c15e1fa"
      },
      "source": [
        "y"
      ],
      "execution_count": null,
      "outputs": [
        {
          "output_type": "execute_result",
          "data": {
            "text/plain": [
              "array([ 2,  3,  4,  5,  6,  7,  8,  9, 10, 11])"
            ]
          },
          "metadata": {
            "tags": []
          },
          "execution_count": 81
        }
      ]
    },
    {
      "cell_type": "code",
      "metadata": {
        "id": "eKlDkrTgMR7H",
        "colab_type": "code",
        "colab": {
          "base_uri": "https://localhost:8080/",
          "height": 264
        },
        "outputId": "a6f2f16a-5949-4c7a-c0fd-62d4082f5696"
      },
      "source": [
        "plt.plot(x,y)\n",
        "plt.plot(x,y2)\n",
        "plt.plot(x,y3)\n",
        "plt.show()"
      ],
      "execution_count": null,
      "outputs": [
        {
          "output_type": "display_data",
          "data": {
            "image/png": "[encoded data removed]",
            "text/plain": [
              "<Figure size 432x288 with 1 Axes>"
            ]
          },
          "metadata": {
            "tags": [],
            "needs_background": "light"
          }
        }
      ]
    },
    {
      "cell_type": "code",
      "metadata": {
        "id": "zdlDNh6gNmCt",
        "colab_type": "code",
        "colab": {
          "base_uri": "https://localhost:8080/",
          "height": 267
        },
        "outputId": "94de4aea-ac8a-490c-8c6a-e9fb54b48e5d"
      },
      "source": [
        "y = x \n",
        "y2 = 2*x \n",
        "y3 = -3*x\n",
        "\n",
        "\n",
        "plt.plot(x,y)\n",
        "plt.plot(x,y2)\n",
        "plt.plot(x,y3)\n",
        "plt.show()"
      ],
      "execution_count": null,
      "outputs": [
        {
          "output_type": "display_data",
          "data": {
            "image/png": "[encoded data removed]",
            "text/plain": [
              "<Figure size 432x288 with 1 Axes>"
            ]
          },
          "metadata": {
            "tags": [],
            "needs_background": "light"
          }
        }
      ]
    },
    {
      "cell_type": "code",
      "metadata": {
        "id": "cge-z6T-MWEC",
        "colab_type": "code",
        "colab": {}
      },
      "source": [
        "# what are the parameters that define the amily of straight lines\n",
        "\n",
        "# gradient/slope \n",
        "\n",
        "# y-intercept -> the height of the line"
      ],
      "execution_count": null,
      "outputs": []
    },
    {
      "cell_type": "code",
      "metadata": {
        "id": "e4N3DnPLMmoo",
        "colab_type": "code",
        "colab": {}
      },
      "source": [
        "data = pd.read_csv(\"dailyActivity_merged.csv\")"
      ],
      "execution_count": null,
      "outputs": []
    },
    {
      "cell_type": "code",
      "metadata": {
        "id": "b4RKNTkQQRt7",
        "colab_type": "code",
        "colab": {
          "base_uri": "https://localhost:8080/",
          "height": 217
        },
        "outputId": "324761dd-d023-45d1-abc1-e568e91512e1"
      },
      "source": [
        "data.head()"
      ],
      "execution_count": null,
      "outputs": [
        {
          "output_type": "execute_result",
          "data": {
            "text/html": [
              "<div>\n",
              "<style scoped>\n",
              "    .dataframe tbody tr th:only-of-type {\n",
              "        vertical-align: middle;\n",
              "    }\n",
              "\n",
              "    .dataframe tbody tr th {\n",
              "        vertical-align: top;\n",
              "    }\n",
              "\n",
              "    .dataframe thead th {\n",
              "        text-align: right;\n",
              "    }\n",
              "</style>\n",
              "<table border=\"1\" class=\"dataframe\">\n",
              "  <thead>\n",
              "    <tr style=\"text-align: right;\">\n",
              "      <th></th>\n",
              "      <th>Id</th>\n",
              "      <th>ActivityDate</th>\n",
              "      <th>TotalSteps</th>\n",
              "      <th>TotalDistance</th>\n",
              "      <th>TrackerDistance</th>\n",
              "      <th>LoggedActivitiesDistance</th>\n",
              "      <th>VeryActiveDistance</th>\n",
              "      <th>ModeratelyActiveDistance</th>\n",
              "      <th>LightActiveDistance</th>\n",
              "      <th>SedentaryActiveDistance</th>\n",
              "      <th>VeryActiveMinutes</th>\n",
              "      <th>FairlyActiveMinutes</th>\n",
              "      <th>LightlyActiveMinutes</th>\n",
              "      <th>SedentaryMinutes</th>\n",
              "      <th>Calories</th>\n",
              "    </tr>\n",
              "  </thead>\n",
              "  <tbody>\n",
              "    <tr>\n",
              "      <th>0</th>\n",
              "      <td>1503960366</td>\n",
              "      <td>3/25/2016</td>\n",
              "      <td>11004</td>\n",
              "      <td>7.11</td>\n",
              "      <td>7.11</td>\n",
              "      <td>0.0</td>\n",
              "      <td>2.57</td>\n",
              "      <td>0.46</td>\n",
              "      <td>4.07</td>\n",
              "      <td>0.0</td>\n",
              "      <td>33</td>\n",
              "      <td>12</td>\n",
              "      <td>205</td>\n",
              "      <td>804</td>\n",
              "      <td>1819</td>\n",
              "    </tr>\n",
              "    <tr>\n",
              "      <th>1</th>\n",
              "      <td>1503960366</td>\n",
              "      <td>3/26/2016</td>\n",
              "      <td>17609</td>\n",
              "      <td>11.55</td>\n",
              "      <td>11.55</td>\n",
              "      <td>0.0</td>\n",
              "      <td>6.92</td>\n",
              "      <td>0.73</td>\n",
              "      <td>3.91</td>\n",
              "      <td>0.0</td>\n",
              "      <td>89</td>\n",
              "      <td>17</td>\n",
              "      <td>274</td>\n",
              "      <td>588</td>\n",
              "      <td>2154</td>\n",
              "    </tr>\n",
              "    <tr>\n",
              "      <th>2</th>\n",
              "      <td>1503960366</td>\n",
              "      <td>3/27/2016</td>\n",
              "      <td>12736</td>\n",
              "      <td>8.53</td>\n",
              "      <td>8.53</td>\n",
              "      <td>0.0</td>\n",
              "      <td>4.66</td>\n",
              "      <td>0.16</td>\n",
              "      <td>3.71</td>\n",
              "      <td>0.0</td>\n",
              "      <td>56</td>\n",
              "      <td>5</td>\n",
              "      <td>268</td>\n",
              "      <td>605</td>\n",
              "      <td>1944</td>\n",
              "    </tr>\n",
              "    <tr>\n",
              "      <th>3</th>\n",
              "      <td>1503960366</td>\n",
              "      <td>3/28/2016</td>\n",
              "      <td>13231</td>\n",
              "      <td>8.93</td>\n",
              "      <td>8.93</td>\n",
              "      <td>0.0</td>\n",
              "      <td>3.19</td>\n",
              "      <td>0.79</td>\n",
              "      <td>4.95</td>\n",
              "      <td>0.0</td>\n",
              "      <td>39</td>\n",
              "      <td>20</td>\n",
              "      <td>224</td>\n",
              "      <td>1080</td>\n",
              "      <td>1932</td>\n",
              "    </tr>\n",
              "    <tr>\n",
              "      <th>4</th>\n",
              "      <td>1503960366</td>\n",
              "      <td>3/29/2016</td>\n",
              "      <td>12041</td>\n",
              "      <td>7.85</td>\n",
              "      <td>7.85</td>\n",
              "      <td>0.0</td>\n",
              "      <td>2.16</td>\n",
              "      <td>1.09</td>\n",
              "      <td>4.61</td>\n",
              "      <td>0.0</td>\n",
              "      <td>28</td>\n",
              "      <td>28</td>\n",
              "      <td>243</td>\n",
              "      <td>763</td>\n",
              "      <td>1886</td>\n",
              "    </tr>\n",
              "  </tbody>\n",
              "</table>\n",
              "</div>"
            ],
            "text/plain": [
              "           Id ActivityDate  ...  SedentaryMinutes  Calories\n",
              "0  1503960366    3/25/2016  ...               804      1819\n",
              "1  1503960366    3/26/2016  ...               588      2154\n",
              "2  1503960366    3/27/2016  ...               605      1944\n",
              "3  1503960366    3/28/2016  ...              1080      1932\n",
              "4  1503960366    3/29/2016  ...               763      1886\n",
              "\n",
              "[5 rows x 15 columns]"
            ]
          },
          "metadata": {
            "tags": []
          },
          "execution_count": 94
        }
      ]
    },
    {
      "cell_type": "code",
      "metadata": {
        "id": "VAvOvYQMQTJW",
        "colab_type": "code",
        "colab": {}
      },
      "source": [
        "# steps is our independent variable (what we control)\n",
        "# caloris burnt that day the dependent variable\n",
        "\n",
        "x = data['TotalSteps']\n",
        "y = data['Calories']"
      ],
      "execution_count": null,
      "outputs": []
    },
    {
      "cell_type": "code",
      "metadata": {
        "id": "LnGJGXcMQpcQ",
        "colab_type": "code",
        "colab": {
          "base_uri": "https://localhost:8080/",
          "height": 34
        },
        "outputId": "f11e1120-3cb9-4f68-c005-26a2ab4284ab"
      },
      "source": [
        "# to perform the linear regression I use the stats model in scipy\n",
        "\n",
        "results = stats.linregress(x,y)\n",
        "results"
      ],
      "execution_count": null,
      "outputs": [
        {
          "output_type": "execute_result",
          "data": {
            "text/plain": [
              "LinregressResult(slope=0.08782201641318159, intercept=1614.5206467338903, rvalue=0.5813801894994011, pvalue=1.1249929081423457e-42, stderr=0.005761897288439592)"
            ]
          },
          "metadata": {
            "tags": []
          },
          "execution_count": 96
        }
      ]
    },
    {
      "cell_type": "code",
      "metadata": {
        "id": "RVjZj6ECSG55",
        "colab_type": "code",
        "colab": {}
      },
      "source": [
        "# I am creating the full regression line (of best fit), based on the results of my linear regression\n",
        "regression_line = results[0]*x + results[1]"
      ],
      "execution_count": null,
      "outputs": []
    },
    {
      "cell_type": "code",
      "metadata": {
        "id": "5lBrFJ_UQzvr",
        "colab_type": "code",
        "colab": {
          "base_uri": "https://localhost:8080/",
          "height": 264
        },
        "outputId": "39aaeb58-5eb6-4c37-a7b2-98a7c329f66f"
      },
      "source": [
        "# the r value is the pearson correlation coefficient and goes between -1 and 1, and states the \"quality of the fit\"\n",
        "\n",
        "# sometimes the metric shown is the R^2 (R squared) = r^2 , this number goes from 0 to 1 and is the main metric \n",
        "# of the quality of the fit\n",
        "\n",
        "plt.plot(x, regression_line, c = 'orange')\n",
        "plt.scatter(x,y)\n",
        "plt.show()"
      ],
      "execution_count": null,
      "outputs": [
        {
          "output_type": "display_data",
          "data": {
            "image/png": "[encoded data removed]",
            "text/plain": [
              "<Figure size 432x288 with 1 Axes>"
            ]
          },
          "metadata": {
            "tags": [],
            "needs_background": "light"
          }
        }
      ]
    },
    {
      "cell_type": "code",
      "metadata": {
        "id": "F8TN99JtRpVc",
        "colab_type": "code",
        "colab": {
          "base_uri": "https://localhost:8080/",
          "height": 34
        },
        "outputId": "cd4c461a-1f25-4e1c-e295-38e9e5769243"
      },
      "source": [
        "results[1]"
      ],
      "execution_count": null,
      "outputs": [
        {
          "output_type": "execute_result",
          "data": {
            "text/plain": [
              "1614.5206467338903"
            ]
          },
          "metadata": {
            "tags": []
          },
          "execution_count": 100
        }
      ]
    },
    {
      "cell_type": "code",
      "metadata": {
        "id": "bNaHelj2R_i1",
        "colab_type": "code",
        "colab": {}
      },
      "source": [
        "data = pd.read_csv('sample_data/california_housing_train.csv')"
      ],
      "execution_count": null,
      "outputs": []
    },
    {
      "cell_type": "code",
      "metadata": {
        "id": "AXeZDjm1TbcG",
        "colab_type": "code",
        "colab": {
          "base_uri": "https://localhost:8080/",
          "height": 197
        },
        "outputId": "e996ca39-476d-4203-fa48-da9326fe07c8"
      },
      "source": [
        "data.head()"
      ],
      "execution_count": null,
      "outputs": [
        {
          "output_type": "execute_result",
          "data": {
            "text/html": [
              "<div>\n",
              "<style scoped>\n",
              "    .dataframe tbody tr th:only-of-type {\n",
              "        vertical-align: middle;\n",
              "    }\n",
              "\n",
              "    .dataframe tbody tr th {\n",
              "        vertical-align: top;\n",
              "    }\n",
              "\n",
              "    .dataframe thead th {\n",
              "        text-align: right;\n",
              "    }\n",
              "</style>\n",
              "<table border=\"1\" class=\"dataframe\">\n",
              "  <thead>\n",
              "    <tr style=\"text-align: right;\">\n",
              "      <th></th>\n",
              "      <th>longitude</th>\n",
              "      <th>latitude</th>\n",
              "      <th>housing_median_age</th>\n",
              "      <th>total_rooms</th>\n",
              "      <th>total_bedrooms</th>\n",
              "      <th>population</th>\n",
              "      <th>households</th>\n",
              "      <th>median_income</th>\n",
              "      <th>median_house_value</th>\n",
              "    </tr>\n",
              "  </thead>\n",
              "  <tbody>\n",
              "    <tr>\n",
              "      <th>0</th>\n",
              "      <td>-114.31</td>\n",
              "      <td>34.19</td>\n",
              "      <td>15.0</td>\n",
              "      <td>5612.0</td>\n",
              "      <td>1283.0</td>\n",
              "      <td>1015.0</td>\n",
              "      <td>472.0</td>\n",
              "      <td>1.4936</td>\n",
              "      <td>66900.0</td>\n",
              "    </tr>\n",
              "    <tr>\n",
              "      <th>1</th>\n",
              "      <td>-114.47</td>\n",
              "      <td>34.40</td>\n",
              "      <td>19.0</td>\n",
              "      <td>7650.0</td>\n",
              "      <td>1901.0</td>\n",
              "      <td>1129.0</td>\n",
              "      <td>463.0</td>\n",
              "      <td>1.8200</td>\n",
              "      <td>80100.0</td>\n",
              "    </tr>\n",
              "    <tr>\n",
              "      <th>2</th>\n",
              "      <td>-114.56</td>\n",
              "      <td>33.69</td>\n",
              "      <td>17.0</td>\n",
              "      <td>720.0</td>\n",
              "      <td>174.0</td>\n",
              "      <td>333.0</td>\n",
              "      <td>117.0</td>\n",
              "      <td>1.6509</td>\n",
              "      <td>85700.0</td>\n",
              "    </tr>\n",
              "    <tr>\n",
              "      <th>3</th>\n",
              "      <td>-114.57</td>\n",
              "      <td>33.64</td>\n",
              "      <td>14.0</td>\n",
              "      <td>1501.0</td>\n",
              "      <td>337.0</td>\n",
              "      <td>515.0</td>\n",
              "      <td>226.0</td>\n",
              "      <td>3.1917</td>\n",
              "      <td>73400.0</td>\n",
              "    </tr>\n",
              "    <tr>\n",
              "      <th>4</th>\n",
              "      <td>-114.57</td>\n",
              "      <td>33.57</td>\n",
              "      <td>20.0</td>\n",
              "      <td>1454.0</td>\n",
              "      <td>326.0</td>\n",
              "      <td>624.0</td>\n",
              "      <td>262.0</td>\n",
              "      <td>1.9250</td>\n",
              "      <td>65500.0</td>\n",
              "    </tr>\n",
              "  </tbody>\n",
              "</table>\n",
              "</div>"
            ],
            "text/plain": [
              "   longitude  latitude  ...  median_income  median_house_value\n",
              "0    -114.31     34.19  ...         1.4936             66900.0\n",
              "1    -114.47     34.40  ...         1.8200             80100.0\n",
              "2    -114.56     33.69  ...         1.6509             85700.0\n",
              "3    -114.57     33.64  ...         3.1917             73400.0\n",
              "4    -114.57     33.57  ...         1.9250             65500.0\n",
              "\n",
              "[5 rows x 9 columns]"
            ]
          },
          "metadata": {
            "tags": []
          },
          "execution_count": 105
        }
      ]
    },
    {
      "cell_type": "code",
      "metadata": {
        "id": "IVLvb8LwTeZz",
        "colab_type": "code",
        "colab": {}
      },
      "source": [
        "# we want to find a model, that explains the median house value\n",
        "\n",
        "y = data['median_house_value']\n",
        "x = data['median_income']\n",
        "\n"
      ],
      "execution_count": null,
      "outputs": []
    },
    {
      "cell_type": "code",
      "metadata": {
        "id": "77jU1muMT71W",
        "colab_type": "code",
        "colab": {
          "base_uri": "https://localhost:8080/",
          "height": 34
        },
        "outputId": "280c259b-94d2-4dfa-e833-5300447c5d4b"
      },
      "source": [
        "stats.linregress(x,y)"
      ],
      "execution_count": null,
      "outputs": [
        {
          "output_type": "execute_result",
          "data": {
            "text/plain": [
              "LinregressResult(slope=42054.07487405612, intercept=43980.62815629656, rvalue=0.6918706037806692, pvalue=0.0, stderr=336.615749084671)"
            ]
          },
          "metadata": {
            "tags": []
          },
          "execution_count": 107
        }
      ]
    },
    {
      "cell_type": "code",
      "metadata": {
        "id": "LpOfCkVjUDH9",
        "colab_type": "code",
        "colab": {
          "base_uri": "https://localhost:8080/",
          "height": 197
        },
        "outputId": "7df08163-cee1-4f25-8bfe-cf5e2df81fe5"
      },
      "source": [
        "data.head()"
      ],
      "execution_count": null,
      "outputs": [
        {
          "output_type": "execute_result",
          "data": {
            "text/html": [
              "<div>\n",
              "<style scoped>\n",
              "    .dataframe tbody tr th:only-of-type {\n",
              "        vertical-align: middle;\n",
              "    }\n",
              "\n",
              "    .dataframe tbody tr th {\n",
              "        vertical-align: top;\n",
              "    }\n",
              "\n",
              "    .dataframe thead th {\n",
              "        text-align: right;\n",
              "    }\n",
              "</style>\n",
              "<table border=\"1\" class=\"dataframe\">\n",
              "  <thead>\n",
              "    <tr style=\"text-align: right;\">\n",
              "      <th></th>\n",
              "      <th>longitude</th>\n",
              "      <th>latitude</th>\n",
              "      <th>housing_median_age</th>\n",
              "      <th>total_rooms</th>\n",
              "      <th>total_bedrooms</th>\n",
              "      <th>population</th>\n",
              "      <th>households</th>\n",
              "      <th>median_income</th>\n",
              "      <th>median_house_value</th>\n",
              "    </tr>\n",
              "  </thead>\n",
              "  <tbody>\n",
              "    <tr>\n",
              "      <th>0</th>\n",
              "      <td>-114.31</td>\n",
              "      <td>34.19</td>\n",
              "      <td>15.0</td>\n",
              "      <td>5612.0</td>\n",
              "      <td>1283.0</td>\n",
              "      <td>1015.0</td>\n",
              "      <td>472.0</td>\n",
              "      <td>1.4936</td>\n",
              "      <td>66900.0</td>\n",
              "    </tr>\n",
              "    <tr>\n",
              "      <th>1</th>\n",
              "      <td>-114.47</td>\n",
              "      <td>34.40</td>\n",
              "      <td>19.0</td>\n",
              "      <td>7650.0</td>\n",
              "      <td>1901.0</td>\n",
              "      <td>1129.0</td>\n",
              "      <td>463.0</td>\n",
              "      <td>1.8200</td>\n",
              "      <td>80100.0</td>\n",
              "    </tr>\n",
              "    <tr>\n",
              "      <th>2</th>\n",
              "      <td>-114.56</td>\n",
              "      <td>33.69</td>\n",
              "      <td>17.0</td>\n",
              "      <td>720.0</td>\n",
              "      <td>174.0</td>\n",
              "      <td>333.0</td>\n",
              "      <td>117.0</td>\n",
              "      <td>1.6509</td>\n",
              "      <td>85700.0</td>\n",
              "    </tr>\n",
              "    <tr>\n",
              "      <th>3</th>\n",
              "      <td>-114.57</td>\n",
              "      <td>33.64</td>\n",
              "      <td>14.0</td>\n",
              "      <td>1501.0</td>\n",
              "      <td>337.0</td>\n",
              "      <td>515.0</td>\n",
              "      <td>226.0</td>\n",
              "      <td>3.1917</td>\n",
              "      <td>73400.0</td>\n",
              "    </tr>\n",
              "    <tr>\n",
              "      <th>4</th>\n",
              "      <td>-114.57</td>\n",
              "      <td>33.57</td>\n",
              "      <td>20.0</td>\n",
              "      <td>1454.0</td>\n",
              "      <td>326.0</td>\n",
              "      <td>624.0</td>\n",
              "      <td>262.0</td>\n",
              "      <td>1.9250</td>\n",
              "      <td>65500.0</td>\n",
              "    </tr>\n",
              "  </tbody>\n",
              "</table>\n",
              "</div>"
            ],
            "text/plain": [
              "   longitude  latitude  ...  median_income  median_house_value\n",
              "0    -114.31     34.19  ...         1.4936             66900.0\n",
              "1    -114.47     34.40  ...         1.8200             80100.0\n",
              "2    -114.56     33.69  ...         1.6509             85700.0\n",
              "3    -114.57     33.64  ...         3.1917             73400.0\n",
              "4    -114.57     33.57  ...         1.9250             65500.0\n",
              "\n",
              "[5 rows x 9 columns]"
            ]
          },
          "metadata": {
            "tags": []
          },
          "execution_count": 112
        }
      ]
    },
    {
      "cell_type": "code",
      "metadata": {
        "id": "_QkghTwDYf1U",
        "colab_type": "code",
        "colab": {}
      },
      "source": [
        "# simple linear regression\n",
        "median_house_value = 10*median_income + 4\n",
        "\n",
        "# why not try a multi linear regression\n",
        "\n",
        "median_house_value = 10*median_income + 3*total_bedrooms -0.1*population + 4\n",
        "\n"
      ],
      "execution_count": null,
      "outputs": []
    },
    {
      "cell_type": "code",
      "metadata": {
        "id": "TLqKcVRQUNjL",
        "colab_type": "code",
        "colab": {}
      },
      "source": [
        "# the best variables are those that have a high correlation with the target (you want to predict, always the y), but low correlation between themselves"
      ],
      "execution_count": null,
      "outputs": []
    },
    {
      "cell_type": "code",
      "metadata": {
        "id": "3JFJ9I6jWudE",
        "colab_type": "code",
        "colab": {}
      },
      "source": [
        "# multi linear regression -> one dependent variable (y) but multiple independent variable (x)\n",
        "\n",
        "# y = x1*a + x2*b + c\n",
        "\n",
        "# this model is still a straight line, but has 2 inputs (x1, x2)"
      ],
      "execution_count": null,
      "outputs": []
    },
    {
      "cell_type": "code",
      "metadata": {
        "id": "9SeMG-coW_nj",
        "colab_type": "code",
        "colab": {}
      },
      "source": [
        "import statsmodels.api as sm\n",
        "\n",
        "X = data[['median_income','housing_median_age']]\n",
        "\n",
        "y = data['median_house_value']\n",
        "\n",
        "# how about the intersection? -> this model by defauly doesnt include it\n",
        "#X = sm.add_constant(X)"
      ],
      "execution_count": null,
      "outputs": []
    },
    {
      "cell_type": "code",
      "metadata": {
        "id": "3BlSyld-XomI",
        "colab_type": "code",
        "colab": {}
      },
      "source": [
        "# this syntax here is fitting the model to take our X variables and calculate y\n",
        "model = sm.OLS(y,X).fit()\n"
      ],
      "execution_count": null,
      "outputs": []
    },
    {
      "cell_type": "code",
      "metadata": {
        "id": "fivHkXPtYFQn",
        "colab_type": "code",
        "colab": {
          "base_uri": "https://localhost:8080/",
          "height": 387
        },
        "outputId": "cc05ff4f-4e70-4932-d4a6-85cd4fe12c52"
      },
      "source": [
        "model.summary()"
      ],
      "execution_count": null,
      "outputs": [
        {
          "output_type": "execute_result",
          "data": {
            "text/html": [
              "<table class=\"simpletable\">\n",
              "<caption>OLS Regression Results</caption>\n",
              "<tr>\n",
              "  <th>Dep. Variable:</th>    <td>median_house_value</td> <th>  R-squared (uncentered):</th>       <td>   0.884</td>  \n",
              "</tr>\n",
              "<tr>\n",
              "  <th>Model:</th>                    <td>OLS</td>        <th>  Adj. R-squared (uncentered):</th>  <td>   0.884</td>  \n",
              "</tr>\n",
              "<tr>\n",
              "  <th>Method:</th>              <td>Least Squares</td>   <th>  F-statistic:       </th>           <td>6.475e+04</td> \n",
              "</tr>\n",
              "<tr>\n",
              "  <th>Date:</th>              <td>Thu, 23 Jul 2020</td>  <th>  Prob (F-statistic):</th>            <td>  0.00</td>   \n",
              "</tr>\n",
              "<tr>\n",
              "  <th>Time:</th>                  <td>11:29:12</td>      <th>  Log-Likelihood:    </th>          <td>-2.1624e+05</td>\n",
              "</tr>\n",
              "<tr>\n",
              "  <th>No. Observations:</th>       <td> 17000</td>       <th>  AIC:               </th>           <td>4.325e+05</td> \n",
              "</tr>\n",
              "<tr>\n",
              "  <th>Df Residuals:</th>           <td> 16998</td>       <th>  BIC:               </th>           <td>4.325e+05</td> \n",
              "</tr>\n",
              "<tr>\n",
              "  <th>Df Model:</th>               <td>     2</td>       <th>                     </th>               <td> </td>     \n",
              "</tr>\n",
              "<tr>\n",
              "  <th>Covariance Type:</th>       <td>nonrobust</td>     <th>                     </th>               <td> </td>     \n",
              "</tr>\n",
              "</table>\n",
              "<table class=\"simpletable\">\n",
              "<tr>\n",
              "           <td></td>             <th>coef</th>     <th>std err</th>      <th>t</th>      <th>P>|t|</th>  <th>[0.025</th>    <th>0.975]</th>  \n",
              "</tr>\n",
              "<tr>\n",
              "  <th>median_income</th>      <td> 4.221e+04</td> <td>  239.485</td> <td>  176.249</td> <td> 0.000</td> <td> 4.17e+04</td> <td> 4.27e+04</td>\n",
              "</tr>\n",
              "<tr>\n",
              "  <th>housing_median_age</th> <td> 1551.1071</td> <td>   33.174</td> <td>   46.757</td> <td> 0.000</td> <td> 1486.083</td> <td> 1616.131</td>\n",
              "</tr>\n",
              "</table>\n",
              "<table class=\"simpletable\">\n",
              "<tr>\n",
              "  <th>Omnibus:</th>       <td>3466.454</td> <th>  Durbin-Watson:     </th> <td>   0.952</td>\n",
              "</tr>\n",
              "<tr>\n",
              "  <th>Prob(Omnibus):</th>  <td> 0.000</td>  <th>  Jarque-Bera (JB):  </th> <td>8100.178</td>\n",
              "</tr>\n",
              "<tr>\n",
              "  <th>Skew:</th>           <td> 1.151</td>  <th>  Prob(JB):          </th> <td>    0.00</td>\n",
              "</tr>\n",
              "<tr>\n",
              "  <th>Kurtosis:</th>       <td> 5.477</td>  <th>  Cond. No.          </th> <td>    12.2</td>\n",
              "</tr>\n",
              "</table><br/><br/>Warnings:<br/>[1] Standard Errors assume that the covariance matrix of the errors is correctly specified."
            ],
            "text/plain": [
              "<class 'statsmodels.iolib.summary.Summary'>\n",
              "\"\"\"\n",
              "                                 OLS Regression Results                                \n",
              "=======================================================================================\n",
              "Dep. Variable:     median_house_value   R-squared (uncentered):                   0.884\n",
              "Model:                            OLS   Adj. R-squared (uncentered):              0.884\n",
              "Method:                 Least Squares   F-statistic:                          6.475e+04\n",
              "Date:                Thu, 23 Jul 2020   Prob (F-statistic):                        0.00\n",
              "Time:                        11:29:12   Log-Likelihood:                     -2.1624e+05\n",
              "No. Observations:               17000   AIC:                                  4.325e+05\n",
              "Df Residuals:                   16998   BIC:                                  4.325e+05\n",
              "Df Model:                           2                                                  \n",
              "Covariance Type:            nonrobust                                                  \n",
              "======================================================================================\n",
              "                         coef    std err          t      P>|t|      [0.025      0.975]\n",
              "--------------------------------------------------------------------------------------\n",
              "median_income       4.221e+04    239.485    176.249      0.000    4.17e+04    4.27e+04\n",
              "housing_median_age  1551.1071     33.174     46.757      0.000    1486.083    1616.131\n",
              "==============================================================================\n",
              "Omnibus:                     3466.454   Durbin-Watson:                   0.952\n",
              "Prob(Omnibus):                  0.000   Jarque-Bera (JB):             8100.178\n",
              "Skew:                           1.151   Prob(JB):                         0.00\n",
              "Kurtosis:                       5.477   Cond. No.                         12.2\n",
              "==============================================================================\n",
              "\n",
              "Warnings:\n",
              "[1] Standard Errors assume that the covariance matrix of the errors is correctly specified.\n",
              "\"\"\""
            ]
          },
          "metadata": {
            "tags": []
          },
          "execution_count": 132
        }
      ]
    },
    {
      "cell_type": "code",
      "metadata": {
        "id": "51kx_0GeYGwL",
        "colab_type": "code",
        "colab": {}
      },
      "source": [
        "median_value = 1114*latutitude + 42960*median_income "
      ],
      "execution_count": null,
      "outputs": []
    },
    {
      "cell_type": "code",
      "metadata": {
        "id": "b_T0UATdcXct",
        "colab_type": "code",
        "colab": {}
      },
      "source": [
        "# advanced fiting topic\n",
        "\n",
        "xdata = np.linspace(0,15,100)\n"
      ],
      "execution_count": null,
      "outputs": []
    },
    {
      "cell_type": "code",
      "metadata": {
        "id": "NJ88Q-efdAYU",
        "colab_type": "code",
        "colab": {
          "base_uri": "https://localhost:8080/",
          "height": 372
        },
        "outputId": "69320363-3554-48e6-eb98-41fb318d5519"
      },
      "source": [
        "xdata"
      ],
      "execution_count": null,
      "outputs": [
        {
          "output_type": "execute_result",
          "data": {
            "text/plain": [
              "array([ 0.        ,  0.15151515,  0.3030303 ,  0.45454545,  0.60606061,\n",
              "        0.75757576,  0.90909091,  1.06060606,  1.21212121,  1.36363636,\n",
              "        1.51515152,  1.66666667,  1.81818182,  1.96969697,  2.12121212,\n",
              "        2.27272727,  2.42424242,  2.57575758,  2.72727273,  2.87878788,\n",
              "        3.03030303,  3.18181818,  3.33333333,  3.48484848,  3.63636364,\n",
              "        3.78787879,  3.93939394,  4.09090909,  4.24242424,  4.39393939,\n",
              "        4.54545455,  4.6969697 ,  4.84848485,  5.        ,  5.15151515,\n",
              "        5.3030303 ,  5.45454545,  5.60606061,  5.75757576,  5.90909091,\n",
              "        6.06060606,  6.21212121,  6.36363636,  6.51515152,  6.66666667,\n",
              "        6.81818182,  6.96969697,  7.12121212,  7.27272727,  7.42424242,\n",
              "        7.57575758,  7.72727273,  7.87878788,  8.03030303,  8.18181818,\n",
              "        8.33333333,  8.48484848,  8.63636364,  8.78787879,  8.93939394,\n",
              "        9.09090909,  9.24242424,  9.39393939,  9.54545455,  9.6969697 ,\n",
              "        9.84848485, 10.        , 10.15151515, 10.3030303 , 10.45454545,\n",
              "       10.60606061, 10.75757576, 10.90909091, 11.06060606, 11.21212121,\n",
              "       11.36363636, 11.51515152, 11.66666667, 11.81818182, 11.96969697,\n",
              "       12.12121212, 12.27272727, 12.42424242, 12.57575758, 12.72727273,\n",
              "       12.87878788, 13.03030303, 13.18181818, 13.33333333, 13.48484848,\n",
              "       13.63636364, 13.78787879, 13.93939394, 14.09090909, 14.24242424,\n",
              "       14.39393939, 14.54545455, 14.6969697 , 14.84848485, 15.        ])"
            ]
          },
          "metadata": {
            "tags": []
          },
          "execution_count": 137
        }
      ]
    },
    {
      "cell_type": "code",
      "metadata": {
        "id": "-fStcpPfdCFe",
        "colab_type": "code",
        "colab": {}
      },
      "source": [
        "# create a model of a non linear function\n",
        "\n",
        "# creating random noise\n",
        "#np.random.seed(1729)\n",
        "y_noise = 4*np.random.normal(size = xdata.size)\n",
        "\n",
        "y = 0.5*np.square(xdata) + y_noise"
      ],
      "execution_count": null,
      "outputs": []
    },
    {
      "cell_type": "code",
      "metadata": {
        "id": "olp--CFcdQfs",
        "colab_type": "code",
        "colab": {
          "base_uri": "https://localhost:8080/",
          "height": 264
        },
        "outputId": "6b3cc32c-608b-498e-a90e-605ae184c8bc"
      },
      "source": [
        "plt.plot(xdata,y, 'o')\n",
        "plt.show()"
      ],
      "execution_count": null,
      "outputs": [
        {
          "output_type": "display_data",
          "data": {
            "image/png": "[encoded data removed]",
            "text/plain": [
              "<Figure size 432x288 with 1 Axes>"
            ]
          },
          "metadata": {
            "tags": [],
            "needs_background": "light"
          }
        }
      ]
    },
    {
      "cell_type": "code",
      "metadata": {
        "id": "o3haxBm9dSKo",
        "colab_type": "code",
        "colab": {}
      },
      "source": [
        "# fit a quadratic equation to these points\n",
        "\n",
        "# I am defining the family of the functions I want\n",
        "# y = a*x^2 + b*x + c\n",
        "\n",
        "def quadratic_function(x, a,b,c):\n",
        "  # defining the general formula of a quadratic\n",
        "  return a*np.square(x) + b*x +c\n",
        "\n",
        "# x are my inputs\n",
        "# a,b,c are the parameters of the function I need to optimize\n",
        "\n",
        "from scipy.optimize import curve_fit\n",
        "\n",
        "# this module will take X values, will take Y values and will take the shape of the function you want\n",
        "# and it will return the best possible parameters that git\n",
        "\n",
        "result = curve_fit(quadratic_function, xdata, y)"
      ],
      "execution_count": null,
      "outputs": []
    },
    {
      "cell_type": "code",
      "metadata": {
        "id": "g14gVSI5fxgM",
        "colab_type": "code",
        "colab": {}
      },
      "source": [
        "# this returns a tuple where the most important thing is the first element\n",
        "\n",
        "# these numbers represent the best possible values of a,b,c that the computer found to fit the curve\n",
        "best_curve = result[0][0]*np.square(xdata) + result[0][1]*xdata + result[0][2]\n",
        "\n",
        "#best_curve = quadratic_function(result[00])"
      ],
      "execution_count": null,
      "outputs": []
    },
    {
      "cell_type": "code",
      "metadata": {
        "id": "SUaEYAtyf6uL",
        "colab_type": "code",
        "colab": {
          "base_uri": "https://localhost:8080/",
          "height": 282
        },
        "outputId": "c4c42a5f-710b-4cf3-b7f0-2acaf957bbe9"
      },
      "source": [
        "plt.plot(xdata,y,'o')\n",
        "plt.plot(xdata, best_curve)"
      ],
      "execution_count": null,
      "outputs": [
        {
          "output_type": "execute_result",
          "data": {
            "text/plain": [
              "[<matplotlib.lines.Line2D at 0x7fb06b2b40f0>]"
            ]
          },
          "metadata": {
            "tags": []
          },
          "execution_count": 174
        },
        {
          "output_type": "display_data",
          "data": {
            "image/png": "[encoded data removed]",
            "text/plain": [
              "<Figure size 432x288 with 1 Axes>"
            ]
          },
          "metadata": {
            "tags": [],
            "needs_background": "light"
          }
        }
      ]
    },
    {
      "cell_type": "code",
      "metadata": {
        "id": "ASijvvI9hbkL",
        "colab_type": "code",
        "colab": {
          "base_uri": "https://localhost:8080/",
          "height": 87
        },
        "outputId": "aac7407a-645e-448a-ec7d-b210d7673b63"
      },
      "source": [
        "result"
      ],
      "execution_count": null,
      "outputs": [
        {
          "output_type": "execute_result",
          "data": {
            "text/plain": [
              "(array([ 0.50562224, -0.11910606,  0.77055427]),\n",
              " array([[ 6.24660507e-04, -9.36990777e-03,  2.31881536e-02],\n",
              "        [-9.36990777e-03,  1.50104958e-01, -4.19494850e-01],\n",
              "        [ 2.31881536e-02, -4.19494850e-01,  1.58111747e+00]]))"
            ]
          },
          "metadata": {
            "tags": []
          },
          "execution_count": 177
        }
      ]
    },
    {
      "cell_type": "code",
      "metadata": {
        "id": "VhB1bHgGh8Pl",
        "colab_type": "code",
        "colab": {}
      },
      "source": [
        ""
      ],
      "execution_count": null,
      "outputs": []
    }
  ]
}