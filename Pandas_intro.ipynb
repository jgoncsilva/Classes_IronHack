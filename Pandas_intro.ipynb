{
  "nbformat": 4,
  "nbformat_minor": 0,
  "metadata": {
    "colab": {
      "name": "Pandas - intro.ipynb",
      "provenance": [],
      "include_colab_link": true
    },
    "kernelspec": {
      "name": "python3",
      "display_name": "Python 3"
    }
  },
  "cells": [
    {
      "cell_type": "markdown",
      "metadata": {
        "id": "view-in-github",
        "colab_type": "text"
      },
      "source": [
        "<a href=\"https://colab.research.google.com/github/jgoncsilva/Classes_IronHack/blob/master/Pandas_intro.ipynb\" target=\"_parent\"><img src=\"https://colab.research.google.com/assets/colab-badge.svg\" alt=\"Open In Colab\"/></a>"
      ]
    },
    {
      "cell_type": "code",
      "metadata": {
        "id": "aYUzPmhJ9Xsz",
        "colab_type": "code",
        "colab": {}
      },
      "source": [
        "import numpy as np\n",
        "import pandas as pd"
      ],
      "execution_count": null,
      "outputs": []
    },
    {
      "cell_type": "markdown",
      "metadata": {
        "id": "YenhR0Dr970t",
        "colab_type": "text"
      },
      "source": [
        "## What is Pandas\n",
        "\n",
        "Pandas is a newer package built on top of NumPy, and provides an efficient implementation of a DataFrame. \n",
        "DataFrames are essentially multidimensional arrays with attached row and column labels, and often with heterogeneous types and/or missing data."
      ]
    },
    {
      "cell_type": "markdown",
      "metadata": {
        "id": "2OdK91L8-Q80",
        "colab_type": "text"
      },
      "source": [
        "### Pandas Series\n",
        "\n",
        "Indexed data, created from a list or array\n"
      ]
    },
    {
      "cell_type": "code",
      "metadata": {
        "id": "c7Oz3z3n-Tri",
        "colab_type": "code",
        "colab": {}
      },
      "source": [
        "data = pd.Series(range(4,45,6))\n",
        "print(data)"
      ],
      "execution_count": null,
      "outputs": []
    },
    {
      "cell_type": "code",
      "metadata": {
        "id": "ldVMgr5SECaP",
        "colab_type": "code",
        "colab": {}
      },
      "source": [
        "type(data)"
      ],
      "execution_count": null,
      "outputs": []
    },
    {
      "cell_type": "code",
      "metadata": {
        "id": "GYZhyHcv-8Sw",
        "colab_type": "code",
        "colab": {}
      },
      "source": [
        "data.index = range(2,9)\n",
        "data"
      ],
      "execution_count": null,
      "outputs": []
    },
    {
      "cell_type": "code",
      "metadata": {
        "id": "zjjtMzL-_M2A",
        "colab_type": "code",
        "colab": {}
      },
      "source": [
        "data.index = ['a', 'b', 'c', 'd', 'e', 'f', 'g']\n",
        "data"
      ],
      "execution_count": null,
      "outputs": []
    },
    {
      "cell_type": "code",
      "metadata": {
        "id": "W9zv4IAp_gcI",
        "colab_type": "code",
        "colab": {}
      },
      "source": [
        "population_dict = {'California': 38332521,\n",
        "                   'Texas': 26448193,\n",
        "                   'New York': 19651127,\n",
        "                   'Florida': 19552860,\n",
        "                   'Illinois': 12882135}\n",
        "population = pd.Series(population_dict)\n",
        "population\n"
      ],
      "execution_count": null,
      "outputs": []
    },
    {
      "cell_type": "markdown",
      "metadata": {
        "id": "QTzNQEcA_1N5",
        "colab_type": "text"
      },
      "source": [
        "### Dataframe"
      ]
    },
    {
      "cell_type": "code",
      "metadata": {
        "id": "V96iG-KmHC9F",
        "colab_type": "code",
        "colab": {}
      },
      "source": [
        "ds = pd.DataFrame()"
      ],
      "execution_count": null,
      "outputs": []
    },
    {
      "cell_type": "code",
      "metadata": {
        "id": "tPwtnedUHGnX",
        "colab_type": "code",
        "colab": {}
      },
      "source": [
        "ds"
      ],
      "execution_count": null,
      "outputs": []
    },
    {
      "cell_type": "code",
      "metadata": {
        "id": "6s3WqbjZ_3Mn",
        "colab_type": "code",
        "colab": {}
      },
      "source": [
        "columns = ['Column1','Column2','Column3','Column4','Column5']\n",
        "df = pd.DataFrame(np.random.random((10,5)), index = range(11,21), columns=columns)\n",
        "df"
      ],
      "execution_count": null,
      "outputs": []
    },
    {
      "cell_type": "code",
      "metadata": {
        "id": "k9EQx36ANTJS",
        "colab_type": "code",
        "colab": {}
      },
      "source": [
        "df['Column1']"
      ],
      "execution_count": null,
      "outputs": []
    },
    {
      "cell_type": "code",
      "metadata": {
        "id": "Ad99RIF9NXUl",
        "colab_type": "code",
        "colab": {}
      },
      "source": [
        "df[['Column1','Column2','Column3']]"
      ],
      "execution_count": null,
      "outputs": []
    },
    {
      "cell_type": "markdown",
      "metadata": {
        "id": "noqwKT5PNf9W",
        "colab_type": "text"
      },
      "source": [
        "### Converting other Structures to DataFrames"
      ]
    },
    {
      "cell_type": "code",
      "metadata": {
        "id": "JVveaCC0NbQa",
        "colab_type": "code",
        "colab": {}
      },
      "source": [
        "lst = [208500, 181500, 223500, 140000, 250000, 143000, 307000, 200000, 129900, 118000]\n",
        "\n",
        "price_df = pd.DataFrame(lst, columns=['SalePrice'])\n",
        "price_df"
      ],
      "execution_count": null,
      "outputs": []
    },
    {
      "cell_type": "code",
      "metadata": {
        "id": "_shtNu4INoQw",
        "colab_type": "code",
        "colab": {}
      },
      "source": [
        "lst_lst = [[8450, 'CollgCr', 2003, 7, 208500],\n",
        "           [9600, 'Veenker', 1976, 6, 181500],\n",
        "           [11250, 'CollgCr', 2001, 7, 223500],\n",
        "           [9550, 'Crawfor', 1915, 7, 140000],\n",
        "           [14260, 'NoRidge', 2000, 8, 250000],\n",
        "           [14115, 'Mitchel', 1993, 5, 143000],\n",
        "           [10084, 'Somerst', 2004, 8, 307000],\n",
        "           [10382, 'NWAmes', 1973, 7, 200000],\n",
        "           [6120, 'OldTown', 1931, 7, 129900],\n",
        "           [7420, 'BrkSide', 1939, 5, 118000]]\n",
        "\n",
        "colnames = ['LotSize','Neighborhood','YearBuilt','Quality','SalePrice']\n",
        "pd.DataFrame(lst_lst, columns=colnames)"
      ],
      "execution_count": null,
      "outputs": []
    },
    {
      "cell_type": "code",
      "metadata": {
        "id": "DYCPH9RxNsS2",
        "colab_type": "code",
        "colab": {}
      },
      "source": [
        "house_dict = {'Baker House': [7420, 'BrkSide', 1939, 5, 118000],\n",
        "              'Beazley House': [14115, 'Mitchel', 1993, 5, 143000],\n",
        "              'Dominguez House': [14260, 'NoRidge', 2000, 8, 250000],\n",
        "              'Hamilton House': [6120, 'OldTown', 1931, 7, 129900],\n",
        "              'James House': [11250, 'CollgCr', 2001, 7, 223500],\n",
        "              'Martinez House': [9600, 'Veenker', 1976, 6, 181500],\n",
        "              'Roberts House': [9550, 'Crawfor', 1915, 7, 140000],\n",
        "              'Smith House': [8450, 'CollgCr', 2003, 7, 208500],\n",
        "              'Snyder House': [10084, 'Somerst', 2004, 8, 307000],\n",
        "              'Zuckerman House': [10382, 'NWAmes', 1973, 7, 200000]}\n",
        "\n",
        "pd.DataFrame(house_dict)"
      ],
      "execution_count": null,
      "outputs": []
    },
    {
      "cell_type": "code",
      "metadata": {
        "id": "ItrgIe7gN3jl",
        "colab_type": "code",
        "colab": {}
      },
      "source": [
        "# You can transpose the result and adjust the column names.\n",
        "house_df = pd.DataFrame(house_dict).transpose()\n",
        "house_df.columns = colnames\n",
        "house_df"
      ],
      "execution_count": null,
      "outputs": []
    },
    {
      "cell_type": "code",
      "metadata": {
        "id": "rbent7zgN4RW",
        "colab_type": "code",
        "colab": {}
      },
      "source": [
        "# Or you can add the from_dict method and specify 'index' for the orient parameter, and then adjust your column names.\n",
        "house_df = pd.DataFrame.from_dict(house_dict, orient='index')\n",
        "house_df.columns = colnames\n",
        "house_df"
      ],
      "execution_count": null,
      "outputs": []
    },
    {
      "cell_type": "markdown",
      "metadata": {
        "id": "C1pQodXSOFgw",
        "colab_type": "text"
      },
      "source": [
        "### Built-in Mathematical Functions"
      ]
    },
    {
      "cell_type": "code",
      "metadata": {
        "id": "qcUsZqP8OKqZ",
        "colab_type": "code",
        "colab": {}
      },
      "source": [
        "# Total price of all houses sold\n",
        "house_df['SalePrice'].sum()"
      ],
      "execution_count": null,
      "outputs": []
    },
    {
      "cell_type": "code",
      "metadata": {
        "id": "UtuyWl2_OLSs",
        "colab_type": "code",
        "colab": {}
      },
      "source": [
        "# Average lot size of houses sold\n",
        "house_df['LotSize'].mean()"
      ],
      "execution_count": null,
      "outputs": []
    },
    {
      "cell_type": "code",
      "metadata": {
        "id": "iWVDTFEKOLJK",
        "colab_type": "code",
        "colab": {}
      },
      "source": [
        "# The latest year a house in the data set was built\n",
        "house_df['YearBuilt'].max()"
      ],
      "execution_count": null,
      "outputs": []
    },
    {
      "cell_type": "code",
      "metadata": {
        "id": "UwtT3TFgOK7y",
        "colab_type": "code",
        "colab": {}
      },
      "source": [
        "# The eariliest year a house in the data set was built\n",
        "house_df['YearBuilt'].min()"
      ],
      "execution_count": null,
      "outputs": []
    }
  ]
}