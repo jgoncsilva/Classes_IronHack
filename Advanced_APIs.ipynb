{
  "nbformat": 4,
  "nbformat_minor": 0,
  "metadata": {
    "kernelspec": {
      "display_name": "Python 3",
      "language": "python",
      "name": "python3"
    },
    "language_info": {
      "codemirror_mode": {
        "name": "ipython",
        "version": 3
      },
      "file_extension": ".py",
      "mimetype": "text/x-python",
      "name": "python",
      "nbconvert_exporter": "python",
      "pygments_lexer": "ipython3",
      "version": "3.7.3"
    },
    "toc": {
      "base_numbering": 1,
      "nav_menu": {},
      "number_sections": false,
      "sideBar": false,
      "skip_h1_title": false,
      "title_cell": "Table of Contents",
      "title_sidebar": "Contents",
      "toc_cell": false,
      "toc_position": {},
      "toc_section_display": false,
      "toc_window_display": false
    },
    "colab": {
      "name": "Advanced APIs.ipynb",
      "provenance": [],
      "include_colab_link": true
    }
  },
  "cells": [
    {
      "cell_type": "markdown",
      "metadata": {
        "id": "view-in-github",
        "colab_type": "text"
      },
      "source": [
        "<a href=\"https://colab.research.google.com/github/jgoncsilva/Classes_IronHack/blob/master/Advanced_APIs.ipynb\" target=\"_parent\"><img src=\"https://colab.research.google.com/assets/colab-badge.svg\" alt=\"Open In Colab\"/></a>"
      ]
    },
    {
      "cell_type": "markdown",
      "metadata": {
        "id": "dvk2VgM5k5UW",
        "colab_type": "text"
      },
      "source": [
        "## Importing Libraries"
      ]
    },
    {
      "cell_type": "code",
      "metadata": {
        "id": "y2M6-2dLk5UZ",
        "colab_type": "code",
        "colab": {}
      },
      "source": [
        "import requests\n",
        "import json\n",
        "import pandas as pd\n",
        "from requests.auth import HTTPBasicAuth\n",
        "from getpass import getpass"
      ],
      "execution_count": null,
      "outputs": []
    },
    {
      "cell_type": "markdown",
      "metadata": {
        "id": "BeGk5xcWk5Uh",
        "colab_type": "text"
      },
      "source": [
        "## Post"
      ]
    },
    {
      "cell_type": "code",
      "metadata": {
        "id": "uhM4fo9Ck5Ui",
        "colab_type": "code",
        "colab": {}
      },
      "source": [
        "url = 'http://bugs.python.org'\n",
        "data_post = {'number': 12524, 'type': 'issue', 'action': 'show'}\n",
        "\n",
        "resp = requests.post(url, data = data_post)\n",
        "resp.text "
      ],
      "execution_count": null,
      "outputs": []
    },
    {
      "cell_type": "code",
      "metadata": {
        "id": "5QqNO0qkk5Un",
        "colab_type": "code",
        "colab": {}
      },
      "source": [
        "url = 'https://api.github.com/user'\n",
        "#data_post = {'number': 12524, 'type': 'issue', 'action': 'show'}\n",
        "\n",
        "resp = requests.get(url)\n",
        "resp.status_code"
      ],
      "execution_count": null,
      "outputs": []
    },
    {
      "cell_type": "code",
      "metadata": {
        "id": "IajWnqs7k5Us",
        "colab_type": "code",
        "colab": {}
      },
      "source": [
        "type(resp)"
      ],
      "execution_count": null,
      "outputs": []
    },
    {
      "cell_type": "code",
      "metadata": {
        "id": "F2tvOA4Pk5Uw",
        "colab_type": "code",
        "colab": {}
      },
      "source": [
        "resp.content"
      ],
      "execution_count": null,
      "outputs": []
    },
    {
      "cell_type": "markdown",
      "metadata": {
        "id": "oPqLGhbjk5U1",
        "colab_type": "text"
      },
      "source": [
        "## Authentication"
      ]
    },
    {
      "cell_type": "code",
      "metadata": {
        "id": "NYmZw18Lk5U6",
        "colab_type": "code",
        "colab": {}
      },
      "source": [
        "url = 'https://api.github.com/user'\n",
        "requests.get(url,auth = HTTPBasicAuth('username', getpass()))"
      ],
      "execution_count": null,
      "outputs": []
    },
    {
      "cell_type": "code",
      "metadata": {
        "id": "O8UGfziak5U_",
        "colab_type": "code",
        "colab": {}
      },
      "source": [
        "url = 'https://api.github.com/user'\n",
        "resp = requests.get(url, auth = HTTPBasicAuth('chriszapp', getpass()))"
      ],
      "execution_count": null,
      "outputs": []
    },
    {
      "cell_type": "code",
      "metadata": {
        "id": "sSJycUWWk5VG",
        "colab_type": "code",
        "colab": {}
      },
      "source": [
        "resp.json()"
      ],
      "execution_count": null,
      "outputs": []
    },
    {
      "cell_type": "code",
      "metadata": {
        "id": "7HAWBsSMk5VL",
        "colab_type": "code",
        "colab": {}
      },
      "source": [
        "resp.status_code"
      ],
      "execution_count": null,
      "outputs": []
    },
    {
      "cell_type": "code",
      "metadata": {
        "id": "8tWXjTI9k5VP",
        "colab_type": "code",
        "colab": {}
      },
      "source": [
        "resp.text"
      ],
      "execution_count": null,
      "outputs": []
    },
    {
      "cell_type": "code",
      "metadata": {
        "id": "c2RT9gMOk5VU",
        "colab_type": "code",
        "colab": {}
      },
      "source": [
        ""
      ],
      "execution_count": null,
      "outputs": []
    }
  ]
}