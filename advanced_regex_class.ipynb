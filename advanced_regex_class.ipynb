{
  "nbformat": 4,
  "nbformat_minor": 0,
  "metadata": {
    "colab": {
      "name": "advanced-regex-class.ipynb",
      "provenance": [],
      "include_colab_link": true
    },
    "kernelspec": {
      "name": "python3",
      "display_name": "Python 3"
    }
  },
  "cells": [
    {
      "cell_type": "markdown",
      "metadata": {
        "id": "view-in-github",
        "colab_type": "text"
      },
      "source": [
        "<a href=\"https://colab.research.google.com/github/jgoncsilva/Classes_IronHack/blob/master/advanced_regex_class.ipynb\" target=\"_parent\"><img src=\"https://colab.research.google.com/assets/colab-badge.svg\" alt=\"Open In Colab\"/></a>"
      ]
    },
    {
      "cell_type": "code",
      "metadata": {
        "id": "GUwa-NhFrzQV",
        "colab_type": "code",
        "colab": {}
      },
      "source": [
        "# So far we saw the main methods inside the regex package\n",
        "\n",
        "# challenge for the \n",
        "\n",
        "import re\n",
        "\n",
        "# findall method -> finds all the instances of the rule required\n",
        "\n",
        "# search method -> find the span of the first instance of the rule found\n",
        "\n",
        "# match -> tells you the positions of the found elements\n",
        "\n",
        "# sub -> substitutes the found instances of your rule by something else"
      ],
      "execution_count": null,
      "outputs": []
    },
    {
      "cell_type": "code",
      "metadata": {
        "id": "q4-AzXrmslrL",
        "colab_type": "code",
        "colab": {}
      },
      "source": [
        "# rules we will try today\n",
        "\n",
        "\"\"\"\n",
        "ca+t matches caaaaaaaaaaaat but not caaaayt\n",
        "\n",
        "ca{2,4}t matches caat and caaaat but not cat \n",
        "\n",
        "capture groups () \n",
        "\n",
        "(at) -> he looks at \"at\" as a character in itself, as a unique character to find\n",
        "\n",
        "c(at)+ catches catatatatat as soon as you put anything else than \"at\" it breaks\n",
        "\n",
        "c(at|ough) catches cat or cough but doesnt catch \"ough\" or \"at\"\n",
        "\n",
        "square brackets groups []\n",
        "\n",
        "[A-Z](at|ough) catches Cat or Cough but not CCat (at least not the whole thing)\n",
        "\n",
        ". matches every character individually no matter what it is, except newline\n",
        "\n",
        ".+ matches groups of characters except new line\n",
        "\n",
        "c.+t starts with a \"c\", ends with a \"t\" no matter what happens in the middle (except newline)\n",
        "\n",
        "\n",
        "<.+> this works some magic on cleaning html tags \n",
        "\n",
        "^C.*T$ this forces the string to start with a big C and end with a big T.  \n",
        "\n",
        "[A-Z][^aeiou]+ -> [^] catch anything that's not inside these brackers. \n",
        "\n",
        "the example above catches a upper case letter and then any word that does not contain vowels\n",
        "\n",
        "\"\"\""
      ],
      "execution_count": null,
      "outputs": []
    },
    {
      "cell_type": "code",
      "metadata": {
        "id": "oCW56N0aBEVq",
        "colab_type": "code",
        "colab": {}
      },
      "source": [
        "text = \"My boss asked me to automate the boring parts of my job.\\n I told him it was done, but it is not. My boss\"\n"
      ],
      "execution_count": null,
      "outputs": []
    },
    {
      "cell_type": "code",
      "metadata": {
        "id": "N8t7jfYCBE5d",
        "colab_type": "code",
        "colab": {
          "base_uri": "https://localhost:8080/",
          "height": 34
        },
        "outputId": "1128502d-e4ed-446c-8b38-ca04e43fd44e"
      },
      "source": [
        "# how does it work to find patterns of regex in python?\n",
        "\n",
        "pattern = '[A-Z][^aeiou]+'\n",
        "\n",
        "print(re.findall(pattern,text))"
      ],
      "execution_count": null,
      "outputs": [
        {
          "output_type": "stream",
          "text": [
            "['My b', 'I t', 'My b']\n"
          ],
          "name": "stdout"
        }
      ]
    },
    {
      "cell_type": "code",
      "metadata": {
        "id": "YGMHuTTkBWko",
        "colab_type": "code",
        "colab": {}
      },
      "source": [
        "# this is equivalent to the . split method of strings but using a smart regex rule rather than a static condition"
      ],
      "execution_count": null,
      "outputs": []
    },
    {
      "cell_type": "code",
      "metadata": {
        "id": "6cppT0RpBlFD",
        "colab_type": "code",
        "colab": {
          "base_uri": "https://localhost:8080/",
          "height": 238
        },
        "outputId": "ff40608d-3cf9-468e-cf36-0acb256c3c77"
      },
      "source": [
        "# the compile method allows you to create a regex object immediately with a rule defined internally\n",
        "TAG_RE = re.compile(r'<[^>]+>')\n",
        "\n",
        "# and then you can call the object immediately on a given string\n",
        "\n",
        "TAG_RE.sub('','this is my first string')\n",
        "\n",
        "\n"
      ],
      "execution_count": null,
      "outputs": [
        {
          "output_type": "error",
          "ename": "NameError",
          "evalue": "ignored",
          "traceback": [
            "\u001b[0;31m---------------------------------------------------------------------------\u001b[0m",
            "\u001b[0;31mNameError\u001b[0m                                 Traceback (most recent call last)",
            "\u001b[0;32m<ipython-input-1-e25b72f774c0>\u001b[0m in \u001b[0;36m<module>\u001b[0;34m()\u001b[0m\n\u001b[1;32m      1\u001b[0m \u001b[0;31m# the compile method allows you to create a regex object immediately with a rule defined internally\u001b[0m\u001b[0;34m\u001b[0m\u001b[0;34m\u001b[0m\u001b[0;34m\u001b[0m\u001b[0m\n\u001b[0;32m----> 2\u001b[0;31m \u001b[0mTAG_RE\u001b[0m \u001b[0;34m=\u001b[0m \u001b[0mre\u001b[0m\u001b[0;34m.\u001b[0m\u001b[0mcompile\u001b[0m\u001b[0;34m(\u001b[0m\u001b[0;34mr'<[^>]+>'\u001b[0m\u001b[0;34m)\u001b[0m\u001b[0;34m\u001b[0m\u001b[0;34m\u001b[0m\u001b[0m\n\u001b[0m\u001b[1;32m      3\u001b[0m \u001b[0;34m\u001b[0m\u001b[0m\n\u001b[1;32m      4\u001b[0m \u001b[0;31m# and then you can call the object immediately on a given string\u001b[0m\u001b[0;34m\u001b[0m\u001b[0;34m\u001b[0m\u001b[0;34m\u001b[0m\u001b[0m\n\u001b[1;32m      5\u001b[0m \u001b[0;34m\u001b[0m\u001b[0m\n",
            "\u001b[0;31mNameError\u001b[0m: name 're' is not defined"
          ]
        }
      ]
    },
    {
      "cell_type": "code",
      "metadata": {
        "id": "Dl4KD_joHgaJ",
        "colab_type": "code",
        "colab": {}
      },
      "source": [
        ""
      ],
      "execution_count": null,
      "outputs": []
    }
  ]
}