{
  "nbformat": 4,
  "nbformat_minor": 0,
  "metadata": {
    "kernelspec": {
      "display_name": "Python 3",
      "language": "python",
      "name": "python3"
    },
    "language_info": {
      "codemirror_mode": {
        "name": "ipython",
        "version": 3
      },
      "file_extension": ".py",
      "mimetype": "text/x-python",
      "name": "python",
      "nbconvert_exporter": "python",
      "pygments_lexer": "ipython3",
      "version": "3.6.8"
    },
    "colab": {
      "name": "Data Cleaning.ipynb",
      "provenance": [],
      "collapsed_sections": [],
      "include_colab_link": true
    }
  },
  "cells": [
    {
      "cell_type": "markdown",
      "metadata": {
        "id": "view-in-github",
        "colab_type": "text"
      },
      "source": [
        "<a href=\"https://colab.research.google.com/github/jgoncsilva/Classes_IronHack/blob/master/Data_Cleaning.ipynb\" target=\"_parent\"><img src=\"https://colab.research.google.com/assets/colab-badge.svg\" alt=\"Open In Colab\"/></a>"
      ]
    },
    {
      "cell_type": "code",
      "metadata": {
        "id": "n1O6xmlqQOSF",
        "colab_type": "code",
        "colab": {}
      },
      "source": [
        "# importing libraries\n",
        "import pandas as pd\n",
        "import numpy as np"
      ],
      "execution_count": null,
      "outputs": []
    },
    {
      "cell_type": "markdown",
      "metadata": {
        "id": "V-_KMoGFQOSJ",
        "colab_type": "text"
      },
      "source": [
        "## First step - import the dataset and look at it!!"
      ]
    },
    {
      "cell_type": "code",
      "metadata": {
        "id": "okqtY1QyQOSK",
        "colab_type": "code",
        "colab": {}
      },
      "source": [
        "# Uploading Dataframe\n",
        "ds = pd.read_csv('vehicles_messy.csv')\n",
        "#ds.head()"
      ],
      "execution_count": null,
      "outputs": []
    },
    {
      "cell_type": "code",
      "metadata": {
        "id": "U3rRjuwVQOSM",
        "colab_type": "code",
        "colab": {}
      },
      "source": [
        "# Check how many columns and entries (so you have an idea when comparing with missing values)\n",
        "ds.shape"
      ],
      "execution_count": null,
      "outputs": []
    },
    {
      "cell_type": "code",
      "metadata": {
        "id": "WMLxD3QYQOSO",
        "colab_type": "code",
        "colab": {}
      },
      "source": [
        "ds.describe()"
      ],
      "execution_count": null,
      "outputs": []
    },
    {
      "cell_type": "markdown",
      "metadata": {
        "id": "TYiwQjOeQOSR",
        "colab_type": "text"
      },
      "source": [
        "## Data Cleaning 1 - check missing or (abnormally) zero values"
      ]
    },
    {
      "cell_type": "code",
      "metadata": {
        "id": "jIBzx-hxQOSR",
        "colab_type": "code",
        "colab": {}
      },
      "source": [
        "# Check for Missing Values. Is this easy to see? When to drop the lines and when to drop the column.\n",
        "ds.isnull().sum()"
      ],
      "execution_count": null,
      "outputs": []
    },
    {
      "cell_type": "code",
      "metadata": {
        "id": "zCunTtrtQOST",
        "colab_type": "code",
        "colab": {}
      },
      "source": [
        "#Get rid of all the columns with zero\n",
        "ds_null = ds.isnull().sum()\n",
        "ds_null [ds_null > 0] # Introducing filter!!! Adding function"
      ],
      "execution_count": null,
      "outputs": []
    },
    {
      "cell_type": "code",
      "metadata": {
        "id": "7aUh6H_6QOSV",
        "colab_type": "code",
        "colab": {}
      },
      "source": [
        "#Check for zero values\n",
        "zeros_values = ds[ds == 0.0].count()\n",
        "zeros_values [['cylinders', 'displ']]"
      ],
      "execution_count": null,
      "outputs": []
    },
    {
      "cell_type": "code",
      "metadata": {
        "id": "xmWOokkPQOSX",
        "colab_type": "code",
        "colab": {}
      },
      "source": [
        "#Make a list to drop\n",
        "drop_cols = list(ds_null[ds_null > 10000].index)     ## The threshold is a bit lax....\n",
        "ds_dropped = ds.drop(drop_cols, axis=1)\n",
        "\n",
        "ds_dropped.head()"
      ],
      "execution_count": null,
      "outputs": []
    },
    {
      "cell_type": "code",
      "metadata": {
        "id": "LX5CglHvQOSY",
        "colab_type": "code",
        "colab": {}
      },
      "source": [
        "## How do we check for negative values? Do it now plz :)"
      ],
      "execution_count": null,
      "outputs": []
    },
    {
      "cell_type": "code",
      "metadata": {
        "id": "9-zwNH4RQOSa",
        "colab_type": "code",
        "colab": {}
      },
      "source": [
        "# Cylinders and displ have similar number of Null values? Maybe they have the same null entries? \n",
        "# We could drop them or keep them\n",
        "null_displ = ds[ds['displ'].isnull()]\n",
        "\n",
        "null_displ = null_displ[['year', 'make', 'model', 'trany', 'drive','fuelType','cylinders', 'displ']]\n",
        "null_displ"
      ],
      "execution_count": null,
      "outputs": []
    },
    {
      "cell_type": "code",
      "metadata": {
        "id": "KRi2usDfQOSc",
        "colab_type": "code",
        "colab": {}
      },
      "source": [
        "# In case we decide they are important even with little data,\n",
        "# we might want to fill the missing values with a value we choose. In this case we fill zero.\n",
        "ds[['displ', 'cylinders']] = ds[['displ', 'cylinders']].fillna(0)\n",
        "ds[['year', 'make', 'model', 'trany', 'drive','fuelType','cylinders', 'displ']][29670:30000]"
      ],
      "execution_count": null,
      "outputs": []
    },
    {
      "cell_type": "code",
      "metadata": {
        "id": "5tH83hXDQOSe",
        "colab_type": "code",
        "colab": {}
      },
      "source": [
        "# Is there any entry that has one of the two values different from 0?\n",
        "test = ds[(ds['cylinders']==0) & (ds['displ']!=0)]\n",
        "test[['year', 'make', 'model', 'trany', 'drive','fuelType','cylinders', 'displ']]"
      ],
      "execution_count": null,
      "outputs": []
    },
    {
      "cell_type": "code",
      "metadata": {
        "id": "lnC-dERzQOSf",
        "colab_type": "code",
        "colab": {}
      },
      "source": [
        "# We could replace the value with 4?\n",
        "ds.loc[(ds['cylinders']==0) & (ds['displ']!=0), 'cylinders'] = 4\n",
        "\n",
        "test = ds[(ds['cylinders']==4) & (ds['displ']!=0)]\n",
        "test[['year', 'make', 'model', 'trany', 'drive','fuelType','cylinders', 'displ']]"
      ],
      "execution_count": null,
      "outputs": []
    },
    {
      "cell_type": "markdown",
      "metadata": {
        "id": "oB4cmM0cQOSh",
        "colab_type": "text"
      },
      "source": [
        "## Data Cleaning 2 - Data Type Correction\n",
        "\n",
        "Sometimes you might want to change the type of a value"
      ]
    },
    {
      "cell_type": "code",
      "metadata": {
        "id": "KL5iq0l8QOSi",
        "colab_type": "code",
        "colab": {}
      },
      "source": [
        "ds['year'].dtypes"
      ],
      "execution_count": null,
      "outputs": []
    },
    {
      "cell_type": "code",
      "metadata": {
        "id": "Y2nILi1oQOSj",
        "colab_type": "code",
        "colab": {}
      },
      "source": [
        "ds['year'] = ds['year'].astype('object')\n",
        "ds['year'].dtype"
      ],
      "execution_count": null,
      "outputs": []
    },
    {
      "cell_type": "markdown",
      "metadata": {
        "id": "WEwRooyuQOSl",
        "colab_type": "text"
      },
      "source": [
        "## Data Cleaning 3 - Cleaning Text and Removing Special Symbols"
      ]
    },
    {
      "cell_type": "code",
      "metadata": {
        "id": "2SR_VaksQOSm",
        "colab_type": "code",
        "colab": {}
      },
      "source": [
        "print(set(ds['trany']))"
      ],
      "execution_count": null,
      "outputs": []
    },
    {
      "cell_type": "code",
      "metadata": {
        "id": "WWEHov9wQOSo",
        "colab_type": "code",
        "colab": {}
      },
      "source": [
        "ds['trany'] = ds['trany'].str.replace('-', '')\n",
        "ds['trany']"
      ],
      "execution_count": null,
      "outputs": []
    },
    {
      "cell_type": "markdown",
      "metadata": {
        "id": "iALK32zAQOSq",
        "colab_type": "text"
      },
      "source": [
        "## Data Cleaning 4 - Removing Duplicates"
      ]
    },
    {
      "cell_type": "code",
      "metadata": {
        "id": "-AIOPGuFQOSr",
        "colab_type": "code",
        "colab": {}
      },
      "source": [
        "before = len(ds)\n",
        "ds = ds.drop_duplicates()\n",
        "after = len(ds)\n",
        "print('Number of duplicate records dropped: ', str(before - after))"
      ],
      "execution_count": null,
      "outputs": []
    },
    {
      "cell_type": "code",
      "metadata": {
        "id": "9JcZ2NOHQOSs",
        "colab_type": "code",
        "colab": {}
      },
      "source": [
        "# Sometimes depends on what you are considering\n",
        "\n",
        "select_columns = ['make', 'model', 'year', 'displ', 'cylinders', \n",
        "                  'trany', 'drive', 'VClass','fuelType','barrels08', \n",
        "                  'city08', 'highway08', 'comb08', 'co2TailpipeGpm', 'fuelCost08']\n",
        "\n",
        "ds = ds[select_columns].drop_duplicates()\n",
        "after = len(ds)\n",
        "print('Number of duplicate records dropped: ', str(before - after))"
      ],
      "execution_count": null,
      "outputs": []
    },
    {
      "cell_type": "code",
      "metadata": {
        "id": "Qjrxxa1fQOSw",
        "colab_type": "code",
        "colab": {}
      },
      "source": [
        ""
      ],
      "execution_count": null,
      "outputs": []
    }
  ]
}