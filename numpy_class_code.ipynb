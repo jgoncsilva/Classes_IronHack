{
  "nbformat": 4,
  "nbformat_minor": 0,
  "metadata": {
    "colab": {
      "name": "numpy-class.ipynb",
      "provenance": [],
      "include_colab_link": true
    },
    "kernelspec": {
      "name": "python3",
      "display_name": "Python 3"
    }
  },
  "cells": [
    {
      "cell_type": "markdown",
      "metadata": {
        "id": "view-in-github",
        "colab_type": "text"
      },
      "source": [
        "<a href=\"https://colab.research.google.com/github/jgoncsilva/Classes_IronHack/blob/master/numpy_class_code.ipynb\" target=\"_parent\"><img src=\"https://colab.research.google.com/assets/colab-badge.svg\" alt=\"Open In Colab\"/></a>"
      ]
    },
    {
      "cell_type": "code",
      "metadata": {
        "id": "tB2Gfsg9tcGW",
        "colab_type": "code",
        "colab": {
          "base_uri": "https://localhost:8080/",
          "height": 34
        },
        "outputId": "bce0d7c9-92c6-44c9-b057-38d82a603dbe"
      },
      "source": [
        "# numpy is to do math in python\n",
        "\n",
        "mylist = [1,2,3,4,5]\n",
        "\n",
        "# want to multiply all the numbers in my list be 2\n",
        "# if lists were naturally made for maths in python\n",
        "mylist*2"
      ],
      "execution_count": null,
      "outputs": [
        {
          "output_type": "execute_result",
          "data": {
            "text/plain": [
              "[1, 2, 3, 4, 5, 1, 2, 3, 4, 5]"
            ]
          },
          "metadata": {
            "tags": []
          },
          "execution_count": 3
        }
      ]
    },
    {
      "cell_type": "code",
      "metadata": {
        "id": "gFYbhyuXtwzU",
        "colab_type": "code",
        "colab": {
          "base_uri": "https://localhost:8080/",
          "height": 35
        },
        "outputId": "cf1979ab-cfbe-4fac-d0be-0a09d9f424d7"
      },
      "source": [
        "\"hello\"*2"
      ],
      "execution_count": null,
      "outputs": [
        {
          "output_type": "execute_result",
          "data": {
            "application/vnd.google.colaboratory.intrinsic": {
              "type": "string"
            },
            "text/plain": [
              "'hellohello'"
            ]
          },
          "metadata": {
            "tags": []
          },
          "execution_count": 4
        }
      ]
    },
    {
      "cell_type": "code",
      "metadata": {
        "id": "mZfcgxNVt0Sr",
        "colab_type": "code",
        "colab": {}
      },
      "source": [
        "import numpy as np\n",
        "# let's create a numerical python library to do all the maths stuff to arrays of numbers\n",
        "\n",
        "# think of difference between numpy as math\n",
        "\n",
        "# how do I create a numpy array?\n",
        "\n",
        "# turning my list (list object) into a numpy array\n",
        "myarray = np.array(mylist)\n",
        "\n",
        "# benefit from all the methods (tools) inside a numpy array object"
      ],
      "execution_count": null,
      "outputs": []
    },
    {
      "cell_type": "code",
      "metadata": {
        "id": "OrK9LnfOvE_f",
        "colab_type": "code",
        "colab": {
          "base_uri": "https://localhost:8080/",
          "height": 34
        },
        "outputId": "1349c5a0-2ff4-4333-9954-3d1bc4d9bde7"
      },
      "source": [
        "type(myarray)"
      ],
      "execution_count": null,
      "outputs": [
        {
          "output_type": "execute_result",
          "data": {
            "text/plain": [
              "numpy.ndarray"
            ]
          },
          "metadata": {
            "tags": []
          },
          "execution_count": 9
        }
      ]
    },
    {
      "cell_type": "code",
      "metadata": {
        "id": "sdKjEFCrvh7-",
        "colab_type": "code",
        "colab": {
          "base_uri": "https://localhost:8080/",
          "height": 34
        },
        "outputId": "be31b8c3-5698-4f81-eec6-94c96ef3fc6f"
      },
      "source": [
        "# now the multiplication by two yields something which we ar used to\n",
        "myarray*2"
      ],
      "execution_count": null,
      "outputs": [
        {
          "output_type": "execute_result",
          "data": {
            "text/plain": [
              "array([ 2,  4,  6,  8, 10])"
            ]
          },
          "metadata": {
            "tags": []
          },
          "execution_count": 10
        }
      ]
    },
    {
      "cell_type": "code",
      "metadata": {
        "id": "pSoxbq1Evn5Z",
        "colab_type": "code",
        "colab": {
          "base_uri": "https://localhost:8080/",
          "height": 34
        },
        "outputId": "c6459269-c653-4547-cd95-72a621562957"
      },
      "source": [
        "np.array([5.25,4,3,2,1])"
      ],
      "execution_count": null,
      "outputs": [
        {
          "output_type": "execute_result",
          "data": {
            "text/plain": [
              "array([5.25, 4.  , 3.  , 2.  , 1.  ])"
            ]
          },
          "metadata": {
            "tags": []
          },
          "execution_count": 16
        }
      ]
    },
    {
      "cell_type": "code",
      "metadata": {
        "id": "rBO71lNpwBxh",
        "colab_type": "code",
        "colab": {}
      },
      "source": [
        "# what if I want to define numpy arrays without having fixed values, but with a fixed datatype?\n",
        "\n",
        "a = np.zeros(5, dtype = float)"
      ],
      "execution_count": null,
      "outputs": []
    },
    {
      "cell_type": "code",
      "metadata": {
        "id": "2P1_3DWAwxCX",
        "colab_type": "code",
        "colab": {
          "base_uri": "https://localhost:8080/",
          "height": 34
        },
        "outputId": "4e7d2ca3-8a5c-4f71-d94a-3048e0339bbb"
      },
      "source": [
        "a"
      ],
      "execution_count": null,
      "outputs": [
        {
          "output_type": "execute_result",
          "data": {
            "text/plain": [
              "array([0., 0., 0., 0., 0.])"
            ]
          },
          "metadata": {
            "tags": []
          },
          "execution_count": 20
        }
      ]
    },
    {
      "cell_type": "code",
      "metadata": {
        "id": "jGh3U57Cwxfa",
        "colab_type": "code",
        "colab": {}
      },
      "source": [
        "# what if I want more complex shapes?\n",
        "\n",
        "a = np.zeros((5,2), dtype = float)"
      ],
      "execution_count": null,
      "outputs": []
    },
    {
      "cell_type": "code",
      "metadata": {
        "id": "edEt3H2ww8rE",
        "colab_type": "code",
        "colab": {
          "base_uri": "https://localhost:8080/",
          "height": 101
        },
        "outputId": "ba37dd15-418d-4829-ebe1-3f7b13343c37"
      },
      "source": [
        "a"
      ],
      "execution_count": null,
      "outputs": [
        {
          "output_type": "execute_result",
          "data": {
            "text/plain": [
              "array([[0., 0.],\n",
              "       [0., 0.],\n",
              "       [0., 0.],\n",
              "       [0., 0.],\n",
              "       [0., 0.]])"
            ]
          },
          "metadata": {
            "tags": []
          },
          "execution_count": 22
        }
      ]
    },
    {
      "cell_type": "code",
      "metadata": {
        "id": "yXWZqzvIw9JL",
        "colab_type": "code",
        "colab": {
          "base_uri": "https://localhost:8080/",
          "height": 67
        },
        "outputId": "3fb00022-8c48-4cc2-e7c2-4889364c9339"
      },
      "source": [
        "# numpy arrays can (and should and wil) be used to create and manipulate multi dimensional arrays\n",
        "\n",
        "np.array([[1,2,3],[4,5,6.5],[7,8,9]],dtype = float)"
      ],
      "execution_count": null,
      "outputs": [
        {
          "output_type": "execute_result",
          "data": {
            "text/plain": [
              "array([[1. , 2. , 3. ],\n",
              "       [4. , 5. , 6.5],\n",
              "       [7. , 8. , 9. ]])"
            ]
          },
          "metadata": {
            "tags": []
          },
          "execution_count": 38
        }
      ]
    },
    {
      "cell_type": "code",
      "metadata": {
        "id": "nksiciu6xTJ4",
        "colab_type": "code",
        "colab": {}
      },
      "source": [
        "a = np.array([[[55,66,3],[40,90,3]],[[10,10,3],[10,11,3]],[[8,9,3],[6,7,3]],[[2,3,3],[3,4]]])"
      ],
      "execution_count": null,
      "outputs": []
    },
    {
      "cell_type": "code",
      "metadata": {
        "id": "xMvzsssUyL-A",
        "colab_type": "code",
        "colab": {
          "base_uri": "https://localhost:8080/",
          "height": 34
        },
        "outputId": "12961cdd-92d2-4a5a-d79d-c28e1b3fa25a"
      },
      "source": [
        "# the shape method tells you what are the dimensions of your array\n",
        "a.shape"
      ],
      "execution_count": null,
      "outputs": [
        {
          "output_type": "execute_result",
          "data": {
            "text/plain": [
              "(4, 2, 3)"
            ]
          },
          "metadata": {
            "tags": []
          },
          "execution_count": 35
        }
      ]
    },
    {
      "cell_type": "code",
      "metadata": {
        "id": "qRnsvmfwybcZ",
        "colab_type": "code",
        "colab": {
          "base_uri": "https://localhost:8080/",
          "height": 202
        },
        "outputId": "c5107f51-7cbf-43b8-f27a-022696fa1b91"
      },
      "source": [
        "a"
      ],
      "execution_count": null,
      "outputs": [
        {
          "output_type": "execute_result",
          "data": {
            "text/plain": [
              "array([[[55, 66,  3],\n",
              "        [40, 90,  3]],\n",
              "\n",
              "       [[10, 10,  3],\n",
              "        [10, 11,  3]],\n",
              "\n",
              "       [[ 8,  9,  3],\n",
              "        [ 6,  7,  3]],\n",
              "\n",
              "       [[ 2,  3,  3],\n",
              "        [ 3,  4,  3]]])"
            ]
          },
          "metadata": {
            "tags": []
          },
          "execution_count": 36
        }
      ]
    },
    {
      "cell_type": "code",
      "metadata": {
        "id": "1C0V2JJBytMg",
        "colab_type": "code",
        "colab": {
          "base_uri": "https://localhost:8080/",
          "height": 50
        },
        "outputId": "e98dd99c-dfb1-4190-8312-55ab9c0de8da"
      },
      "source": [
        "# using random numbers in numpy\n",
        "\n",
        "# generated a numpy array of 10 random numbers\n",
        "np.random.random(10)"
      ],
      "execution_count": null,
      "outputs": [
        {
          "output_type": "execute_result",
          "data": {
            "text/plain": [
              "array([0.55697898, 0.28963509, 0.82784691, 0.31818359, 0.67083441,\n",
              "       0.99341006, 0.62450308, 0.08057406, 0.31283869, 0.43539253])"
            ]
          },
          "metadata": {
            "tags": []
          },
          "execution_count": 43
        }
      ]
    },
    {
      "cell_type": "code",
      "metadata": {
        "id": "_rsGxNIZzoNs",
        "colab_type": "code",
        "colab": {
          "base_uri": "https://localhost:8080/",
          "height": 521
        },
        "outputId": "ccc601be-24af-40d5-b85b-1fbadea115ce"
      },
      "source": [
        "# generated an array of 500 random integers, the lowest possible being 18 the highest possible being 100\n",
        "np.random.randint(18,100,500)\n",
        "\n"
      ],
      "execution_count": null,
      "outputs": [
        {
          "output_type": "execute_result",
          "data": {
            "text/plain": [
              "array([46, 30, 65, 84, 60, 30, 88, 94, 79, 40, 56, 77, 56, 99, 18, 55, 80,\n",
              "       83, 35, 98, 39, 72, 52, 65, 30, 77, 23, 77, 70, 96, 19, 51, 49, 44,\n",
              "       93, 76, 75, 78, 90, 72, 93, 56, 37, 94, 83, 39, 85, 35, 87, 29, 90,\n",
              "       62, 57, 28, 34, 40, 42, 94, 30, 66, 58, 68, 36, 94, 66, 71, 85, 29,\n",
              "       91, 80, 95, 49, 91, 46, 22, 72, 83, 93, 20, 21, 96, 88, 73, 32, 40,\n",
              "       26, 40, 42, 99, 92, 67, 92, 27, 91, 40, 23, 84, 62, 60, 51, 73, 72,\n",
              "       87, 93, 74, 34, 30, 71, 29, 62, 32, 79, 89, 77, 70, 58, 43, 50, 24,\n",
              "       53, 26, 78, 90, 99, 55, 35, 26, 89, 33, 19, 26, 28, 91, 88, 58, 57,\n",
              "       72, 38, 90, 70, 80, 29, 89, 26, 94, 66, 66, 20, 99, 94, 31, 40, 35,\n",
              "       83, 83, 63, 74, 79, 86, 54, 28, 75, 76, 37, 66, 26, 77, 70, 56, 30,\n",
              "       78, 97, 33, 91, 26, 61, 68, 60, 47, 74, 77, 38, 47, 80, 97, 31, 99,\n",
              "       67, 83, 66, 95, 40, 52, 54, 50, 88, 67, 98, 50, 87, 23, 33, 84, 97,\n",
              "       43, 85, 97, 43, 19, 45, 64, 31, 49, 90, 62, 91, 75, 51, 29, 20, 18,\n",
              "       18, 55, 33, 27, 30, 22, 81, 63, 66, 71, 37, 94, 82, 98, 43, 86, 87,\n",
              "       19, 39, 77, 77, 18, 87, 60, 35, 42, 70, 56, 67, 72, 18, 22, 27, 74,\n",
              "       29, 50, 67, 88, 70, 80, 18, 52, 48, 44, 23, 41, 63, 76, 19, 74, 46,\n",
              "       41, 22, 44, 96, 70, 21, 85, 63, 86, 63, 92, 92, 29, 32, 92, 89, 83,\n",
              "       37, 61, 40, 47, 18, 39, 51, 84, 92, 82, 72, 43, 44, 90, 26, 57, 27,\n",
              "       40, 86, 18, 76, 57, 92, 29, 21, 76, 57, 71, 74, 61, 71, 78, 20, 72,\n",
              "       78, 55, 41, 52, 19, 21, 47, 50, 94, 59, 88, 54, 68, 92, 92, 77, 74,\n",
              "       82, 35, 19, 36, 27, 43, 45, 76, 57, 70, 50, 27, 59, 72, 45, 54, 63,\n",
              "       27, 44, 36, 64, 40, 20, 82, 36, 31, 97, 57, 41, 19, 94, 31, 68, 93,\n",
              "       32, 87, 96, 20, 99, 51, 46, 25, 77, 78, 98, 99, 89, 93, 50, 47, 62,\n",
              "       97, 93, 76, 94, 57, 61, 84, 95, 35, 26, 39, 76, 97, 30, 56, 49, 20,\n",
              "       61, 77, 19, 48, 36, 95, 85, 78, 61, 84, 71, 59, 21, 49, 85, 93, 23,\n",
              "       51, 83, 97, 89, 45, 96, 18, 71, 54, 66, 91, 42, 77, 39, 76, 41, 35,\n",
              "       23, 51, 69, 64, 87, 78, 35, 56, 36, 80, 50, 41, 77, 21, 69, 83, 61,\n",
              "       57, 60, 64, 95, 37, 77, 28, 48, 56, 43, 61, 30, 93, 61, 31, 18, 69,\n",
              "       88, 30, 99, 92, 37, 42, 49, 26, 54, 84, 59, 35, 41, 38, 82, 49, 40,\n",
              "       25, 99, 25, 26, 83, 89, 78])"
            ]
          },
          "metadata": {
            "tags": []
          },
          "execution_count": 44
        }
      ]
    },
    {
      "cell_type": "code",
      "metadata": {
        "id": "jD1TBMHw0P5r",
        "colab_type": "code",
        "colab": {
          "base_uri": "https://localhost:8080/",
          "height": 84
        },
        "outputId": "02385d97-85ba-4c08-bf9c-3e0c0f5c0b7a"
      },
      "source": [
        "# the last argument (size) you can control the shape of the genrated array\n",
        "np.random.randint(0,10,(4,4))"
      ],
      "execution_count": null,
      "outputs": [
        {
          "output_type": "execute_result",
          "data": {
            "text/plain": [
              "array([[6, 5, 3, 3],\n",
              "       [1, 2, 7, 3],\n",
              "       [2, 9, 6, 1],\n",
              "       [9, 5, 7, 3]])"
            ]
          },
          "metadata": {
            "tags": []
          },
          "execution_count": 45
        }
      ]
    },
    {
      "cell_type": "code",
      "metadata": {
        "id": "NhxRR7_W0vWd",
        "colab_type": "code",
        "colab": {
          "base_uri": "https://localhost:8080/",
          "height": 84
        },
        "outputId": "a52adc43-3bb1-47a4-f270-c5352386af7e"
      },
      "source": [
        "np.random.randint(5,size = (4,4))"
      ],
      "execution_count": null,
      "outputs": [
        {
          "output_type": "execute_result",
          "data": {
            "text/plain": [
              "array([[3, 1, 2, 1],\n",
              "       [1, 2, 2, 3],\n",
              "       [4, 0, 4, 4],\n",
              "       [2, 0, 3, 0]])"
            ]
          },
          "metadata": {
            "tags": []
          },
          "execution_count": 51
        }
      ]
    },
    {
      "cell_type": "code",
      "metadata": {
        "id": "6tJnpTQV06Dm",
        "colab_type": "code",
        "colab": {
          "base_uri": "https://localhost:8080/",
          "height": 50
        },
        "outputId": "0e2f0820-4b70-45a8-ec5f-d574b7b496fb"
      },
      "source": [
        "# generate a sequence of numbers\n",
        "#equivalent to the built in range function\n",
        "\n",
        "np.arange(30)"
      ],
      "execution_count": null,
      "outputs": [
        {
          "output_type": "execute_result",
          "data": {
            "text/plain": [
              "array([ 0,  1,  2,  3,  4,  5,  6,  7,  8,  9, 10, 11, 12, 13, 14, 15, 16,\n",
              "       17, 18, 19, 20, 21, 22, 23, 24, 25, 26, 27, 28, 29])"
            ]
          },
          "metadata": {
            "tags": []
          },
          "execution_count": 52
        }
      ]
    },
    {
      "cell_type": "code",
      "metadata": {
        "id": "p1s9Jw241l-m",
        "colab_type": "code",
        "colab": {
          "base_uri": "https://localhost:8080/",
          "height": 84
        },
        "outputId": "12b47280-c991-469a-cc89-9d3d3fe33787"
      },
      "source": [
        "array = np.random.randint(0,10,(4,4))\n",
        "array"
      ],
      "execution_count": null,
      "outputs": [
        {
          "output_type": "execute_result",
          "data": {
            "text/plain": [
              "array([[6, 7, 2, 2],\n",
              "       [9, 1, 5, 6],\n",
              "       [8, 1, 8, 3],\n",
              "       [2, 8, 9, 7]])"
            ]
          },
          "metadata": {
            "tags": []
          },
          "execution_count": 6
        }
      ]
    },
    {
      "cell_type": "code",
      "metadata": {
        "id": "H-IsMYP42Frp",
        "colab_type": "code",
        "colab": {
          "base_uri": "https://localhost:8080/",
          "height": 34
        },
        "outputId": "5ebdac2f-d839-4a9f-d5a4-92d6d0f62440"
      },
      "source": [
        "# index it just like any other other iterable\n",
        "\n",
        "array[0,2]"
      ],
      "execution_count": null,
      "outputs": [
        {
          "output_type": "execute_result",
          "data": {
            "text/plain": [
              "2"
            ]
          },
          "metadata": {
            "tags": []
          },
          "execution_count": 7
        }
      ]
    },
    {
      "cell_type": "code",
      "metadata": {
        "id": "ZJDg-UvT2Naw",
        "colab_type": "code",
        "colab": {
          "base_uri": "https://localhost:8080/",
          "height": 34
        },
        "outputId": "081098c1-2505-4079-ed0d-f8197619dca6"
      },
      "source": [
        "array[0][2]"
      ],
      "execution_count": null,
      "outputs": [
        {
          "output_type": "execute_result",
          "data": {
            "text/plain": [
              "2"
            ]
          },
          "metadata": {
            "tags": []
          },
          "execution_count": 8
        }
      ]
    },
    {
      "cell_type": "code",
      "metadata": {
        "id": "gIzOXJzC2aJa",
        "colab_type": "code",
        "colab": {
          "base_uri": "https://localhost:8080/",
          "height": 67
        },
        "outputId": "3ee6ab05-f719-432e-cce6-9c8919568229"
      },
      "source": [
        "array[[0,2,3]]"
      ],
      "execution_count": null,
      "outputs": [
        {
          "output_type": "execute_result",
          "data": {
            "text/plain": [
              "array([[6, 7, 2, 2],\n",
              "       [8, 1, 8, 3],\n",
              "       [2, 8, 9, 7]])"
            ]
          },
          "metadata": {
            "tags": []
          },
          "execution_count": 13
        }
      ]
    },
    {
      "cell_type": "code",
      "metadata": {
        "id": "sKgvhRxR2ilk",
        "colab_type": "code",
        "colab": {
          "base_uri": "https://localhost:8080/",
          "height": 50
        },
        "outputId": "fb7fd9ba-6646-4422-9325-fcfa04507041"
      },
      "source": [
        "# conditions in numpy arrays\n",
        "\n",
        "a = np.arange(30)\n",
        "a"
      ],
      "execution_count": null,
      "outputs": [
        {
          "output_type": "execute_result",
          "data": {
            "text/plain": [
              "array([ 0,  1,  2,  3,  4,  5,  6,  7,  8,  9, 10, 11, 12, 13, 14, 15, 16,\n",
              "       17, 18, 19, 20, 21, 22, 23, 24, 25, 26, 27, 28, 29])"
            ]
          },
          "metadata": {
            "tags": []
          },
          "execution_count": 70
        }
      ]
    },
    {
      "cell_type": "code",
      "metadata": {
        "id": "HB2YXaAW25OW",
        "colab_type": "code",
        "colab": {
          "base_uri": "https://localhost:8080/",
          "height": 84
        },
        "outputId": "c14c1ce0-71fc-4a57-f862-c4374dcca77c"
      },
      "source": [
        "# applying the condition without having to iterate one by one :D \n",
        "a > 10\n",
        "\n",
        "# he is applying the desired condition to each item in the array, and returning the anwer as a boolean"
      ],
      "execution_count": null,
      "outputs": [
        {
          "output_type": "execute_result",
          "data": {
            "text/plain": [
              "array([False, False, False, False, False, False, False, False, False,\n",
              "       False, False,  True,  True,  True,  True,  True,  True,  True,\n",
              "        True,  True,  True,  True,  True,  True,  True,  True,  True,\n",
              "        True,  True,  True])"
            ]
          },
          "metadata": {
            "tags": []
          },
          "execution_count": 67
        }
      ]
    },
    {
      "cell_type": "code",
      "metadata": {
        "id": "8sDs_A-j5zhv",
        "colab_type": "code",
        "colab": {}
      },
      "source": [
        ""
      ],
      "execution_count": null,
      "outputs": []
    },
    {
      "cell_type": "code",
      "metadata": {
        "id": "WbACnyJP4ziG",
        "colab_type": "code",
        "colab": {}
      },
      "source": [
        "condition = a >10\n",
        "\n",
        "a[condition]"
      ],
      "execution_count": null,
      "outputs": []
    },
    {
      "cell_type": "code",
      "metadata": {
        "id": "Uh9HAQku28fV",
        "colab_type": "code",
        "colab": {}
      },
      "source": [
        "# normally we are used to performing logical statements with \"and\" , \"or\"\n",
        "# when slicing, we need to do & , | \n",
        "condition = (a > 10) & (a%2 == 0) "
      ],
      "execution_count": null,
      "outputs": []
    },
    {
      "cell_type": "code",
      "metadata": {
        "id": "R-OKqapd3Vew",
        "colab_type": "code",
        "colab": {
          "base_uri": "https://localhost:8080/",
          "height": 34
        },
        "outputId": "926f1e29-7d46-443f-abd9-ca5a60978b76"
      },
      "source": [
        "# using conditional slicing, to retrieve a subset of a numpy array, based on a condition\n",
        "# filter\n",
        "a[condition]"
      ],
      "execution_count": null,
      "outputs": [
        {
          "output_type": "execute_result",
          "data": {
            "text/plain": [
              "array([12, 14, 16, 18, 20, 22, 24, 26, 28])"
            ]
          },
          "metadata": {
            "tags": []
          },
          "execution_count": 77
        }
      ]
    },
    {
      "cell_type": "code",
      "metadata": {
        "id": "depNaMnG4Is7",
        "colab_type": "code",
        "colab": {
          "base_uri": "https://localhost:8080/",
          "height": 50
        },
        "outputId": "96060e44-3a87-4374-9605-aaa101636a1e"
      },
      "source": [
        "a[a> 10]"
      ],
      "execution_count": null,
      "outputs": [
        {
          "output_type": "execute_result",
          "data": {
            "text/plain": [
              "array([11, 12, 13, 14, 15, 16, 17, 18, 19, 20, 21, 22, 23, 24, 25, 26, 27,\n",
              "       28, 29])"
            ]
          },
          "metadata": {
            "tags": []
          },
          "execution_count": 74
        }
      ]
    },
    {
      "cell_type": "code",
      "metadata": {
        "id": "SoOWt9au3Y6P",
        "colab_type": "code",
        "colab": {
          "base_uri": "https://localhost:8080/",
          "height": 34
        },
        "outputId": "f882f520-8cd8-4f4e-f114-e666c157555d"
      },
      "source": [
        "#a[2::2]"
      ],
      "execution_count": null,
      "outputs": [
        {
          "output_type": "execute_result",
          "data": {
            "text/plain": [
              "array([ 2,  4,  6,  8, 10, 12, 14, 16, 18, 20, 22, 24, 26, 28])"
            ]
          },
          "metadata": {
            "tags": []
          },
          "execution_count": 73
        }
      ]
    },
    {
      "cell_type": "code",
      "metadata": {
        "id": "sabyMqay3tjS",
        "colab_type": "code",
        "colab": {
          "base_uri": "https://localhost:8080/",
          "height": 101
        },
        "outputId": "e9325217-12c1-48ce-d805-2de7a2172ad4"
      },
      "source": [
        "a = np.random.randint(low = 0, high = 25, size =   (5,3))\n",
        "a"
      ],
      "execution_count": null,
      "outputs": [
        {
          "output_type": "execute_result",
          "data": {
            "text/plain": [
              "array([[ 3,  7, 12],\n",
              "       [ 0, 15,  8],\n",
              "       [20, 23, 10],\n",
              "       [10, 10, 10],\n",
              "       [ 9,  8, 18]])"
            ]
          },
          "metadata": {
            "tags": []
          },
          "execution_count": 83
        }
      ]
    },
    {
      "cell_type": "code",
      "metadata": {
        "id": "9Yk70xP05Bzk",
        "colab_type": "code",
        "colab": {
          "base_uri": "https://localhost:8080/",
          "height": 101
        },
        "outputId": "ecde76e6-3829-440b-d0b0-f98346887f83"
      },
      "source": [
        "# he evaluates the condition, element by elemebt KEEPING THE SHAPE\n",
        "a >= 5"
      ],
      "execution_count": null,
      "outputs": [
        {
          "output_type": "execute_result",
          "data": {
            "text/plain": [
              "array([[False,  True,  True],\n",
              "       [False,  True,  True],\n",
              "       [ True,  True,  True],\n",
              "       [ True,  True,  True],\n",
              "       [ True,  True,  True]])"
            ]
          },
          "metadata": {
            "tags": []
          },
          "execution_count": 87
        }
      ]
    },
    {
      "cell_type": "code",
      "metadata": {
        "id": "m5HD-7tr5GM3",
        "colab_type": "code",
        "colab": {
          "base_uri": "https://localhost:8080/",
          "height": 34
        },
        "outputId": "2dc1a981-2b35-4839-9964-dcccda163386"
      },
      "source": [
        "# when you use the condition as a slicer -> he returns everything to a 1D numpy array\n",
        "a[a>=5]"
      ],
      "execution_count": null,
      "outputs": [
        {
          "output_type": "execute_result",
          "data": {
            "text/plain": [
              "array([ 7, 12, 15,  8, 20, 23, 10, 10, 10, 10,  9,  8, 18])"
            ]
          },
          "metadata": {
            "tags": []
          },
          "execution_count": 89
        }
      ]
    },
    {
      "cell_type": "code",
      "metadata": {
        "id": "Q_d1yNCY5H-s",
        "colab_type": "code",
        "colab": {
          "base_uri": "https://localhost:8080/",
          "height": 67
        },
        "outputId": "51f1c953-f34b-4ec5-ece0-e1c47b3f3176"
      },
      "source": [
        "a = np.random.randint(0,10,size = (3,10))\n",
        "a"
      ],
      "execution_count": null,
      "outputs": [
        {
          "output_type": "execute_result",
          "data": {
            "text/plain": [
              "array([[1, 5, 8, 5, 3, 9, 0, 1, 7, 4],\n",
              "       [8, 3, 0, 0, 5, 8, 2, 3, 1, 2],\n",
              "       [0, 8, 2, 5, 7, 2, 3, 0, 7, 8]])"
            ]
          },
          "metadata": {
            "tags": []
          },
          "execution_count": 92
        }
      ]
    },
    {
      "cell_type": "code",
      "metadata": {
        "id": "31VhypDQ6Ngw",
        "colab_type": "code",
        "colab": {
          "base_uri": "https://localhost:8080/",
          "height": 185
        },
        "outputId": "41020d56-ec58-47d4-b974-65003b852d84"
      },
      "source": [
        "a.transpose()"
      ],
      "execution_count": null,
      "outputs": [
        {
          "output_type": "execute_result",
          "data": {
            "text/plain": [
              "array([[1, 8, 0],\n",
              "       [5, 3, 8],\n",
              "       [8, 0, 2],\n",
              "       [5, 0, 5],\n",
              "       [3, 5, 7],\n",
              "       [9, 8, 2],\n",
              "       [0, 2, 3],\n",
              "       [1, 3, 0],\n",
              "       [7, 1, 7],\n",
              "       [4, 2, 8]])"
            ]
          },
          "metadata": {
            "tags": []
          },
          "execution_count": 93
        }
      ]
    },
    {
      "cell_type": "code",
      "metadata": {
        "id": "iuVknUET6WQE",
        "colab_type": "code",
        "colab": {
          "base_uri": "https://localhost:8080/",
          "height": 67
        },
        "outputId": "a62a35a8-b55f-46bf-a06e-ef9d51969b1d"
      },
      "source": [
        "# you can multiply numpy matrices -> Gonçalo's Homework\n",
        "\n",
        "a"
      ],
      "execution_count": null,
      "outputs": [
        {
          "output_type": "execute_result",
          "data": {
            "text/plain": [
              "array([[1, 5, 8, 5, 3, 9, 0, 1, 7, 4],\n",
              "       [8, 3, 0, 0, 5, 8, 2, 3, 1, 2],\n",
              "       [0, 8, 2, 5, 7, 2, 3, 0, 7, 8]])"
            ]
          },
          "metadata": {
            "tags": []
          },
          "execution_count": 99
        }
      ]
    },
    {
      "cell_type": "code",
      "metadata": {
        "id": "qhY5s9Hx7D_j",
        "colab_type": "code",
        "colab": {
          "base_uri": "https://localhost:8080/",
          "height": 34
        },
        "outputId": "ab03a789-96ba-458e-b0d8-c80a297c6f73"
      },
      "source": [
        "# let's do some math\n",
        "a.max()\n",
        "a.mean()"
      ],
      "execution_count": null,
      "outputs": [
        {
          "output_type": "execute_result",
          "data": {
            "text/plain": [
              "3.9"
            ]
          },
          "metadata": {
            "tags": []
          },
          "execution_count": 96
        }
      ]
    },
    {
      "cell_type": "code",
      "metadata": {
        "id": "Oplvgb1A7M0Z",
        "colab_type": "code",
        "colab": {
          "base_uri": "https://localhost:8080/",
          "height": 34
        },
        "outputId": "e15954a5-cdb6-499d-d3f6-7900aac0787f"
      },
      "source": [
        "# he is taking the mean of each row, rather than of everything\n",
        "a.mean(axis = 1)"
      ],
      "execution_count": null,
      "outputs": [
        {
          "output_type": "execute_result",
          "data": {
            "text/plain": [
              "array([4.3, 3.2, 4.2])"
            ]
          },
          "metadata": {
            "tags": []
          },
          "execution_count": 103
        }
      ]
    },
    {
      "cell_type": "code",
      "metadata": {
        "id": "M4e56DjO7amo",
        "colab_type": "code",
        "colab": {
          "base_uri": "https://localhost:8080/",
          "height": 50
        },
        "outputId": "4ddddba9-84c1-4034-87a3-ccec6e6c6d91"
      },
      "source": [
        "# axis tells you the direction in which he perform the operation\n",
        "a.mean(axis = 0)"
      ],
      "execution_count": null,
      "outputs": [
        {
          "output_type": "execute_result",
          "data": {
            "text/plain": [
              "array([3.        , 5.33333333, 3.33333333, 3.33333333, 5.        ,\n",
              "       6.33333333, 1.66666667, 1.33333333, 5.        , 4.66666667])"
            ]
          },
          "metadata": {
            "tags": []
          },
          "execution_count": 104
        }
      ]
    },
    {
      "cell_type": "code",
      "metadata": {
        "id": "fnShyFTg73na",
        "colab_type": "code",
        "colab": {
          "base_uri": "https://localhost:8080/",
          "height": 67
        },
        "outputId": "1cd41a79-44d1-49d8-8b2c-c4b896115bf1"
      },
      "source": [
        "# the biggest power -> mathematical operations\n",
        "\n",
        "# do every element in the array squared\n",
        "\n",
        "a"
      ],
      "execution_count": null,
      "outputs": [
        {
          "output_type": "execute_result",
          "data": {
            "text/plain": [
              "array([[1, 5, 8, 5, 3, 9, 0, 1, 7, 4],\n",
              "       [8, 3, 0, 0, 5, 8, 2, 3, 1, 2],\n",
              "       [0, 8, 2, 5, 7, 2, 3, 0, 7, 8]])"
            ]
          },
          "metadata": {
            "tags": []
          },
          "execution_count": 105
        }
      ]
    },
    {
      "cell_type": "code",
      "metadata": {
        "id": "zjFsWDcE8XRZ",
        "colab_type": "code",
        "colab": {
          "base_uri": "https://localhost:8080/",
          "height": 67
        },
        "outputId": "054a131f-7801-42a4-d2c8-bb622b0705d9"
      },
      "source": [
        "# he goes one by one and performs the square\n",
        "np.square(a)"
      ],
      "execution_count": null,
      "outputs": [
        {
          "output_type": "execute_result",
          "data": {
            "text/plain": [
              "array([[ 1, 25, 64, 25,  9, 81,  0,  1, 49, 16],\n",
              "       [64,  9,  0,  0, 25, 64,  4,  9,  1,  4],\n",
              "       [ 0, 64,  4, 25, 49,  4,  9,  0, 49, 64]])"
            ]
          },
          "metadata": {
            "tags": []
          },
          "execution_count": 106
        }
      ]
    },
    {
      "cell_type": "code",
      "metadata": {
        "id": "nGlTlLu38aBI",
        "colab_type": "code",
        "colab": {
          "base_uri": "https://localhost:8080/",
          "height": 67
        },
        "outputId": "664c4afe-b604-47f2-eef9-aa6905ef068a"
      },
      "source": [
        "a**2"
      ],
      "execution_count": null,
      "outputs": [
        {
          "output_type": "execute_result",
          "data": {
            "text/plain": [
              "array([[ 1, 25, 64, 25,  9, 81,  0,  1, 49, 16],\n",
              "       [64,  9,  0,  0, 25, 64,  4,  9,  1,  4],\n",
              "       [ 0, 64,  4, 25, 49,  4,  9,  0, 49, 64]])"
            ]
          },
          "metadata": {
            "tags": []
          },
          "execution_count": 107
        }
      ]
    },
    {
      "cell_type": "code",
      "metadata": {
        "id": "TLzeTSXR8hcz",
        "colab_type": "code",
        "colab": {
          "base_uri": "https://localhost:8080/",
          "height": 168
        },
        "outputId": "8540f4b5-440d-42a1-e9e0-65ab5211ad81"
      },
      "source": [
        "np.exp(a)"
      ],
      "execution_count": null,
      "outputs": [
        {
          "output_type": "execute_result",
          "data": {
            "text/plain": [
              "array([[2.71828183e+00, 1.48413159e+02, 2.98095799e+03, 1.48413159e+02,\n",
              "        2.00855369e+01, 8.10308393e+03, 1.00000000e+00, 2.71828183e+00,\n",
              "        1.09663316e+03, 5.45981500e+01],\n",
              "       [2.98095799e+03, 2.00855369e+01, 1.00000000e+00, 1.00000000e+00,\n",
              "        1.48413159e+02, 2.98095799e+03, 7.38905610e+00, 2.00855369e+01,\n",
              "        2.71828183e+00, 7.38905610e+00],\n",
              "       [1.00000000e+00, 2.98095799e+03, 7.38905610e+00, 1.48413159e+02,\n",
              "        1.09663316e+03, 7.38905610e+00, 2.00855369e+01, 1.00000000e+00,\n",
              "        1.09663316e+03, 2.98095799e+03]])"
            ]
          },
          "metadata": {
            "tags": []
          },
          "execution_count": 108
        }
      ]
    },
    {
      "cell_type": "code",
      "metadata": {
        "id": "5SnGBhje8nJj",
        "colab_type": "code",
        "colab": {
          "base_uri": "https://localhost:8080/",
          "height": 67
        },
        "outputId": "6317b46d-94cd-47f9-9f48-eccd4a62c813"
      },
      "source": [
        "# each element to the power of 4\n",
        "np.power(a,4)"
      ],
      "execution_count": null,
      "outputs": [
        {
          "output_type": "execute_result",
          "data": {
            "text/plain": [
              "array([[   1,  625, 4096,  625,   81, 6561,    0,    1, 2401,  256],\n",
              "       [4096,   81,    0,    0,  625, 4096,   16,   81,    1,   16],\n",
              "       [   0, 4096,   16,  625, 2401,   16,   81,    0, 2401, 4096]])"
            ]
          },
          "metadata": {
            "tags": []
          },
          "execution_count": 109
        }
      ]
    },
    {
      "cell_type": "code",
      "metadata": {
        "id": "ZTtwABza8zcM",
        "colab_type": "code",
        "colab": {}
      },
      "source": [
        "# EXTRA \n",
        "# lets test performance\n",
        "import time\n",
        "\n",
        "# defining a reallyyyyyyyyyyyyyyy big list of number\n",
        "mynumbers = [i for i in range(0,100000)]\n",
        "\n",
        "# counting\n",
        "t1 = time.time()\n",
        "# with an append\n",
        "mylist = []\n",
        "for i in mynumbers:\n",
        "  mylist.append(i**2)\n",
        "t2 = time.time()\n",
        "print(\"with append \", t2-t1)\n",
        "\n",
        "# with a list comp\n",
        "mynumbers = [i for i in range(0,100000)]\n",
        "t1 = time.time()\n",
        "[i**2 for i in mynumbers]\n",
        "t2 = time.time()\n",
        "print(\"with list comprehension \", t2-t1)\n",
        "\n",
        "# with a numpy array method\n",
        "mynumbers = np.array(mynumbers)\n",
        "t1 = time.time()\n",
        "np.square(mynumbers)\n",
        "t2 = time.time()\n",
        "\n",
        "print(\"with numpy functions \", t2-t1)\n",
        "\n",
        "#who is more efficient"
      ],
      "execution_count": null,
      "outputs": []
    },
    {
      "cell_type": "code",
      "metadata": {
        "id": "1ZpPXBoc-9ze",
        "colab_type": "code",
        "colab": {}
      },
      "source": [
        "mynumbers = [i for i in range(0,1000000)]\n",
        "import time"
      ],
      "execution_count": null,
      "outputs": []
    },
    {
      "cell_type": "code",
      "metadata": {
        "id": "SO61OqVT-GFx",
        "colab_type": "code",
        "colab": {
          "base_uri": "https://localhost:8080/",
          "height": 34
        },
        "outputId": "a8373138-e3a5-4710-887c-65682800104e"
      },
      "source": [
        "\n",
        "\n",
        "# counting\n",
        "t1 = time.time()\n",
        "# with an append\n",
        "mylist = []\n",
        "for i in mynumbers:\n",
        "  mylist.append(i**2)\n",
        "\n",
        "t2 = time.time()\n",
        "print(\"with append \", t2-t1)\n"
      ],
      "execution_count": null,
      "outputs": [
        {
          "output_type": "stream",
          "text": [
            "with append  0.3723893165588379\n"
          ],
          "name": "stdout"
        }
      ]
    },
    {
      "cell_type": "code",
      "metadata": {
        "id": "Iob-qovl-HQM",
        "colab_type": "code",
        "colab": {
          "base_uri": "https://localhost:8080/",
          "height": 34
        },
        "outputId": "2bb55189-aab2-4799-ca34-cba6ee82dee5"
      },
      "source": [
        "# with a list comp\n",
        "\n",
        "t1 = time.time()\n",
        "[i**2 for i in mynumbers]\n",
        "t2 = time.time()\n",
        "print(\"with list comprehension \", t2-t1)"
      ],
      "execution_count": null,
      "outputs": [
        {
          "output_type": "stream",
          "text": [
            "with list comprehension  0.29508328437805176\n"
          ],
          "name": "stdout"
        }
      ]
    },
    {
      "cell_type": "code",
      "metadata": {
        "id": "cdURetam-yHZ",
        "colab_type": "code",
        "colab": {
          "base_uri": "https://localhost:8080/",
          "height": 34
        },
        "outputId": "3a24a104-f533-44ac-f96d-49569d7bb634"
      },
      "source": [
        "# with a numpy array method\n",
        "mynumbers = np.array(mynumbers)\n",
        "t1 = time.time()\n",
        "np.square(mynumbers)\n",
        "t2 = time.time()\n",
        "print(\"with numpy functions \", t2-t1)"
      ],
      "execution_count": null,
      "outputs": [
        {
          "output_type": "stream",
          "text": [
            "with numpy functions  0.0031120777130126953\n"
          ],
          "name": "stdout"
        }
      ]
    },
    {
      "cell_type": "code",
      "metadata": {
        "id": "57wDuTKX_UqE",
        "colab_type": "code",
        "colab": {}
      },
      "source": [
        ""
      ],
      "execution_count": null,
      "outputs": []
    }
  ]
}