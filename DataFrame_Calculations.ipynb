{
  "nbformat": 4,
  "nbformat_minor": 0,
  "metadata": {
    "kernelspec": {
      "display_name": "Python 3",
      "language": "python",
      "name": "python3"
    },
    "language_info": {
      "codemirror_mode": {
        "name": "ipython",
        "version": 3
      },
      "file_extension": ".py",
      "mimetype": "text/x-python",
      "name": "python",
      "nbconvert_exporter": "python",
      "pygments_lexer": "ipython3",
      "version": "3.6.8"
    },
    "colab": {
      "name": "DataFrame Calculations.ipynb",
      "provenance": [],
      "include_colab_link": true
    }
  },
  "cells": [
    {
      "cell_type": "markdown",
      "metadata": {
        "id": "view-in-github",
        "colab_type": "text"
      },
      "source": [
        "<a href=\"https://colab.research.google.com/github/jgoncsilva/Classes_IronHack/blob/master/DataFrame_Calculations.ipynb\" target=\"_parent\"><img src=\"https://colab.research.google.com/assets/colab-badge.svg\" alt=\"Open In Colab\"/></a>"
      ]
    },
    {
      "cell_type": "code",
      "metadata": {
        "id": "0sZup0y0RtCm",
        "colab_type": "code",
        "colab": {}
      },
      "source": [
        "# Importing libraries\n",
        "import pandas as pd\n",
        "import numpy as np\n",
        "\n",
        "# Read data\n",
        "ds = pd.read_csv('animals.csv')\n",
        "ds.head(70)"
      ],
      "execution_count": null,
      "outputs": []
    },
    {
      "cell_type": "code",
      "metadata": {
        "id": "hjZDk0onRtCs",
        "colab_type": "code",
        "colab": {}
      },
      "source": [
        "ds.shape"
      ],
      "execution_count": null,
      "outputs": []
    },
    {
      "cell_type": "markdown",
      "metadata": {
        "id": "gyB_XrpjRtCu",
        "colab_type": "text"
      },
      "source": [
        "## Single column calculations"
      ]
    },
    {
      "cell_type": "code",
      "metadata": {
        "id": "SsXvE6q6RtCv",
        "colab_type": "code",
        "colab": {}
      },
      "source": [
        "ds['bodywtkg'] = ds['bodywt'] * 0.45359237\n",
        "ds.head()"
      ],
      "execution_count": null,
      "outputs": []
    },
    {
      "cell_type": "markdown",
      "metadata": {
        "id": "C5S3r2ZzRtCx",
        "colab_type": "text"
      },
      "source": [
        "## Calculations involving multiple columns"
      ]
    },
    {
      "cell_type": "code",
      "metadata": {
        "id": "yqUPwu0QRtCy",
        "colab_type": "code",
        "colab": {}
      },
      "source": [
        "ds['wtratio'] = ds['bodywt'] / ds['brainwt']\n",
        "ds.head()"
      ],
      "execution_count": null,
      "outputs": []
    },
    {
      "cell_type": "markdown",
      "metadata": {
        "id": "vFFM8R3hRtC0",
        "colab_type": "text"
      },
      "source": [
        "## Conditional Calculations"
      ]
    },
    {
      "cell_type": "code",
      "metadata": {
        "id": "7cnnqFfbRtC0",
        "colab_type": "code",
        "colab": {}
      },
      "source": [
        "ds['wtratiozerocheck'] = np.where(ds['brainwt'] != 0, ds['bodywt'] / ds['brainwt'], 0)\n",
        "ds.head()"
      ],
      "execution_count": null,
      "outputs": []
    },
    {
      "cell_type": "markdown",
      "metadata": {
        "id": "u5YKyVdtRtC2",
        "colab_type": "text"
      },
      "source": [
        "## Calculations using functions"
      ]
    },
    {
      "cell_type": "code",
      "metadata": {
        "id": "3-aaXaUwRtC3",
        "colab_type": "code",
        "colab": {}
      },
      "source": [
        "ds_adjusted = ds[['brainwt','bodywt']]\n",
        "ds_adjusted.sum()"
      ],
      "execution_count": null,
      "outputs": []
    },
    {
      "cell_type": "code",
      "metadata": {
        "id": "QhjhZKOSRtC6",
        "colab_type": "code",
        "colab": {}
      },
      "source": [
        ""
      ],
      "execution_count": null,
      "outputs": []
    }
  ]
}