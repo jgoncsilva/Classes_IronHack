{
  "nbformat": 4,
  "nbformat_minor": 0,
  "metadata": {
    "colab": {
      "name": "scipy_intro.ipynb",
      "provenance": [],
      "collapsed_sections": [],
      "include_colab_link": true
    },
    "kernelspec": {
      "name": "python3",
      "display_name": "Python 3"
    }
  },
  "cells": [
    {
      "cell_type": "markdown",
      "metadata": {
        "id": "view-in-github",
        "colab_type": "text"
      },
      "source": [
        "<a href=\"https://colab.research.google.com/github/jgoncsilva/Classes_IronHack/blob/master/scipy_intro.ipynb\" target=\"_parent\"><img src=\"https://colab.research.google.com/assets/colab-badge.svg\" alt=\"Open In Colab\"/></a>"
      ]
    },
    {
      "cell_type": "markdown",
      "metadata": {
        "id": "MRXhY97SMrJG",
        "colab_type": "text"
      },
      "source": [
        "Documentation: https://docs.scipy.org/doc/"
      ]
    },
    {
      "cell_type": "code",
      "metadata": {
        "id": "X-1CgJF9Lu7a",
        "colab_type": "code",
        "colab": {}
      },
      "source": [
        "# check if you have library\n",
        "import scipy"
      ],
      "execution_count": null,
      "outputs": []
    },
    {
      "cell_type": "code",
      "metadata": {
        "id": "pf0f8_FtOOSp",
        "colab_type": "code",
        "colab": {}
      },
      "source": [
        "# import additional libraries\n",
        "import numpy as np\n",
        "import matplotlib.pyplot as plt"
      ],
      "execution_count": null,
      "outputs": []
    },
    {
      "cell_type": "markdown",
      "metadata": {
        "id": "Hu9zHeGBMCpl",
        "colab_type": "text"
      },
      "source": [
        "## stats module\n",
        "\n",
        "Documentation: https://docs.scipy.org/doc/scipy/reference/stats.html"
      ]
    },
    {
      "cell_type": "code",
      "metadata": {
        "id": "jDzJeFBxMHP5",
        "colab_type": "code",
        "colab": {
          "base_uri": "https://localhost:8080/",
          "height": 68
        },
        "outputId": "be7c93b3-4fa4-43a9-9e66-16f87fd61f99"
      },
      "source": [
        "from scipy import stats\n",
        "\n",
        "np.random.seed = 29\n",
        "\n",
        "arr = np.random.randint(34, size = (50))\n",
        "arr"
      ],
      "execution_count": null,
      "outputs": [
        {
          "output_type": "execute_result",
          "data": {
            "text/plain": [
              "array([ 1, 15,  0,  6,  4,  5, 17, 26,  1, 22, 10,  0,  8,  8, 21,  8, 31,\n",
              "       23,  6, 32,  7, 31, 15, 21, 19, 17, 17, 11, 10, 27, 17, 25, 18,  6,\n",
              "        4,  0, 30, 30, 29, 10,  3, 25,  7, 16,  4,  3, 31,  5, 21,  7])"
            ]
          },
          "metadata": {
            "tags": []
          },
          "execution_count": 4
        }
      ]
    },
    {
      "cell_type": "code",
      "metadata": {
        "id": "zwm-3w28Tt0Q",
        "colab_type": "code",
        "colab": {
          "base_uri": "https://localhost:8080/",
          "height": 34
        },
        "outputId": "878b4784-5078-4d63-bff8-f2b031292268"
      },
      "source": [
        "# calc mode\n",
        "stats.mode(arr, axis = 0)"
      ],
      "execution_count": null,
      "outputs": [
        {
          "output_type": "execute_result",
          "data": {
            "text/plain": [
              "ModeResult(mode=array([17]), count=array([4]))"
            ]
          },
          "metadata": {
            "tags": []
          },
          "execution_count": 5
        }
      ]
    },
    {
      "cell_type": "code",
      "metadata": {
        "id": "GGPxLdJvTxlc",
        "colab_type": "code",
        "colab": {
          "base_uri": "https://localhost:8080/",
          "height": 34
        },
        "outputId": "ca62d5d6-f900-48eb-e670-e1ce4f3d4956"
      },
      "source": [
        "stats.describe(arr)"
      ],
      "execution_count": null,
      "outputs": [
        {
          "output_type": "execute_result",
          "data": {
            "text/plain": [
              "DescribeResult(nobs=50, minmax=(0, 32), mean=14.2, variance=101.83673469387755, skewness=0.3035020507473011, kurtosis=-1.2116564993714884)"
            ]
          },
          "metadata": {
            "tags": []
          },
          "execution_count": 6
        }
      ]
    },
    {
      "cell_type": "code",
      "metadata": {
        "id": "wtC-xsbXhVUm",
        "colab_type": "code",
        "colab": {
          "base_uri": "https://localhost:8080/",
          "height": 34
        },
        "outputId": "6d974288-1959-4a15-ad03-d511511cad1b"
      },
      "source": [
        "stats.tstd(arr) == (stats.tvar(arr)) ** 0.5"
      ],
      "execution_count": null,
      "outputs": [
        {
          "output_type": "execute_result",
          "data": {
            "text/plain": [
              "True"
            ]
          },
          "metadata": {
            "tags": []
          },
          "execution_count": 7
        }
      ]
    },
    {
      "cell_type": "code",
      "metadata": {
        "id": "-0IWYSc_T39t",
        "colab_type": "code",
        "colab": {
          "base_uri": "https://localhost:8080/",
          "height": 34
        },
        "outputId": "e3979e92-fddf-48f6-adaa-9eb20f0f45c1"
      },
      "source": [
        "f\"The kurtosis value is {stats.kurtosis(arr)}, so it's almost gaussian\""
      ],
      "execution_count": null,
      "outputs": [
        {
          "output_type": "execute_result",
          "data": {
            "text/plain": [
              "\"The kurtosis value is -1.2116564993714884, so it's almost gaussian\""
            ]
          },
          "metadata": {
            "tags": []
          },
          "execution_count": 8
        }
      ]
    },
    {
      "cell_type": "markdown",
      "metadata": {
        "id": "hyNxv87lP8gD",
        "colab_type": "text"
      },
      "source": [
        "## linear algebra module"
      ]
    },
    {
      "cell_type": "code",
      "metadata": {
        "id": "I9VYvDlRP_21",
        "colab_type": "code",
        "colab": {
          "base_uri": "https://localhost:8080/",
          "height": 68
        },
        "outputId": "ced2a113-078e-4664-e94d-2c7de56d5d7c"
      },
      "source": [
        "from scipy import linalg\n",
        "\n",
        "np.random.seed = 29\n",
        "\n",
        "A = np.random.randint(9, size = (3, 3))\n",
        "A"
      ],
      "execution_count": null,
      "outputs": [
        {
          "output_type": "execute_result",
          "data": {
            "text/plain": [
              "array([[7, 5, 1],\n",
              "       [2, 2, 0],\n",
              "       [1, 8, 1]])"
            ]
          },
          "metadata": {
            "tags": []
          },
          "execution_count": 9
        }
      ]
    },
    {
      "cell_type": "code",
      "metadata": {
        "id": "YuBHDbyQRQMe",
        "colab_type": "code",
        "colab": {}
      },
      "source": [
        "# calculate inverse\n",
        "B = linalg.inv(A) "
      ],
      "execution_count": null,
      "outputs": []
    },
    {
      "cell_type": "code",
      "metadata": {
        "id": "dsbik25G4ROE",
        "colab_type": "code",
        "colab": {
          "base_uri": "https://localhost:8080/",
          "height": 68
        },
        "outputId": "139e92bc-d7f0-4da4-f768-8e3c5ceb1eb8"
      },
      "source": [
        "np.dot(A,B)"
      ],
      "execution_count": null,
      "outputs": [
        {
          "output_type": "execute_result",
          "data": {
            "text/plain": [
              "array([[1.00000000e+00, 0.00000000e+00, 1.66533454e-16],\n",
              "       [5.55111512e-17, 1.00000000e+00, 2.77555756e-17],\n",
              "       [0.00000000e+00, 0.00000000e+00, 1.00000000e+00]])"
            ]
          },
          "metadata": {
            "tags": []
          },
          "execution_count": 11
        }
      ]
    },
    {
      "cell_type": "code",
      "metadata": {
        "id": "jyG9oZW5SAdm",
        "colab_type": "code",
        "colab": {
          "base_uri": "https://localhost:8080/",
          "height": 68
        },
        "outputId": "2e829f4b-3e1c-43ab-f6c0-f0fc006e12bd"
      },
      "source": [
        "b = np.array([[4],[5],[9]])\n",
        "\n",
        "# calculate matrix dot product \n",
        "linalg.inv(A).dot(b)"
      ],
      "execution_count": null,
      "outputs": [
        {
          "output_type": "execute_result",
          "data": {
            "text/plain": [
              "array([[ 0.27777778],\n",
              "       [ 2.22222222],\n",
              "       [-9.05555556]])"
            ]
          },
          "metadata": {
            "tags": []
          },
          "execution_count": 12
        }
      ]
    },
    {
      "cell_type": "code",
      "metadata": {
        "id": "zzd-o_jmRBxe",
        "colab_type": "code",
        "colab": {
          "base_uri": "https://localhost:8080/",
          "height": 34
        },
        "outputId": "4ffc5d37-7f81-4989-ee2f-ad9676349de7"
      },
      "source": [
        "from scipy.linalg import solve\n",
        "\n",
        "a = np.array([[5, 6], [2, 4]])\n",
        "b = np.array([10, 8])\n",
        "x = solve(a, b)\n",
        "x"
      ],
      "execution_count": null,
      "outputs": [
        {
          "output_type": "execute_result",
          "data": {
            "text/plain": [
              "array([-1. ,  2.5])"
            ]
          },
          "metadata": {
            "tags": []
          },
          "execution_count": 13
        }
      ]
    },
    {
      "cell_type": "markdown",
      "metadata": {
        "id": "BgRfEktDOEwl",
        "colab_type": "text"
      },
      "source": [
        "## interpolate module"
      ]
    },
    {
      "cell_type": "code",
      "metadata": {
        "id": "yXFFzwX4OHyK",
        "colab_type": "code",
        "colab": {
          "base_uri": "https://localhost:8080/",
          "height": 333
        },
        "outputId": "92d253b1-d243-484c-9fe2-c38e7551d718"
      },
      "source": [
        "from scipy.interpolate import interp1d\n",
        "\n",
        "# We are creating a dataset where the x values are numbers 0 through 10 \n",
        "# and the y values are the cosine of the x values\n",
        "x = np.arange(0, 11, 1)\n",
        "y = np.cos(x)\n",
        "print('x is ', x)\n",
        "print('y is ', y)\n",
        "plt.scatter(x, y)"
      ],
      "execution_count": null,
      "outputs": [
        {
          "output_type": "stream",
          "text": [
            "x is  [ 0  1  2  3  4  5  6  7  8  9 10]\n",
            "y is  [ 1.          0.54030231 -0.41614684 -0.9899925  -0.65364362  0.28366219\n",
            "  0.96017029  0.75390225 -0.14550003 -0.91113026 -0.83907153]\n"
          ],
          "name": "stdout"
        },
        {
          "output_type": "execute_result",
          "data": {
            "text/plain": [
              "<matplotlib.collections.PathCollection at 0x7f1496948080>"
            ]
          },
          "metadata": {
            "tags": []
          },
          "execution_count": 14
        },
        {
          "output_type": "display_data",
          "data": {
            "image/png": "[encoded data removed]",
            "text/plain": [
              "<Figure size 432x288 with 1 Axes>"
            ]
          },
          "metadata": {
            "tags": []
          }
        }
      ]
    },
    {
      "cell_type": "code",
      "metadata": {
        "id": "PmNApA0ZOa0m",
        "colab_type": "code",
        "colab": {
          "base_uri": "https://localhost:8080/",
          "height": 282
        },
        "outputId": "166ddb48-35b8-4659-d07d-ae5a2d0dcb6e"
      },
      "source": [
        "# We generate an interpolation function and then apply that function to the new data and plot\n",
        "f = interp1d(x, y) #,'quadratic') to have a quadratic polynomial to fit\n",
        "xnew = np.arange(0, 10.25, 0.25)\n",
        "plt.plot(xnew, f(xnew))"
      ],
      "execution_count": null,
      "outputs": [
        {
          "output_type": "execute_result",
          "data": {
            "text/plain": [
              "[<matplotlib.lines.Line2D at 0x7f1493c15668>]"
            ]
          },
          "metadata": {
            "tags": []
          },
          "execution_count": 15
        },
        {
          "output_type": "display_data",
          "data": {
            "image/png": "[encoded data removed]",
            "text/plain": [
              "<Figure size 432x288 with 1 Axes>"
            ]
          },
          "metadata": {
            "tags": []
          }
        }
      ]
    },
    {
      "cell_type": "markdown",
      "metadata": {
        "id": "UL9JywmuPeU4",
        "colab_type": "text"
      },
      "source": [
        "**Splines** : spline interpolation is a form of interpolation where the interpolant is a special type of piecewise polynomial called a spline. Spline interpolation is often preferred over polynomial interpolation because the interpolation error can be made small even when using low degree polynomials for the spline. Originally, spline was a term for elastic rulers that were bent to pass through a number of predefined points (\"knots\")."
      ]
    },
    {
      "cell_type": "code",
      "metadata": {
        "id": "k22YB4v8O2kY",
        "colab_type": "code",
        "colab": {
          "base_uri": "https://localhost:8080/",
          "height": 265
        },
        "outputId": "5698c9f6-b5bf-4bb6-8706-57a56f014413"
      },
      "source": [
        "t, c, k = scipy.interpolate.splrep(x, y, s=0, k=2) ## interpolate based on values. Output: knots, coefficients, order\n",
        "\n",
        "x_spl = np.linspace(x.min(), x.max(), 100)   ## new x values in the range (min_x, max_x)\n",
        "spline = scipy.interpolate.BSpline(t, c, k)  ## create the model of the curve with the values from interpolation\n",
        "\n",
        "plt.plot(x, y, 'bo', label='Original points')\n",
        "plt.plot(x_spl, spline(x_spl), 'r', label='bspline model')\n",
        "plt.show()"
      ],
      "execution_count": null,
      "outputs": [
        {
          "output_type": "display_data",
          "data": {
            "image/png": "[encoded data removed]",
            "text/plain": [
              "<Figure size 432x288 with 1 Axes>"
            ]
          },
          "metadata": {
            "tags": []
          }
        }
      ]
    },
    {
      "cell_type": "code",
      "metadata": {
        "id": "d5Qi_gPOPmti",
        "colab_type": "code",
        "colab": {}
      },
      "source": [
        ""
      ],
      "execution_count": null,
      "outputs": []
    }
  ]
}