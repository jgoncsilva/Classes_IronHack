{
  "nbformat": 4,
  "nbformat_minor": 0,
  "metadata": {
    "colab": {
      "name": "Cópia de list_comp_class.ipynb",
      "provenance": [],
      "include_colab_link": true
    },
    "kernelspec": {
      "name": "python3",
      "display_name": "Python 3"
    }
  },
  "cells": [
    {
      "cell_type": "markdown",
      "metadata": {
        "id": "view-in-github",
        "colab_type": "text"
      },
      "source": [
        "<a href=\"https://colab.research.google.com/github/jgoncsilva/Classes_IronHack/blob/master/C%C3%B3pia_de_list_comp_class.ipynb\" target=\"_parent\"><img src=\"https://colab.research.google.com/assets/colab-badge.svg\" alt=\"Open In Colab\"/></a>"
      ]
    },
    {
      "cell_type": "code",
      "metadata": {
        "id": "Utl5z-XxYXnV",
        "colab_type": "code",
        "colab": {}
      },
      "source": [
        "# list comprehension\n",
        "\n"
      ],
      "execution_count": null,
      "outputs": []
    },
    {
      "cell_type": "code",
      "metadata": {
        "id": "Eb1H1Ok5YeNm",
        "colab_type": "code",
        "colab": {}
      },
      "source": [
        "# basics of list\n",
        "\n",
        "# defined an empty list\n",
        "mylist = []\n",
        "\n",
        "# very flexible python datastructures\n",
        "['pedro',25,True,['1','2','3']]\n",
        "\n",
        "# lists have many cool methods\n",
        "\n",
        "mylist.append(0)"
      ],
      "execution_count": null,
      "outputs": []
    },
    {
      "cell_type": "code",
      "metadata": {
        "id": "UdYi74_bZY98",
        "colab_type": "code",
        "colab": {}
      },
      "source": [
        "mylist.append(\"The name is Shelby\")"
      ],
      "execution_count": null,
      "outputs": []
    },
    {
      "cell_type": "code",
      "metadata": {
        "id": "HpeETk4fZZrC",
        "colab_type": "code",
        "colab": {
          "base_uri": "https://localhost:8080/",
          "height": 34
        },
        "outputId": "4f7360ad-5a3c-41e7-eb3c-f98f41de45c2"
      },
      "source": [
        "mylist"
      ],
      "execution_count": null,
      "outputs": [
        {
          "output_type": "execute_result",
          "data": {
            "text/plain": [
              "[0, 'The name is Shelby']"
            ]
          },
          "metadata": {
            "tags": []
          },
          "execution_count": 4
        }
      ]
    },
    {
      "cell_type": "code",
      "metadata": {
        "id": "05hSncLXZseX",
        "colab_type": "code",
        "colab": {}
      },
      "source": [
        "friends = ['Joey','Ross','Phoebe','Rachel']"
      ],
      "execution_count": null,
      "outputs": []
    },
    {
      "cell_type": "code",
      "metadata": {
        "id": "b_083kfIaBwI",
        "colab_type": "code",
        "colab": {}
      },
      "source": [
        "# lists object allow for concatenation\n",
        "newlist = friends + mylist"
      ],
      "execution_count": null,
      "outputs": []
    },
    {
      "cell_type": "code",
      "metadata": {
        "id": "dzB1XBDyaDzu",
        "colab_type": "code",
        "colab": {}
      },
      "source": [
        "# i am running a method inside the object\n",
        "newlist.clear()"
      ],
      "execution_count": null,
      "outputs": []
    },
    {
      "cell_type": "code",
      "metadata": {
        "id": "grHpJXGZauUT",
        "colab_type": "code",
        "colab": {
          "base_uri": "https://localhost:8080/",
          "height": 34
        },
        "outputId": "b9470f64-f56e-4517-a348-d0e39e029991"
      },
      "source": [
        "newlist"
      ],
      "execution_count": null,
      "outputs": [
        {
          "output_type": "execute_result",
          "data": {
            "text/plain": [
              "['Joey', 'Ross', 'Phoebe', 'Rachel', 0, 'The name is Shelby']"
            ]
          },
          "metadata": {
            "tags": []
          },
          "execution_count": 15
        }
      ]
    },
    {
      "cell_type": "code",
      "metadata": {
        "id": "_cGdwBSHa8zJ",
        "colab_type": "code",
        "colab": {
          "base_uri": "https://localhost:8080/",
          "height": 35
        },
        "outputId": "1779f3a1-cc5e-4e19-baba-59bd1b1a0d26"
      },
      "source": [
        "# the pop function returns the element that it popped\n",
        "newlist.pop()"
      ],
      "execution_count": null,
      "outputs": [
        {
          "output_type": "execute_result",
          "data": {
            "application/vnd.google.colaboratory.intrinsic": {
              "type": "string"
            },
            "text/plain": [
              "'The name is Shelby'"
            ]
          },
          "metadata": {
            "tags": []
          },
          "execution_count": 16
        }
      ]
    },
    {
      "cell_type": "code",
      "metadata": {
        "id": "pgcTKwqkbHLb",
        "colab_type": "code",
        "colab": {
          "base_uri": "https://localhost:8080/",
          "height": 35
        },
        "outputId": "abe6a2b8-0073-4701-dc02-d8f118dd82c5"
      },
      "source": [
        "# in-place method -> doesnt return the object itself, but perform a change on the original object\n",
        "newlist.pop(0)\n"
      ],
      "execution_count": null,
      "outputs": [
        {
          "output_type": "execute_result",
          "data": {
            "application/vnd.google.colaboratory.intrinsic": {
              "type": "string"
            },
            "text/plain": [
              "'Joey'"
            ]
          },
          "metadata": {
            "tags": []
          },
          "execution_count": 18
        }
      ]
    },
    {
      "cell_type": "code",
      "metadata": {
        "id": "A6a1FyyjbPYo",
        "colab_type": "code",
        "colab": {
          "base_uri": "https://localhost:8080/",
          "height": 34
        },
        "outputId": "b3b3f3a0-ec29-4aa0-bf03-63fe93f163a4"
      },
      "source": [
        "newlist"
      ],
      "execution_count": null,
      "outputs": [
        {
          "output_type": "execute_result",
          "data": {
            "text/plain": [
              "['Ross', 'Phoebe', 'Rachel', 0]"
            ]
          },
          "metadata": {
            "tags": []
          },
          "execution_count": 19
        }
      ]
    },
    {
      "cell_type": "code",
      "metadata": {
        "id": "fvy_gilIbXue",
        "colab_type": "code",
        "colab": {
          "base_uri": "https://localhost:8080/",
          "height": 195
        },
        "outputId": "f77015c0-5ed7-4f65-efe2-2414f9e2f53e"
      },
      "source": [
        "# index method\n",
        "\n",
        "newlist.index(1)"
      ],
      "execution_count": null,
      "outputs": [
        {
          "output_type": "error",
          "ename": "ValueError",
          "evalue": "ignored",
          "traceback": [
            "\u001b[0;31m---------------------------------------------------------------------------\u001b[0m",
            "\u001b[0;31mValueError\u001b[0m                                Traceback (most recent call last)",
            "\u001b[0;32m<ipython-input-22-480913853e3a>\u001b[0m in \u001b[0;36m<module>\u001b[0;34m()\u001b[0m\n\u001b[1;32m      1\u001b[0m \u001b[0;31m# index method\u001b[0m\u001b[0;34m\u001b[0m\u001b[0;34m\u001b[0m\u001b[0;34m\u001b[0m\u001b[0m\n\u001b[1;32m      2\u001b[0m \u001b[0;34m\u001b[0m\u001b[0m\n\u001b[0;32m----> 3\u001b[0;31m \u001b[0mnewlist\u001b[0m\u001b[0;34m.\u001b[0m\u001b[0mindex\u001b[0m\u001b[0;34m(\u001b[0m\u001b[0;36m1\u001b[0m\u001b[0;34m)\u001b[0m\u001b[0;34m\u001b[0m\u001b[0;34m\u001b[0m\u001b[0m\n\u001b[0m",
            "\u001b[0;31mValueError\u001b[0m: 1 is not in list"
          ]
        }
      ]
    },
    {
      "cell_type": "code",
      "metadata": {
        "id": "G9QpbmT9b4Am",
        "colab_type": "code",
        "colab": {
          "base_uri": "https://localhost:8080/",
          "height": 34
        },
        "outputId": "96538072-378a-4e7b-b72a-5738a535040c"
      },
      "source": [
        "# a few operators that are not list methods but are used with lists many times\n",
        "\n",
        "names = ['Zoe','Maria','Joan','Diogo','Melissa']\n",
        "\n",
        "find_name = 'Maria'\n",
        "\n",
        "if find_name in names:\n",
        "  print(\"I found her/him at\",names.index(find_name))"
      ],
      "execution_count": null,
      "outputs": [
        {
          "output_type": "stream",
          "text": [
            "I found her/him at 1\n"
          ],
          "name": "stdout"
        }
      ]
    },
    {
      "cell_type": "code",
      "metadata": {
        "id": "5Tc_xftmcvZG",
        "colab_type": "code",
        "colab": {
          "base_uri": "https://localhost:8080/",
          "height": 50
        },
        "outputId": "b2596756-733c-4226-b2bb-160679006dfc"
      },
      "source": [
        "print('pedro')\n",
        "print('antero')"
      ],
      "execution_count": null,
      "outputs": [
        {
          "output_type": "stream",
          "text": [
            "pedro\n",
            "antero\n"
          ],
          "name": "stdout"
        }
      ]
    },
    {
      "cell_type": "code",
      "metadata": {
        "id": "UUAVQNM7cHVD",
        "colab_type": "code",
        "colab": {
          "base_uri": "https://localhost:8080/",
          "height": 34
        },
        "outputId": "1d348a6d-4031-420c-d15e-c8bcfc8bb828"
      },
      "source": [
        "# list indexing\n",
        "\n",
        "#basic indexing\n",
        "names[0]\n",
        "\n",
        "# also called slicing\n",
        "names[0:4]\n",
        "\n",
        "# taking it up a level -> jumps in steps of zero\n",
        "#mylist[start::jumps of x]\n",
        "names[::3]"
      ],
      "execution_count": null,
      "outputs": [
        {
          "output_type": "execute_result",
          "data": {
            "text/plain": [
              "['Zoe', 'Diogo']"
            ]
          },
          "metadata": {
            "tags": []
          },
          "execution_count": 42
        }
      ]
    },
    {
      "cell_type": "code",
      "metadata": {
        "id": "MWPeZ7Ejdgwr",
        "colab_type": "code",
        "colab": {
          "base_uri": "https://localhost:8080/",
          "height": 101
        },
        "outputId": "5f9be23a-9ab9-4c7e-ee15-40e9aadac8a2"
      },
      "source": [
        " # mix lists with if's with iterations\n",
        "names = ['Zoe','Maria','Joan','Diogo','Melissa']\n",
        "\n",
        "for name in names:\n",
        "  if len(name) <=4:\n",
        "    print(\"short name\")\n",
        "  else:\n",
        "    print(\"not so short name\")\n"
      ],
      "execution_count": null,
      "outputs": [
        {
          "output_type": "stream",
          "text": [
            "short name\n",
            "not so short name\n",
            "short name\n",
            "not so short name\n",
            "not so short name\n"
          ],
          "name": "stdout"
        }
      ]
    },
    {
      "cell_type": "code",
      "metadata": {
        "id": "gG69VlKNfHAX",
        "colab_type": "code",
        "colab": {}
      },
      "source": [
        " # mix lists with if's with iterations -> but now use the condition to populate a new list\n",
        "names = ['Zoe','Maria','Joan','Diogo','Melissa']\n",
        "\n",
        "short_names = []\n",
        "\n",
        "for name in names:\n",
        "  if len(name) <=4:\n",
        "    short_names.append(name)\n",
        "  else:\n",
        "    continue\n",
        "    print(\"hello\")\n",
        "    # continue skips the rest of what is in that indentation level\n",
        "    # pass, allows you to still run what comes after\n",
        "    # for now the pass and continue \n"
      ],
      "execution_count": null,
      "outputs": []
    },
    {
      "cell_type": "code",
      "metadata": {
        "id": "LTHc4RXOfYjY",
        "colab_type": "code",
        "colab": {
          "base_uri": "https://localhost:8080/",
          "height": 34
        },
        "outputId": "f6d0b958-c9ee-4ff8-e68f-7799b86c598b"
      },
      "source": [
        "# my first list comprehension\n",
        "\n",
        "mylist = [1,2,3,4,5]\n",
        "\n",
        "# let's create a list comp that immediately creates a list with all the squares\n",
        "\n",
        "# [result (or what i want) for element in iterable]\n",
        "\n",
        "[number**2 for number in mylist]\n",
        "\n",
        "# saves code\n",
        "# no need for indentation\n",
        "\n",
        "# performance\n",
        "\n",
        "# not very efficient from memory usage and requesting objects stored\n",
        "squares = []\n",
        "for number in mylist:\n",
        "  squares.append(number**2)\n",
        "squares"
      ],
      "execution_count": null,
      "outputs": [
        {
          "output_type": "execute_result",
          "data": {
            "text/plain": [
              "[1, 4, 9, 16, 25]"
            ]
          },
          "metadata": {
            "tags": []
          },
          "execution_count": 56
        }
      ]
    },
    {
      "cell_type": "code",
      "metadata": {
        "id": "eyU83oa7hr6R",
        "colab_type": "code",
        "colab": {
          "base_uri": "https://localhost:8080/",
          "height": 34
        },
        "outputId": "dbbd2778-8886-48ab-bafb-b6da40890171"
      },
      "source": [
        "# list comps with conditions\n",
        "\n",
        "# [what i want for element in iterable if some condition on element]\n",
        "[number**2 for number in mylist if (number == 2) or (number ==3)]"
      ],
      "execution_count": null,
      "outputs": [
        {
          "output_type": "execute_result",
          "data": {
            "text/plain": [
              "[4, 9]"
            ]
          },
          "metadata": {
            "tags": []
          },
          "execution_count": 57
        }
      ]
    },
    {
      "cell_type": "code",
      "metadata": {
        "id": "Venbs8qcfZZi",
        "colab_type": "code",
        "colab": {
          "base_uri": "https://localhost:8080/",
          "height": 34
        },
        "outputId": "046125aa-664f-4cdf-c9ca-f9ba186c11da"
      },
      "source": [
        "# how do I check if a number is even or odd ? -> remainder division %\n",
        "[number**2 for number in mylist if number%2 == 1]\n",
        "#if number%2 == 1"
      ],
      "execution_count": null,
      "outputs": [
        {
          "output_type": "execute_result",
          "data": {
            "text/plain": [
              "[1, 9, 25]"
            ]
          },
          "metadata": {
            "tags": []
          },
          "execution_count": 63
        }
      ]
    },
    {
      "cell_type": "code",
      "metadata": {
        "id": "oRhPbsPJiIKk",
        "colab_type": "code",
        "colab": {
          "base_uri": "https://localhost:8080/",
          "height": 34
        },
        "outputId": "4583c75b-9252-4d90-8861-289ef6365971"
      },
      "source": [
        "# solving the starter with a one-liner\n",
        "sum([number**2 for number in mylist])"
      ],
      "execution_count": null,
      "outputs": [
        {
          "output_type": "execute_result",
          "data": {
            "text/plain": [
              "55"
            ]
          },
          "metadata": {
            "tags": []
          },
          "execution_count": 64
        }
      ]
    },
    {
      "cell_type": "code",
      "metadata": {
        "id": "5qtZavvTi5nZ",
        "colab_type": "code",
        "colab": {}
      },
      "source": [
        "newlist = [number**2 for number in mylist]"
      ],
      "execution_count": null,
      "outputs": []
    },
    {
      "cell_type": "code",
      "metadata": {
        "id": "RgrUvhzNjFWi",
        "colab_type": "code",
        "colab": {
          "base_uri": "https://localhost:8080/",
          "height": 34
        },
        "outputId": "d606b557-b177-4d7b-eaf9-5bc095c9a786"
      },
      "source": [
        "newlist[::2]"
      ],
      "execution_count": null,
      "outputs": [
        {
          "output_type": "execute_result",
          "data": {
            "text/plain": [
              "[1, 9, 25]"
            ]
          },
          "metadata": {
            "tags": []
          },
          "execution_count": 66
        }
      ]
    },
    {
      "cell_type": "code",
      "metadata": {
        "id": "pdfquX9gjGyK",
        "colab_type": "code",
        "colab": {
          "base_uri": "https://localhost:8080/",
          "height": 34
        },
        "outputId": "bb6749a0-4ee0-46a3-b0fe-62db3d0fed5b"
      },
      "source": [
        "# so far our conditional stuff was only to decide which elements to include in the final list\n",
        "# there is also an alternative\n",
        "\n",
        "# list comp that returns the square of a number if its even, or the cube of the number if its odd\n",
        "#[what you want if condition 1 else another result for number in iterable]\n",
        "[number**2 if number%2==0 else number**3  for number in mylist  ]\n",
        "\n"
      ],
      "execution_count": null,
      "outputs": [
        {
          "output_type": "stream",
          "text": [
            "[4, 16]\n"
          ],
          "name": "stdout"
        }
      ]
    },
    {
      "cell_type": "code",
      "metadata": {
        "id": "vKv7NT9tnwtK",
        "colab_type": "code",
        "colab": {
          "base_uri": "https://localhost:8080/",
          "height": 50
        },
        "outputId": "78dff67f-c0e4-4091-de4a-62395f18ea65"
      },
      "source": [
        "# two types of conditionals in list comps\n",
        "\n",
        "# if statement to check which elements you want to return\n",
        "# here you are applying a filter on which elements to act upon\n",
        "print([number**2 for number in mylist if number%2 == 0])\n",
        "\n",
        "# here all elements are returned somehow, based on a condition\n",
        "[number**2 if number%2==0 else number**3  for number in mylist  ]"
      ],
      "execution_count": null,
      "outputs": [
        {
          "output_type": "stream",
          "text": [
            "[4, 16]\n"
          ],
          "name": "stdout"
        },
        {
          "output_type": "execute_result",
          "data": {
            "text/plain": [
              "[1, 4, 27, 16, 125]"
            ]
          },
          "metadata": {
            "tags": []
          },
          "execution_count": 75
        }
      ]
    },
    {
      "cell_type": "code",
      "metadata": {
        "id": "5wJ6hk-9lLB_",
        "colab_type": "code",
        "colab": {}
      },
      "source": [
        "# example of what not to do -> dont do nested if's inside list comp\n",
        "[print('fizzbuzz') if num %3 == 0 and num%5 == 0  else (print('fizz') if num%3 == 0 else print('buzz') if num%5 ==0 else print(num)) for num in range(1, 101)]"
      ],
      "execution_count": null,
      "outputs": []
    },
    {
      "cell_type": "code",
      "metadata": {
        "id": "2iKLPXZpmyeO",
        "colab_type": "code",
        "colab": {
          "base_uri": "https://localhost:8080/",
          "height": 34
        },
        "outputId": "4c742342-32b9-425b-ca85-5e88ba3f30d8"
      },
      "source": [
        "# advanced list comps\n",
        "\n",
        "# I am performing a normal list comp, but returning a list\n",
        "[[i] for i in range(10)]"
      ],
      "execution_count": null,
      "outputs": [
        {
          "output_type": "execute_result",
          "data": {
            "text/plain": [
              "[[0], [1], [2], [3], [4], [5], [6], [7], [8], [9]]"
            ]
          },
          "metadata": {
            "tags": []
          },
          "execution_count": 78
        }
      ]
    },
    {
      "cell_type": "code",
      "metadata": {
        "id": "ceBXDqYPo1xO",
        "colab_type": "code",
        "colab": {}
      },
      "source": [
        "nested = [[subelement for subelement in range(5)] for element in range(10)]"
      ],
      "execution_count": null,
      "outputs": []
    },
    {
      "cell_type": "code",
      "metadata": {
        "id": "y47SNnTypSmQ",
        "colab_type": "code",
        "colab": {
          "base_uri": "https://localhost:8080/",
          "height": 34
        },
        "outputId": "adb43e5e-72a8-4d27-c453-851de4b644da"
      },
      "source": [
        "# range function creates an iterable\n",
        "range(10)"
      ],
      "execution_count": null,
      "outputs": [
        {
          "output_type": "execute_result",
          "data": {
            "text/plain": [
              "range(0, 10)"
            ]
          },
          "metadata": {
            "tags": []
          },
          "execution_count": 80
        }
      ]
    },
    {
      "cell_type": "code",
      "metadata": {
        "id": "wEp7p7TEpgoL",
        "colab_type": "code",
        "colab": {
          "base_uri": "https://localhost:8080/",
          "height": 185
        },
        "outputId": "5f617550-115e-4074-cd2f-3fe708074f3b"
      },
      "source": [
        "nested"
      ],
      "execution_count": null,
      "outputs": [
        {
          "output_type": "execute_result",
          "data": {
            "text/plain": [
              "[[0, 1, 2, 3, 4],\n",
              " [0, 1, 2, 3, 4],\n",
              " [0, 1, 2, 3, 4],\n",
              " [0, 1, 2, 3, 4],\n",
              " [0, 1, 2, 3, 4],\n",
              " [0, 1, 2, 3, 4],\n",
              " [0, 1, 2, 3, 4],\n",
              " [0, 1, 2, 3, 4],\n",
              " [0, 1, 2, 3, 4],\n",
              " [0, 1, 2, 3, 4]]"
            ]
          },
          "metadata": {
            "tags": []
          },
          "execution_count": 82
        }
      ]
    },
    {
      "cell_type": "code",
      "metadata": {
        "id": "_a3UPiPNpr_F",
        "colab_type": "code",
        "colab": {
          "base_uri": "https://localhost:8080/",
          "height": 185
        },
        "outputId": "7e250b0d-068e-4933-dbf2-5f185d657189"
      },
      "source": [
        "# imagine I want to flatten the list out -> [0,1,2,3,4,0,1,2,3,4,0,1,2,3,4,....]\n",
        "\n",
        "final = []\n",
        "for something in nested:\n",
        "  #print(something)\n",
        "  final = final + something"
      ],
      "execution_count": null,
      "outputs": [
        {
          "output_type": "stream",
          "text": [
            "[0, 1, 2, 3, 4]\n",
            "[0, 1, 2, 3, 4]\n",
            "[0, 1, 2, 3, 4]\n",
            "[0, 1, 2, 3, 4]\n",
            "[0, 1, 2, 3, 4]\n",
            "[0, 1, 2, 3, 4]\n",
            "[0, 1, 2, 3, 4]\n",
            "[0, 1, 2, 3, 4]\n",
            "[0, 1, 2, 3, 4]\n",
            "[0, 1, 2, 3, 4]\n"
          ],
          "name": "stdout"
        }
      ]
    },
    {
      "cell_type": "code",
      "metadata": {
        "id": "jbHN6O08qAzD",
        "colab_type": "code",
        "colab": {}
      },
      "source": [
        "# learn how to flatten using a list compre"
      ],
      "execution_count": null,
      "outputs": []
    },
    {
      "cell_type": "code",
      "metadata": {
        "id": "_h47bKYfqBYN",
        "colab_type": "code",
        "colab": {
          "base_uri": "https://localhost:8080/",
          "height": 34
        },
        "outputId": "fd66f523-96ef-4905-aa54-a1a194a349fa"
      },
      "source": [
        "[1,2,3,4] + [9,8,6]"
      ],
      "execution_count": null,
      "outputs": [
        {
          "output_type": "execute_result",
          "data": {
            "text/plain": [
              "[1, 2, 3, 4, 9, 8, 6]"
            ]
          },
          "metadata": {
            "tags": []
          },
          "execution_count": 85
        }
      ]
    },
    {
      "cell_type": "code",
      "metadata": {
        "id": "0xwIp1W_qi4l",
        "colab_type": "code",
        "colab": {
          "base_uri": "https://localhost:8080/",
          "height": 185
        },
        "outputId": "d2adc23e-b54f-4bb3-e19c-e7b18c1d7750"
      },
      "source": [
        "# [final_result -> referring to value for sublist in biglist for value in sublist ]\n",
        "\n",
        "nested"
      ],
      "execution_count": null,
      "outputs": [
        {
          "output_type": "execute_result",
          "data": {
            "text/plain": [
              "[[0, 1, 2, 3, 4],\n",
              " [0, 1, 2, 3, 4],\n",
              " [0, 1, 2, 3, 4],\n",
              " [0, 1, 2, 3, 4],\n",
              " [0, 1, 2, 3, 4],\n",
              " [0, 1, 2, 3, 4],\n",
              " [0, 1, 2, 3, 4],\n",
              " [0, 1, 2, 3, 4],\n",
              " [0, 1, 2, 3, 4],\n",
              " [0, 1, 2, 3, 4]]"
            ]
          },
          "metadata": {
            "tags": []
          },
          "execution_count": 87
        }
      ]
    },
    {
      "cell_type": "code",
      "metadata": {
        "id": "W-79mDi4rCJU",
        "colab_type": "code",
        "colab": {}
      },
      "source": [
        "# flatten out a nested object\n",
        "[value for something in nested for value in something]"
      ],
      "execution_count": null,
      "outputs": []
    },
    {
      "cell_type": "code",
      "metadata": {
        "id": "e3RwFaiprKNI",
        "colab_type": "code",
        "colab": {
          "base_uri": "https://localhost:8080/",
          "height": 34
        },
        "outputId": "17d998c3-9401-4f15-f2fe-a023c1412137"
      },
      "source": [
        "planets = [[\"Mercury\", \"Venus\", \"Earth\"], [\"Mars\", \"Jupiter\"], [\"Uranus\", \"Neptune\", \"Pluto\"]]\n",
        "\n",
        "# nested list comps with conditions\n",
        "\n",
        "[planet for group in planets for planet in group if len(planet) == 7]"
      ],
      "execution_count": null,
      "outputs": [
        {
          "output_type": "execute_result",
          "data": {
            "text/plain": [
              "['Mercury', 'Jupiter', 'Neptune']"
            ]
          },
          "metadata": {
            "tags": []
          },
          "execution_count": 95
        }
      ]
    },
    {
      "cell_type": "code",
      "metadata": {
        "id": "hPdJmlT1r4ju",
        "colab_type": "code",
        "colab": {
          "base_uri": "https://localhost:8080/",
          "height": 151
        },
        "outputId": "124ed98c-2914-4d63-a45f-4f62f59b9d97"
      },
      "source": [
        "[planet if len(planet) == 7 else 'not seven' for group in planets for planet in group]"
      ],
      "execution_count": null,
      "outputs": [
        {
          "output_type": "execute_result",
          "data": {
            "text/plain": [
              "['Mercury',\n",
              " 'not seven',\n",
              " 'not seven',\n",
              " 'not seven',\n",
              " 'Jupiter',\n",
              " 'not seven',\n",
              " 'Neptune',\n",
              " 'not seven']"
            ]
          },
          "metadata": {
            "tags": []
          },
          "execution_count": 101
        }
      ]
    },
    {
      "cell_type": "code",
      "metadata": {
        "id": "B_goEbcpsI-D",
        "colab_type": "code",
        "colab": {
          "base_uri": "https://localhost:8080/",
          "height": 34
        },
        "outputId": "e194e1a0-86cf-44cb-c519-c31602504aad"
      },
      "source": [
        "# antero's discovery of a new solar system -> we can do a condition in the intermediary loops\n",
        "[planet for group in planets if len(group) == 2 for planet in group]"
      ],
      "execution_count": null,
      "outputs": [
        {
          "output_type": "execute_result",
          "data": {
            "text/plain": [
              "['Mars', 'Jupiter']"
            ]
          },
          "metadata": {
            "tags": []
          },
          "execution_count": 102
        }
      ]
    },
    {
      "cell_type": "code",
      "metadata": {
        "id": "0MVOs7WbsyKJ",
        "colab_type": "code",
        "colab": {}
      },
      "source": [
        ""
      ],
      "execution_count": null,
      "outputs": []
    }
  ]
}