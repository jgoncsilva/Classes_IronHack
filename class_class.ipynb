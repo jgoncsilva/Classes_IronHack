{
  "nbformat": 4,
  "nbformat_minor": 0,
  "metadata": {
    "colab": {
      "name": "class-class.ipynb",
      "provenance": [],
      "collapsed_sections": [],
      "include_colab_link": true
    },
    "kernelspec": {
      "name": "python3",
      "display_name": "Python 3"
    }
  },
  "cells": [
    {
      "cell_type": "markdown",
      "metadata": {
        "id": "view-in-github",
        "colab_type": "text"
      },
      "source": [
        "<a href=\"https://colab.research.google.com/github/jgoncsilva/Classes_IronHack/blob/master/class_class.ipynb\" target=\"_parent\"><img src=\"https://colab.research.google.com/assets/colab-badge.svg\" alt=\"Open In Colab\"/></a>"
      ]
    },
    {
      "cell_type": "code",
      "metadata": {
        "id": "x07ZB5LG15tT",
        "colab_type": "code",
        "colab": {}
      },
      "source": [
        "# learn object orientated programming -> OOP\n",
        "\n",
        "# each programming language can be Object orientated or not\n",
        "\n",
        "\n",
        "# you create objects\n",
        "\n"
      ],
      "execution_count": null,
      "outputs": []
    },
    {
      "cell_type": "code",
      "metadata": {
        "id": "mF-PUKMg4Wc3",
        "colab_type": "code",
        "colab": {}
      },
      "source": [
        "# lists, sets , dicts , strings they are all objects -> python built in basic object"
      ],
      "execution_count": null,
      "outputs": []
    },
    {
      "cell_type": "code",
      "metadata": {
        "id": "NovVtSJc4poi",
        "colab_type": "code",
        "colab": {}
      },
      "source": [
        "# this is a library -> box of toolboxes\n",
        "import pandas as pd\n"
      ],
      "execution_count": null,
      "outputs": []
    },
    {
      "cell_type": "code",
      "metadata": {
        "id": "cMfJyLXp4wQV",
        "colab_type": "code",
        "colab": {}
      },
      "source": [
        "# a pandas dataframe is not a native python object -> somebody coded a library and defined inside an object (class) called a DataFrame\n",
        "a = pd.DataFrame()"
      ],
      "execution_count": null,
      "outputs": []
    },
    {
      "cell_type": "code",
      "metadata": {
        "id": "dmE2c4eK58y4",
        "colab_type": "code",
        "colab": {
          "base_uri": "https://localhost:8080/",
          "height": 168
        },
        "outputId": "a357c3e5-6c45-412f-c49a-5ff222a68992"
      },
      "source": [
        "a = pd.DataFrame([1,2,3,4])\n",
        "a"
      ],
      "execution_count": null,
      "outputs": [
        {
          "output_type": "execute_result",
          "data": {
            "text/html": [
              "<div>\n",
              "<style scoped>\n",
              "    .dataframe tbody tr th:only-of-type {\n",
              "        vertical-align: middle;\n",
              "    }\n",
              "\n",
              "    .dataframe tbody tr th {\n",
              "        vertical-align: top;\n",
              "    }\n",
              "\n",
              "    .dataframe thead th {\n",
              "        text-align: right;\n",
              "    }\n",
              "</style>\n",
              "<table border=\"1\" class=\"dataframe\">\n",
              "  <thead>\n",
              "    <tr style=\"text-align: right;\">\n",
              "      <th></th>\n",
              "      <th>0</th>\n",
              "    </tr>\n",
              "  </thead>\n",
              "  <tbody>\n",
              "    <tr>\n",
              "      <th>0</th>\n",
              "      <td>1</td>\n",
              "    </tr>\n",
              "    <tr>\n",
              "      <th>1</th>\n",
              "      <td>2</td>\n",
              "    </tr>\n",
              "    <tr>\n",
              "      <th>2</th>\n",
              "      <td>3</td>\n",
              "    </tr>\n",
              "    <tr>\n",
              "      <th>3</th>\n",
              "      <td>4</td>\n",
              "    </tr>\n",
              "  </tbody>\n",
              "</table>\n",
              "</div>"
            ],
            "text/plain": [
              "   0\n",
              "0  1\n",
              "1  2\n",
              "2  3\n",
              "3  4"
            ]
          },
          "metadata": {
            "tags": []
          },
          "execution_count": 11
        }
      ]
    },
    {
      "cell_type": "code",
      "metadata": {
        "id": "dvCF03Rc_8l9",
        "colab_type": "code",
        "colab": {}
      },
      "source": [
        "a.columns = ['hello']"
      ],
      "execution_count": null,
      "outputs": []
    },
    {
      "cell_type": "code",
      "metadata": {
        "id": "BgkLHkNl__gK",
        "colab_type": "code",
        "colab": {
          "base_uri": "https://localhost:8080/",
          "height": 168
        },
        "outputId": "f2d3e5b8-1558-423e-d0ca-fbd446446f80"
      },
      "source": [
        "a"
      ],
      "execution_count": null,
      "outputs": [
        {
          "output_type": "execute_result",
          "data": {
            "text/html": [
              "<div>\n",
              "<style scoped>\n",
              "    .dataframe tbody tr th:only-of-type {\n",
              "        vertical-align: middle;\n",
              "    }\n",
              "\n",
              "    .dataframe tbody tr th {\n",
              "        vertical-align: top;\n",
              "    }\n",
              "\n",
              "    .dataframe thead th {\n",
              "        text-align: right;\n",
              "    }\n",
              "</style>\n",
              "<table border=\"1\" class=\"dataframe\">\n",
              "  <thead>\n",
              "    <tr style=\"text-align: right;\">\n",
              "      <th></th>\n",
              "      <th>hello</th>\n",
              "    </tr>\n",
              "  </thead>\n",
              "  <tbody>\n",
              "    <tr>\n",
              "      <th>0</th>\n",
              "      <td>1</td>\n",
              "    </tr>\n",
              "    <tr>\n",
              "      <th>1</th>\n",
              "      <td>2</td>\n",
              "    </tr>\n",
              "    <tr>\n",
              "      <th>2</th>\n",
              "      <td>3</td>\n",
              "    </tr>\n",
              "    <tr>\n",
              "      <th>3</th>\n",
              "      <td>4</td>\n",
              "    </tr>\n",
              "  </tbody>\n",
              "</table>\n",
              "</div>"
            ],
            "text/plain": [
              "   hello\n",
              "0      1\n",
              "1      2\n",
              "2      3\n",
              "3      4"
            ]
          },
          "metadata": {
            "tags": []
          },
          "execution_count": 24
        }
      ]
    },
    {
      "cell_type": "code",
      "metadata": {
        "id": "E1l1xXHm49No",
        "colab_type": "code",
        "colab": {}
      },
      "source": [
        "# i am creating an instance of the object DataFrame and storing it in a."
      ],
      "execution_count": null,
      "outputs": []
    },
    {
      "cell_type": "code",
      "metadata": {
        "id": "ns_Pcw2e5JlP",
        "colab_type": "code",
        "colab": {}
      },
      "source": [
        "# but how can I create my own objects in Python????"
      ],
      "execution_count": null,
      "outputs": []
    },
    {
      "cell_type": "code",
      "metadata": {
        "id": "oAiCFt-z5L--",
        "colab_type": "code",
        "colab": {}
      },
      "source": [
        "# let's imagine that you are the head of HR and you are responsible for developing a project that manages employees data"
      ],
      "execution_count": null,
      "outputs": []
    },
    {
      "cell_type": "code",
      "metadata": {
        "id": "aYMJBDMM5XCl",
        "colab_type": "code",
        "colab": {}
      },
      "source": [
        "# you define your own class -> baptizing your own python object :D \n",
        "\n",
        "# a class is a type of toolbox. \n",
        "# when we are creating our classes, we are defining our own toolboxes\n",
        "\n",
        "# classes are the blueprints of toolboxes - Jorge Maeque the concrete panda\n"
      ],
      "execution_count": null,
      "outputs": []
    },
    {
      "cell_type": "code",
      "metadata": {
        "id": "Lsj4IWqM5c04",
        "colab_type": "code",
        "colab": {}
      },
      "source": [
        "# when you create the class, you are designing the toolbox\n",
        "class employee(): \n",
        "\n",
        "  # a class has attributes (variables that are defined inside the class)\n",
        "  name = \"Pedro\"\n",
        "  age = 27\n",
        "  id = 'b24524'\n",
        "  email = 'pedro.carneiro@bnpparibas.com'\n",
        "  phone = 932120832\n",
        "  role = \"Data Scientist\"\n",
        "\n",
        "  # a class can also do stuff -> method -> a function inside the class\n",
        "  def cool_method():\n",
        "    print(\"I am a cool method\")\n",
        "\n"
      ],
      "execution_count": null,
      "outputs": []
    },
    {
      "cell_type": "code",
      "metadata": {
        "id": "mY_5w8or7KS6",
        "colab_type": "code",
        "colab": {}
      },
      "source": [
        "# I created an instance of a class -> employee\n",
        "# you are creating an example of that toolbox\n",
        "emp1 = employee()"
      ],
      "execution_count": null,
      "outputs": []
    },
    {
      "cell_type": "code",
      "metadata": {
        "id": "vWDj1dB1-siD",
        "colab_type": "code",
        "colab": {
          "base_uri": "https://localhost:8080/",
          "height": 35
        },
        "outputId": "cf5503e7-633c-42c2-d209-ec5e38927b9a"
      },
      "source": [
        "# I created an instance of that class and saved it in emp1\n",
        "\n",
        "# looking at the attributes\n",
        "emp1.email"
      ],
      "execution_count": null,
      "outputs": [
        {
          "output_type": "execute_result",
          "data": {
            "application/vnd.google.colaboratory.intrinsic": {
              "type": "string"
            },
            "text/plain": [
              "'pedro.carneiro@bnpparibas.com'"
            ]
          },
          "metadata": {
            "tags": []
          },
          "execution_count": 17
        }
      ]
    },
    {
      "cell_type": "code",
      "metadata": {
        "id": "__AZCTuT-_bv",
        "colab_type": "code",
        "colab": {
          "base_uri": "https://localhost:8080/",
          "height": 35
        },
        "outputId": "5fdf20f6-e20b-4bfc-d123-533268a75375"
      },
      "source": [
        "# calling the method\n",
        "\n",
        "emp1.cool_method()"
      ],
      "execution_count": null,
      "outputs": [
        {
          "output_type": "stream",
          "text": [
            "I am a cool method\n"
          ],
          "name": "stdout"
        }
      ]
    },
    {
      "cell_type": "code",
      "metadata": {
        "id": "tWFSch0n_Osd",
        "colab_type": "code",
        "colab": {}
      },
      "source": [
        "# can I change the value of an attribute in a class?\n",
        "\n",
        "emp1.email = \"pedro.carneiro@ironhack.com\""
      ],
      "execution_count": null,
      "outputs": []
    },
    {
      "cell_type": "code",
      "metadata": {
        "id": "NyJfT2l0_V8S",
        "colab_type": "code",
        "colab": {
          "base_uri": "https://localhost:8080/",
          "height": 35
        },
        "outputId": "7cc619cd-5fc2-4e03-8865-cd716fb319c2"
      },
      "source": [
        "emp1.email"
      ],
      "execution_count": null,
      "outputs": [
        {
          "output_type": "execute_result",
          "data": {
            "application/vnd.google.colaboratory.intrinsic": {
              "type": "string"
            },
            "text/plain": [
              "'pedro.carneiro@bnpparibas.com'"
            ]
          },
          "metadata": {
            "tags": []
          },
          "execution_count": 22
        }
      ]
    },
    {
      "cell_type": "code",
      "metadata": {
        "id": "gIqyWiNN7uog",
        "colab_type": "code",
        "colab": {}
      },
      "source": [
        "# analogy to lists\n",
        "class list():\n",
        "\n",
        "  def append(element):\n",
        "    return list + element"
      ],
      "execution_count": null,
      "outputs": []
    },
    {
      "cell_type": "code",
      "metadata": {
        "id": "HshWOjtmAdLG",
        "colab_type": "code",
        "colab": {}
      },
      "source": [
        "# isn't there a way to when I create my class, immediately I define the values of the attributes\n",
        "\n",
        "# when you create the class, you are designing the toolbox\n",
        "class employee(): \n",
        "\n",
        "  # to accomplish this we need to create a constructor -> it allows you to define the values of attributes upon initialization\n",
        "\n",
        "  def __init__(self, name, age, id, email, phone, role):\n",
        "  # a class has attributes (variables that are defined inside the class)\n",
        "    self.name = name\n",
        "    self.age = age\n",
        "    self.id = id\n",
        "    self.email = email\n",
        "    self.phone = phone\n",
        "    self.role = role\n",
        "    # what the hell is self? -> a universal variable that refers to the object itself\n",
        "\n",
        "  # a class can also do stuff -> method -> a function inside the class\n",
        "  def cool_method():\n",
        "    print(\"I am a cool method\")\n"
      ],
      "execution_count": null,
      "outputs": []
    },
    {
      "cell_type": "code",
      "metadata": {
        "id": "v7E7sytuBQlw",
        "colab_type": "code",
        "colab": {}
      },
      "source": [
        "emp2 = employee(name = 'jorge', age = 27, id = 0, email = \"jorge.marques@pedroscoolcompany.com\",phone = 931234567, role = \"lead data engineers\")\n",
        "\n",
        "emp3 = employee(name = 'Felipython', age = 27, id = 1, email = \"felipe.python@pedroscoolcompany.com\",phone = 931232567, role = \"amazing singer\")"
      ],
      "execution_count": null,
      "outputs": []
    },
    {
      "cell_type": "code",
      "metadata": {
        "id": "vfLQwrPTBkeG",
        "colab_type": "code",
        "colab": {
          "base_uri": "https://localhost:8080/",
          "height": 35
        },
        "outputId": "f3985cde-220e-412e-dce3-2174d659d25a"
      },
      "source": [
        "emp2.name"
      ],
      "execution_count": null,
      "outputs": [
        {
          "output_type": "execute_result",
          "data": {
            "application/vnd.google.colaboratory.intrinsic": {
              "type": "string"
            },
            "text/plain": [
              "'jorge'"
            ]
          },
          "metadata": {
            "tags": []
          },
          "execution_count": 31
        }
      ]
    },
    {
      "cell_type": "code",
      "metadata": {
        "id": "lEUfjK8HBrf9",
        "colab_type": "code",
        "colab": {}
      },
      "source": [
        "# out of the scope of this course\n",
        "# class inheritance -> calling a class inside another class"
      ],
      "execution_count": null,
      "outputs": []
    },
    {
      "cell_type": "code",
      "metadata": {
        "id": "jGuxF9cdDBPo",
        "colab_type": "code",
        "colab": {}
      },
      "source": [
        "# show you some code from a fund\n",
        "import requests\n",
        "class Alpha_client():\n",
        "\n",
        "  def __init__(self):\n",
        "     self.api_url = \"https://www.alphavantage.co/query\"\n",
        "     self.api_key = 'LD1TS7G1MUG3SD5Q'\n",
        "\n",
        "#this method creates the request dictionary\n",
        "  def create_request(self, function, symbol):\n",
        "    input_dict = {\n",
        "        'function' : function,\n",
        "        'symbol' : symbol,\n",
        "        'apikey' : 'LD1TS7G1MUG3SD5Q'\n",
        "    }\n",
        "    return input_dict\n",
        "\n",
        "# this method sends the request and receives the response\n",
        "  def send_request(self, input_dict):\n",
        "    response = requests.get(self.api_url,input_dict)\n",
        "    return response\n",
        "\n",
        "# this method converts output into a dataframe\n",
        "\n",
        "  def response_to_dataframe(self, response):\n",
        "    data = pd.DataFrame(response.json()['Time Series (Daily)']).T\n",
        "    return data"
      ],
      "execution_count": null,
      "outputs": []
    },
    {
      "cell_type": "code",
      "metadata": {
        "id": "IMS53aT9D2dz",
        "colab_type": "code",
        "colab": {}
      },
      "source": [
        "# initialize a class\n",
        "alpha = Alpha_client()\n",
        "# define what I want to send in my request\n",
        "data_dict = alpha.create_request('TIME_SERIES_DAILY',\"ACN\")\n",
        "# send it, and receive the answer\n",
        "reply = alpha.send_request(data_dict)\n",
        "# manipulate the answer to a datafram\n",
        "data = alpha.response_to_dataframe(reply)\n"
      ],
      "execution_count": null,
      "outputs": []
    },
    {
      "cell_type": "code",
      "metadata": {
        "id": "BaEJRbZpFDOX",
        "colab_type": "code",
        "colab": {
          "base_uri": "https://localhost:8080/",
          "height": 72
        },
        "outputId": "d3eb364d-a161-4c61-c0ce-bdea9d381439"
      },
      "source": [
        "data_dict"
      ],
      "execution_count": null,
      "outputs": [
        {
          "output_type": "execute_result",
          "data": {
            "text/plain": [
              "{'apikey': 'LD1TS7G1MUG3SD5Q',\n",
              " 'function': 'TIME_SERIES_DAILY',\n",
              " 'symbol': 'ACN'}"
            ]
          },
          "metadata": {
            "tags": []
          },
          "execution_count": 37
        }
      ]
    },
    {
      "cell_type": "code",
      "metadata": {
        "id": "LDz5hJUcFRbq",
        "colab_type": "code",
        "colab": {
          "base_uri": "https://localhost:8080/",
          "height": 55
        },
        "outputId": "5856e2a0-2a69-4ba2-bb87-c49df4eb1a47"
      },
      "source": [
        "reply.content"
      ],
      "execution_count": null,
      "outputs": [
        {
          "output_type": "execute_result",
          "data": {
            "text/plain": [
              "b'{\\n    \"Meta Data\": {\\n        \"1. Information\": \"Daily Prices (open, high, low, close) and Volumes\",\\n        \"2. Symbol\": \"ACN\",\\n        \"3. Last Refreshed\": \"2020-07-02\",\\n        \"4. Output Size\": \"Compact\",\\n        \"5. Time Zone\": \"US/Eastern\"\\n    },\\n    \"Time Series (Daily)\": {\\n        \"2020-07-02\": {\\n            \"1. open\": \"216.5700\",\\n            \"2. high\": \"218.4500\",\\n            \"3. low\": \"214.9000\",\\n            \"4. close\": \"215.7200\",\\n            \"5. volume\": \"2003413\"\\n        },\\n        \"2020-07-01\": {\\n            \"1. open\": \"214.5000\",\\n            \"2. high\": \"216.9000\",\\n            \"3. low\": \"213.8800\",\\n            \"4. close\": \"214.5900\",\\n            \"5. volume\": \"2125991\"\\n        },\\n        \"2020-06-30\": {\\n            \"1. open\": \"212.3700\",\\n            \"2. high\": \"215.6400\",\\n            \"3. low\": \"212.1300\",\\n            \"4. close\": \"214.7200\",\\n            \"5. volume\": \"3136355\"\\n        },\\n        \"2020-06-29\": {\\n            \"1. open\": \"210.1500\",\\n            \"2. high\": \"213.3900\",\\n            \"3. low\": \"210.1500\",\\n            \"4. close\": \"212.7200\",\\n            \"5. volume\": \"2247881\"\\n        },\\n        \"2020-06-26\": {\\n            \"1. open\": \"216.7800\",\\n            \"2. high\": \"216.9300\",\\n            \"3. low\": \"211.0700\",\\n            \"4. close\": \"212.4700\",\\n            \"5. volume\": \"3348420\"\\n        },\\n        \"2020-06-25\": {\\n            \"1. open\": \"213.0000\",\\n            \"2. high\": \"217.8900\",\\n            \"3. low\": \"211.5000\",\\n            \"4. close\": \"217.3200\",\\n            \"5. volume\": \"4689669\"\\n        },\\n        \"2020-06-24\": {\\n            \"1. open\": \"205.5100\",\\n            \"2. high\": \"207.4000\",\\n            \"3. low\": \"200.5000\",\\n            \"4. close\": \"201.8400\",\\n            \"5. volume\": \"2752563\"\\n        },\\n        \"2020-06-23\": {\\n            \"1. open\": \"205.3700\",\\n            \"2. high\": \"209.6800\",\\n            \"3. low\": \"205.3700\",\\n            \"4. close\": \"207.4000\",\\n            \"5. volume\": \"2203796\"\\n        },\\n        \"2020-06-22\": {\\n            \"1. open\": \"200.8000\",\\n            \"2. high\": \"204.0799\",\\n            \"3. low\": \"199.4700\",\\n            \"4. close\": \"202.6000\",\\n            \"5. volume\": \"2453578\"\\n        },\\n        \"2020-06-19\": {\\n            \"1. open\": \"207.5400\",\\n            \"2. high\": \"208.2850\",\\n            \"3. low\": \"201.5200\",\\n            \"4. close\": \"201.5500\",\\n            \"5. volume\": \"3710043\"\\n        },\\n        \"2020-06-18\": {\\n            \"1. open\": \"201.7300\",\\n            \"2. high\": \"203.1700\",\\n            \"3. low\": \"199.2900\",\\n            \"4. close\": \"202.9300\",\\n            \"5. volume\": \"2227265\"\\n        },\\n        \"2020-06-17\": {\\n            \"1. open\": \"206.0300\",\\n            \"2. high\": \"206.3300\",\\n            \"3. low\": \"203.6500\",\\n            \"4. close\": \"205.2000\",\\n            \"5. volume\": \"1594775\"\\n        },\\n        \"2020-06-16\": {\\n            \"1. open\": \"203.3600\",\\n            \"2. high\": \"206.8800\",\\n            \"3. low\": \"202.1200\",\\n            \"4. close\": \"204.4000\",\\n            \"5. volume\": \"2153965\"\\n        },\\n        \"2020-06-15\": {\\n            \"1. open\": \"196.4900\",\\n            \"2. high\": \"200.7400\",\\n            \"3. low\": \"194.8300\",\\n            \"4. close\": \"199.7900\",\\n            \"5. volume\": \"2310793\"\\n        },\\n        \"2020-06-12\": {\\n            \"1. open\": \"201.1000\",\\n            \"2. high\": \"202.4300\",\\n            \"3. low\": \"197.3100\",\\n            \"4. close\": \"201.5900\",\\n            \"5. volume\": \"2590091\"\\n        },\\n        \"2020-06-11\": {\\n            \"1. open\": \"205.5200\",\\n            \"2. high\": \"205.9500\",\\n            \"3. low\": \"195.8800\",\\n            \"4. close\": \"195.9500\",\\n            \"5. volume\": \"4046634\"\\n        },\\n        \"2020-06-10\": {\\n            \"1. open\": \"207.2600\",\\n            \"2. high\": \"210.8300\",\\n            \"3. low\": \"205.9000\",\\n            \"4. close\": \"209.4300\",\\n            \"5. volume\": \"2076570\"\\n        },\\n        \"2020-06-09\": {\\n            \"1. open\": \"209.3900\",\\n            \"2. high\": \"209.7900\",\\n            \"3. low\": \"205.5001\",\\n            \"4. close\": \"207.3400\",\\n            \"5. volume\": \"2269473\"\\n        },\\n        \"2020-06-08\": {\\n            \"1. open\": \"207.5100\",\\n            \"2. high\": \"211.3200\",\\n            \"3. low\": \"207.0000\",\\n            \"4. close\": \"211.2800\",\\n            \"5. volume\": \"1626898\"\\n        },\\n        \"2020-06-05\": {\\n            \"1. open\": \"205.9900\",\\n            \"2. high\": \"209.7200\",\\n            \"3. low\": \"204.7900\",\\n            \"4. close\": \"208.4900\",\\n            \"5. volume\": \"2537902\"\\n        },\\n        \"2020-06-04\": {\\n            \"1. open\": \"206.0900\",\\n            \"2. high\": \"207.7900\",\\n            \"3. low\": \"202.3300\",\\n            \"4. close\": \"203.1000\",\\n            \"5. volume\": \"2451436\"\\n        },\\n        \"2020-06-03\": {\\n            \"1. open\": \"204.4200\",\\n            \"2. high\": \"207.8300\",\\n            \"3. low\": \"204.3100\",\\n            \"4. close\": \"207.2800\",\\n            \"5. volume\": \"1605416\"\\n        },\\n        \"2020-06-02\": {\\n            \"1. open\": \"204.0900\",\\n            \"2. high\": \"205.7900\",\\n            \"3. low\": \"202.3400\",\\n            \"4. close\": \"205.7800\",\\n            \"5. volume\": \"1939145\"\\n        },\\n        \"2020-06-01\": {\\n            \"1. open\": \"201.5400\",\\n            \"2. high\": \"203.7500\",\\n            \"3. low\": \"199.8700\",\\n            \"4. close\": \"203.3800\",\\n            \"5. volume\": \"1530749\"\\n        },\\n        \"2020-05-29\": {\\n            \"1. open\": \"201.4900\",\\n            \"2. high\": \"202.4100\",\\n            \"3. low\": \"198.6900\",\\n            \"4. close\": \"201.6200\",\\n            \"5. volume\": \"2535390\"\\n        },\\n        \"2020-05-28\": {\\n            \"1. open\": \"200.0100\",\\n            \"2. high\": \"204.1800\",\\n            \"3. low\": \"200.0100\",\\n            \"4. close\": \"201.6700\",\\n            \"5. volume\": \"2280638\"\\n        },\\n        \"2020-05-27\": {\\n            \"1. open\": \"198.3800\",\\n            \"2. high\": \"199.9500\",\\n            \"3. low\": \"196.2100\",\\n            \"4. close\": \"199.9300\",\\n            \"5. volume\": \"2000474\"\\n        },\\n        \"2020-05-26\": {\\n            \"1. open\": \"199.4200\",\\n            \"2. high\": \"199.9900\",\\n            \"3. low\": \"196.0300\",\\n            \"4. close\": \"196.4000\",\\n            \"5. volume\": \"2408717\"\\n        },\\n        \"2020-05-22\": {\\n            \"1. open\": \"194.0800\",\\n            \"2. high\": \"194.8900\",\\n            \"3. low\": \"191.1300\",\\n            \"4. close\": \"193.7100\",\\n            \"5. volume\": \"1317507\"\\n        },\\n        \"2020-05-21\": {\\n            \"1. open\": \"194.7000\",\\n            \"2. high\": \"195.5200\",\\n            \"3. low\": \"192.7000\",\\n            \"4. close\": \"193.5000\",\\n            \"5. volume\": \"1372961\"\\n        },\\n        \"2020-05-20\": {\\n            \"1. open\": \"192.5000\",\\n            \"2. high\": \"195.6700\",\\n            \"3. low\": \"192.2300\",\\n            \"4. close\": \"195.1800\",\\n            \"5. volume\": \"2294760\"\\n        },\\n        \"2020-05-19\": {\\n            \"1. open\": \"192.5000\",\\n            \"2. high\": \"194.5100\",\\n            \"3. low\": \"189.9200\",\\n            \"4. close\": \"190.0900\",\\n            \"5. volume\": \"1784090\"\\n        },\\n        \"2020-05-18\": {\\n            \"1. open\": \"189.0000\",\\n            \"2. high\": \"194.1400\",\\n            \"3. low\": \"188.1100\",\\n            \"4. close\": \"192.7500\",\\n            \"5. volume\": \"2254666\"\\n        },\\n        \"2020-05-15\": {\\n            \"1. open\": \"178.3700\",\\n            \"2. high\": \"183.9600\",\\n            \"3. low\": \"177.8300\",\\n            \"4. close\": \"183.8800\",\\n            \"5. volume\": \"3630025\"\\n        },\\n        \"2020-05-14\": {\\n            \"1. open\": \"178.7000\",\\n            \"2. high\": \"180.0100\",\\n            \"3. low\": \"174.9400\",\\n            \"4. close\": \"179.9900\",\\n            \"5. volume\": \"2773299\"\\n        },\\n        \"2020-05-13\": {\\n            \"1. open\": \"185.0400\",\\n            \"2. high\": \"185.1400\",\\n            \"3. low\": \"178.7500\",\\n            \"4. close\": \"181.0000\",\\n            \"5. volume\": \"2349306\"\\n        },\\n        \"2020-05-12\": {\\n            \"1. open\": \"187.8400\",\\n            \"2. high\": \"189.9900\",\\n            \"3. low\": \"185.6850\",\\n            \"4. close\": \"185.7200\",\\n            \"5. volume\": \"1912253\"\\n        },\\n        \"2020-05-11\": {\\n            \"1. open\": \"186.4900\",\\n            \"2. high\": \"189.5300\",\\n            \"3. low\": \"185.2900\",\\n            \"4. close\": \"187.7500\",\\n            \"5. volume\": \"2013769\"\\n        },\\n        \"2020-05-08\": {\\n            \"1. open\": \"188.9900\",\\n            \"2. high\": \"189.8500\",\\n            \"3. low\": \"187.6800\",\\n            \"4. close\": \"188.5600\",\\n            \"5. volume\": \"1778596\"\\n        },\\n        \"2020-05-07\": {\\n            \"1. open\": \"182.9900\",\\n            \"2. high\": \"187.4300\",\\n            \"3. low\": \"182.5000\",\\n            \"4. close\": \"187.1100\",\\n            \"5. volume\": \"2295363\"\\n        },\\n        \"2020-05-06\": {\\n            \"1. open\": \"182.1000\",\\n            \"2. high\": \"182.5000\",\\n            \"3. low\": \"179.0500\",\\n            \"4. close\": \"180.3800\",\\n            \"5. volume\": \"1474938\"\\n        },\\n        \"2020-05-05\": {\\n            \"1. open\": \"182.0800\",\\n            \"2. high\": \"183.8900\",\\n            \"3. low\": \"181.0000\",\\n            \"4. close\": \"181.6200\",\\n            \"5. volume\": \"1621909\"\\n        },\\n        \"2020-05-04\": {\\n            \"1. open\": \"177.9800\",\\n            \"2. high\": \"180.6365\",\\n            \"3. low\": \"176.8800\",\\n            \"4. close\": \"179.5300\",\\n            \"5. volume\": \"1710855\"\\n        },\\n        \"2020-05-01\": {\\n            \"1. open\": \"181.7100\",\\n            \"2. high\": \"182.9900\",\\n            \"3. low\": \"179.2599\",\\n            \"4. close\": \"180.0900\",\\n            \"5. volume\": \"2064179\"\\n        },\\n        \"2020-04-30\": {\\n            \"1. open\": \"185.5300\",\\n            \"2. high\": \"186.4800\",\\n            \"3. low\": \"184.1900\",\\n            \"4. close\": \"185.1900\",\\n            \"5. volume\": \"2740796\"\\n        },\\n        \"2020-04-29\": {\\n            \"1. open\": \"182.3100\",\\n            \"2. high\": \"188.1700\",\\n            \"3. low\": \"181.7000\",\\n            \"4. close\": \"187.5600\",\\n            \"5. volume\": \"2957573\"\\n        },\\n        \"2020-04-28\": {\\n            \"1. open\": \"182.0800\",\\n            \"2. high\": \"183.2600\",\\n            \"3. low\": \"176.9100\",\\n            \"4. close\": \"178.3600\",\\n            \"5. volume\": \"2160130\"\\n        },\\n        \"2020-04-27\": {\\n            \"1. open\": \"176.2300\",\\n            \"2. high\": \"180.5350\",\\n            \"3. low\": \"176.2000\",\\n            \"4. close\": \"179.4300\",\\n            \"5. volume\": \"2457808\"\\n        },\\n        \"2020-04-24\": {\\n            \"1. open\": \"176.4000\",\\n            \"2. high\": \"176.4000\",\\n            \"3. low\": \"172.5700\",\\n            \"4. close\": \"175.4600\",\\n            \"5. volume\": \"2121074\"\\n        },\\n        \"2020-04-23\": {\\n            \"1. open\": \"173.3600\",\\n            \"2. high\": \"175.3200\",\\n            \"3. low\": \"172.1400\",\\n            \"4. close\": \"172.9000\",\\n            \"5. volume\": \"3027900\"\\n        },\\n        \"2020-04-22\": {\\n            \"1. open\": \"170.0400\",\\n            \"2. high\": \"173.3400\",\\n            \"3. low\": \"169.2100\",\\n            \"4. close\": \"172.3100\",\\n            \"5. volume\": \"1921217\"\\n        },\\n        \"2020-04-21\": {\\n            \"1. open\": \"170.8200\",\\n            \"2. high\": \"172.8000\",\\n            \"3. low\": \"165.7100\",\\n            \"4. close\": \"166.2400\",\\n            \"5. volume\": \"2711361\"\\n        },\\n        \"2020-04-20\": {\\n            \"1. open\": \"172.5900\",\\n            \"2. high\": \"176.9000\",\\n            \"3. low\": \"171.7600\",\\n            \"4. close\": \"174.7400\",\\n            \"5. volume\": \"2511654\"\\n        },\\n        \"2020-04-17\": {\\n            \"1. open\": \"172.5200\",\\n            \"2. high\": \"175.1600\",\\n            \"3. low\": \"172.0500\",\\n            \"4. close\": \"175.0900\",\\n            \"5. volume\": \"4759062\"\\n        },\\n        \"2020-04-16\": {\\n            \"1. open\": \"171.2600\",\\n            \"2. high\": \"172.0500\",\\n            \"3. low\": \"167.5200\",\\n            \"4. close\": \"167.9500\",\\n            \"5. volume\": \"3051135\"\\n        },\\n        \"2020-04-15\": {\\n            \"1. open\": \"174.3000\",\\n            \"2. high\": \"174.3100\",\\n            \"3. low\": \"168.8900\",\\n            \"4. close\": \"169.4500\",\\n            \"5. volume\": \"2504567\"\\n        },\\n        \"2020-04-14\": {\\n            \"1. open\": \"177.0000\",\\n            \"2. high\": \"178.8900\",\\n            \"3. low\": \"176.0200\",\\n            \"4. close\": \"178.1000\",\\n            \"5. volume\": \"2874967\"\\n        },\\n        \"2020-04-13\": {\\n            \"1. open\": \"176.1800\",\\n            \"2. high\": \"177.0100\",\\n            \"3. low\": \"169.5600\",\\n            \"4. close\": \"172.5700\",\\n            \"5. volume\": \"1918370\"\\n        },\\n        \"2020-04-09\": {\\n            \"1. open\": \"173.2300\",\\n            \"2. high\": \"179.8700\",\\n            \"3. low\": \"172.5100\",\\n            \"4. close\": \"177.9200\",\\n            \"5. volume\": \"3743653\"\\n        },\\n        \"2020-04-08\": {\\n            \"1. open\": \"166.5800\",\\n            \"2. high\": \"172.6900\",\\n            \"3. low\": \"165.0700\",\\n            \"4. close\": \"171.7300\",\\n            \"5. volume\": \"2466219\"\\n        },\\n        \"2020-04-07\": {\\n            \"1. open\": \"171.0800\",\\n            \"2. high\": \"171.4900\",\\n            \"3. low\": \"163.9300\",\\n            \"4. close\": \"164.1200\",\\n            \"5. volume\": \"3002465\"\\n        },\\n        \"2020-04-06\": {\\n            \"1. open\": \"158.9800\",\\n            \"2. high\": \"166.7500\",\\n            \"3. low\": \"157.0400\",\\n            \"4. close\": \"166.0500\",\\n            \"5. volume\": \"3089966\"\\n        },\\n        \"2020-04-03\": {\\n            \"1. open\": \"155.6000\",\\n            \"2. high\": \"158.7200\",\\n            \"3. low\": \"148.2800\",\\n            \"4. close\": \"152.1500\",\\n            \"5. volume\": \"3766617\"\\n        },\\n        \"2020-04-02\": {\\n            \"1. open\": \"154.0500\",\\n            \"2. high\": \"160.5000\",\\n            \"3. low\": \"153.5500\",\\n            \"4. close\": \"156.2700\",\\n            \"5. volume\": \"3030044\"\\n        },\\n        \"2020-04-01\": {\\n            \"1. open\": \"158.5700\",\\n            \"2. high\": \"160.8177\",\\n            \"3. low\": \"152.5800\",\\n            \"4. close\": \"154.6800\",\\n            \"5. volume\": \"2973074\"\\n        },\\n        \"2020-03-31\": {\\n            \"1. open\": \"167.4300\",\\n            \"2. high\": \"169.8800\",\\n            \"3. low\": \"162.1600\",\\n            \"4. close\": \"163.2600\",\\n            \"5. volume\": \"2956536\"\\n        },\\n        \"2020-03-30\": {\\n            \"1. open\": \"164.1200\",\\n            \"2. high\": \"170.3700\",\\n            \"3. low\": \"163.7800\",\\n            \"4. close\": \"169.8200\",\\n            \"5. volume\": \"2731326\"\\n        },\\n        \"2020-03-27\": {\\n            \"1. open\": \"165.0000\",\\n            \"2. high\": \"169.2900\",\\n            \"3. low\": \"160.6100\",\\n            \"4. close\": \"162.8800\",\\n            \"5. volume\": \"3802436\"\\n        },\\n        \"2020-03-26\": {\\n            \"1. open\": \"153.4000\",\\n            \"2. high\": \"171.6000\",\\n            \"3. low\": \"150.0000\",\\n            \"4. close\": \"171.3400\",\\n            \"5. volume\": \"5194360\"\\n        },\\n        \"2020-03-25\": {\\n            \"1. open\": \"156.4400\",\\n            \"2. high\": \"159.6900\",\\n            \"3. low\": \"148.1100\",\\n            \"4. close\": \"151.8200\",\\n            \"5. volume\": \"4795480\"\\n        },\\n        \"2020-03-24\": {\\n            \"1. open\": \"152.2600\",\\n            \"2. high\": \"157.6262\",\\n            \"3. low\": \"149.4900\",\\n            \"4. close\": \"156.8500\",\\n            \"5. volume\": \"4684046\"\\n        },\\n        \"2020-03-23\": {\\n            \"1. open\": \"148.0100\",\\n            \"2. high\": \"148.0100\",\\n            \"3. low\": \"137.1520\",\\n            \"4. close\": \"143.6900\",\\n            \"5. volume\": \"6173727\"\\n        },\\n        \"2020-03-20\": {\\n            \"1. open\": \"157.5300\",\\n            \"2. high\": \"159.4700\",\\n            \"3. low\": \"147.4200\",\\n            \"4. close\": \"149.9400\",\\n            \"5. volume\": \"6449664\"\\n        },\\n        \"2020-03-19\": {\\n            \"1. open\": \"151.3600\",\\n            \"2. high\": \"177.8000\",\\n            \"3. low\": \"151.3600\",\\n            \"4. close\": \"158.5000\",\\n            \"5. volume\": \"6338232\"\\n        },\\n        \"2020-03-18\": {\\n            \"1. open\": \"151.5700\",\\n            \"2. high\": \"159.8000\",\\n            \"3. low\": \"142.0000\",\\n            \"4. close\": \"151.1500\",\\n            \"5. volume\": \"5858322\"\\n        },\\n        \"2020-03-17\": {\\n            \"1. open\": \"154.0000\",\\n            \"2. high\": \"160.6600\",\\n            \"3. low\": \"152.4800\",\\n            \"4. close\": \"157.7100\",\\n            \"5. volume\": \"6081140\"\\n        },\\n        \"2020-03-16\": {\\n            \"1. open\": \"148.2900\",\\n            \"2. high\": \"166.5100\",\\n            \"3. low\": \"143.5100\",\\n            \"4. close\": \"152.5400\",\\n            \"5. volume\": \"5324860\"\\n        },\\n        \"2020-03-13\": {\\n            \"1. open\": \"160.6200\",\\n            \"2. high\": \"166.7100\",\\n            \"3. low\": \"152.9300\",\\n            \"4. close\": \"166.5100\",\\n            \"5. volume\": \"5741835\"\\n        },\\n        \"2020-03-12\": {\\n            \"1. open\": \"153.0000\",\\n            \"2. high\": \"158.7500\",\\n            \"3. low\": \"147.0800\",\\n            \"4. close\": \"152.5300\",\\n            \"5. volume\": \"6357919\"\\n        },\\n        \"2020-03-11\": {\\n            \"1. open\": \"169.3200\",\\n            \"2. high\": \"171.1650\",\\n            \"3. low\": \"162.6500\",\\n            \"4. close\": \"165.1100\",\\n            \"5. volume\": \"5076118\"\\n        },\\n        \"2020-03-10\": {\\n            \"1. open\": \"171.0800\",\\n            \"2. high\": \"174.7400\",\\n            \"3. low\": \"166.0400\",\\n            \"4. close\": \"174.5600\",\\n            \"5. volume\": \"4349451\"\\n        },\\n        \"2020-03-09\": {\\n            \"1. open\": \"165.4000\",\\n            \"2. high\": \"170.8800\",\\n            \"3. low\": \"160.1000\",\\n            \"4. close\": \"164.1100\",\\n            \"5. volume\": \"5112245\"\\n        },\\n        \"2020-03-06\": {\\n            \"1. open\": \"177.4500\",\\n            \"2. high\": \"180.3100\",\\n            \"3. low\": \"173.9200\",\\n            \"4. close\": \"178.7500\",\\n            \"5. volume\": \"3284386\"\\n        },\\n        \"2020-03-05\": {\\n            \"1. open\": \"185.0900\",\\n            \"2. high\": \"187.4600\",\\n            \"3. low\": \"180.9200\",\\n            \"4. close\": \"182.5600\",\\n            \"5. volume\": \"3548239\"\\n        },\\n        \"2020-03-04\": {\\n            \"1. open\": \"185.8000\",\\n            \"2. high\": \"189.7100\",\\n            \"3. low\": \"184.3000\",\\n            \"4. close\": \"188.8600\",\\n            \"5. volume\": \"3875395\"\\n        },\\n        \"2020-03-03\": {\\n            \"1. open\": \"189.7700\",\\n            \"2. high\": \"191.9000\",\\n            \"3. low\": \"180.6200\",\\n            \"4. close\": \"182.2200\",\\n            \"5. volume\": \"3514000\"\\n        },\\n        \"2020-03-02\": {\\n            \"1. open\": \"182.0000\",\\n            \"2. high\": \"189.8200\",\\n            \"3. low\": \"178.0200\",\\n            \"4. close\": \"189.5500\",\\n            \"5. volume\": \"4317868\"\\n        },\\n        \"2020-02-28\": {\\n            \"1. open\": \"180.2600\",\\n            \"2. high\": \"183.2000\",\\n            \"3. low\": \"175.3000\",\\n            \"4. close\": \"180.5900\",\\n            \"5. volume\": \"5785204\"\\n        },\\n        \"2020-02-27\": {\\n            \"1. open\": \"192.2000\",\\n            \"2. high\": \"194.3500\",\\n            \"3. low\": \"186.3700\",\\n            \"4. close\": \"186.4400\",\\n            \"5. volume\": \"3040123\"\\n        },\\n        \"2020-02-26\": {\\n            \"1. open\": \"198.6700\",\\n            \"2. high\": \"201.4450\",\\n            \"3. low\": \"194.7926\",\\n            \"4. close\": \"195.6700\",\\n            \"5. volume\": \"2671068\"\\n        },\\n        \"2020-02-25\": {\\n            \"1. open\": \"204.7800\",\\n            \"2. high\": \"205.4800\",\\n            \"3. low\": \"195.8600\",\\n            \"4. close\": \"197.1000\",\\n            \"5. volume\": \"2882885\"\\n        },\\n        \"2020-02-24\": {\\n            \"1. open\": \"204.4700\",\\n            \"2. high\": \"207.8690\",\\n            \"3. low\": \"203.4500\",\\n            \"4. close\": \"204.3600\",\\n            \"5. volume\": \"2600382\"\\n        },\\n        \"2020-02-21\": {\\n            \"1. open\": \"212.5900\",\\n            \"2. high\": \"213.5500\",\\n            \"3. low\": \"210.4900\",\\n            \"4. close\": \"211.8900\",\\n            \"5. volume\": \"2088805\"\\n        },\\n        \"2020-02-20\": {\\n            \"1. open\": \"215.8800\",\\n            \"2. high\": \"216.3200\",\\n            \"3. low\": \"211.6100\",\\n            \"4. close\": \"213.9000\",\\n            \"5. volume\": \"1481699\"\\n        },\\n        \"2020-02-19\": {\\n            \"1. open\": \"215.0000\",\\n            \"2. high\": \"216.3900\",\\n            \"3. low\": \"214.3757\",\\n            \"4. close\": \"215.9200\",\\n            \"5. volume\": \"1806042\"\\n        },\\n        \"2020-02-18\": {\\n            \"1. open\": \"212.5000\",\\n            \"2. high\": \"214.0600\",\\n            \"3. low\": \"211.2000\",\\n            \"4. close\": \"213.7600\",\\n            \"5. volume\": \"1699427\"\\n        },\\n        \"2020-02-14\": {\\n            \"1. open\": \"213.2500\",\\n            \"2. high\": \"213.5350\",\\n            \"3. low\": \"211.3500\",\\n            \"4. close\": \"212.3700\",\\n            \"5. volume\": \"2096562\"\\n        },\\n        \"2020-02-13\": {\\n            \"1. open\": \"209.8700\",\\n            \"2. high\": \"213.5400\",\\n            \"3. low\": \"209.3363\",\\n            \"4. close\": \"212.4000\",\\n            \"5. volume\": \"1721214\"\\n        },\\n        \"2020-02-12\": {\\n            \"1. open\": \"212.2000\",\\n            \"2. high\": \"212.8700\",\\n            \"3. low\": \"211.5400\",\\n            \"4. close\": \"211.9900\",\\n            \"5. volume\": \"1801311\"\\n        },\\n        \"2020-02-11\": {\\n            \"1. open\": \"213.3800\",\\n            \"2. high\": \"213.9800\",\\n            \"3. low\": \"211.7600\",\\n            \"4. close\": \"212.1400\",\\n            \"5. volume\": \"1321019\"\\n        }\\n    }\\n}'"
            ]
          },
          "metadata": {
            "tags": []
          },
          "execution_count": 42
        }
      ]
    },
    {
      "cell_type": "code",
      "metadata": {
        "id": "0rVc6SURFd1_",
        "colab_type": "code",
        "colab": {
          "base_uri": "https://localhost:8080/",
          "height": 407
        },
        "outputId": "120c2d9f-fff0-4e35-dd16-0fcebff35e10"
      },
      "source": [
        "data"
      ],
      "execution_count": null,
      "outputs": [
        {
          "output_type": "execute_result",
          "data": {
            "text/html": [
              "<div>\n",
              "<style scoped>\n",
              "    .dataframe tbody tr th:only-of-type {\n",
              "        vertical-align: middle;\n",
              "    }\n",
              "\n",
              "    .dataframe tbody tr th {\n",
              "        vertical-align: top;\n",
              "    }\n",
              "\n",
              "    .dataframe thead th {\n",
              "        text-align: right;\n",
              "    }\n",
              "</style>\n",
              "<table border=\"1\" class=\"dataframe\">\n",
              "  <thead>\n",
              "    <tr style=\"text-align: right;\">\n",
              "      <th></th>\n",
              "      <th>1. open</th>\n",
              "      <th>2. high</th>\n",
              "      <th>3. low</th>\n",
              "      <th>4. close</th>\n",
              "      <th>5. volume</th>\n",
              "    </tr>\n",
              "  </thead>\n",
              "  <tbody>\n",
              "    <tr>\n",
              "      <th>2020-07-02</th>\n",
              "      <td>216.5700</td>\n",
              "      <td>218.4500</td>\n",
              "      <td>214.9000</td>\n",
              "      <td>215.7200</td>\n",
              "      <td>2003413</td>\n",
              "    </tr>\n",
              "    <tr>\n",
              "      <th>2020-07-01</th>\n",
              "      <td>214.5000</td>\n",
              "      <td>216.9000</td>\n",
              "      <td>213.8800</td>\n",
              "      <td>214.5900</td>\n",
              "      <td>2125991</td>\n",
              "    </tr>\n",
              "    <tr>\n",
              "      <th>2020-06-30</th>\n",
              "      <td>212.3700</td>\n",
              "      <td>215.6400</td>\n",
              "      <td>212.1300</td>\n",
              "      <td>214.7200</td>\n",
              "      <td>3136355</td>\n",
              "    </tr>\n",
              "    <tr>\n",
              "      <th>2020-06-29</th>\n",
              "      <td>210.1500</td>\n",
              "      <td>213.3900</td>\n",
              "      <td>210.1500</td>\n",
              "      <td>212.7200</td>\n",
              "      <td>2247881</td>\n",
              "    </tr>\n",
              "    <tr>\n",
              "      <th>2020-06-26</th>\n",
              "      <td>216.7800</td>\n",
              "      <td>216.9300</td>\n",
              "      <td>211.0700</td>\n",
              "      <td>212.4700</td>\n",
              "      <td>3348420</td>\n",
              "    </tr>\n",
              "    <tr>\n",
              "      <th>...</th>\n",
              "      <td>...</td>\n",
              "      <td>...</td>\n",
              "      <td>...</td>\n",
              "      <td>...</td>\n",
              "      <td>...</td>\n",
              "    </tr>\n",
              "    <tr>\n",
              "      <th>2020-02-18</th>\n",
              "      <td>212.5000</td>\n",
              "      <td>214.0600</td>\n",
              "      <td>211.2000</td>\n",
              "      <td>213.7600</td>\n",
              "      <td>1699427</td>\n",
              "    </tr>\n",
              "    <tr>\n",
              "      <th>2020-02-14</th>\n",
              "      <td>213.2500</td>\n",
              "      <td>213.5350</td>\n",
              "      <td>211.3500</td>\n",
              "      <td>212.3700</td>\n",
              "      <td>2096562</td>\n",
              "    </tr>\n",
              "    <tr>\n",
              "      <th>2020-02-13</th>\n",
              "      <td>209.8700</td>\n",
              "      <td>213.5400</td>\n",
              "      <td>209.3363</td>\n",
              "      <td>212.4000</td>\n",
              "      <td>1721214</td>\n",
              "    </tr>\n",
              "    <tr>\n",
              "      <th>2020-02-12</th>\n",
              "      <td>212.2000</td>\n",
              "      <td>212.8700</td>\n",
              "      <td>211.5400</td>\n",
              "      <td>211.9900</td>\n",
              "      <td>1801311</td>\n",
              "    </tr>\n",
              "    <tr>\n",
              "      <th>2020-02-11</th>\n",
              "      <td>213.3800</td>\n",
              "      <td>213.9800</td>\n",
              "      <td>211.7600</td>\n",
              "      <td>212.1400</td>\n",
              "      <td>1321019</td>\n",
              "    </tr>\n",
              "  </tbody>\n",
              "</table>\n",
              "<p>100 rows × 5 columns</p>\n",
              "</div>"
            ],
            "text/plain": [
              "             1. open   2. high    3. low  4. close 5. volume\n",
              "2020-07-02  216.5700  218.4500  214.9000  215.7200   2003413\n",
              "2020-07-01  214.5000  216.9000  213.8800  214.5900   2125991\n",
              "2020-06-30  212.3700  215.6400  212.1300  214.7200   3136355\n",
              "2020-06-29  210.1500  213.3900  210.1500  212.7200   2247881\n",
              "2020-06-26  216.7800  216.9300  211.0700  212.4700   3348420\n",
              "...              ...       ...       ...       ...       ...\n",
              "2020-02-18  212.5000  214.0600  211.2000  213.7600   1699427\n",
              "2020-02-14  213.2500  213.5350  211.3500  212.3700   2096562\n",
              "2020-02-13  209.8700  213.5400  209.3363  212.4000   1721214\n",
              "2020-02-12  212.2000  212.8700  211.5400  211.9900   1801311\n",
              "2020-02-11  213.3800  213.9800  211.7600  212.1400   1321019\n",
              "\n",
              "[100 rows x 5 columns]"
            ]
          },
          "metadata": {
            "tags": []
          },
          "execution_count": 44
        }
      ]
    },
    {
      "cell_type": "code",
      "metadata": {
        "id": "pRuvY90uF_HU",
        "colab_type": "code",
        "colab": {}
      },
      "source": [
        ""
      ],
      "execution_count": null,
      "outputs": []
    }
  ]
}