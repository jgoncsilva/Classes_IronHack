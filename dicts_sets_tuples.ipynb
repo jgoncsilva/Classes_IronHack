{
  "nbformat": 4,
  "nbformat_minor": 0,
  "metadata": {
    "colab": {
      "name": "dicts_sets_tuples.ipynb",
      "provenance": [],
      "include_colab_link": true
    },
    "kernelspec": {
      "name": "python3",
      "display_name": "Python 3"
    }
  },
  "cells": [
    {
      "cell_type": "markdown",
      "metadata": {
        "id": "view-in-github",
        "colab_type": "text"
      },
      "source": [
        "<a href=\"https://colab.research.google.com/github/jgoncsilva/Classes_IronHack/blob/master/dicts_sets_tuples.ipynb\" target=\"_parent\"><img src=\"https://colab.research.google.com/assets/colab-badge.svg\" alt=\"Open In Colab\"/></a>"
      ]
    },
    {
      "cell_type": "code",
      "metadata": {
        "id": "3YFxrh4Y0krI",
        "colab_type": "code",
        "colab": {}
      },
      "source": [
        "# this is the game of new python data structures\n",
        "\n",
        "# lists\n",
        "\n",
        "# dictionaries\n",
        "\n",
        "# tuples\n",
        "\n",
        "# sets\n",
        "\n",
        "# there a mixture of all of these"
      ],
      "execution_count": null,
      "outputs": []
    },
    {
      "cell_type": "code",
      "metadata": {
        "id": "eIYI1PQg1J3Q",
        "colab_type": "code",
        "colab": {}
      },
      "source": [
        "# dictionaries\n",
        "\n",
        "# a list has a very natural and concrete order\n",
        "['Joey','Ross','Phoebe']\n",
        "\n",
        "# dictionary -> things are not indexed by position, they are located by key:value pairs\n",
        "\n",
        "# dict = { key : value, key2 : value2, }\n",
        "mydict = {'Felipe Barrocas' : 'Teacher', 'Celina Agostinho' : 'PhD in Linguistics', 'Guilaume Aubert' : \"Working at Accenture\"}"
      ],
      "execution_count": null,
      "outputs": []
    },
    {
      "cell_type": "code",
      "metadata": {
        "id": "tu4IHrOV2BwX",
        "colab_type": "code",
        "colab": {
          "base_uri": "https://localhost:8080/",
          "height": 162
        },
        "outputId": "40b172d0-7799-43a2-e322-6ec0241acf7c"
      },
      "source": [
        "# you cannot index it like a list -> you must index by the key\n",
        "mydict[0]"
      ],
      "execution_count": null,
      "outputs": [
        {
          "output_type": "error",
          "ename": "KeyError",
          "evalue": "ignored",
          "traceback": [
            "\u001b[0;31m---------------------------------------------------------------------------\u001b[0m",
            "\u001b[0;31mKeyError\u001b[0m                                  Traceback (most recent call last)",
            "\u001b[0;32m<ipython-input-2-1529edbf7ad5>\u001b[0m in \u001b[0;36m<module>\u001b[0;34m()\u001b[0m\n\u001b[0;32m----> 1\u001b[0;31m \u001b[0mmydict\u001b[0m\u001b[0;34m[\u001b[0m\u001b[0;36m0\u001b[0m\u001b[0;34m]\u001b[0m\u001b[0;34m\u001b[0m\u001b[0;34m\u001b[0m\u001b[0m\n\u001b[0m",
            "\u001b[0;31mKeyError\u001b[0m: 0"
          ]
        }
      ]
    },
    {
      "cell_type": "code",
      "metadata": {
        "id": "kVql__tr2EyF",
        "colab_type": "code",
        "colab": {
          "base_uri": "https://localhost:8080/",
          "height": 35
        },
        "outputId": "32002669-f3e5-46d6-cc81-48820f495c51"
      },
      "source": [
        "mydict['Celina Agostinho']"
      ],
      "execution_count": null,
      "outputs": [
        {
          "output_type": "execute_result",
          "data": {
            "application/vnd.google.colaboratory.intrinsic": {
              "type": "string"
            },
            "text/plain": [
              "'PhD in Linguistics'"
            ]
          },
          "metadata": {
            "tags": []
          },
          "execution_count": 3
        }
      ]
    },
    {
      "cell_type": "code",
      "metadata": {
        "id": "D3xAU13d2L02",
        "colab_type": "code",
        "colab": {}
      },
      "source": [
        "# common usecases for dictionaries\n",
        "# any time series is very naturally represented with a dictionry\n",
        "{'2020-06-30' : 12.5, '2020-07-01' : 11, '2020-07-02' : 13}\n",
        "\n",
        "{'Portugal' : 10000000, 'Germany' : 85000000}"
      ],
      "execution_count": null,
      "outputs": []
    },
    {
      "cell_type": "code",
      "metadata": {
        "id": "5fMDMBxn3ANs",
        "colab_type": "code",
        "colab": {
          "base_uri": "https://localhost:8080/",
          "height": 34
        },
        "outputId": "1b458d0e-3b21-4d3a-c8d3-0b5bd898c713"
      },
      "source": [
        "# let's look at the methods inside\n",
        "\n",
        "mydict.keys()"
      ],
      "execution_count": null,
      "outputs": [
        {
          "output_type": "execute_result",
          "data": {
            "text/plain": [
              "dict_keys(['Felipe Barrocas', 'Celina Agostinho', 'Guilaume Aubert'])"
            ]
          },
          "metadata": {
            "tags": []
          },
          "execution_count": 4
        }
      ]
    },
    {
      "cell_type": "code",
      "metadata": {
        "id": "ShVlTXZw3ICJ",
        "colab_type": "code",
        "colab": {}
      },
      "source": [
        "name = 'Gonçalo Nobre'\n",
        "\n",
        "if name not in mydict.keys():\n",
        "  mydict[name] = \"Finance Master and Researcher\""
      ],
      "execution_count": null,
      "outputs": []
    },
    {
      "cell_type": "code",
      "metadata": {
        "id": "Rsof8sEA3Wtr",
        "colab_type": "code",
        "colab": {
          "base_uri": "https://localhost:8080/",
          "height": 34
        },
        "outputId": "905bcee9-85f2-4ca8-cadc-119266f895e5"
      },
      "source": [
        "# here he looks for name and value -> warning!! you loose control\n",
        "name in mydict"
      ],
      "execution_count": null,
      "outputs": [
        {
          "output_type": "execute_result",
          "data": {
            "text/plain": [
              "True"
            ]
          },
          "metadata": {
            "tags": []
          },
          "execution_count": 9
        }
      ]
    },
    {
      "cell_type": "code",
      "metadata": {
        "id": "A2Gyq4nK3Ye0",
        "colab_type": "code",
        "colab": {
          "base_uri": "https://localhost:8080/",
          "height": 34
        },
        "outputId": "0676c91c-507f-4035-a60a-63a3607f966c"
      },
      "source": [
        "name in mydict.keys()"
      ],
      "execution_count": null,
      "outputs": [
        {
          "output_type": "execute_result",
          "data": {
            "text/plain": [
              "True"
            ]
          },
          "metadata": {
            "tags": []
          },
          "execution_count": 11
        }
      ]
    },
    {
      "cell_type": "code",
      "metadata": {
        "id": "v7tHnQXP3vU-",
        "colab_type": "code",
        "colab": {
          "base_uri": "https://localhost:8080/",
          "height": 34
        },
        "outputId": "f13cbf70-afd1-425e-afb5-fdb76349850c"
      },
      "source": [
        "name in mydict.values()"
      ],
      "execution_count": null,
      "outputs": [
        {
          "output_type": "execute_result",
          "data": {
            "text/plain": [
              "False"
            ]
          },
          "metadata": {
            "tags": []
          },
          "execution_count": 10
        }
      ]
    },
    {
      "cell_type": "code",
      "metadata": {
        "id": "9WT7i5OL3wuc",
        "colab_type": "code",
        "colab": {
          "base_uri": "https://localhost:8080/",
          "height": 84
        },
        "outputId": "604a641e-eaca-42af-87a5-d63a02078acb"
      },
      "source": [
        "mydict"
      ],
      "execution_count": null,
      "outputs": [
        {
          "output_type": "execute_result",
          "data": {
            "text/plain": [
              "{'Celina Agostinho': 'PhD in Linguistics',\n",
              " 'Felipe Barrocas': 'Teacher',\n",
              " 'Gonçalo Nobre': 'Finance Master and Researcher',\n",
              " 'Guilaume Aubert': 'Working at Accenture'}"
            ]
          },
          "metadata": {
            "tags": []
          },
          "execution_count": 12
        }
      ]
    },
    {
      "cell_type": "code",
      "metadata": {
        "id": "th5xbApi36Tw",
        "colab_type": "code",
        "colab": {
          "base_uri": "https://localhost:8080/",
          "height": 35
        },
        "outputId": "4c532e9e-a640-4e29-d9bb-0a1bf9b9fefc"
      },
      "source": [
        "mydict.pop('Gonçalo Nobre')"
      ],
      "execution_count": null,
      "outputs": [
        {
          "output_type": "execute_result",
          "data": {
            "application/vnd.google.colaboratory.intrinsic": {
              "type": "string"
            },
            "text/plain": [
              "'Finance Master and Researcher'"
            ]
          },
          "metadata": {
            "tags": []
          },
          "execution_count": 13
        }
      ]
    },
    {
      "cell_type": "code",
      "metadata": {
        "id": "2B7ouU4Y4iwo",
        "colab_type": "code",
        "colab": {
          "base_uri": "https://localhost:8080/",
          "height": 67
        },
        "outputId": "ed0a73f6-f277-458f-91b6-2d2af7c01bf8"
      },
      "source": [
        "mydict"
      ],
      "execution_count": null,
      "outputs": [
        {
          "output_type": "execute_result",
          "data": {
            "text/plain": [
              "{'Celina Agostinho': 'PhD in Linguistics',\n",
              " 'Felipe Barrocas': 'Teacher',\n",
              " 'Guilaume Aubert': 'Working at Accenture'}"
            ]
          },
          "metadata": {
            "tags": []
          },
          "execution_count": 14
        }
      ]
    },
    {
      "cell_type": "code",
      "metadata": {
        "id": "E3DUwD1o4mOJ",
        "colab_type": "code",
        "colab": {
          "base_uri": "https://localhost:8080/",
          "height": 34
        },
        "outputId": "99d13855-5381-4585-b385-ecb8e459e85f"
      },
      "source": [
        "mydict.popitem()"
      ],
      "execution_count": null,
      "outputs": [
        {
          "output_type": "execute_result",
          "data": {
            "text/plain": [
              "('Celina Agostinho', 'PhD in Linguistics')"
            ]
          },
          "metadata": {
            "tags": []
          },
          "execution_count": 18
        }
      ]
    },
    {
      "cell_type": "code",
      "metadata": {
        "id": "YpH-HaDK4wxB",
        "colab_type": "code",
        "colab": {}
      },
      "source": [
        "# but dictionaries are also flexible\n",
        "\n",
        "mydict = {0 : 10 , 'second' : ['Gonçalo','Zoe','Maria'], 'third' : {'Germany' : 'Berlin', 'Portugal' : 'Lisbon'}}"
      ],
      "execution_count": null,
      "outputs": []
    },
    {
      "cell_type": "code",
      "metadata": {
        "id": "H0Q9DlCx5g_g",
        "colab_type": "code",
        "colab": {
          "base_uri": "https://localhost:8080/",
          "height": 34
        },
        "outputId": "77324855-cd01-4d81-f389-e0b4cc445352"
      },
      "source": [
        "mydict[0]"
      ],
      "execution_count": null,
      "outputs": [
        {
          "output_type": "execute_result",
          "data": {
            "text/plain": [
              "10"
            ]
          },
          "metadata": {
            "tags": []
          },
          "execution_count": 22
        }
      ]
    },
    {
      "cell_type": "code",
      "metadata": {
        "id": "-cLFw1zz5jsQ",
        "colab_type": "code",
        "colab": {}
      },
      "source": [
        "for key in [0,12.0,'Lisbon']:\n",
        "  mydict[key] = 'value'"
      ],
      "execution_count": null,
      "outputs": []
    },
    {
      "cell_type": "code",
      "metadata": {
        "id": "-VD4BLyL6N5r",
        "colab_type": "code",
        "colab": {
          "base_uri": "https://localhost:8080/",
          "height": 101
        },
        "outputId": "469474c1-7792-4c7d-ad17-7e412501cb71"
      },
      "source": [
        "mydict"
      ],
      "execution_count": null,
      "outputs": [
        {
          "output_type": "execute_result",
          "data": {
            "text/plain": [
              "{0: 'value',\n",
              " 12.0: 'value',\n",
              " 'Lisbon': 'value',\n",
              " 'second': ['Gonçalo', 'Zoe', 'Maria'],\n",
              " 'third': {'Germany': 'Berlin', 'Portugal': 'Lisbon'}}"
            ]
          },
          "metadata": {
            "tags": []
          },
          "execution_count": 24
        }
      ]
    },
    {
      "cell_type": "code",
      "metadata": {
        "id": "SF3rgm1W6PHD",
        "colab_type": "code",
        "colab": {
          "base_uri": "https://localhost:8080/",
          "height": 162
        },
        "outputId": "16564dec-9273-4659-c38a-109f15c395da"
      },
      "source": [
        "mydict['Porto']"
      ],
      "execution_count": null,
      "outputs": [
        {
          "output_type": "error",
          "ename": "KeyError",
          "evalue": "ignored",
          "traceback": [
            "\u001b[0;31m---------------------------------------------------------------------------\u001b[0m",
            "\u001b[0;31mKeyError\u001b[0m                                  Traceback (most recent call last)",
            "\u001b[0;32m<ipython-input-27-609f03a4b593>\u001b[0m in \u001b[0;36m<module>\u001b[0;34m()\u001b[0m\n\u001b[0;32m----> 1\u001b[0;31m \u001b[0mmydict\u001b[0m\u001b[0;34m[\u001b[0m\u001b[0;34m'Porto'\u001b[0m\u001b[0;34m]\u001b[0m\u001b[0;34m\u001b[0m\u001b[0;34m\u001b[0m\u001b[0m\n\u001b[0m",
            "\u001b[0;31mKeyError\u001b[0m: 'Porto'"
          ]
        }
      ]
    },
    {
      "cell_type": "code",
      "metadata": {
        "id": "nh8aR9M46mV2",
        "colab_type": "code",
        "colab": {
          "base_uri": "https://localhost:8080/",
          "height": 35
        },
        "outputId": "52a90116-b085-47cf-9c58-cd3a3c66df03"
      },
      "source": [
        "mydict = {'Felipe Barrocas' : 'Teacher', 'Celina Agostinho' : 'PhD in Linguistics', 'Guilaume Aubert' : \"Working at Accenture\" , 'Pedro Carneiro' : \"Working at Accenture\" }\n",
        "\n",
        "looking_for = \"Working at Accenture\"\n",
        "\n",
        "index_i_need = list(mydict.values()).index(looking_for)\n",
        "\n",
        "list(mydict.keys())[index_i_need]"
      ],
      "execution_count": null,
      "outputs": [
        {
          "output_type": "execute_result",
          "data": {
            "application/vnd.google.colaboratory.intrinsic": {
              "type": "string"
            },
            "text/plain": [
              "'Guilaume Aubert'"
            ]
          },
          "metadata": {
            "tags": []
          },
          "execution_count": 38
        }
      ]
    },
    {
      "cell_type": "code",
      "metadata": {
        "id": "naqCBDqk7h3m",
        "colab_type": "code",
        "colab": {
          "base_uri": "https://localhost:8080/",
          "height": 34
        },
        "outputId": "df19fe76-3471-4140-e623-6b9ca6b88c93"
      },
      "source": [
        "mydict.values()"
      ],
      "execution_count": null,
      "outputs": [
        {
          "output_type": "execute_result",
          "data": {
            "text/plain": [
              "dict_values(['Teacher', 'PhD in Linguistics', 'Working at Accenture'])"
            ]
          },
          "metadata": {
            "tags": []
          },
          "execution_count": 32
        }
      ]
    },
    {
      "cell_type": "code",
      "metadata": {
        "id": "3ABEZ7tA8DgU",
        "colab_type": "code",
        "colab": {
          "base_uri": "https://localhost:8080/",
          "height": 34
        },
        "outputId": "19cc0e96-d947-4e9f-f312-85eb5de75550"
      },
      "source": [
        "mydict.keys()"
      ],
      "execution_count": null,
      "outputs": [
        {
          "output_type": "execute_result",
          "data": {
            "text/plain": [
              "dict_keys(['Felipe Barrocas', 'Celina Agostinho', 'Guilaume Aubert'])"
            ]
          },
          "metadata": {
            "tags": []
          },
          "execution_count": 33
        }
      ]
    },
    {
      "cell_type": "code",
      "metadata": {
        "id": "FD7kGHc38Ejp",
        "colab_type": "code",
        "colab": {
          "base_uri": "https://localhost:8080/",
          "height": 34
        },
        "outputId": "4705f3a3-5427-4962-c1a7-857ff6a1f69d"
      },
      "source": [
        "[value for value in list(mydict.values()) if value == looking_for]"
      ],
      "execution_count": null,
      "outputs": [
        {
          "output_type": "execute_result",
          "data": {
            "text/plain": [
              "['Working at Accenture']"
            ]
          },
          "metadata": {
            "tags": []
          },
          "execution_count": 34
        }
      ]
    },
    {
      "cell_type": "code",
      "metadata": {
        "id": "XwzzbCLA8sqm",
        "colab_type": "code",
        "colab": {
          "base_uri": "https://localhost:8080/",
          "height": 34
        },
        "outputId": "6d3722d5-7892-48d7-de5c-39766fd97390"
      },
      "source": [
        "[key for key in mydict.keys() if mydict[key] == \"Working at Accenture\"]"
      ],
      "execution_count": null,
      "outputs": [
        {
          "output_type": "execute_result",
          "data": {
            "text/plain": [
              "['Guilaume Aubert', 'Pedro Carneiro']"
            ]
          },
          "metadata": {
            "tags": []
          },
          "execution_count": 39
        }
      ]
    },
    {
      "cell_type": "code",
      "metadata": {
        "id": "mzDjEO8J87k2",
        "colab_type": "code",
        "colab": {
          "base_uri": "https://localhost:8080/",
          "height": 50
        },
        "outputId": "0680d3a8-000c-46d9-c294-97dbf8be2d0b"
      },
      "source": [
        "for key in mydict.keys():\n",
        "  # testing the value!!!!!!\n",
        "  if mydict[key] == \"Working at Accenture\":\n",
        "    print(key)\n"
      ],
      "execution_count": null,
      "outputs": [
        {
          "output_type": "stream",
          "text": [
            "Guilaume Aubert\n",
            "Pedro Carneiro\n"
          ],
          "name": "stdout"
        }
      ]
    },
    {
      "cell_type": "code",
      "metadata": {
        "id": "KDHEzWh39uEh",
        "colab_type": "code",
        "colab": {}
      },
      "source": [
        "# interview like question\n",
        "\n",
        "a = \"pedrooo\"\n",
        "b = \"oedrppp\"\n",
        "\n",
        "# are the two strings anagrams of each other? \n",
        "\n",
        "# solution 1 -> sort both strings alphabetically -> compare them\n",
        "\n",
        "for letter in a:\n",
        "  for subletter in b:\n",
        "    if letter != subletter:\n",
        "      print(\"not anagram\")"
      ],
      "execution_count": null,
      "outputs": []
    },
    {
      "cell_type": "code",
      "metadata": {
        "id": "9jAimVFh-4IU",
        "colab_type": "code",
        "colab": {
          "base_uri": "https://localhost:8080/",
          "height": 134
        },
        "outputId": "84b9e5f8-4071-4931-a805-4284d083cce7"
      },
      "source": [
        "# dictionaries are excellent to count the number of occurrences in something -> letter, etc\n",
        "a = \"pedrooo\"\n",
        "b = \"oedrppp\"\n",
        "a_dict = {}\n",
        "for letter in a:\n",
        "  print(a_dict.values())\n",
        "  if letter in a_dict.keys():\n",
        "    a_dict[letter] += 1\n",
        "  else:\n",
        "    a_dict[letter] = 1"
      ],
      "execution_count": null,
      "outputs": [
        {
          "output_type": "stream",
          "text": [
            "dict_values([])\n",
            "dict_values([1])\n",
            "dict_values([1, 1])\n",
            "dict_values([1, 1, 1])\n",
            "dict_values([1, 1, 1, 1])\n",
            "dict_values([1, 1, 1, 1, 1])\n",
            "dict_values([1, 1, 1, 1, 2])\n"
          ],
          "name": "stdout"
        }
      ]
    },
    {
      "cell_type": "code",
      "metadata": {
        "id": "FBVrPB9C_fIW",
        "colab_type": "code",
        "colab": {
          "base_uri": "https://localhost:8080/",
          "height": 34
        },
        "outputId": "291b4d51-0e4d-4d98-a772-2f357122a8a8"
      },
      "source": [
        "a_dict"
      ],
      "execution_count": null,
      "outputs": [
        {
          "output_type": "execute_result",
          "data": {
            "text/plain": [
              "{'d': 1, 'e': 1, 'o': 3, 'p': 1, 'r': 1}"
            ]
          },
          "metadata": {
            "tags": []
          },
          "execution_count": 47
        }
      ]
    },
    {
      "cell_type": "code",
      "metadata": {
        "id": "x86vokEB_f4C",
        "colab_type": "code",
        "colab": {}
      },
      "source": [
        "newdict = {}"
      ],
      "execution_count": null,
      "outputs": []
    },
    {
      "cell_type": "code",
      "metadata": {
        "id": "STVt6pv2AgvH",
        "colab_type": "code",
        "colab": {}
      },
      "source": [
        "newdict['Pedro'] = 2"
      ],
      "execution_count": null,
      "outputs": []
    },
    {
      "cell_type": "code",
      "metadata": {
        "id": "RfFpxQMEAjhX",
        "colab_type": "code",
        "colab": {
          "base_uri": "https://localhost:8080/",
          "height": 34
        },
        "outputId": "968a9884-ca8a-4a75-8b64-c78f6ea88fd3"
      },
      "source": [
        "newdict"
      ],
      "execution_count": null,
      "outputs": [
        {
          "output_type": "execute_result",
          "data": {
            "text/plain": [
              "{'Guilaume': 2, 'Pedro': 2, 'a': 2}"
            ]
          },
          "metadata": {
            "tags": []
          },
          "execution_count": 55
        }
      ]
    },
    {
      "cell_type": "code",
      "metadata": {
        "id": "rp1_uUhfAkNy",
        "colab_type": "code",
        "colab": {}
      },
      "source": [
        "newdict = {}\n",
        "for letter in a:\n",
        "  newdict[letter] = 1"
      ],
      "execution_count": null,
      "outputs": []
    },
    {
      "cell_type": "code",
      "metadata": {
        "id": "13jpyjqRA-tX",
        "colab_type": "code",
        "colab": {
          "base_uri": "https://localhost:8080/",
          "height": 34
        },
        "outputId": "dbcec669-9b2b-4913-8d83-6aef60cecf1c"
      },
      "source": [
        "newdict"
      ],
      "execution_count": null,
      "outputs": [
        {
          "output_type": "execute_result",
          "data": {
            "text/plain": [
              "{'d': 1, 'e': 1, 'o': 1, 'p': 1, 'r': 1}"
            ]
          },
          "metadata": {
            "tags": []
          },
          "execution_count": 57
        }
      ]
    },
    {
      "cell_type": "code",
      "metadata": {
        "id": "SW3y8qdAA_cp",
        "colab_type": "code",
        "colab": {
          "base_uri": "https://localhost:8080/",
          "height": 34
        },
        "outputId": "83d56d20-912c-4e47-acac-48df20d087f4"
      },
      "source": [
        "# items method returns a\n",
        "mydict.items()\n",
        "\n",
        "# returns several tuples with key - value pairs"
      ],
      "execution_count": null,
      "outputs": [
        {
          "output_type": "execute_result",
          "data": {
            "text/plain": [
              "dict_items([('Felipe Barrocas', 'Teacher'), ('Celina Agostinho', 'PhD in Linguistics'), ('Guilaume Aubert', 'Working at Accenture'), ('Pedro Carneiro', 'Working at Accenture')])"
            ]
          },
          "metadata": {
            "tags": []
          },
          "execution_count": 59
        }
      ]
    },
    {
      "cell_type": "code",
      "metadata": {
        "id": "I3xBktXOCGv5",
        "colab_type": "code",
        "colab": {
          "base_uri": "https://localhost:8080/",
          "height": 35
        },
        "outputId": "ac7001ed-bb3f-414e-d6ac-0fab41520506"
      },
      "source": [
        "# if you want to manipulate them you have to convert it to a list\n",
        "\n",
        "list(mydict.items())[0][1]"
      ],
      "execution_count": null,
      "outputs": [
        {
          "output_type": "execute_result",
          "data": {
            "application/vnd.google.colaboratory.intrinsic": {
              "type": "string"
            },
            "text/plain": [
              "'Teacher'"
            ]
          },
          "metadata": {
            "tags": []
          },
          "execution_count": 62
        }
      ]
    },
    {
      "cell_type": "code",
      "metadata": {
        "id": "q7rOYL3gCpQZ",
        "colab_type": "code",
        "colab": {
          "base_uri": "https://localhost:8080/",
          "height": 34
        },
        "outputId": "7393f5d9-4adf-4425-f64a-ce3861041324"
      },
      "source": [
        "keys = ['Pieter' , 'Jorge', 'Antero']\n",
        "values = ['grey', 'blue', 'red','yellow']\n",
        "\n",
        "{ key : value for key, value in zip(keys, values)}"
      ],
      "execution_count": null,
      "outputs": [
        {
          "output_type": "execute_result",
          "data": {
            "text/plain": [
              "{'Antero': 'red', 'Jorge': 'blue', 'Pieter': 'grey'}"
            ]
          },
          "metadata": {
            "tags": []
          },
          "execution_count": 74
        }
      ]
    },
    {
      "cell_type": "code",
      "metadata": {
        "id": "fNIORBI7DImr",
        "colab_type": "code",
        "colab": {
          "base_uri": "https://localhost:8080/",
          "height": 67
        },
        "outputId": "7999dffa-caef-47e7-aeaa-63fd0f329c49"
      },
      "source": [
        "# zip allows you to iterate over multiple iterables at the same time, using the same index\n",
        "for a,b in zip(keys, values):\n",
        "  print(a +b)"
      ],
      "execution_count": null,
      "outputs": [
        {
          "output_type": "stream",
          "text": [
            "Pietergrey\n",
            "Jorgeblue\n",
            "Anterored\n"
          ],
          "name": "stdout"
        }
      ]
    },
    {
      "cell_type": "code",
      "metadata": {
        "id": "Z-UP91xEDL3q",
        "colab_type": "code",
        "colab": {
          "base_uri": "https://localhost:8080/",
          "height": 34
        },
        "outputId": "8050201d-a84e-4d62-ff57-739abca7fe6b"
      },
      "source": [
        "# zip object is created with pointer to memory address\n",
        "list(zip(keys, values))"
      ],
      "execution_count": null,
      "outputs": [
        {
          "output_type": "execute_result",
          "data": {
            "text/plain": [
              "[('Pieter', 'grey'), ('Jorge', 'blue'), ('Antero', 'red')]"
            ]
          },
          "metadata": {
            "tags": []
          },
          "execution_count": 71
        }
      ]
    },
    {
      "cell_type": "code",
      "metadata": {
        "id": "VEolgOoIDcdL",
        "colab_type": "code",
        "colab": {}
      },
      "source": [
        "# second data structure in python -> Tuples\n",
        "# you don't mess with tuples once they are created -> immutable\n",
        "\n",
        "\n",
        "mytuple = ('Pedro', 27, '18/11/1992', 'Lisbon')\n"
      ],
      "execution_count": null,
      "outputs": []
    },
    {
      "cell_type": "code",
      "metadata": {
        "id": "BPObQPZIacwo",
        "colab_type": "code",
        "colab": {}
      },
      "source": [
        "list_of_tuples = [('Pedro', 27, '18/11/1992', 'Lisbon'),('Francisco', 28, '18/11/1992', 'Lisbon')]"
      ],
      "execution_count": null,
      "outputs": []
    },
    {
      "cell_type": "code",
      "metadata": {
        "id": "qMBB7xN1YvPv",
        "colab_type": "code",
        "colab": {
          "base_uri": "https://localhost:8080/",
          "height": 35
        },
        "outputId": "f70847a7-41ef-483b-d614-5add8e4825ab"
      },
      "source": [
        "# index them just a list\n",
        "mytuple[2]\n",
        "\n"
      ],
      "execution_count": null,
      "outputs": [
        {
          "output_type": "execute_result",
          "data": {
            "application/vnd.google.colaboratory.intrinsic": {
              "type": "string"
            },
            "text/plain": [
              "'18/11/1992'"
            ]
          },
          "metadata": {
            "tags": []
          },
          "execution_count": 81
        }
      ]
    },
    {
      "cell_type": "code",
      "metadata": {
        "id": "2guyMKh3Y4Pl",
        "colab_type": "code",
        "colab": {}
      },
      "source": [
        "# why tuples?\n",
        "\n",
        "# non volatile storage of data -> they are excellent to take snapshots\n",
        "# faster to read\n"
      ],
      "execution_count": null,
      "outputs": []
    },
    {
      "cell_type": "code",
      "metadata": {
        "id": "xoH-HzrDaPss",
        "colab_type": "code",
        "colab": {
          "base_uri": "https://localhost:8080/",
          "height": 84
        },
        "outputId": "bec9613a-83d5-4494-fa0c-4838ffc89849"
      },
      "source": [
        "for element in mytuple:\n",
        "  print(element)\n"
      ],
      "execution_count": null,
      "outputs": [
        {
          "output_type": "stream",
          "text": [
            "Pedro\n",
            "27\n",
            "18/11/1992\n",
            "Lisbon\n"
          ],
          "name": "stdout"
        }
      ]
    },
    {
      "cell_type": "code",
      "metadata": {
        "id": "Im9wN3fqaU57",
        "colab_type": "code",
        "colab": {
          "base_uri": "https://localhost:8080/",
          "height": 34
        },
        "outputId": "234dadd1-5b24-4746-df97-7a14ff2ada10"
      },
      "source": [
        "# you can force a list to become a tuple\n",
        "tuple([1,2,3,4,5])"
      ],
      "execution_count": null,
      "outputs": [
        {
          "output_type": "execute_result",
          "data": {
            "text/plain": [
              "(1, 2, 3, 4, 5)"
            ]
          },
          "metadata": {
            "tags": []
          },
          "execution_count": 80
        }
      ]
    },
    {
      "cell_type": "code",
      "metadata": {
        "id": "IBUPBkISai3Z",
        "colab_type": "code",
        "colab": {
          "base_uri": "https://localhost:8080/",
          "height": 34
        },
        "outputId": "b1816b39-f8bb-4769-b451-23a6feca8191"
      },
      "source": [
        "# you can force a tuple to become a list\n",
        "\n",
        "# convert tuple to list\n",
        "mylist = list(mytuple)\n",
        "# perform list operations on a list -> flexible\n",
        "mylist.append(6)\n",
        "# bring it back to tuple\n",
        "tuple(mylist)"
      ],
      "execution_count": null,
      "outputs": [
        {
          "output_type": "execute_result",
          "data": {
            "text/plain": [
              "('Pedro', 27, '18/11/1992', 'Lisbon', 6)"
            ]
          },
          "metadata": {
            "tags": []
          },
          "execution_count": 83
        }
      ]
    },
    {
      "cell_type": "code",
      "metadata": {
        "id": "HE-2XqkOa22N",
        "colab_type": "code",
        "colab": {}
      },
      "source": [
        "\n",
        "list(mytuple).append(6)\n",
        "# the append returns nothing -> inplace method\n",
        "tuple(list(mytuple))"
      ],
      "execution_count": null,
      "outputs": []
    },
    {
      "cell_type": "code",
      "metadata": {
        "id": "g-h5ZYN1bNs_",
        "colab_type": "code",
        "colab": {}
      },
      "source": [
        "#### \n",
        "\n",
        "students = ('Maria', 'João', 'Ramesh')\n",
        "\n"
      ],
      "execution_count": null,
      "outputs": []
    },
    {
      "cell_type": "code",
      "metadata": {
        "id": "zb-ggUMpbwpP",
        "colab_type": "code",
        "colab": {}
      },
      "source": [
        "more_students = students + ('Gonçalo Nobre','Gonçalo Pinto')"
      ],
      "execution_count": null,
      "outputs": []
    },
    {
      "cell_type": "code",
      "metadata": {
        "id": "H3IQd3_Wb2y1",
        "colab_type": "code",
        "colab": {
          "base_uri": "https://localhost:8080/",
          "height": 34
        },
        "outputId": "3df534c8-58e3-411a-8eea-dab5d3880424"
      },
      "source": [
        "more_students"
      ],
      "execution_count": null,
      "outputs": [
        {
          "output_type": "execute_result",
          "data": {
            "text/plain": [
              "('Maria', 'João', 'Ramesh', 'Gonçalo Nobre', 'Gonçalo Pinto')"
            ]
          },
          "metadata": {
            "tags": []
          },
          "execution_count": 93
        }
      ]
    },
    {
      "cell_type": "code",
      "metadata": {
        "id": "K1TCmrIEb3yM",
        "colab_type": "code",
        "colab": {}
      },
      "source": [
        "# more interesting, last but not least -> sets\n",
        "\n",
        "# sets are represented by curly brackets, but without the key : value structure\n",
        "\n",
        "names = {'Maria', 'João', 'Ramesh','Maria'}"
      ],
      "execution_count": null,
      "outputs": []
    },
    {
      "cell_type": "code",
      "metadata": {
        "id": "nUUW98jbcWYy",
        "colab_type": "code",
        "colab": {
          "base_uri": "https://localhost:8080/",
          "height": 34
        },
        "outputId": "4e17286d-a710-46b4-d7d8-45cce6f58f96"
      },
      "source": [
        "# sets only keep the UNIQUE values of a given iterable\n",
        "names"
      ],
      "execution_count": null,
      "outputs": [
        {
          "output_type": "execute_result",
          "data": {
            "text/plain": [
              "{'João', 'Maria', 'Ramesh'}"
            ]
          },
          "metadata": {
            "tags": []
          },
          "execution_count": 97
        }
      ]
    },
    {
      "cell_type": "code",
      "metadata": {
        "id": "tQJUaItEcW-o",
        "colab_type": "code",
        "colab": {
          "base_uri": "https://localhost:8080/",
          "height": 162
        },
        "outputId": "be0603e8-5d95-4aa2-ced6-67f1f596186d"
      },
      "source": [
        "# sets do NOT support indexing\n",
        "names[0]"
      ],
      "execution_count": null,
      "outputs": [
        {
          "output_type": "error",
          "ename": "TypeError",
          "evalue": "ignored",
          "traceback": [
            "\u001b[0;31m---------------------------------------------------------------------------\u001b[0m",
            "\u001b[0;31mTypeError\u001b[0m                                 Traceback (most recent call last)",
            "\u001b[0;32m<ipython-input-98-d55c7c28fed3>\u001b[0m in \u001b[0;36m<module>\u001b[0;34m()\u001b[0m\n\u001b[0;32m----> 1\u001b[0;31m \u001b[0mnames\u001b[0m\u001b[0;34m[\u001b[0m\u001b[0;36m0\u001b[0m\u001b[0;34m]\u001b[0m\u001b[0;34m\u001b[0m\u001b[0;34m\u001b[0m\u001b[0m\n\u001b[0m",
            "\u001b[0;31mTypeError\u001b[0m: 'set' object does not support indexing"
          ]
        }
      ]
    },
    {
      "cell_type": "code",
      "metadata": {
        "id": "l-B3rVCuclwn",
        "colab_type": "code",
        "colab": {}
      },
      "source": [
        "lawyers = {'Felipython', 'Jhonatas'}\n",
        "\n",
        "outside_lisbon = {'Jhonatas', 'Felipe'}\n"
      ],
      "execution_count": null,
      "outputs": []
    },
    {
      "cell_type": "code",
      "metadata": {
        "id": "28KPfTlpdFhA",
        "colab_type": "code",
        "colab": {
          "base_uri": "https://localhost:8080/",
          "height": 34
        },
        "outputId": "e8dc25c9-3475-486f-c4e2-6fe22805f36b"
      },
      "source": [
        "# the power of sets is to create logic of intersections/differences between different groups of data\n",
        "lawyers.intersection(outside_lisbon)"
      ],
      "execution_count": null,
      "outputs": [
        {
          "output_type": "execute_result",
          "data": {
            "text/plain": [
              "{'Jhonatas'}"
            ]
          },
          "metadata": {
            "tags": []
          },
          "execution_count": 100
        }
      ]
    },
    {
      "cell_type": "code",
      "metadata": {
        "id": "t2zyEpcqdIs7",
        "colab_type": "code",
        "colab": {
          "base_uri": "https://localhost:8080/",
          "height": 34
        },
        "outputId": "5ffb5c86-5116-47c7-aa45-ecb4df9e363b"
      },
      "source": [
        "mylist = [0,1,2,3,4,5,5,5,5,4,7]\n",
        "set(mylist)"
      ],
      "execution_count": null,
      "outputs": [
        {
          "output_type": "execute_result",
          "data": {
            "text/plain": [
              "{0, 1, 2, 3, 4, 5, 7}"
            ]
          },
          "metadata": {
            "tags": []
          },
          "execution_count": 101
        }
      ]
    },
    {
      "cell_type": "code",
      "metadata": {
        "id": "JIOJI7L9doYc",
        "colab_type": "code",
        "colab": {}
      },
      "source": [
        "a = 'pedroooooo'\n",
        "\n"
      ],
      "execution_count": null,
      "outputs": []
    },
    {
      "cell_type": "code",
      "metadata": {
        "id": "GpvAdcjreASO",
        "colab_type": "code",
        "colab": {
          "base_uri": "https://localhost:8080/",
          "height": 34
        },
        "outputId": "d0486ce3-8f8c-4467-b672-b72c37bea278"
      },
      "source": [
        "# how to check if an array only has distinct elements\n",
        "# this is the most elegant way\n",
        "\n",
        "len(mylist) == len(set(mylist))"
      ],
      "execution_count": null,
      "outputs": [
        {
          "output_type": "execute_result",
          "data": {
            "text/plain": [
              "False"
            ]
          },
          "metadata": {
            "tags": []
          },
          "execution_count": 102
        }
      ]
    },
    {
      "cell_type": "code",
      "metadata": {
        "id": "gopDy_fseMGX",
        "colab_type": "code",
        "colab": {}
      },
      "source": [
        ""
      ],
      "execution_count": null,
      "outputs": []
    }
  ]
}