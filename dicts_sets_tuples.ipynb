{
  "nbformat": 4,
  "nbformat_minor": 0,
  "metadata": {
    "colab": {
      "name": "dicts_sets_tuples.ipynb",
      "provenance": [],
      "collapsed_sections": [],
      "include_colab_link": true
    },
    "kernelspec": {
      "name": "python3",
      "display_name": "Python 3"
    }
  },
  "cells": [
    {
      "cell_type": "markdown",
      "metadata": {
        "id": "view-in-github",
        "colab_type": "text"
      },
      "source": [
        "<a href=\"https://colab.research.google.com/github/jgoncsilva/Classes_IronHack/blob/master/dicts_sets_tuples.ipynb\" target=\"_parent\"><img src=\"https://colab.research.google.com/assets/colab-badge.svg\" alt=\"Open In Colab\"/></a>"
      ]
    },
    {
      "cell_type": "markdown",
      "metadata": {
        "id": "5hLQ0MVNYKKo",
        "colab_type": "text"
      },
      "source": [
        "The objective of this lesson is to review Python's main native data structures. In the previous class we reviewed lists. These are extremely flexible and useful however, once we are trying to scale to more complex data structures, we need to have other resources. Today we will look at:\n",
        "\n",
        "* Dictionaries\n",
        "* Tuples\n",
        "* Sets"
      ]
    },
    {
      "cell_type": "code",
      "metadata": {
        "id": "35DnekviOUmv",
        "colab_type": "code",
        "colab": {
          "base_uri": "https://localhost:8080/",
          "height": 34
        },
        "outputId": "5f5e8b49-e91b-48a6-ef04-27de3c968ef8"
      },
      "source": [
        "mydict = {}\n",
        "\n",
        "mydict['Pedro'] = 100\n",
        "mydict['Francisco'] = 2\n",
        "\n",
        "mydict.keys()"
      ],
      "execution_count": null,
      "outputs": [
        {
          "output_type": "execute_result",
          "data": {
            "text/plain": [
              "dict_keys(['Pedro', 'Francisco'])"
            ]
          },
          "metadata": {
            "tags": []
          },
          "execution_count": 27
        }
      ]
    },
    {
      "cell_type": "code",
      "metadata": {
        "id": "xRRQyjLVYH03",
        "colab_type": "code",
        "colab": {
          "base_uri": "https://localhost:8080/",
          "height": 102
        },
        "outputId": "91d8a7ec-9193-45df-e5dc-defcf7e5b886"
      },
      "source": [
        "#notation of dictionary\n",
        "\n",
        "mydict = {}\n",
        "\n",
        "mydict['Pedro'] = \"Data Education Team\"\n",
        "\n",
        "mydict['Luke'] = \"Data Education Team & Data Student\"\n",
        "\n",
        "mydict['Eduardo'] = \"Data Student & WebDev Student\"\n",
        "\n",
        "mydict['Rita'] = \"Data Student\"\n",
        "\n",
        "mydict['Sonia'] = \"Data Student & WebDev Student & Webdev Education Team\"\n",
        "\n",
        "mydict"
      ],
      "execution_count": null,
      "outputs": [
        {
          "output_type": "execute_result",
          "data": {
            "text/plain": [
              "{'Eduardo': 'Data Student & WebDev Student',\n",
              " 'Luke': 'Data Education Team & Data Student',\n",
              " 'Pedro': 'Data Education Team',\n",
              " 'Rita': 'Data Student',\n",
              " 'Sonia': 'Data Student & WebDev Student & Webdev Education Team'}"
            ]
          },
          "metadata": {
            "tags": []
          },
          "execution_count": 34
        }
      ]
    },
    {
      "cell_type": "code",
      "metadata": {
        "id": "BPFy4VDQUh-R",
        "colab_type": "code",
        "colab": {
          "base_uri": "https://localhost:8080/",
          "height": 102
        },
        "outputId": "65ad912c-ff83-470c-abe9-bbe08dbfc523"
      },
      "source": [
        "mydict"
      ],
      "execution_count": null,
      "outputs": [
        {
          "output_type": "execute_result",
          "data": {
            "text/plain": [
              "{'Eduardo': 'Data Student & WebDev Student',\n",
              " 'Luke': 'Data Education Team & Data Student',\n",
              " 'Pedro': 'Data Education Team',\n",
              " 'Rita': 'Data Student',\n",
              " 'Sonia': 'Data Student & WebDev Student & Webdev Education Team'}"
            ]
          },
          "metadata": {
            "tags": []
          },
          "execution_count": 26
        }
      ]
    },
    {
      "cell_type": "code",
      "metadata": {
        "id": "seiPgNQvRGQk",
        "colab_type": "code",
        "colab": {
          "base_uri": "https://localhost:8080/",
          "height": 119
        },
        "outputId": "71c5c5c2-04a7-4829-dbdf-e52b23b3dd8a"
      },
      "source": [
        "mylist = list(mydict.keys())\n",
        "mylist\n",
        "\n",
        "for value in mydict.values():\n",
        "  print(value)\n",
        "\n",
        "\n",
        "print(mydict.keys())"
      ],
      "execution_count": null,
      "outputs": [
        {
          "output_type": "stream",
          "text": [
            "Data Education Team\n",
            "Data Education Team & Data Student\n",
            "Data Student & WebDev Student\n",
            "Data Student\n",
            "Data Student & WebDev Student & Webdev Education Team\n",
            "dict_keys(['Pedro', 'Luke', 'Eduardo', 'Rita', 'Sonia'])\n"
          ],
          "name": "stdout"
        }
      ]
    },
    {
      "cell_type": "code",
      "metadata": {
        "id": "C7N-ev8_TeJ-",
        "colab_type": "code",
        "colab": {}
      },
      "source": [
        ""
      ],
      "execution_count": null,
      "outputs": []
    },
    {
      "cell_type": "code",
      "metadata": {
        "id": "zIw-iFv-ZEpb",
        "colab_type": "code",
        "colab": {
          "base_uri": "https://localhost:8080/",
          "height": 34
        },
        "outputId": "8182288b-d7a3-4511-e652-ca31b08b58bd"
      },
      "source": [
        "# lets see some properties of the keys of a dictionary -> type? indexable? iterable?\n",
        "mydict.keys()\n",
        "\n",
        "#what other datastructure could we use to make indexing easier?\n",
        "\n",
        "list(mydict.keys())\n",
        "\n",
        "#can we get the index of the position of a key in a dictionary? is it relevant?\n",
        "\n",
        "list(mydict.keys()).index(\"Eduardo\")\n",
        "\n",
        "print(list(mydict.keys()).index(\"Eduardo\"))\n"
      ],
      "execution_count": null,
      "outputs": [
        {
          "output_type": "stream",
          "text": [
            "2\n"
          ],
          "name": "stdout"
        }
      ]
    },
    {
      "cell_type": "code",
      "metadata": {
        "id": "YuVbfsxWULyR",
        "colab_type": "code",
        "colab": {
          "base_uri": "https://localhost:8080/",
          "height": 102
        },
        "outputId": "c05936a6-858d-4428-c3f3-f6466bcb40b9"
      },
      "source": [
        "list(mydict.items())"
      ],
      "execution_count": null,
      "outputs": [
        {
          "output_type": "execute_result",
          "data": {
            "text/plain": [
              "[('Pedro', 'Data Education Team'),\n",
              " ('Luke', 'Data Education Team & Data Student'),\n",
              " ('Eduardo', 'Data Student & WebDev Student'),\n",
              " ('Rita', 'Data Student'),\n",
              " ('Sonia', 'Data Student & WebDev Student & Webdev Education Team')]"
            ]
          },
          "metadata": {
            "tags": []
          },
          "execution_count": 25
        }
      ]
    },
    {
      "cell_type": "code",
      "metadata": {
        "id": "h3pZCv52aKgK",
        "colab_type": "code",
        "colab": {
          "base_uri": "https://localhost:8080/",
          "height": 34
        },
        "outputId": "167c63f4-1c53-4bd2-fa2e-616616f11287"
      },
      "source": [
        "mydict.values()"
      ],
      "execution_count": null,
      "outputs": [
        {
          "output_type": "execute_result",
          "data": {
            "text/plain": [
              "dict_values(['Data Education Team', 'Data Education Team', 'Data Student & WebDev Student', 'Data Student'])"
            ]
          },
          "metadata": {
            "tags": []
          },
          "execution_count": 17
        }
      ]
    },
    {
      "cell_type": "code",
      "metadata": {
        "id": "43-E4pSRVtBG",
        "colab_type": "code",
        "colab": {
          "base_uri": "https://localhost:8080/",
          "height": 102
        },
        "outputId": "09d27a73-57fb-4781-f75a-0b26cee1a6e8"
      },
      "source": [
        "mydict"
      ],
      "execution_count": null,
      "outputs": [
        {
          "output_type": "execute_result",
          "data": {
            "text/plain": [
              "{'Eduardo': 'Data Student & WebDev Student',\n",
              " 'Luke': 'Data Education Team & Data Student',\n",
              " 'Pedro': 'Data Education Team',\n",
              " 'Rita': 'Data Student',\n",
              " 'Sonia': 'Data Student & WebDev Student & Webdev Education Team'}"
            ]
          },
          "metadata": {
            "tags": []
          },
          "execution_count": 35
        }
      ]
    },
    {
      "cell_type": "code",
      "metadata": {
        "id": "bW1oCiY4VLaT",
        "colab_type": "code",
        "colab": {
          "base_uri": "https://localhost:8080/",
          "height": 85
        },
        "outputId": "2c0c630a-4b15-4587-e5b1-f6bac0f3fb5d"
      },
      "source": [
        "mydict.pop(\"Pedro\")\n",
        "mydict"
      ],
      "execution_count": null,
      "outputs": [
        {
          "output_type": "execute_result",
          "data": {
            "text/plain": [
              "{'Eduardo': 'Data Student & WebDev Student',\n",
              " 'Luke': 'Data Education Team & Data Student',\n",
              " 'Rita': 'Data Student',\n",
              " 'Sonia': 'Data Student & WebDev Student & Webdev Education Team'}"
            ]
          },
          "metadata": {
            "tags": []
          },
          "execution_count": 36
        }
      ]
    },
    {
      "cell_type": "code",
      "metadata": {
        "id": "p8mP4SyB2m_W",
        "colab_type": "code",
        "colab": {
          "base_uri": "https://localhost:8080/",
          "height": 51
        },
        "outputId": "f078bd22-35b9-468e-dc13-2bb23b3a73fd"
      },
      "source": [
        "#some other cool methods might seem familiar to you\n",
        "mydict['Pedro'] = \"Data Education Team\"\n",
        "print(mydict.pop(\"Pedro\")) #notice what is returned here\n",
        "print(mydict)\n",
        "\n",
        "mydict['Pedro'] = \"Data Education Team\""
      ],
      "execution_count": null,
      "outputs": [
        {
          "output_type": "stream",
          "text": [
            "Data Education Team\n",
            "{'Luke': 'Data Education Team', 'Eduardo': 'Data Student & WebDev Student', 'Rita': 'Data Student'}\n"
          ],
          "name": "stdout"
        }
      ]
    },
    {
      "cell_type": "code",
      "metadata": {
        "id": "BCEJO8oI3eMo",
        "colab_type": "code",
        "colab": {
          "base_uri": "https://localhost:8080/",
          "height": 68
        },
        "outputId": "ddf021c9-c97d-4ea7-f25d-4402d99da9ff"
      },
      "source": [
        "# removes the last inserted item\n",
        "mydict.popitem()\n",
        "mydict\n",
        "mydict['Pedro'] = \"Data Education Team\"\n",
        "mydict['Pedro'] = \"Data Education Team\"\n",
        "mydict\n"
      ],
      "execution_count": null,
      "outputs": [
        {
          "output_type": "execute_result",
          "data": {
            "text/plain": [
              "{'Eduardo': 'Data Student & WebDev Student',\n",
              " 'Luke': 'Data Education Team',\n",
              " 'Pedro': 'Data Education Team'}"
            ]
          },
          "metadata": {
            "tags": []
          },
          "execution_count": 44
        }
      ]
    },
    {
      "cell_type": "code",
      "metadata": {
        "id": "mK57MHNDbyZ0",
        "colab_type": "code",
        "colab": {
          "base_uri": "https://localhost:8080/",
          "height": 34
        },
        "outputId": "825fe80d-2082-4f98-c5a0-9c2756d0be06"
      },
      "source": [
        "#but dictionaries can have mixed keys/values as data types!\n",
        "\n",
        "# Creating a Dictionary  \n",
        "# with Mixed keys \n",
        "mydict = {'Name': 'Geeks', 1: [1, 2, 3, 4]} \n",
        "\n",
        "#pretty flexible right?\n",
        "mydict"
      ],
      "execution_count": null,
      "outputs": [
        {
          "output_type": "execute_result",
          "data": {
            "text/plain": [
              "{1: [1, 2, 3, 4], 'Name': 'Geeks'}"
            ]
          },
          "metadata": {
            "tags": []
          },
          "execution_count": 19
        }
      ]
    },
    {
      "cell_type": "code",
      "metadata": {
        "id": "QRXL_xFyWpRb",
        "colab_type": "code",
        "colab": {
          "base_uri": "https://localhost:8080/",
          "height": 306
        },
        "outputId": "0bbdbe65-7302-4d7e-e502-9eb7770529fc"
      },
      "source": [
        "# challenge -> let's make a dictionary out of the letters in a string\n",
        "sentence = \"this is a new text, pretty cool\"\n",
        "\n",
        "new_dict = {}\n",
        "for letter in sentence:\n",
        "\n",
        "  if letter in new_dict.keys():\n",
        "    new_dict[letter] += 1\n",
        "  else:\n",
        "    new_dict[letter] = 1\n",
        "\n",
        "new_dict\n",
        "\n",
        "\n"
      ],
      "execution_count": null,
      "outputs": [
        {
          "output_type": "execute_result",
          "data": {
            "text/plain": [
              "{' ': 6,\n",
              " ',': 1,\n",
              " 'a': 1,\n",
              " 'c': 1,\n",
              " 'e': 3,\n",
              " 'h': 1,\n",
              " 'i': 2,\n",
              " 'l': 1,\n",
              " 'n': 1,\n",
              " 'o': 2,\n",
              " 'p': 1,\n",
              " 'r': 1,\n",
              " 's': 2,\n",
              " 't': 5,\n",
              " 'w': 1,\n",
              " 'x': 1,\n",
              " 'y': 1}"
            ]
          },
          "metadata": {
            "tags": []
          },
          "execution_count": 40
        }
      ]
    },
    {
      "cell_type": "code",
      "metadata": {
        "id": "dDOevpR2Y12J",
        "colab_type": "code",
        "colab": {
          "base_uri": "https://localhost:8080/",
          "height": 187
        },
        "outputId": "1f3161d3-afae-4784-96c8-99da66eec2d1"
      },
      "source": [
        "sentence = \"this is a new text, pretty cool yes, this text is new and cool\"\n",
        "sentence.split(\" \")\n",
        "\n",
        "new_dict = {}\n",
        "for word in sentence.split(\" \"):\n",
        "\n",
        "  if word in new_dict.keys():\n",
        "    new_dict[word] += 1\n",
        "  else:\n",
        "    new_dict[word] = 1\n",
        "\n",
        "new_dict\n",
        "\n"
      ],
      "execution_count": null,
      "outputs": [
        {
          "output_type": "execute_result",
          "data": {
            "text/plain": [
              "{'a': 1,\n",
              " 'and': 1,\n",
              " 'cool': 2,\n",
              " 'is': 2,\n",
              " 'new': 2,\n",
              " 'pretty': 1,\n",
              " 'text': 1,\n",
              " 'text,': 1,\n",
              " 'this': 2,\n",
              " 'yes,': 1}"
            ]
          },
          "metadata": {
            "tags": []
          },
          "execution_count": 44
        }
      ]
    },
    {
      "cell_type": "code",
      "metadata": {
        "id": "ZxNdwEjj0SrQ",
        "colab_type": "code",
        "colab": {}
      },
      "source": [
        "# another method to explore\n",
        "mydict.items()"
      ],
      "execution_count": null,
      "outputs": []
    },
    {
      "cell_type": "code",
      "metadata": {
        "id": "uF_mt5ZDZ0a-",
        "colab_type": "code",
        "colab": {
          "base_uri": "https://localhost:8080/",
          "height": 85
        },
        "outputId": "ce69bc1f-b5df-4c3e-c0b5-62dd04994566"
      },
      "source": [
        "# let's bring it all together and \n",
        "[ (key, value) for key, value in mydict.items() ]"
      ],
      "execution_count": null,
      "outputs": [
        {
          "output_type": "execute_result",
          "data": {
            "text/plain": [
              "[('Luke', 'Data Education Team & Data Student'),\n",
              " ('Eduardo', 'Data Student & WebDev Student'),\n",
              " ('Rita', 'Data Student'),\n",
              " ('Sonia', 'Data Student & WebDev Student & Webdev Education Team')]"
            ]
          },
          "metadata": {
            "tags": []
          },
          "execution_count": 37
        }
      ]
    },
    {
      "cell_type": "code",
      "metadata": {
        "id": "QJqcFRTGWgSs",
        "colab_type": "code",
        "colab": {
          "base_uri": "https://localhost:8080/",
          "height": 85
        },
        "outputId": "e748ad1b-816a-4558-9f9f-77842d8483b9"
      },
      "source": [
        "list(mydict.items())"
      ],
      "execution_count": null,
      "outputs": [
        {
          "output_type": "execute_result",
          "data": {
            "text/plain": [
              "[('Luke', 'Data Education Team & Data Student'),\n",
              " ('Eduardo', 'Data Student & WebDev Student'),\n",
              " ('Rita', 'Data Student'),\n",
              " ('Sonia', 'Data Student & WebDev Student & Webdev Education Team')]"
            ]
          },
          "metadata": {
            "tags": []
          },
          "execution_count": 38
        }
      ]
    },
    {
      "cell_type": "code",
      "metadata": {
        "id": "tXH1Dxn1To03",
        "colab_type": "code",
        "colab": {
          "base_uri": "https://localhost:8080/",
          "height": 306
        },
        "outputId": "43fb62b7-f9a3-49d9-fa84-149dc8b3f534"
      },
      "source": [
        "# challenge -> let's make a dictionary out of the letters in a string\n",
        "sentence = \"this is a new text, pretty cool\"\n"
      ],
      "execution_count": null,
      "outputs": [
        {
          "output_type": "execute_result",
          "data": {
            "text/plain": [
              "{' ': 6,\n",
              " ',': 1,\n",
              " 'a': 1,\n",
              " 'c': 1,\n",
              " 'e': 3,\n",
              " 'h': 1,\n",
              " 'i': 2,\n",
              " 'l': 1,\n",
              " 'n': 1,\n",
              " 'o': 2,\n",
              " 'p': 1,\n",
              " 'r': 1,\n",
              " 's': 2,\n",
              " 't': 5,\n",
              " 'w': 1,\n",
              " 'x': 1,\n",
              " 'y': 1}"
            ]
          },
          "metadata": {
            "tags": []
          },
          "execution_count": 3
        }
      ]
    },
    {
      "cell_type": "code",
      "metadata": {
        "id": "-c1rM8Fb6mgc",
        "colab_type": "code",
        "colab": {}
      },
      "source": [
        "#solution\n",
        "mydict = {}\n",
        "\n",
        "for letter in sentence:\n",
        "  if letter in mydict.keys():\n",
        "    mydict[letter] +=1\n",
        "  else:\n",
        "    mydict[letter] = 1\n",
        "\n",
        "mydict"
      ],
      "execution_count": null,
      "outputs": []
    },
    {
      "cell_type": "code",
      "metadata": {
        "id": "Ta6bYafTUbq4",
        "colab_type": "code",
        "colab": {
          "base_uri": "https://localhost:8080/",
          "height": 34
        },
        "outputId": "cc4ad2e7-fb30-4e38-95ea-f7daf9baa53f"
      },
      "source": [
        "sentence = \"this is a new text, pretty cool\"\n",
        "sentence.split(\" \")\n",
        "mydict = {}\n",
        "for word in sentence.split(\" \"):\n",
        "  if word in mydict.keys():\n",
        "    mydict[word] +=1\n",
        "  else:\n",
        "    mydict[word] = 1\n",
        "\n",
        "mydict"
      ],
      "execution_count": null,
      "outputs": [
        {
          "output_type": "execute_result",
          "data": {
            "text/plain": [
              "{'a': 1, 'cool': 1, 'is': 1, 'new': 1, 'pretty': 1, 'text,': 1, 'this': 1}"
            ]
          },
          "metadata": {
            "tags": []
          },
          "execution_count": 5
        }
      ]
    },
    {
      "cell_type": "code",
      "metadata": {
        "id": "_RiFP2n7ZjM2",
        "colab_type": "code",
        "colab": {
          "base_uri": "https://localhost:8080/",
          "height": 221
        },
        "outputId": "b306fc1c-aa20-4336-a33b-4576f4eee933"
      },
      "source": [
        "\n",
        "keys = ['a','b','c','d','e','f'] \n",
        "values = [1,2,3,4,5,6,7] \n",
        "\n",
        "\n",
        "for key,value in zip(keys, values):\n",
        "  print(key)\n",
        "  print(value)\n",
        "\n",
        "\n",
        "\n",
        "\n"
      ],
      "execution_count": null,
      "outputs": [
        {
          "output_type": "stream",
          "text": [
            "a\n",
            "1\n",
            "b\n",
            "2\n",
            "c\n",
            "3\n",
            "d\n",
            "4\n",
            "e\n",
            "5\n",
            "f\n",
            "6\n"
          ],
          "name": "stdout"
        }
      ]
    },
    {
      "cell_type": "code",
      "metadata": {
        "id": "Q1xaPyKuaIMF",
        "colab_type": "code",
        "colab": {
          "base_uri": "https://localhost:8080/",
          "height": 34
        },
        "outputId": "1e97dfa3-7d89-4426-d812-f5b7209036ef"
      },
      "source": [
        "{key: value for key,value in zip(keys,values)}"
      ],
      "execution_count": null,
      "outputs": [
        {
          "output_type": "execute_result",
          "data": {
            "text/plain": [
              "{'a': 1, 'b': 2, 'c': 3, 'd': 4, 'e': 5, 'f': 6}"
            ]
          },
          "metadata": {
            "tags": []
          },
          "execution_count": 51
        }
      ]
    },
    {
      "cell_type": "code",
      "metadata": {
        "id": "O0z-zDDO5nVW",
        "colab_type": "code",
        "colab": {
          "base_uri": "https://localhost:8080/",
          "height": 34
        },
        "outputId": "b90b0b29-377f-461d-c58a-b19ac857b40e"
      },
      "source": [
        "\n",
        "keys = ['a','b','c','d','e'] \n",
        "values = [1,2,3,4,5] \n",
        "\n",
        "mydict = {key:value for (key,value) in zip(keys,values)}\n",
        "mydict\n",
        "\n",
        "#do we always need to iterate over both?\n",
        "#this is a special case :)\n",
        "mydict = {x: x**2 for x in range(10)}\n",
        "mydict"
      ],
      "execution_count": null,
      "outputs": [
        {
          "output_type": "execute_result",
          "data": {
            "text/plain": [
              "{0: 0, 1: 1, 2: 4, 3: 9, 4: 16, 5: 25, 6: 36, 7: 49, 8: 64, 9: 81}"
            ]
          },
          "metadata": {
            "tags": []
          },
          "execution_count": 33
        }
      ]
    },
    {
      "cell_type": "code",
      "metadata": {
        "id": "yjaDvo8XX9MT",
        "colab_type": "code",
        "colab": {
          "base_uri": "https://localhost:8080/",
          "height": 34
        },
        "outputId": "d12532a2-9b34-4ab0-d296-062729e285cf"
      },
      "source": [
        "#important methods to learn\n",
        "\n",
        "mydict.values()\n",
        "\n",
        "#mydict.pop(2)\n"
      ],
      "execution_count": null,
      "outputs": [
        {
          "output_type": "execute_result",
          "data": {
            "text/plain": [
              "4"
            ]
          },
          "metadata": {
            "tags": []
          },
          "execution_count": 35
        }
      ]
    },
    {
      "cell_type": "code",
      "metadata": {
        "id": "VWBN1mWSYPvy",
        "colab_type": "code",
        "colab": {
          "base_uri": "https://localhost:8080/",
          "height": 34
        },
        "outputId": "4f2e442f-1eeb-4341-f6a7-e406cfbc6ccf"
      },
      "source": [
        "mydict"
      ],
      "execution_count": null,
      "outputs": [
        {
          "output_type": "execute_result",
          "data": {
            "text/plain": [
              "{0: 0, 1: 1, 3: 9, 4: 16, 5: 25, 6: 36, 7: 49, 8: 64, 9: 81}"
            ]
          },
          "metadata": {
            "tags": []
          },
          "execution_count": 36
        }
      ]
    },
    {
      "cell_type": "code",
      "metadata": {
        "id": "UsMQPPtdb5Ij",
        "colab_type": "code",
        "colab": {}
      },
      "source": [
        "categories = [\"Data Student\", \"WebDev Studdent\", \"WebDev Education Team\", \"Data Education Team\"]\n",
        "\n",
        "# welcome to Tuples!\n",
        "pedro = (categories[3],)\n",
        "luke = (categories[0],categories[3])\n",
        "eduardo = (categories[1], categories[0])\n"
      ],
      "execution_count": null,
      "outputs": []
    },
    {
      "cell_type": "code",
      "metadata": {
        "id": "OEXiOpYiccI2",
        "colab_type": "code",
        "colab": {
          "base_uri": "https://localhost:8080/",
          "height": 34
        },
        "outputId": "0ad0db88-6dfa-47f4-f8dd-3e2ff033e812"
      },
      "source": [
        "registration = {}\n",
        "registration[\"15022020\"] = (\"matteo\",\"cat\")\n",
        "registration[\"17022020\"] = (\"matteo\",\"cat\",\"eduardo\")\n",
        "\n",
        "registration\n"
      ],
      "execution_count": null,
      "outputs": [
        {
          "output_type": "execute_result",
          "data": {
            "text/plain": [
              "{'15022020': ('matteo', 'cat'), '17022020': ('matteo', 'cat', 'eduardo')}"
            ]
          },
          "metadata": {
            "tags": []
          },
          "execution_count": 59
        }
      ]
    },
    {
      "cell_type": "code",
      "metadata": {
        "id": "VBMzxNl64tBY",
        "colab_type": "code",
        "colab": {
          "base_uri": "https://localhost:8080/",
          "height": 34
        },
        "outputId": "18c23ad3-e17b-4b53-89ff-3f4226664353"
      },
      "source": [
        "categories = [\"Data Student\", \"WebDev Studdent\", \"WebDev Education Team\", \"Data Education Team\"]\n",
        "\n",
        "# welcome to Tuples!\n",
        "pedro = (categories[3],)\n",
        "luke = (categories[0],categories[3])\n",
        "eduardo = (categories[1], categories[0])\n",
        "\n",
        "datapt = {}\n",
        "\n",
        "datapt[\"pedro\"] = pedro\n",
        "datapt[\"luke\"] = luke\n",
        "datapt[\"eduardo\"] = eduardo\n",
        "\n",
        "# now how can I access the interiors of a Tuple?\n",
        "type(datapt[\"luke\"][0])\n",
        "\n",
        "#don't mess with tuples, you cant do much with them once they have been created\n",
        "\n",
        "#luke.append(\"WebDev Student\")\n",
        "\n",
        "# any ideas to workaround the fact that tuples are immutable?\n",
        "# turn them into something less badass, and then back to tuple\n",
        "\n"
      ],
      "execution_count": null,
      "outputs": [
        {
          "output_type": "execute_result",
          "data": {
            "text/plain": [
              "str"
            ]
          },
          "metadata": {
            "tags": []
          },
          "execution_count": 86
        }
      ]
    },
    {
      "cell_type": "code",
      "metadata": {
        "id": "4Tdg8PFG6mc3",
        "colab_type": "code",
        "colab": {
          "base_uri": "https://localhost:8080/",
          "height": 50
        },
        "outputId": "6c2ba0c2-c8e4-4f98-9df7-9ac721522082"
      },
      "source": [
        "luke = (categories[0],categories[3])\n",
        "print(luke)\n",
        "new = list(luke)\n",
        "new.append(categories[1])\n",
        "luke = tuple(new)\n",
        "luke\n",
        "\n"
      ],
      "execution_count": null,
      "outputs": [
        {
          "output_type": "stream",
          "text": [
            "('Data Student', 'Data Education Team')\n"
          ],
          "name": "stdout"
        },
        {
          "output_type": "execute_result",
          "data": {
            "text/plain": [
              "('Data Student', 'Data Education Team', 'WebDev Studdent')"
            ]
          },
          "metadata": {
            "tags": []
          },
          "execution_count": 2
        }
      ]
    },
    {
      "cell_type": "code",
      "metadata": {
        "id": "dfbWPJqvd2fl",
        "colab_type": "code",
        "colab": {
          "base_uri": "https://localhost:8080/",
          "height": 34
        },
        "outputId": "259a97af-ba2a-4b1f-8550-7d1389266dca"
      },
      "source": [
        "data_class = {\"pedro\",\"monique\",\"diogo\",\"keren\",\"pedro\",\"luke\",\"luke\",\"paola\",\"sonia\", \"eduardo\"}\n",
        "\n",
        "web_devs = {\"sonia\",\"eduardo\", \"carneiro 1st\"}\n",
        "\n",
        "web_devs.intersection(data_class)\n",
        "\n"
      ],
      "execution_count": null,
      "outputs": [
        {
          "output_type": "execute_result",
          "data": {
            "text/plain": [
              "{'eduardo', 'sonia'}"
            ]
          },
          "metadata": {
            "tags": []
          },
          "execution_count": 63
        }
      ]
    },
    {
      "cell_type": "code",
      "metadata": {
        "id": "Gjl0OEePyCTF",
        "colab_type": "code",
        "colab": {
          "base_uri": "https://localhost:8080/",
          "height": 34
        },
        "outputId": "b7d5602b-be60-4ef3-b831-3f3f8dcbf8ed"
      },
      "source": [
        "some_data = [\"pedro\",\"monique\",\"diogo\",\"keren\",\"pedro\",\"luke\",\"luke\",\"paola\",\"sonia\", \"eduardo\"]\n",
        "\n",
        "web_devs = {\"sonia\",\"eduardo\", \"carneiro 1st\"}\n",
        "\n",
        "#notive the type of the output!\n",
        "set(some_data)\n",
        "\n",
        "web_devs.intersection(some_data)\n",
        "\n",
        "\n",
        "#extremely useful to get unique values inside an iterable!\n",
        "\n",
        "#extremely useful to perform join logic\n"
      ],
      "execution_count": null,
      "outputs": [
        {
          "output_type": "execute_result",
          "data": {
            "text/plain": [
              "{'eduardo', 'sonia'}"
            ]
          },
          "metadata": {
            "tags": []
          },
          "execution_count": 65
        }
      ]
    },
    {
      "cell_type": "code",
      "metadata": {
        "id": "pX1IslFo0GTt",
        "colab_type": "code",
        "colab": {
          "base_uri": "https://localhost:8080/",
          "height": 34
        },
        "outputId": "17488d2a-21b5-45fe-a266-68a620a80d9a"
      },
      "source": [
        "web_devs.difference(set(some_data))"
      ],
      "execution_count": null,
      "outputs": [
        {
          "output_type": "execute_result",
          "data": {
            "text/plain": [
              "{'carneiro 1st'}"
            ]
          },
          "metadata": {
            "tags": []
          },
          "execution_count": 91
        }
      ]
    },
    {
      "cell_type": "code",
      "metadata": {
        "id": "du0kvvu7V9lb",
        "colab_type": "code",
        "colab": {
          "base_uri": "https://localhost:8080/",
          "height": 34
        },
        "outputId": "1c95b114-5cb3-402e-dedf-68a5cc1ebe32"
      },
      "source": [
        "#how about a set comprehension?\n",
        "\n",
        "newset = {letter for letter in'pedroooo' if letter != 'o'}\n",
        "\n",
        "'p' in newset\n",
        "newset.add('z')\n",
        "newset\n",
        "\n",
        "newset.issubset({'p','e','d','r','o','z'})"
      ],
      "execution_count": null,
      "outputs": [
        {
          "output_type": "execute_result",
          "data": {
            "text/plain": [
              "True"
            ]
          },
          "metadata": {
            "tags": []
          },
          "execution_count": 32
        }
      ]
    },
    {
      "cell_type": "code",
      "metadata": {
        "id": "Z4XpJkKMzPEd",
        "colab_type": "code",
        "colab": {
          "base_uri": "https://localhost:8080/",
          "height": 34
        },
        "outputId": "29c1a492-2784-49da-fa33-264937d54c4c"
      },
      "source": [
        "# random practice\n",
        "\n",
        "ophelia = ('Jhonatas','Maria','Zoe','Joan')\n",
        "\n",
        "ophelia.count('Maria')\n",
        "ophelia.index('Jhonatas')"
      ],
      "execution_count": null,
      "outputs": [
        {
          "output_type": "execute_result",
          "data": {
            "text/plain": [
              "0"
            ]
          },
          "metadata": {
            "tags": []
          },
          "execution_count": 7
        }
      ]
    },
    {
      "cell_type": "code",
      "metadata": {
        "id": "RWuGfkTaU48F",
        "colab_type": "code",
        "colab": {}
      },
      "source": [
        "new_opehlia = ophelia + ('pedro','felipython')"
      ],
      "execution_count": null,
      "outputs": []
    },
    {
      "cell_type": "code",
      "metadata": {
        "id": "wyrqQynwVGQj",
        "colab_type": "code",
        "colab": {
          "base_uri": "https://localhost:8080/",
          "height": 34
        },
        "outputId": "f8a41052-e5d9-467a-a587-34f84014253b"
      },
      "source": [
        "new_opehlia"
      ],
      "execution_count": null,
      "outputs": [
        {
          "output_type": "execute_result",
          "data": {
            "text/plain": [
              "('Jhonatas', 'Maria', 'Zoe', 'Joan', 'pedro', 'felipython')"
            ]
          },
          "metadata": {
            "tags": []
          },
          "execution_count": 12
        }
      ]
    },
    {
      "cell_type": "code",
      "metadata": {
        "id": "va0xW84MVKzw",
        "colab_type": "code",
        "colab": {
          "base_uri": "https://localhost:8080/",
          "height": 34
        },
        "outputId": "286519e8-6b99-4d2c-ea27-e79f2abb3d70"
      },
      "source": [
        "new_opehlia[1::2]"
      ],
      "execution_count": null,
      "outputs": [
        {
          "output_type": "execute_result",
          "data": {
            "text/plain": [
              "('Maria', 'Joan', 'felipython')"
            ]
          },
          "metadata": {
            "tags": []
          },
          "execution_count": 19
        }
      ]
    },
    {
      "cell_type": "code",
      "metadata": {
        "id": "26-8JT1yVSHO",
        "colab_type": "code",
        "colab": {
          "base_uri": "https://localhost:8080/",
          "height": 34
        },
        "outputId": "726ad150-8d81-4d9b-9a65-1e35707d8cdf"
      },
      "source": [
        ""
      ],
      "execution_count": null,
      "outputs": [
        {
          "output_type": "execute_result",
          "data": {
            "text/plain": [
              "{'J', 'a', 'h', 'n', 'o', 's', 't'}"
            ]
          },
          "metadata": {
            "tags": []
          },
          "execution_count": 20
        }
      ]
    },
    {
      "cell_type": "code",
      "metadata": {
        "id": "3AlzswHtV5fP",
        "colab_type": "code",
        "colab": {}
      },
      "source": [
        ""
      ],
      "execution_count": null,
      "outputs": []
    }
  ]
}