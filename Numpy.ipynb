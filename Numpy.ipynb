{
  "nbformat": 4,
  "nbformat_minor": 0,
  "metadata": {
    "colab": {
      "name": "Numpy.ipynb",
      "provenance": [],
      "collapsed_sections": [],
      "include_colab_link": true
    },
    "kernelspec": {
      "name": "python3",
      "display_name": "Python 3"
    }
  },
  "cells": [
    {
      "cell_type": "markdown",
      "metadata": {
        "id": "view-in-github",
        "colab_type": "text"
      },
      "source": [
        "<a href=\"https://colab.research.google.com/github/jgoncsilva/Classes_IronHack/blob/master/Numpy.ipynb\" target=\"_parent\"><img src=\"https://colab.research.google.com/assets/colab-badge.svg\" alt=\"Open In Colab\"/></a>"
      ]
    },
    {
      "cell_type": "markdown",
      "metadata": {
        "id": "Jbye8i8KyJoD",
        "colab_type": "text"
      },
      "source": [
        "## Welcome to NumPy\n",
        "\n",
        "### Differences between lists and arrays\n",
        "\n",
        "1 - Efficient storage (no type)\n",
        "\n",
        "2 - Data Operation \n",
        "\n",
        "3 - Difensive programming against dynamic typing (only boolean, int <= 64 bit, float <= 128bits)"
      ]
    },
    {
      "cell_type": "code",
      "metadata": {
        "id": "aqROTFbgw5BL",
        "colab_type": "code",
        "colab": {}
      },
      "source": [
        ""
      ],
      "execution_count": null,
      "outputs": []
    },
    {
      "cell_type": "code",
      "metadata": {
        "id": "n__PpHk1xnIG",
        "colab_type": "code",
        "colab": {}
      },
      "source": [
        "import numpy as np"
      ],
      "execution_count": null,
      "outputs": []
    },
    {
      "cell_type": "markdown",
      "metadata": {
        "id": "4yleUsZBy0d1",
        "colab_type": "text"
      },
      "source": [
        "### Obtain array"
      ]
    },
    {
      "cell_type": "code",
      "metadata": {
        "id": "s321-uBmyzIW",
        "colab_type": "code",
        "colab": {}
      },
      "source": [
        "lst = [i for i in range(100)]\n",
        "\n",
        "numpy_array = np.array(lst)\n",
        "\n",
        "numpy_array"
      ],
      "execution_count": null,
      "outputs": []
    },
    {
      "cell_type": "code",
      "metadata": {
        "id": "pbYu64_ZzFRy",
        "colab_type": "code",
        "colab": {}
      },
      "source": [
        "print(np.zeros((3,2), dtype = int) )# int, float, '<U1'"
      ],
      "execution_count": null,
      "outputs": []
    },
    {
      "cell_type": "code",
      "metadata": {
        "id": "XopNjAV1zUTo",
        "colab_type": "code",
        "colab": {}
      },
      "source": [
        "np.ones((2,3), dtype = int)"
      ],
      "execution_count": null,
      "outputs": []
    },
    {
      "cell_type": "code",
      "metadata": {
        "id": "Z3RwmJBOzYo-",
        "colab_type": "code",
        "colab": {}
      },
      "source": [
        "np.full((4,5), 3.14)"
      ],
      "execution_count": null,
      "outputs": []
    },
    {
      "cell_type": "code",
      "metadata": {
        "id": "CY3ONiUfzlLC",
        "colab_type": "code",
        "colab": {}
      },
      "source": [
        "np.eye(4, dtype = int)"
      ],
      "execution_count": null,
      "outputs": []
    },
    {
      "cell_type": "code",
      "metadata": {
        "id": "1KBcBc19ze1J",
        "colab_type": "code",
        "colab": {}
      },
      "source": [
        "np.random.random((4,5)) "
      ],
      "execution_count": null,
      "outputs": []
    },
    {
      "cell_type": "code",
      "metadata": {
        "id": "8iwbIIcbzo2r",
        "colab_type": "code",
        "colab": {}
      },
      "source": [
        "np.arange(3,17,2)"
      ],
      "execution_count": null,
      "outputs": []
    },
    {
      "cell_type": "markdown",
      "metadata": {
        "id": "AQTkjVX_9s8A",
        "colab_type": "text"
      },
      "source": [
        "### Exporting Data From Array"
      ]
    },
    {
      "cell_type": "code",
      "metadata": {
        "id": "uaYxL9kj95DD",
        "colab_type": "code",
        "colab": {}
      },
      "source": [
        "a = np.random.random((2,3))\n",
        "a"
      ],
      "execution_count": null,
      "outputs": []
    },
    {
      "cell_type": "code",
      "metadata": {
        "id": "5BKENs_99v_t",
        "colab_type": "code",
        "colab": {}
      },
      "source": [
        "print(a[0])"
      ],
      "execution_count": null,
      "outputs": []
    },
    {
      "cell_type": "code",
      "metadata": {
        "id": "pGuIY_O_LKcZ",
        "colab_type": "code",
        "colab": {}
      },
      "source": [
        "print(a[:,0])"
      ],
      "execution_count": null,
      "outputs": []
    },
    {
      "cell_type": "code",
      "metadata": {
        "id": "sTmVL5ZnLLp2",
        "colab_type": "code",
        "colab": {}
      },
      "source": [
        "print(a[1,2])"
      ],
      "execution_count": null,
      "outputs": []
    },
    {
      "cell_type": "markdown",
      "metadata": {
        "id": "3lgAUN2Ayz1p",
        "colab_type": "text"
      },
      "source": [
        "### Basics"
      ]
    },
    {
      "cell_type": "code",
      "metadata": {
        "id": "zw0Mp8qx0F-0",
        "colab_type": "code",
        "colab": {}
      },
      "source": [
        "np_arr = np.ones((2,5), dtype = int)"
      ],
      "execution_count": null,
      "outputs": []
    },
    {
      "cell_type": "code",
      "metadata": {
        "id": "F_HBL_rH0QY2",
        "colab_type": "code",
        "colab": {}
      },
      "source": [
        "np_arr.size"
      ],
      "execution_count": null,
      "outputs": []
    },
    {
      "cell_type": "code",
      "metadata": {
        "id": "riacsO4R0YF6",
        "colab_type": "code",
        "colab": {}
      },
      "source": [
        "np_arr.ndim"
      ],
      "execution_count": null,
      "outputs": []
    },
    {
      "cell_type": "code",
      "metadata": {
        "id": "t0-pKxOw0UnB",
        "colab_type": "code",
        "colab": {}
      },
      "source": [
        "np_arr.shape"
      ],
      "execution_count": null,
      "outputs": []
    },
    {
      "cell_type": "code",
      "metadata": {
        "id": "jbgHAbu-0c2z",
        "colab_type": "code",
        "colab": {}
      },
      "source": [
        "np_arr.nbytes  #tot size"
      ],
      "execution_count": null,
      "outputs": []
    },
    {
      "cell_type": "code",
      "metadata": {
        "id": "54eCqhTZ0iil",
        "colab_type": "code",
        "colab": {}
      },
      "source": [
        "np_arr.itemsize  #size item"
      ],
      "execution_count": null,
      "outputs": []
    },
    {
      "cell_type": "markdown",
      "metadata": {
        "id": "vPl98JaH0rkx",
        "colab_type": "text"
      },
      "source": [
        "#### Indexing"
      ]
    },
    {
      "cell_type": "code",
      "metadata": {
        "id": "7i8ebZr70tSn",
        "colab_type": "code",
        "colab": {}
      },
      "source": [
        "one_dim_arr = np.arange(44)\n",
        "print(one_dim_arr)"
      ],
      "execution_count": null,
      "outputs": []
    },
    {
      "cell_type": "code",
      "metadata": {
        "id": "OHUsOGBQ0386",
        "colab_type": "code",
        "colab": {}
      },
      "source": [
        "one_dim_arr[3]"
      ],
      "execution_count": null,
      "outputs": []
    },
    {
      "cell_type": "code",
      "metadata": {
        "id": "JMrUq_SO08F9",
        "colab_type": "code",
        "colab": {}
      },
      "source": [
        "one_dim_arr[-1]"
      ],
      "execution_count": null,
      "outputs": []
    },
    {
      "cell_type": "code",
      "metadata": {
        "id": "R4BTMRmH0-pF",
        "colab_type": "code",
        "colab": {}
      },
      "source": [
        "two_dim_arr = one_dim_arr.reshape(2,2,11)   # Note reshape\n",
        "print(two_dim_arr)"
      ],
      "execution_count": null,
      "outputs": []
    },
    {
      "cell_type": "code",
      "metadata": {
        "id": "Ia0AVD2x1TW2",
        "colab_type": "code",
        "colab": {}
      },
      "source": [
        "two_dim_arr [1,0,1]"
      ],
      "execution_count": null,
      "outputs": []
    },
    {
      "cell_type": "markdown",
      "metadata": {
        "id": "I-bDDrJt1aFp",
        "colab_type": "text"
      },
      "source": [
        "my_arr [start : stop : step]"
      ]
    },
    {
      "cell_type": "code",
      "metadata": {
        "id": "RSQm-KuM1w1a",
        "colab_type": "code",
        "colab": {}
      },
      "source": [
        "one_dim_arr[1:7:2]"
      ],
      "execution_count": null,
      "outputs": []
    },
    {
      "cell_type": "code",
      "metadata": {
        "id": "Vp4mxniM112z",
        "colab_type": "code",
        "colab": {}
      },
      "source": [
        "a = 1\n",
        "two_dim_arr[1,4]"
      ],
      "execution_count": null,
      "outputs": []
    },
    {
      "cell_type": "markdown",
      "metadata": {
        "id": "Kt0_Do5J2BFW",
        "colab_type": "text"
      },
      "source": [
        "#### Concatenate\n"
      ]
    },
    {
      "cell_type": "code",
      "metadata": {
        "id": "TKvvki8-8GlM",
        "colab_type": "code",
        "colab": {}
      },
      "source": [
        "x = np.full((2,5),2)\n",
        "x"
      ],
      "execution_count": null,
      "outputs": []
    },
    {
      "cell_type": "code",
      "metadata": {
        "id": "yRVJRgwk8JBz",
        "colab_type": "code",
        "colab": {}
      },
      "source": [
        "y = np.full((2,5),6)\n",
        "y"
      ],
      "execution_count": null,
      "outputs": []
    },
    {
      "cell_type": "code",
      "metadata": {
        "id": "INJqrtNr2Abp",
        "colab_type": "code",
        "colab": {}
      },
      "source": [
        "vstack_arr = np.vstack ([x,y])\n",
        "print(vstack_arr)"
      ],
      "execution_count": null,
      "outputs": []
    },
    {
      "cell_type": "code",
      "metadata": {
        "id": "m1gy5_4K2edQ",
        "colab_type": "code",
        "colab": {}
      },
      "source": [
        "hstack_arr = np.hstack ([x,y])\n",
        "print(hstack_arr)"
      ],
      "execution_count": null,
      "outputs": []
    },
    {
      "cell_type": "markdown",
      "metadata": {
        "id": "pLKPqiRA3Brm",
        "colab_type": "text"
      },
      "source": [
        "#### Transpose"
      ]
    },
    {
      "cell_type": "code",
      "metadata": {
        "id": "-P0cdoNnH238",
        "colab_type": "code",
        "colab": {}
      },
      "source": [
        "my_arr = np.zeros((2,3,4,5))"
      ],
      "execution_count": null,
      "outputs": []
    },
    {
      "cell_type": "code",
      "metadata": {
        "id": "IsgmdWhf3Drv",
        "colab_type": "code",
        "colab": {}
      },
      "source": [
        "np.shape(np.transpose(my_arr))"
      ],
      "execution_count": null,
      "outputs": []
    },
    {
      "cell_type": "markdown",
      "metadata": {
        "id": "77zIcS0X2m4d",
        "colab_type": "text"
      },
      "source": [
        "###UFunc"
      ]
    },
    {
      "cell_type": "code",
      "metadata": {
        "id": "mSPPgw7j2obL",
        "colab_type": "code",
        "colab": {}
      },
      "source": [
        "x + 2"
      ],
      "execution_count": null,
      "outputs": []
    },
    {
      "cell_type": "code",
      "metadata": {
        "id": "FQcnQYfw2sIJ",
        "colab_type": "code",
        "colab": {}
      },
      "source": [
        "x * 4"
      ],
      "execution_count": null,
      "outputs": []
    },
    {
      "cell_type": "code",
      "metadata": {
        "id": "ORz3kpJZ2v5B",
        "colab_type": "code",
        "colab": {}
      },
      "source": [
        "y // 5"
      ],
      "execution_count": null,
      "outputs": []
    },
    {
      "cell_type": "code",
      "metadata": {
        "id": "5yTATmz42yjY",
        "colab_type": "code",
        "colab": {}
      },
      "source": [
        "y / 5"
      ],
      "execution_count": null,
      "outputs": []
    },
    {
      "cell_type": "code",
      "metadata": {
        "id": "9dhK4Blf26lI",
        "colab_type": "code",
        "colab": {}
      },
      "source": [
        "np.add(x,y)"
      ],
      "execution_count": null,
      "outputs": []
    },
    {
      "cell_type": "code",
      "metadata": {
        "id": "4cUQcZuJ28Sw",
        "colab_type": "code",
        "colab": {}
      },
      "source": [
        "np.multiply(x,y)"
      ],
      "execution_count": null,
      "outputs": []
    },
    {
      "cell_type": "code",
      "metadata": {
        "id": "KsDqhIF1eL7q",
        "colab_type": "code",
        "colab": {}
      },
      "source": [
        "x + y"
      ],
      "execution_count": null,
      "outputs": []
    },
    {
      "cell_type": "markdown",
      "metadata": {
        "id": "ORQKyOAy3P9z",
        "colab_type": "text"
      },
      "source": [
        "### Aggregations"
      ]
    },
    {
      "cell_type": "code",
      "metadata": {
        "id": "GZpBTXBxhsBT",
        "colab_type": "code",
        "colab": {}
      },
      "source": [
        "rand = np.random.random ((4,2,3))\n",
        "rand"
      ],
      "execution_count": null,
      "outputs": []
    },
    {
      "cell_type": "code",
      "metadata": {
        "id": "koU3yEDr2-xZ",
        "colab_type": "code",
        "colab": {}
      },
      "source": [
        "np.shape(np.sum(rand, axis = 1))   #axis"
      ],
      "execution_count": null,
      "outputs": []
    },
    {
      "cell_type": "code",
      "metadata": {
        "id": "angG1z9nGiIP",
        "colab_type": "code",
        "colab": {}
      },
      "source": [
        "rand > 0.5"
      ],
      "execution_count": null,
      "outputs": []
    },
    {
      "cell_type": "code",
      "metadata": {
        "id": "36z605Xf3XrU",
        "colab_type": "code",
        "colab": {}
      },
      "source": [
        "rand[rand > 0.5]"
      ],
      "execution_count": null,
      "outputs": []
    },
    {
      "cell_type": "code",
      "metadata": {
        "id": "QZPQ_-yxkqAi",
        "colab_type": "code",
        "colab": {}
      },
      "source": [
        "np.min(rand, axis = 1) #max, axis not to collapse"
      ],
      "execution_count": null,
      "outputs": []
    },
    {
      "cell_type": "markdown",
      "metadata": {
        "id": "EmJueNw6P5j4",
        "colab_type": "text"
      },
      "source": [
        "##Additional"
      ]
    },
    {
      "cell_type": "code",
      "metadata": {
        "id": "apCNUiYPPq56",
        "colab_type": "code",
        "colab": {}
      },
      "source": [
        "first_arr = np.random.random((3,3)) * 6\n",
        "first_arr"
      ],
      "execution_count": null,
      "outputs": []
    },
    {
      "cell_type": "code",
      "metadata": {
        "id": "mScnilEnPq59",
        "colab_type": "code",
        "colab": {}
      },
      "source": [
        "second_arr = np.random.random((3,4)) * 61\n",
        "second_arr"
      ],
      "execution_count": null,
      "outputs": []
    },
    {
      "cell_type": "code",
      "metadata": {
        "id": "yaMCfwdqPq5_",
        "colab_type": "code",
        "colab": {}
      },
      "source": [
        "division_arr = np.divide(first_arr, second_arr)\n",
        "division_arr"
      ],
      "execution_count": null,
      "outputs": []
    },
    {
      "cell_type": "code",
      "metadata": {
        "id": "qSakj4JwIOnZ",
        "colab_type": "code",
        "colab": {}
      },
      "source": [
        ""
      ],
      "execution_count": null,
      "outputs": []
    }
  ]
}