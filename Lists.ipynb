{
  "nbformat": 4,
  "nbformat_minor": 0,
  "metadata": {
    "colab": {
      "name": "Lists.ipynb",
      "provenance": [],
      "collapsed_sections": [],
      "include_colab_link": true
    },
    "kernelspec": {
      "name": "python3",
      "display_name": "Python 3"
    }
  },
  "cells": [
    {
      "cell_type": "markdown",
      "metadata": {
        "id": "view-in-github",
        "colab_type": "text"
      },
      "source": [
        "<a href=\"https://colab.research.google.com/github/jgoncsilva/Classes_IronHack/blob/master/Lists.ipynb\" target=\"_parent\"><img src=\"https://colab.research.google.com/assets/colab-badge.svg\" alt=\"Open In Colab\"/></a>"
      ]
    },
    {
      "cell_type": "markdown",
      "metadata": {
        "id": "n2JSYfPWSLmQ",
        "colab_type": "text"
      },
      "source": [
        "The objective of this lesson will be to review Lists (starting by covering the pre-work) and then deep diving into more complex uses of lists such as list comprehensions\n",
        "\n",
        "For a good overview of lists and other data structures, check out the following reference: https://docs.python.org/3/tutorial/datastructures.html\n",
        "\n",
        "\n",
        "\n"
      ]
    },
    {
      "cell_type": "code",
      "metadata": {
        "id": "q3yBTjwoY3N_",
        "colab_type": "code",
        "colab": {}
      },
      "source": [
        ""
      ],
      "execution_count": null,
      "outputs": []
    },
    {
      "cell_type": "code",
      "metadata": {
        "id": "1prNq26VZFey",
        "colab_type": "code",
        "colab": {
          "base_uri": "https://localhost:8080/",
          "height": 34
        },
        "outputId": "4bb4885e-51d4-4acf-88d3-a583e1f6f61b"
      },
      "source": [
        "mylist = []\n",
        "\n",
        "mylist.append(\"1\")\n",
        "mylist.append(\"Pedro\")\n",
        "mylist.append(0)\n",
        "\n",
        "mylist2 = [\"hello\",\"goobye\"]\n",
        "\n",
        "mylist + mylist2\n",
        "\n",
        "# what happens if I multiply a list by 2? -> gets duplicated\n",
        "mylist2*2\n"
      ],
      "execution_count": null,
      "outputs": [
        {
          "output_type": "execute_result",
          "data": {
            "text/plain": [
              "['hello', 'goobye', 'hello', 'goobye']"
            ]
          },
          "metadata": {
            "tags": []
          },
          "execution_count": 10
        }
      ]
    },
    {
      "cell_type": "code",
      "metadata": {
        "id": "7y0SbfCvbDty",
        "colab_type": "code",
        "colab": {
          "base_uri": "https://localhost:8080/",
          "height": 34
        },
        "outputId": "8c067a02-1e63-49d2-f8d7-463df4f83e90"
      },
      "source": [
        "\n",
        "mylist = [1,2,3,4,5,6,1,1,2]\n",
        "\n",
        "mylist.count(1)\n",
        "\n",
        "mylist.pop()\n",
        "\n",
        "mylist.clear()\n",
        "\n",
        "mylist = [\"Pedro\",\"Francico\", \"Maria\",\"Eduardo\"]\n",
        "\n",
        "mylist.index(\"Maria\")\n",
        "\n"
      ],
      "execution_count": null,
      "outputs": [
        {
          "output_type": "execute_result",
          "data": {
            "text/plain": [
              "2"
            ]
          },
          "metadata": {
            "tags": []
          },
          "execution_count": 15
        }
      ]
    },
    {
      "cell_type": "code",
      "metadata": {
        "id": "PMAAlzdidJlO",
        "colab_type": "code",
        "colab": {
          "base_uri": "https://localhost:8080/",
          "height": 85
        },
        "outputId": "a7a0ad39-9019-4d0d-c351-1703b50ffbc3"
      },
      "source": [
        "for name in mylist:\n",
        "  if len(name) <= 5:\n",
        "    print(\"cool name\")\n",
        "  else:\n",
        "    print(\"long name\")"
      ],
      "execution_count": null,
      "outputs": [
        {
          "output_type": "stream",
          "text": [
            "cool name\n",
            "long name\n",
            "cool name\n",
            "long name\n"
          ],
          "name": "stdout"
        }
      ]
    },
    {
      "cell_type": "code",
      "metadata": {
        "id": "qOhqsBWnSWuP",
        "colab_type": "code",
        "colab": {
          "base_uri": "https://localhost:8080/",
          "height": 51
        },
        "outputId": "1e8c82ab-9944-49ad-9d2e-f34e91c4065d"
      },
      "source": [
        "#First we need to remember the basic notation of lists\n",
        "\n",
        "# let's create an empty list\n",
        "\n",
        "\n",
        "#lets checkout the python type of this list\n",
        "mylist = []\n",
        "\n",
        "#what happens if we try to access the first index of this list?\n",
        "# is it clear to everybody that we start counting at zero?\n",
        "#mylist[0]\n",
        "#ups. We need to add some stuff to our list\n",
        "\n",
        "mylist.append(\"my first element\")\n",
        "\n",
        "mylist[0]\n",
        "mylist[-1]\n",
        "\n",
        "mylist.append(\"my second element\")\n",
        "\n",
        "print(mylist[0])\n",
        "print(mylist[-1])\n",
        "\n",
        "\n",
        "\n"
      ],
      "execution_count": null,
      "outputs": [
        {
          "output_type": "stream",
          "text": [
            "my first element\n",
            "my second element\n"
          ],
          "name": "stdout"
        }
      ]
    },
    {
      "cell_type": "code",
      "metadata": {
        "id": "i8O-RDm9ajdC",
        "colab_type": "code",
        "colab": {
          "base_uri": "https://localhost:8080/",
          "height": 34
        },
        "outputId": "50f884af-5848-4fc0-a36f-0e45eadd7d1f"
      },
      "source": [
        "mylist[:2]"
      ],
      "execution_count": null,
      "outputs": [
        {
          "output_type": "execute_result",
          "data": {
            "text/plain": [
              "['1', 'Pedro']"
            ]
          },
          "metadata": {
            "tags": []
          },
          "execution_count": 12
        }
      ]
    },
    {
      "cell_type": "code",
      "metadata": {
        "id": "q4NcF-l5TwVE",
        "colab_type": "code",
        "colab": {}
      },
      "source": [
        "# what happens if I add an element with a different data type?\n",
        "\n",
        "mylist.append(2)\n",
        "\n",
        "# how does append compare to:\n",
        "\n",
        "#mylist[-1] = 3\n",
        "\n",
        "#exactly, one case creates a new index (by appending), the other simply over writes what was there"
      ],
      "execution_count": null,
      "outputs": []
    },
    {
      "cell_type": "code",
      "metadata": {
        "id": "i0C6nqGNYcC0",
        "colab_type": "code",
        "colab": {
          "base_uri": "https://localhost:8080/",
          "height": 51
        },
        "outputId": "aafeaa46-e543-4f1f-d963-05890a93031a"
      },
      "source": [
        "mylist = [1,2,3,\"four\",\"five\",\"six\",7]\n",
        "\n",
        "#lets try out some nice methods\n",
        "mylist.pop(2)\n",
        "print(mylist)\n",
        "\n",
        "mylist.insert(2,\"new\")\n",
        "\n",
        "print(mylist.count(1))\n",
        "\n",
        "#mylist.clear()"
      ],
      "execution_count": null,
      "outputs": [
        {
          "output_type": "stream",
          "text": [
            "[1, 2, 'four', 'five', 'six', 7]\n",
            "1\n"
          ],
          "name": "stdout"
        }
      ]
    },
    {
      "cell_type": "code",
      "metadata": {
        "id": "6FOxilU6UPnN",
        "colab_type": "code",
        "colab": {
          "base_uri": "https://localhost:8080/",
          "height": 136
        },
        "outputId": "c7164f3c-af79-4bd0-bdb9-a8578cb0c16e"
      },
      "source": [
        "#the great thing about lists is that once created we can iterate over them\n",
        "mylist = [1,2,3,\"four\",\"five\",\"six\",7]\n",
        "for element in mylist:\n",
        "  print(element)"
      ],
      "execution_count": null,
      "outputs": [
        {
          "output_type": "stream",
          "text": [
            "1\n",
            "2\n",
            "3\n",
            "four\n",
            "five\n",
            "six\n",
            "7\n"
          ],
          "name": "stdout"
        }
      ]
    },
    {
      "cell_type": "code",
      "metadata": {
        "id": "KJabIHR7aaKY",
        "colab_type": "code",
        "colab": {}
      },
      "source": [
        "mylist = [1,2,3,\"four\",\"five\",\"six\",7]\n",
        "#lets understand how to use the index method\n",
        "for element in mylist:\n",
        "  print(mylist.index(element))\n"
      ],
      "execution_count": null,
      "outputs": []
    },
    {
      "cell_type": "code",
      "metadata": {
        "id": "Uslgmorud1xt",
        "colab_type": "code",
        "colab": {
          "base_uri": "https://localhost:8080/",
          "height": 34
        },
        "outputId": "20fcd4fd-52ca-4980-baa8-6f7b169c5707"
      },
      "source": [
        "#mini challenge: how can I iterate over the list and keep only the numeric values?\n",
        "newlist = [1,2,3,\"four\",\"five\",\"six\",7]\n",
        "\n",
        "int_list = []\n",
        "string_list = []\n",
        "\n",
        "for element in newlist:\n",
        "  if type(element) is str:\n",
        "    newlist.pop(newlist.index(element))\n",
        "  else:\n",
        "    continue\n",
        "\n",
        "newlist\n",
        "\n",
        "\n",
        "  "
      ],
      "execution_count": null,
      "outputs": [
        {
          "output_type": "execute_result",
          "data": {
            "text/plain": [
              "[1, 2, 3, 'five', 7]"
            ]
          },
          "metadata": {
            "tags": []
          },
          "execution_count": 22
        }
      ]
    },
    {
      "cell_type": "code",
      "metadata": {
        "id": "c3lFe8eyf32K",
        "colab_type": "code",
        "colab": {
          "base_uri": "https://localhost:8080/",
          "height": 34
        },
        "outputId": "3efe8dcc-a793-4398-9164-e418c98e8cb4"
      },
      "source": [
        "#lists of lists or nested lists\n",
        "\n",
        "student1 = [\"Catarina\",1]\n",
        "matteo = [\"Matteo\",2]\n",
        "luke = [\"Luke\",3,\"tall\"]\n",
        "\n",
        "data_class = []\n",
        "\n",
        "data_class.append(student1)\n",
        "data_class.append(matteo)\n",
        "data_class.append(luke)\n",
        "\n",
        "data_class\n",
        "\n",
        "new_class = []\n",
        "#example of nested loop\n",
        "for x in data_class:\n",
        "  for y in x:\n",
        "    new_class.append(y)\n",
        "\n",
        "#this is called \"Flattening out a list\"\n",
        "new_class"
      ],
      "execution_count": null,
      "outputs": [
        {
          "output_type": "execute_result",
          "data": {
            "text/plain": [
              "['Catarina', 1, 'Matteo', 2, 'Luke', 3, 'tall']"
            ]
          },
          "metadata": {
            "tags": []
          },
          "execution_count": 28
        }
      ]
    },
    {
      "cell_type": "code",
      "metadata": {
        "id": "jyE7hgIsVz6N",
        "colab_type": "code",
        "colab": {
          "base_uri": "https://localhost:8080/",
          "height": 102
        },
        "outputId": "ca40e623-cee9-4884-f78e-3db9690af1f4"
      },
      "source": [
        "#mini challenge: how can I iterate over the list and keep only the numeric values?\n",
        "newlist = [1,2,3,\"four\",\"five\",\"six\",7]\n",
        "\n",
        "for el in newlist:\n",
        "\n",
        "  if type(el) is not str:\n",
        "    \n",
        "\n",
        "\n",
        "mylist"
      ],
      "execution_count": null,
      "outputs": [
        {
          "output_type": "stream",
          "text": [
            "1\n",
            "2\n",
            "3\n",
            "7\n"
          ],
          "name": "stdout"
        },
        {
          "output_type": "execute_result",
          "data": {
            "text/plain": [
              "[1, 2, 3, 'four', 'five', 'six', 7]"
            ]
          },
          "metadata": {
            "tags": []
          },
          "execution_count": 74
        }
      ]
    },
    {
      "cell_type": "code",
      "metadata": {
        "id": "8gfP_aPSWfSd",
        "colab_type": "code",
        "colab": {
          "base_uri": "https://localhost:8080/",
          "height": 119
        },
        "outputId": "e15cf2be-3b51-4e2f-9775-9407598e3f0d"
      },
      "source": [
        "mylist = [1,2,3,\"four\",\"five\",\"six\",7]\n",
        "#mini challenge: same thing but now I want to keep the numeric values in another list\n",
        "\n",
        "num_list = []\n",
        "\n",
        "for element in mylist:\n",
        "  if type(element) is str:\n",
        "    print(type(element))\n",
        "    print(element)\n",
        "  else:\n",
        "    mylist.pop(mylist.index(element))\n",
        "    num_list.append(element)\n",
        "\n",
        "print(mylist)\n",
        "print(num_list)"
      ],
      "execution_count": null,
      "outputs": [
        {
          "output_type": "stream",
          "text": [
            "<class 'str'>\n",
            "five\n",
            "<class 'str'>\n",
            "six\n",
            "[2, 'four', 'five', 'six']\n",
            "[1, 3, 7]\n"
          ],
          "name": "stdout"
        }
      ]
    },
    {
      "cell_type": "code",
      "metadata": {
        "id": "x_lEUUiXkeCW",
        "colab_type": "code",
        "colab": {}
      },
      "source": [
        "# lists of lists\n",
        "\n",
        "mylist = [[0,1,2],[3,4,5],[6,7,8]]\n",
        "\n",
        "for element in mylist:\n",
        "  print(type(element))"
      ],
      "execution_count": null,
      "outputs": []
    },
    {
      "cell_type": "code",
      "metadata": {
        "id": "GXtlpxDtizRv",
        "colab_type": "code",
        "colab": {
          "base_uri": "https://localhost:8080/",
          "height": 34
        },
        "outputId": "38cd3253-3e3e-4e87-b3a4-ae1b1d6ead9e"
      },
      "source": [
        "#list comprehension is a more compact (and efficient) way to create lists\n",
        "\n",
        "newlist = []\n",
        "\n",
        "for i in range(0,10):\n",
        "  newlist.append(i**2)\n",
        "\n",
        "newlist\n",
        "\n",
        "comprehension = [i**2 for i in range(0,10)]\n",
        "comprehension"
      ],
      "execution_count": null,
      "outputs": [
        {
          "output_type": "execute_result",
          "data": {
            "text/plain": [
              "[0, 1, 4, 9, 16, 25, 36, 49, 64, 81]"
            ]
          },
          "metadata": {
            "tags": []
          },
          "execution_count": 30
        }
      ]
    },
    {
      "cell_type": "code",
      "metadata": {
        "id": "DQyZfMCtTPYX",
        "colab_type": "code",
        "colab": {
          "base_uri": "https://localhost:8080/",
          "height": 34
        },
        "outputId": "a57a4bfe-4c32-4f1c-e98e-88510e2481b5"
      },
      "source": [
        "#now that we got the hang of lists, how about list comprehensions?\n",
        "mylist = []\n",
        "for i in range(0,10):\n",
        "  mylist.append(i)\n",
        "\n",
        "mylist"
      ],
      "execution_count": null,
      "outputs": [
        {
          "output_type": "execute_result",
          "data": {
            "text/plain": [
              "[0, 1, 2, 3, 4, 5, 6, 7, 8, 9]"
            ]
          },
          "metadata": {
            "tags": []
          },
          "execution_count": 76
        }
      ]
    },
    {
      "cell_type": "code",
      "metadata": {
        "id": "vBJCvuZlctEV",
        "colab_type": "code",
        "colab": {
          "base_uri": "https://localhost:8080/",
          "height": 34
        },
        "outputId": "e0c5c94a-37b2-4376-f7ed-8cb12a03809c"
      },
      "source": [
        "#let's do the same thing with a list comprehension\n",
        "#notation is:\n",
        "# [result for iterator in iterable]\n",
        "[i for i in range(0,10)]"
      ],
      "execution_count": null,
      "outputs": [
        {
          "output_type": "execute_result",
          "data": {
            "text/plain": [
              "[0, 1, 2, 3, 4, 5, 6, 7, 8, 9]"
            ]
          },
          "metadata": {
            "tags": []
          },
          "execution_count": 31
        }
      ]
    },
    {
      "cell_type": "code",
      "metadata": {
        "id": "x-DUBKESiJK1",
        "colab_type": "code",
        "colab": {
          "base_uri": "https://localhost:8080/",
          "height": 34
        },
        "outputId": "5eaf07b1-4d1f-4f4f-bb09-ecd2f198e376"
      },
      "source": [
        "#I only want the odd numbers\n",
        "\n",
        "[i if i%2 != 0 else -1 for i in range(0,10)]\n",
        "\n",
        "# if I only want one condition -> \"if\" goes to the end\n",
        "\n",
        "[i for i in range(0,10) if i%2 != 0]"
      ],
      "execution_count": null,
      "outputs": [
        {
          "output_type": "execute_result",
          "data": {
            "text/plain": [
              "[1, 3, 5, 7, 9]"
            ]
          },
          "metadata": {
            "tags": []
          },
          "execution_count": 41
        }
      ]
    },
    {
      "cell_type": "code",
      "metadata": {
        "id": "UWoqDpApjRb8",
        "colab_type": "code",
        "colab": {
          "base_uri": "https://localhost:8080/",
          "height": 34
        },
        "outputId": "579de655-391b-4b32-f8ad-65aad1d5d378"
      },
      "source": [
        "\n",
        "#alternatively\n",
        "\n",
        "[i for i in range(0,10) if i%2 == 0]\n",
        "\n",
        "#these represent two different usecases"
      ],
      "execution_count": null,
      "outputs": [
        {
          "output_type": "execute_result",
          "data": {
            "text/plain": [
              "[0, 2, 4, 6, 8]"
            ]
          },
          "metadata": {
            "tags": []
          },
          "execution_count": 90
        }
      ]
    },
    {
      "cell_type": "code",
      "metadata": {
        "id": "o2FEoUdTj1Hl",
        "colab_type": "code",
        "colab": {
          "base_uri": "https://localhost:8080/",
          "height": 34
        },
        "outputId": "f69e0145-9abd-4ddb-b059-c77379af66df"
      },
      "source": [
        "# now let's calculate the square numbers of a list, as a list comprehension\n",
        "\n",
        "[i**2 for i in range(0,10)]"
      ],
      "execution_count": null,
      "outputs": [
        {
          "output_type": "execute_result",
          "data": {
            "text/plain": [
              "[0, 1, 4, 9, 16, 25, 36, 49, 64, 81]"
            ]
          },
          "metadata": {
            "tags": []
          },
          "execution_count": 91
        }
      ]
    },
    {
      "cell_type": "code",
      "metadata": {
        "id": "JKJ_lf6ycjux",
        "colab_type": "code",
        "colab": {}
      },
      "source": [
        "## I want the message \"too hot\" when the celsius value is more than 40 and \"not too hot\" otherwise, for all faren temps over 70\n",
        "lst = [78, 98, 90, 67, 78, 87, 95, 184]\n",
        "lst = [\"too hot\" if (x-32)/1.8 >40 else \"not too hot\" for x in lst if x > 70]\n",
        "lst"
      ],
      "execution_count": null,
      "outputs": []
    },
    {
      "cell_type": "code",
      "metadata": {
        "id": "pLUkVMYbnKJi",
        "colab_type": "code",
        "colab": {
          "base_uri": "https://localhost:8080/",
          "height": 136
        },
        "outputId": "a4154e3f-e9c5-4dc0-a36f-755513ddd5dd"
      },
      "source": [
        "lst = [78, 98, 90, 67, 78, 87, 95, 184]\n",
        "newlst = []\n",
        "for temp in lst:\n",
        "  if temp > 70:\n",
        "    if (temp-32)/1.8 >40:\n",
        "      newlst.append(\"too hot\")\n",
        "    elif (temp-32)/1.8 <=40:\n",
        "      newlst.append(\"not too hot\")\n",
        "    else:\n",
        "      print(\"something is deeply wrong\")\n",
        "\n",
        "newlst\n"
      ],
      "execution_count": null,
      "outputs": [
        {
          "output_type": "execute_result",
          "data": {
            "text/plain": [
              "['not too hot',\n",
              " 'not too hot',\n",
              " 'not too hot',\n",
              " 'not too hot',\n",
              " 'not too hot',\n",
              " 'not too hot',\n",
              " 'too hot']"
            ]
          },
          "metadata": {
            "tags": []
          },
          "execution_count": 43
        }
      ]
    },
    {
      "cell_type": "code",
      "metadata": {
        "id": "0UgA9rjDkM3w",
        "colab_type": "code",
        "colab": {
          "base_uri": "https://localhost:8080/",
          "height": 102
        },
        "outputId": "a0887f1c-600e-4b75-df64-dd59ae000e50"
      },
      "source": [
        "# !advanced \n",
        "# nested lists with list comprehensions\n",
        "\n",
        "#matrix = [j for j in range(5) for i in range(5)] \n",
        "matrix = [[j for j in range(10)] for i in range(5)]\n",
        "matrix"
      ],
      "execution_count": null,
      "outputs": [
        {
          "output_type": "execute_result",
          "data": {
            "text/plain": [
              "[[0, 1, 2, 3, 4, 5, 6, 7, 8, 9],\n",
              " [0, 1, 2, 3, 4, 5, 6, 7, 8, 9],\n",
              " [0, 1, 2, 3, 4, 5, 6, 7, 8, 9],\n",
              " [0, 1, 2, 3, 4, 5, 6, 7, 8, 9],\n",
              " [0, 1, 2, 3, 4, 5, 6, 7, 8, 9]]"
            ]
          },
          "metadata": {
            "tags": []
          },
          "execution_count": 47
        }
      ]
    },
    {
      "cell_type": "code",
      "metadata": {
        "id": "DVE_J823Oauz",
        "colab_type": "code",
        "colab": {
          "base_uri": "https://localhost:8080/",
          "height": 34
        },
        "outputId": "05efd7bd-5eda-4301-cb5f-f93ac027c35f"
      },
      "source": [
        "# so if we are given a list of lists, we can flatten in out\n",
        "\n",
        "mylist = [[0,1,2],[3,4,5],[6,7,8]]\n",
        "\n",
        "[val for sublist in mylist for val in sublist]"
      ],
      "execution_count": null,
      "outputs": [
        {
          "output_type": "execute_result",
          "data": {
            "text/plain": [
              "[0, 1, 2, 3, 4, 5, 6, 7, 8]"
            ]
          },
          "metadata": {
            "tags": []
          },
          "execution_count": 7
        }
      ]
    },
    {
      "cell_type": "code",
      "metadata": {
        "id": "NGOIdELEPLIa",
        "colab_type": "code",
        "colab": {
          "base_uri": "https://localhost:8080/",
          "height": 34
        },
        "outputId": "809b75b1-74f1-4316-a515-123f96586f6d"
      },
      "source": [
        "#Suppose I want to flatten a given 2-D list and only include those strings whose lengths are less than 6\n",
        "\n",
        "planets = [[\"Mercury\", \"Venus\", \"Earth\"], [\"Mars\", \"Jupiter\"], [\"Uranus\", \"Neptune\", \"Pluto\"]]\n",
        "\n",
        "[planet for group in planets for planet in group if len(planet) <6]\n",
        "\n",
        "\n",
        "\n"
      ],
      "execution_count": null,
      "outputs": [
        {
          "output_type": "execute_result",
          "data": {
            "text/plain": [
              "['Venus', 'Earth', 'Mars', 'Pluto']"
            ]
          },
          "metadata": {
            "tags": []
          },
          "execution_count": 48
        }
      ]
    },
    {
      "cell_type": "code",
      "metadata": {
        "id": "mPCtXSH9qA2E",
        "colab_type": "code",
        "colab": {
          "base_uri": "https://localhost:8080/",
          "height": 34
        },
        "outputId": "1084678d-9715-468b-d8fa-1d824cc85005"
      },
      "source": [
        "planets = [[\"Mercury\", \"Venus\", \"Earth\"], [\"Mars\", \"Jupiter\"], [\"Uranus\", \"Neptune\", \"Pluto\"]]\n",
        "\n",
        "[planet for group in planets for planet in group if len(group) == 2 and len(planet) ==4]"
      ],
      "execution_count": null,
      "outputs": [
        {
          "output_type": "execute_result",
          "data": {
            "text/plain": [
              "['Mars']"
            ]
          },
          "metadata": {
            "tags": []
          },
          "execution_count": 50
        }
      ]
    },
    {
      "cell_type": "markdown",
      "metadata": {
        "id": "mhcVDZ8tdB5X",
        "colab_type": "text"
      },
      "source": [
        "List Comprehensions vs Append method in lists\n",
        "\n",
        "\n",
        "\n",
        "*   Clearly there are Pros & Cons\n",
        "*   An explicit loop with an append method is more explicit and therefore possibly easier to read\n",
        "* List comprehensions are far more performant for two reasons:\n",
        "  * no need to load the append method so many times\n",
        "  * Python has optimized things to create the list in C\n",
        "* increase in performance can be of about 50%\n",
        "\n",
        "* List comprehensions are more \"elegant\" from a coding point of view\n",
        "* but sometimes if they become too long and hard to understand, you lose the advantages you had\n",
        "\n",
        "\n"
      ]
    },
    {
      "cell_type": "code",
      "metadata": {
        "id": "3KrQba61PVPs",
        "colab_type": "code",
        "colab": {}
      },
      "source": [
        ""
      ],
      "execution_count": null,
      "outputs": []
    }
  ]
}