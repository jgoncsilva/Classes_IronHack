{
  "nbformat": 4,
  "nbformat_minor": 0,
  "metadata": {
    "colab": {
      "name": "mega-revision.ipynb",
      "provenance": [],
      "collapsed_sections": [],
      "include_colab_link": true
    },
    "kernelspec": {
      "name": "python3",
      "display_name": "Python 3"
    }
  },
  "cells": [
    {
      "cell_type": "markdown",
      "metadata": {
        "id": "view-in-github",
        "colab_type": "text"
      },
      "source": [
        "<a href=\"https://colab.research.google.com/github/jgoncsilva/Classes_IronHack/blob/master/mega_revision.ipynb\" target=\"_parent\"><img src=\"https://colab.research.google.com/assets/colab-badge.svg\" alt=\"Open In Colab\"/></a>"
      ]
    },
    {
      "cell_type": "code",
      "metadata": {
        "id": "xEA_xBMtjGy3",
        "colab_type": "code",
        "colab": {}
      },
      "source": [
        "import numpy as np\n",
        "import matplotlib.pyplot as plt"
      ],
      "execution_count": null,
      "outputs": []
    },
    {
      "cell_type": "code",
      "metadata": {
        "id": "nJIMtDT5jLf8",
        "colab_type": "code",
        "colab": {}
      },
      "source": [
        "# sample of age of students of data analytics bootcamp, from a population that is Pedro's June cohort. \n",
        "sample1 = np.array([21,27,30,26,32,20, 38])\n",
        "sample2 = np.array([21,27,30,26,27,23, 38])"
      ],
      "execution_count": null,
      "outputs": []
    },
    {
      "cell_type": "code",
      "metadata": {
        "id": "bd3vbRtijcH0",
        "colab_type": "code",
        "colab": {
          "base_uri": "https://localhost:8080/",
          "height": 34
        },
        "outputId": "521c6c63-69c1-4d50-c2c3-234dec833b36"
      },
      "source": [
        "np.mean(sample1)"
      ],
      "execution_count": null,
      "outputs": [
        {
          "output_type": "execute_result",
          "data": {
            "text/plain": [
              "27.714285714285715"
            ]
          },
          "metadata": {
            "tags": []
          },
          "execution_count": 4
        }
      ]
    },
    {
      "cell_type": "code",
      "metadata": {
        "id": "txZNtJsajv-Q",
        "colab_type": "code",
        "colab": {
          "base_uri": "https://localhost:8080/",
          "height": 34
        },
        "outputId": "3b7ca0b9-f9ce-4b80-96ab-9585f49ec496"
      },
      "source": [
        "np.mean(sample2)"
      ],
      "execution_count": null,
      "outputs": [
        {
          "output_type": "execute_result",
          "data": {
            "text/plain": [
              "27.428571428571427"
            ]
          },
          "metadata": {
            "tags": []
          },
          "execution_count": 6
        }
      ]
    },
    {
      "cell_type": "code",
      "metadata": {
        "id": "CDoE4i1xj8-L",
        "colab_type": "code",
        "colab": {}
      },
      "source": [
        "# if I kept repeating this, I would get an array of values of the SAMPLE MEAN\n",
        "# this is what represents the distribution of sample means\n",
        "\n",
        "sample_means = [27.7,27.4]\n",
        "\n"
      ],
      "execution_count": null,
      "outputs": []
    },
    {
      "cell_type": "code",
      "metadata": {
        "id": "3kTzwq1dkLjG",
        "colab_type": "code",
        "colab": {}
      },
      "source": [
        "# generating an array of the ages of 500 people -> my population\n",
        "# DISCLAIMER: this is academic, normally we dont have this array\n",
        "population = np.random.randint(0,92,500)"
      ],
      "execution_count": null,
      "outputs": []
    },
    {
      "cell_type": "code",
      "metadata": {
        "id": "PPTyvWCqkakb",
        "colab_type": "code",
        "colab": {}
      },
      "source": [
        "# take a sample from this array\n",
        "#  I am removing 20 people from the population for my sample, WITH REPLACEMENT\n",
        "sample1 = np.random.choice(population,20)\n",
        "\n"
      ],
      "execution_count": null,
      "outputs": []
    },
    {
      "cell_type": "code",
      "metadata": {
        "id": "r-WWa136knVB",
        "colab_type": "code",
        "colab": {
          "base_uri": "https://localhost:8080/",
          "height": 317
        },
        "outputId": "7191414c-7659-453a-ef53-531976edf6ed"
      },
      "source": [
        "# plotting the sampke taken as a histogram\n",
        "plt.hist(sample1)"
      ],
      "execution_count": null,
      "outputs": [
        {
          "output_type": "execute_result",
          "data": {
            "text/plain": [
              "(array([ 5., 15.,  6.,  6., 12., 10.,  5., 13., 13., 15.]),\n",
              " array([ 1., 10., 19., 28., 37., 46., 55., 64., 73., 82., 91.]),\n",
              " <a list of 10 Patch objects>)"
            ]
          },
          "metadata": {
            "tags": []
          },
          "execution_count": 11
        },
        {
          "output_type": "display_data",
          "data": {
            "image/png": "[encoded data removed]",
            "text/plain": [
              "<Figure size 432x288 with 1 Axes>"
            ]
          },
          "metadata": {
            "tags": [],
            "needs_background": "light"
          }
        }
      ]
    },
    {
      "cell_type": "code",
      "metadata": {
        "id": "4JQSPZfekphb",
        "colab_type": "code",
        "colab": {
          "base_uri": "https://localhost:8080/",
          "height": 317
        },
        "outputId": "1fa4ff27-08ba-437a-a348-ad50d31c552e"
      },
      "source": [
        "# what type of distribution do i expect from the histogram of the population?\n",
        "plt.hist(population)"
      ],
      "execution_count": null,
      "outputs": [
        {
          "output_type": "execute_result",
          "data": {
            "text/plain": [
              "(array([51., 55., 46., 42., 53., 52., 46., 49., 53., 53.]),\n",
              " array([ 0. ,  9.1, 18.2, 27.3, 36.4, 45.5, 54.6, 63.7, 72.8, 81.9, 91. ]),\n",
              " <a list of 10 Patch objects>)"
            ]
          },
          "metadata": {
            "tags": []
          },
          "execution_count": 13
        },
        {
          "output_type": "display_data",
          "data": {
            "image/png": "[encoded data removed]",
            "text/plain": [
              "<Figure size 432x288 with 1 Axes>"
            ]
          },
          "metadata": {
            "tags": [],
            "needs_background": "light"
          }
        }
      ]
    },
    {
      "cell_type": "code",
      "metadata": {
        "id": "Uz_mydlJmUYO",
        "colab_type": "code",
        "colab": {}
      },
      "source": [
        "list_sample_means = []\n",
        "list_sample_means2 = []\n",
        "\n",
        "# I am going to perform my sampling 1000 times -> this is clearly unrealistics\n",
        "for _ in range(0,1000):\n",
        "  sample = np.random.choice(population,2)\n",
        "  # create a list of means of my samples\n",
        "  list_sample_means.append(np.mean(sample))\n",
        "\n",
        "# what would happen if I perform the sample number of samples (1000) but INCREASE the size of each sample\n",
        "\n",
        "for _ in range(0,1000):\n",
        "  # increasing the size of the sample to 100\n",
        "  sample = np.random.choice(population,100)\n",
        "  # create a list of means of my samples\n",
        "  list_sample_means2.append(np.mean(sample))\n",
        "\n",
        "\n",
        "\n"
      ],
      "execution_count": null,
      "outputs": []
    },
    {
      "cell_type": "code",
      "metadata": {
        "id": "YnKoPioHn61K",
        "colab_type": "code",
        "colab": {}
      },
      "source": [
        "list_sample_means"
      ],
      "execution_count": null,
      "outputs": []
    },
    {
      "cell_type": "code",
      "metadata": {
        "id": "dRIkBtxGnw8M",
        "colab_type": "code",
        "colab": {
          "base_uri": "https://localhost:8080/",
          "height": 264
        },
        "outputId": "11d3ba2d-db85-4d45-fcf2-3bd9edda94b8"
      },
      "source": [
        "plt.hist(list_sample_means)\n",
        "plt.hist(list_sample_means2)\n",
        "plt.show()"
      ],
      "execution_count": null,
      "outputs": [
        {
          "output_type": "display_data",
          "data": {
            "image/png": "[encoded data removed]",
            "text/plain": [
              "<Figure size 432x288 with 1 Axes>"
            ]
          },
          "metadata": {
            "tags": [],
            "needs_background": "light"
          }
        }
      ]
    },
    {
      "cell_type": "code",
      "metadata": {
        "id": "gl1JkkYgphEK",
        "colab_type": "code",
        "colab": {}
      },
      "source": [
        "# the sample mean distribution follows a normal distribution X ~ N(mean_pop, std/sqrt(n))\n",
        "\n",
        "# where n is the size of each sample"
      ],
      "execution_count": null,
      "outputs": []
    },
    {
      "cell_type": "code",
      "metadata": {
        "id": "DQgMyaHDoFsz",
        "colab_type": "code",
        "colab": {
          "base_uri": "https://localhost:8080/",
          "height": 34
        },
        "outputId": "bfb7209d-541a-403f-9d5a-a2a40d405aa4"
      },
      "source": [
        "# let's compare the mean of the sample means with the real mean of the population (which is usually unknown)\n",
        "np.mean(list_sample_means)"
      ],
      "execution_count": null,
      "outputs": [
        {
          "output_type": "execute_result",
          "data": {
            "text/plain": [
              "45.69006666666667"
            ]
          },
          "metadata": {
            "tags": []
          },
          "execution_count": 18
        }
      ]
    },
    {
      "cell_type": "code",
      "metadata": {
        "id": "BdK7xbG_oJmz",
        "colab_type": "code",
        "colab": {
          "base_uri": "https://localhost:8080/",
          "height": 34
        },
        "outputId": "788dbe1c-ebdc-41d3-9ac4-e744fc078497"
      },
      "source": [
        "np.mean(population)"
      ],
      "execution_count": null,
      "outputs": [
        {
          "output_type": "execute_result",
          "data": {
            "text/plain": [
              "45.982"
            ]
          },
          "metadata": {
            "tags": []
          },
          "execution_count": 19
        }
      ]
    },
    {
      "cell_type": "code",
      "metadata": {
        "id": "jq7TzDJYKa-s",
        "colab_type": "code",
        "colab": {
          "base_uri": "https://localhost:8080/",
          "height": 34
        },
        "outputId": "6e6fb0f1-7969-43b3-f4c8-7e5ce2fddf48"
      },
      "source": [
        "# CHEATING WATCH OUT\n",
        "# here we are assuming we know the population standard deviation\n",
        "pop_std = np.std(population)\n",
        "pop_std"
      ],
      "execution_count": null,
      "outputs": [
        {
          "output_type": "execute_result",
          "data": {
            "text/plain": [
              "26.635571628932613"
            ]
          },
          "metadata": {
            "tags": []
          },
          "execution_count": 25
        }
      ]
    },
    {
      "cell_type": "code",
      "metadata": {
        "id": "5blR8VYU1ElU",
        "colab_type": "code",
        "colab": {}
      },
      "source": [
        "# building confidence intervals\n",
        "\n",
        "# let's now build a confidence interval for the average age of my population, based on a sample only\n",
        "\n",
        "sample = np.random.choice(population, 50)"
      ],
      "execution_count": null,
      "outputs": []
    },
    {
      "cell_type": "code",
      "metadata": {
        "id": "TXTjPFYSIz19",
        "colab_type": "code",
        "colab": {}
      },
      "source": [
        "# there are methods plug n play that allow you to calculate immediately everything\n",
        "# the Pedro way\n",
        "\n",
        "s_mean = np.mean(sample)\n",
        "\n",
        "# even though in this case i'm not gonna use it (because in this example I assume I know the pop_std)\n",
        "s_std = np.std(sample)\n",
        "\n",
        "# build my distribution of the sample means\n",
        "\n",
        "from scipy.stats import norm\n",
        "\n",
        "#create an instance of my normal distribution for the sample mean\n",
        "# X ~ N( sample_mean, sigma/sqrt(n))\n",
        "\n",
        "norm_dist = norm(s_mean, pop_std/np.sqrt(len(sample)))"
      ],
      "execution_count": null,
      "outputs": []
    },
    {
      "cell_type": "code",
      "metadata": {
        "id": "8EeIPED8K-wL",
        "colab_type": "code",
        "colab": {
          "base_uri": "https://localhost:8080/",
          "height": 34
        },
        "outputId": "50080ea0-3180-4bb3-98a9-304328c2058f"
      },
      "source": [
        "# I will call the interval method inside my distribution, stating the confidence level that I want -> 90% confidence level\n",
        "lower, upper = norm_dist.interval(0.9)\n",
        "\n",
        "# the 0.9 you wrote inside the interval method is stated in the documentation as alpha, but it DOES NOT MEAN the significance level. it means the confidence level :( \n",
        "    \n",
        "print(upper-lower)"
      ],
      "execution_count": null,
      "outputs": [
        {
          "output_type": "stream",
          "text": [
            "12.391796476978563\n"
          ],
          "name": "stdout"
        }
      ]
    },
    {
      "cell_type": "code",
      "metadata": {
        "id": "qyIpX75WMIX2",
        "colab_type": "code",
        "colab": {}
      },
      "source": [
        "# the process in code terms for when you dont know the standard deviation of the population is ALMOST EXACTLY THE SAME"
      ],
      "execution_count": null,
      "outputs": []
    },
    {
      "cell_type": "code",
      "metadata": {
        "id": "LdhdmSiwmOYA",
        "colab_type": "code",
        "colab": {}
      },
      "source": [
        "# correction we must apply for the standard deviation of the sample\n",
        "\n",
        "n = len(sample)\n",
        "s_std = np.sqrt(np.std(sample)**2*n/(n-1))\n"
      ],
      "execution_count": null,
      "outputs": []
    },
    {
      "cell_type": "code",
      "metadata": {
        "id": "SfuGjRNwhvFv",
        "colab_type": "code",
        "colab": {}
      },
      "source": [
        "# how about if I dont know the standard deviation of the population? this is very common\n",
        "\n",
        "s_mean = np.mean(sample)\n",
        "#s_std = np.std(sample)\n",
        "\n",
        "\n",
        "\n",
        "# now we build the distribution using the correct function -> t\n",
        "\n",
        "from scipy.stats import t\n",
        "\n",
        "# loc = mean (location)\n",
        "# scale = standard deviation to be used -> sample_std/sqrt(n)\n",
        "# df = degrees of freedom\n",
        "\n",
        "# building the distribution of the sample means, centered around the observed sample mean!!!!!! but this time, from a t student\n",
        "\n",
        "t_dist = t(df = len(sample)-1, loc = s_mean, scale = s_std/np.sqrt(len(sample)))"
      ],
      "execution_count": null,
      "outputs": []
    },
    {
      "cell_type": "code",
      "metadata": {
        "id": "6kTgVOZqj9Lh",
        "colab_type": "code",
        "colab": {
          "base_uri": "https://localhost:8080/",
          "height": 34
        },
        "outputId": "ccfd8ca9-d7f2-490b-ed0e-74072b2784c7"
      },
      "source": [
        "# I now get my confidence interval, using the same methodology/reasoning as before (for the normal distribution), but all that changed was the model that we now used (t student's )\n",
        "\n",
        "lower, upper = t_dist.interval(0.9)\n",
        "print(upper-lower)"
      ],
      "execution_count": null,
      "outputs": [
        {
          "output_type": "stream",
          "text": [
            "11.860883671734882\n"
          ],
          "name": "stdout"
        }
      ]
    },
    {
      "cell_type": "code",
      "metadata": {
        "id": "IJ5ZMcBBmz5f",
        "colab_type": "code",
        "colab": {}
      },
      "source": [
        "# talk about 30 in central limit theorem\n",
        "\n",
        "(38.624101761510715, 51.01589823848928)"
      ],
      "execution_count": null,
      "outputs": []
    },
    {
      "cell_type": "code",
      "metadata": {
        "id": "bZVMjIXLnWsT",
        "colab_type": "code",
        "colab": {}
      },
      "source": [
        "# example 7.4 \n",
        "trucks = [15.5, 21.0, 18.5, 19.3, 19.7, 16.9, 20.2, 14.5, 16.5, 19.2, 18.7,18.2, 18.0, 17.5, 18.5 , 20.5, 18.6, 19.1, 19.8, 18.0, 19.8, 18.2, 20.3, 21.8]\n",
        "\n",
        "sample_mean = np.mean(trucks)\n",
        "\n",
        "# calculate what we call the unbiased sample standard deviation \n",
        "\n",
        "# std = sqrt(mean difference^2/N)\n",
        "\n",
        "# the parameter ddof = 1 means that the standard deviation calculated is for the sample and is therefore corrected with the n-1 factor\n",
        "\n",
        "sample_std = np.std(trucks, ddof = 1)\n",
        "\n"
      ],
      "execution_count": null,
      "outputs": []
    },
    {
      "cell_type": "code",
      "metadata": {
        "id": "BxMfTy-XpNqo",
        "colab_type": "code",
        "colab": {}
      },
      "source": [
        "# build the distribution of the sample mean, centered on the observed mean\n",
        "\n",
        "from scipy.stats import t\n",
        "\n",
        "t_dist = t(df = len(trucks) - 1, loc = sample_mean, scale = sample_std/np.sqrt(len(trucks)))\n",
        "\n"
      ],
      "execution_count": null,
      "outputs": []
    },
    {
      "cell_type": "code",
      "metadata": {
        "id": "_NUgqBmspWlq",
        "colab_type": "code",
        "colab": {}
      },
      "source": [
        "# build a confidence interbal of 90% for the average consumption of the trucks  \n",
        "\n",
        "lower, upper = t_dist.interval(0.9)"
      ],
      "execution_count": null,
      "outputs": []
    },
    {
      "cell_type": "code",
      "metadata": {
        "id": "J2cOYB0LsMI6",
        "colab_type": "code",
        "colab": {
          "base_uri": "https://localhost:8080/",
          "height": 34
        },
        "outputId": "183ff8dc-c71a-4f90-a23b-4e1a6ff03fed"
      },
      "source": [
        "# this is the width of my confidence interval\n",
        "print(upper-lower)"
      ],
      "execution_count": null,
      "outputs": [
        {
          "output_type": "stream",
          "text": [
            "1.1861458172275405\n"
          ],
          "name": "stdout"
        }
      ]
    },
    {
      "cell_type": "code",
      "metadata": {
        "id": "IlC0MdfpsjsA",
        "colab_type": "code",
        "colab": {
          "base_uri": "https://localhost:8080/",
          "height": 34
        },
        "outputId": "ab51ec00-b9a3-4319-a3da-b15f269671a1"
      },
      "source": [
        "upper"
      ],
      "execution_count": null,
      "outputs": [
        {
          "output_type": "execute_result",
          "data": {
            "text/plain": [
              "19.272239575280434"
            ]
          },
          "metadata": {
            "tags": []
          },
          "execution_count": 61
        }
      ]
    },
    {
      "cell_type": "code",
      "metadata": {
        "id": "1FDuc0sdtf72",
        "colab_type": "code",
        "colab": {
          "base_uri": "https://localhost:8080/",
          "height": 34
        },
        "outputId": "901703e0-fdc8-4200-d414-d17db94e0254"
      },
      "source": [
        "lower"
      ],
      "execution_count": null,
      "outputs": [
        {
          "output_type": "execute_result",
          "data": {
            "text/plain": [
              "18.086093758052893"
            ]
          },
          "metadata": {
            "tags": []
          },
          "execution_count": 62
        }
      ]
    },
    {
      "cell_type": "code",
      "metadata": {
        "id": "ysky1OKjtgYu",
        "colab_type": "code",
        "colab": {}
      },
      "source": [
        "# slightly new topic -> still building confidence intervals but when we have two different samples\n",
        "\n",
        "# dependent samples\n",
        "\n",
        "# independent samples\n",
        "\n"
      ],
      "execution_count": null,
      "outputs": []
    },
    {
      "cell_type": "code",
      "metadata": {
        "id": "vdKsnqCK84qS",
        "colab_type": "code",
        "colab": {}
      },
      "source": [
        "# the code of independent samples and build a confidence interval\n",
        "\n",
        "import pandas as pd\n",
        "\n",
        "data = pd.read_excel(\"Train_rev1.xlsx\")"
      ],
      "execution_count": null,
      "outputs": []
    },
    {
      "cell_type": "code",
      "metadata": {
        "id": "PWsoyPDQ9JmL",
        "colab_type": "code",
        "colab": {
          "base_uri": "https://localhost:8080/",
          "height": 484
        },
        "outputId": "a4e1ab9e-c095-422e-9613-8c90a5624ed5"
      },
      "source": [
        "data.head()"
      ],
      "execution_count": null,
      "outputs": [
        {
          "output_type": "execute_result",
          "data": {
            "text/html": [
              "<div>\n",
              "<style scoped>\n",
              "    .dataframe tbody tr th:only-of-type {\n",
              "        vertical-align: middle;\n",
              "    }\n",
              "\n",
              "    .dataframe tbody tr th {\n",
              "        vertical-align: top;\n",
              "    }\n",
              "\n",
              "    .dataframe thead th {\n",
              "        text-align: right;\n",
              "    }\n",
              "</style>\n",
              "<table border=\"1\" class=\"dataframe\">\n",
              "  <thead>\n",
              "    <tr style=\"text-align: right;\">\n",
              "      <th></th>\n",
              "      <th>Id</th>\n",
              "      <th>Title</th>\n",
              "      <th>FullDescription</th>\n",
              "      <th>LocationRaw</th>\n",
              "      <th>LocationNormalized</th>\n",
              "      <th>ContractType</th>\n",
              "      <th>ContractTime</th>\n",
              "      <th>Company</th>\n",
              "      <th>Category</th>\n",
              "      <th>SalaryRaw</th>\n",
              "      <th>SalaryNormalized</th>\n",
              "      <th>SourceName</th>\n",
              "    </tr>\n",
              "  </thead>\n",
              "  <tbody>\n",
              "    <tr>\n",
              "      <th>0</th>\n",
              "      <td>12612628</td>\n",
              "      <td>Engineering Systems Analyst</td>\n",
              "      <td>Engineering Systems Analyst Dorking Surrey Sal...</td>\n",
              "      <td>Dorking, Surrey, Surrey</td>\n",
              "      <td>Dorking</td>\n",
              "      <td>NaN</td>\n",
              "      <td>permanent</td>\n",
              "      <td>Gregory Martin International</td>\n",
              "      <td>Engineering Jobs</td>\n",
              "      <td>20000 - 30000/annum 20-30K</td>\n",
              "      <td>25000</td>\n",
              "      <td>cv-library.co.uk</td>\n",
              "    </tr>\n",
              "    <tr>\n",
              "      <th>1</th>\n",
              "      <td>12612830</td>\n",
              "      <td>Stress Engineer Glasgow</td>\n",
              "      <td>Stress Engineer Glasgow Salary **** to **** We...</td>\n",
              "      <td>Glasgow, Scotland, Scotland</td>\n",
              "      <td>Glasgow</td>\n",
              "      <td>NaN</td>\n",
              "      <td>permanent</td>\n",
              "      <td>Gregory Martin International</td>\n",
              "      <td>Engineering Jobs</td>\n",
              "      <td>25000 - 35000/annum 25-35K</td>\n",
              "      <td>30000</td>\n",
              "      <td>cv-library.co.uk</td>\n",
              "    </tr>\n",
              "    <tr>\n",
              "      <th>2</th>\n",
              "      <td>12612844</td>\n",
              "      <td>Modelling and simulation analyst</td>\n",
              "      <td>Mathematical Modeller / Simulation Analyst / O...</td>\n",
              "      <td>Hampshire, South East, South East</td>\n",
              "      <td>Hampshire</td>\n",
              "      <td>NaN</td>\n",
              "      <td>permanent</td>\n",
              "      <td>Gregory Martin International</td>\n",
              "      <td>Engineering Jobs</td>\n",
              "      <td>20000 - 40000/annum 20-40K</td>\n",
              "      <td>30000</td>\n",
              "      <td>cv-library.co.uk</td>\n",
              "    </tr>\n",
              "    <tr>\n",
              "      <th>3</th>\n",
              "      <td>12613049</td>\n",
              "      <td>Engineering Systems Analyst / Mathematical Mod...</td>\n",
              "      <td>Engineering Systems Analyst / Mathematical Mod...</td>\n",
              "      <td>Surrey, South East, South East</td>\n",
              "      <td>Surrey</td>\n",
              "      <td>NaN</td>\n",
              "      <td>permanent</td>\n",
              "      <td>Gregory Martin International</td>\n",
              "      <td>Engineering Jobs</td>\n",
              "      <td>25000 - 30000/annum 25K-30K negotiable</td>\n",
              "      <td>27500</td>\n",
              "      <td>cv-library.co.uk</td>\n",
              "    </tr>\n",
              "    <tr>\n",
              "      <th>4</th>\n",
              "      <td>12613647</td>\n",
              "      <td>Pioneer, Miser Engineering Systems Analyst</td>\n",
              "      <td>Pioneer, Miser  Engineering Systems Analyst Do...</td>\n",
              "      <td>Surrey, South East, South East</td>\n",
              "      <td>Surrey</td>\n",
              "      <td>NaN</td>\n",
              "      <td>permanent</td>\n",
              "      <td>Gregory Martin International</td>\n",
              "      <td>Engineering Jobs</td>\n",
              "      <td>20000 - 30000/annum 20-30K</td>\n",
              "      <td>25000</td>\n",
              "      <td>cv-library.co.uk</td>\n",
              "    </tr>\n",
              "  </tbody>\n",
              "</table>\n",
              "</div>"
            ],
            "text/plain": [
              "         Id  ...        SourceName\n",
              "0  12612628  ...  cv-library.co.uk\n",
              "1  12612830  ...  cv-library.co.uk\n",
              "2  12612844  ...  cv-library.co.uk\n",
              "3  12613049  ...  cv-library.co.uk\n",
              "4  12613647  ...  cv-library.co.uk\n",
              "\n",
              "[5 rows x 12 columns]"
            ]
          },
          "metadata": {
            "tags": []
          },
          "execution_count": 64
        }
      ]
    },
    {
      "cell_type": "code",
      "metadata": {
        "id": "SNPvaMRE9LJW",
        "colab_type": "code",
        "colab": {
          "base_uri": "https://localhost:8080/",
          "height": 230
        },
        "outputId": "a0bd1131-cfe3-4453-8d38-24e0f4b888a8"
      },
      "source": [
        "data['Category'].unique()"
      ],
      "execution_count": null,
      "outputs": [
        {
          "output_type": "execute_result",
          "data": {
            "text/plain": [
              "array(['Engineering Jobs', 'HR & Recruitment Jobs',\n",
              "       'Accounting & Finance Jobs', 'Healthcare & Nursing Jobs',\n",
              "       'Other/General Jobs', 'Hospitality & Catering Jobs', 'IT Jobs',\n",
              "       'Customer Services Jobs', 'Travel Jobs', 'Sales Jobs',\n",
              "       'Manufacturing Jobs', 'Teaching Jobs', 'Creative & Design Jobs',\n",
              "       'Trade & Construction Jobs', 'Property Jobs', 'Admin Jobs',\n",
              "       'Legal Jobs', 'Retail Jobs', 'Consultancy Jobs',\n",
              "       'Energy, Oil & Gas Jobs', 'Logistics & Warehouse Jobs',\n",
              "       'PR, Advertising & Marketing Jobs', 'Charity & Voluntary Jobs',\n",
              "       'Scientific & QA Jobs', 'Maintenance Jobs',\n",
              "       'Domestic help & Cleaning Jobs', 'Social work Jobs',\n",
              "       'Graduate Jobs'], dtype=object)"
            ]
          },
          "metadata": {
            "tags": []
          },
          "execution_count": 65
        }
      ]
    },
    {
      "cell_type": "code",
      "metadata": {
        "id": "c26NbFMg9-U1",
        "colab_type": "code",
        "colab": {}
      },
      "source": [
        "cat_1 = 'Charity & Voluntary Jobs'\n",
        "\n",
        "cat_2 = 'IT Jobs'\n",
        "\n",
        "# here im getting all the jobs of category 1\n",
        "data_1 = data[data['Category'] == cat_1]\n",
        "# here im getting all the jobs of category 2\n",
        "data_2 = data[data['Category'] == cat_2]\n",
        "\n",
        "# assuming the dataset is the population -> dangerous assumption?\n"
      ],
      "execution_count": null,
      "outputs": []
    },
    {
      "cell_type": "code",
      "metadata": {
        "id": "ciKLc5hu-U61",
        "colab_type": "code",
        "colab": {}
      },
      "source": [
        "sample_1 = np.random.choice(pd.to_numeric(data_1['SalaryNormalized']), 50)\n",
        "\n",
        "sample_2 = np.random.choice(pd.to_numeric(data_2['SalaryNormalized']), 50)"
      ],
      "execution_count": null,
      "outputs": []
    },
    {
      "cell_type": "code",
      "metadata": {
        "id": "jP0KYqpyBYKF",
        "colab_type": "code",
        "colab": {
          "base_uri": "https://localhost:8080/",
          "height": 34
        },
        "outputId": "3adee099-9f70-46ad-8cfd-39967d85722f"
      },
      "source": [
        "std_cat1"
      ],
      "execution_count": null,
      "outputs": [
        {
          "output_type": "execute_result",
          "data": {
            "text/plain": [
              "18720.246991626176"
            ]
          },
          "metadata": {
            "tags": []
          },
          "execution_count": 111
        }
      ]
    },
    {
      "cell_type": "code",
      "metadata": {
        "id": "HRmQ4ubD_Bh7",
        "colab_type": "code",
        "colab": {}
      },
      "source": [
        "# build my distribution of the difference of the sample means -> here we are assuming we know the standard deviations of the population\n",
        "\n",
        "# using data_1 and NOT the sample -> assuming the data is the population\n",
        "# these are the standard deviation of the population\n",
        "std_cat1 = np.std(data_1['SalaryNormalized'])\n",
        "std_cat2 = np.std(data_2['SalaryNormalized'])\n",
        "\n",
        "mean = np.mean(sample_1) - np.mean(sample_2)\n",
        "\n",
        "sigma_star = np.sqrt(np.square(std_cat1)/len(sample1) + np.square(std_cat2)/len(sample2))\n",
        "\n",
        "\n",
        "# after this the process is exactly the same\n",
        "\n",
        "from scipy.stats import norm\n",
        "\n",
        "norm_dist = norm(mean, sigma_star)\n",
        "\n",
        "\n"
      ],
      "execution_count": null,
      "outputs": []
    },
    {
      "cell_type": "code",
      "metadata": {
        "id": "fi_b0DIBBIBT",
        "colab_type": "code",
        "colab": {
          "base_uri": "https://localhost:8080/",
          "height": 52
        },
        "outputId": "35466932-8ccd-495a-a7e6-6b5ce7c0df37"
      },
      "source": [
        "# confidence interval \n",
        "lower, upper = norm_dist.interval(0.95)\n",
        "\n",
        "print(lower)\n",
        "print(upper)"
      ],
      "execution_count": null,
      "outputs": [
        {
          "output_type": "stream",
          "text": [
            "-30539.478693823345\n",
            "-1771.32130617666\n"
          ],
          "name": "stdout"
        }
      ]
    },
    {
      "cell_type": "code",
      "metadata": {
        "id": "c4sIFoJrBKfh",
        "colab_type": "code",
        "colab": {
          "base_uri": "https://localhost:8080/",
          "height": 275
        },
        "outputId": "4dd767b9-fd7d-45bb-f70e-34cfc1a77cb4"
      },
      "source": [
        "import matplotlib.pyplot as plt\n",
        "\n",
        "fig, ax = plt.subplots(1, 1)\n",
        "x = np.linspace(sample_mean - 5*sigma_star,sample_mean + 5*sigma_star,1000)\n",
        "y = norm_dist.pdf(x)\n",
        "ax.plot(x,y)\n",
        "plt.vlines(lower,0,norm_dist.pdf(lower))\n",
        "plt.vlines(upper,0,norm_dist.pdf(upper))\n",
        "plt.vlines(sample_mean,0,norm_dist.pdf(sample_mean), color = 'red')\n",
        "plt.hlines(0, 20,70, colors = 'r')\n",
        "plt.show()"
      ],
      "execution_count": null,
      "outputs": [
        {
          "output_type": "display_data",
          "data": {
            "image/png": "[encoded data removed]",
            "text/plain": [
              "<Figure size 432x288 with 1 Axes>"
            ]
          },
          "metadata": {
            "tags": [],
            "needs_background": "light"
          }
        }
      ]
    },
    {
      "cell_type": "code",
      "metadata": {
        "id": "sFSBRfs-CQMV",
        "colab_type": "code",
        "colab": {}
      },
      "source": [
        "# solving example 9.1 of hypthesis testing\n",
        "\n",
        "# got this from my assumption\n",
        "mean = 80\n",
        "\n",
        "standard_dev = 8\n",
        "n = 25\n",
        "\n",
        "# build my distribution\n",
        "\n",
        "from scipy.stats import norm\n",
        "\n",
        "normal_dist = norm(mean, standard_dev/np.sqrt(n))"
      ],
      "execution_count": null,
      "outputs": []
    },
    {
      "cell_type": "code",
      "metadata": {
        "id": "HPOA-RTqjFjn",
        "colab_type": "code",
        "colab": {
          "base_uri": "https://localhost:8080/",
          "height": 34
        },
        "outputId": "e61eea64-3643-45c5-8c14-422b77c7b74b"
      },
      "source": [
        "# I am creating a confidence interval with 90% in the center, and therefore 5% to each side\n",
        "\n",
        "normal_dist.interval(0.9)"
      ],
      "execution_count": null,
      "outputs": [
        {
          "output_type": "execute_result",
          "data": {
            "text/plain": [
              "(77.36823419687764, 82.63176580312236)"
            ]
          },
          "metadata": {
            "tags": []
          },
          "execution_count": 116
        }
      ]
    },
    {
      "cell_type": "code",
      "metadata": {
        "id": "rnWEK7bEjmpb",
        "colab_type": "code",
        "colab": {}
      },
      "source": [
        "# My decision boundary is that if my observed mean > 82.6 \n",
        "# then I reject H0 -> assume that my change made an effect (to increase prod)\n",
        "\n"
      ],
      "execution_count": null,
      "outputs": []
    }
  ]
}