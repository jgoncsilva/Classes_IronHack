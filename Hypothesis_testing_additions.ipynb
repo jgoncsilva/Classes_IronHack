{
  "nbformat": 4,
  "nbformat_minor": 0,
  "metadata": {
    "kernelspec": {
      "display_name": "Python 3",
      "language": "python",
      "name": "python3"
    },
    "language_info": {
      "codemirror_mode": {
        "name": "ipython",
        "version": 3
      },
      "file_extension": ".py",
      "mimetype": "text/x-python",
      "name": "python",
      "nbconvert_exporter": "python",
      "pygments_lexer": "ipython3",
      "version": "3.6.8"
    },
    "colab": {
      "name": "Hypothesis testing - additions.ipynb",
      "provenance": [],
      "include_colab_link": true
    }
  },
  "cells": [
    {
      "cell_type": "markdown",
      "metadata": {
        "id": "view-in-github",
        "colab_type": "text"
      },
      "source": [
        "<a href=\"https://colab.research.google.com/github/jgoncsilva/Classes_IronHack/blob/master/Hypothesis_testing_additions.ipynb\" target=\"_parent\"><img src=\"https://colab.research.google.com/assets/colab-badge.svg\" alt=\"Open In Colab\"/></a>"
      ]
    },
    {
      "cell_type": "markdown",
      "metadata": {
        "id": "TcQ6tTZnuiWt",
        "colab_type": "text"
      },
      "source": [
        "## ANOVA test"
      ]
    },
    {
      "cell_type": "code",
      "metadata": {
        "id": "oxhmnfwwuiWw",
        "colab_type": "code",
        "colab": {}
      },
      "source": [
        "import pandas as pd\n",
        "from scipy.stats import f_oneway\n",
        "\n",
        "ds = pd.read_csv('rate_by_city.csv')\n",
        "ds.head()"
      ],
      "execution_count": null,
      "outputs": []
    },
    {
      "cell_type": "code",
      "metadata": {
        "id": "38tXDagFuiW1",
        "colab_type": "code",
        "colab": {}
      },
      "source": [
        "## Have a look at the dataset"
      ],
      "execution_count": null,
      "outputs": []
    },
    {
      "cell_type": "code",
      "metadata": {
        "id": "NASG5ZIguiW3",
        "colab_type": "code",
        "colab": {}
      },
      "source": [
        "ds['city_count'] = ds.groupby('City').cumcount()\n",
        "ds_pivot = ds.pivot(index='city_count', columns='City', values='Rate')\n",
        "ds_pivot.columns = ['City_'+str(x) for x in ds_pivot.columns.values]\n",
        "ds_pivot.head()"
      ],
      "execution_count": null,
      "outputs": []
    },
    {
      "cell_type": "code",
      "metadata": {
        "id": "Se7XT6hKuiW6",
        "colab_type": "code",
        "colab": {}
      },
      "source": [
        "f_oneway(ds_pivot.City_1,ds_pivot.City_2,ds_pivot.City_3,ds_pivot.City_4,ds_pivot.City_5,ds_pivot.City_6)"
      ],
      "execution_count": null,
      "outputs": []
    },
    {
      "cell_type": "markdown",
      "metadata": {
        "id": "53SQfNwDuiW9",
        "colab_type": "text"
      },
      "source": [
        "## Using statsmodel library"
      ]
    },
    {
      "cell_type": "markdown",
      "metadata": {
        "id": "LtfpzTxzuiW-",
        "colab_type": "text"
      },
      "source": [
        "### ANOVA"
      ]
    },
    {
      "cell_type": "code",
      "metadata": {
        "id": "qCMBSuqYuiW_",
        "colab_type": "code",
        "colab": {}
      },
      "source": [
        "import statsmodels.api as sm\n",
        "from statsmodels.formula.api import ols\n",
        "\n",
        "model = ols('Rate ~ C(City)', data=ds).fit()\n",
        "anova_table = sm.stats.anova_lm(model, typ=2)\n",
        "anova_table"
      ],
      "execution_count": null,
      "outputs": []
    },
    {
      "cell_type": "markdown",
      "metadata": {
        "id": "lamD-9ciuiXC",
        "colab_type": "text"
      },
      "source": [
        "### Linear regression"
      ]
    },
    {
      "cell_type": "code",
      "metadata": {
        "id": "qzGMn-oRuiXD",
        "colab_type": "code",
        "colab": {}
      },
      "source": [
        "from scipy.stats import linregress\n",
        "\n",
        "ds = pd.read_csv('auto-mpg.csv')\n",
        "ds.head()"
      ],
      "execution_count": null,
      "outputs": []
    },
    {
      "cell_type": "code",
      "metadata": {
        "id": "qm0uRKM9uiXG",
        "colab_type": "code",
        "colab": {}
      },
      "source": [
        "## Have a look at the dataset"
      ],
      "execution_count": null,
      "outputs": []
    },
    {
      "cell_type": "code",
      "metadata": {
        "id": "2CqAE8PruiXI",
        "colab_type": "code",
        "colab": {}
      },
      "source": [
        "slope, intercept, r_value, p_value, std_err = linregress(ds.acceleration, ds.mpg)\n",
        "slope, intercept, r_value, p_value, std_err"
      ],
      "execution_count": null,
      "outputs": []
    },
    {
      "cell_type": "code",
      "metadata": {
        "id": "-DF1lGzpuiXO",
        "colab_type": "code",
        "colab": {}
      },
      "source": [
        "import statsmodels.api as sm\n",
        "\n",
        "X = sm.add_constant(ds.acceleration) # We must add the intercept using the add_constant function\n",
        "Y = ds.mpg\n",
        "\n",
        "model = sm.OLS(Y, X).fit()\n",
        "predictions = model.predict(X) \n",
        "\n",
        "print_model = model.summary()\n",
        "print(print_model)"
      ],
      "execution_count": null,
      "outputs": []
    },
    {
      "cell_type": "code",
      "metadata": {
        "id": "zmkElkYTuiXR",
        "colab_type": "code",
        "colab": {}
      },
      "source": [
        ""
      ],
      "execution_count": null,
      "outputs": []
    }
  ]
}