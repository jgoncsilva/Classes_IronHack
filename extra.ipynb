{
  "nbformat": 4,
  "nbformat_minor": 0,
  "metadata": {
    "colab": {
      "name": "extra.ipynb",
      "provenance": [],
      "collapsed_sections": [],
      "include_colab_link": true
    },
    "kernelspec": {
      "name": "python3",
      "display_name": "Python 3"
    }
  },
  "cells": [
    {
      "cell_type": "markdown",
      "metadata": {
        "id": "view-in-github",
        "colab_type": "text"
      },
      "source": [
        "<a href=\"https://colab.research.google.com/github/jgoncsilva/Classes_IronHack/blob/master/extra.ipynb\" target=\"_parent\"><img src=\"https://colab.research.google.com/assets/colab-badge.svg\" alt=\"Open In Colab\"/></a>"
      ]
    },
    {
      "cell_type": "code",
      "metadata": {
        "id": "DP0zJ7yMkLqk",
        "colab_type": "code",
        "colab": {}
      },
      "source": [
        "data = pd.read_csv('sample_data/california_housing_test.csv')\n",
        "\n",
        "data.head()\n",
        "\n",
        "data.index = data['latitude']\n",
        "\n",
        "data.head()\n",
        "\n",
        "# how to access specific rows in pandas \n",
        "#-> locate the index by name -> loc\n",
        "# -> locate the index by position (like a list) -> iloc\n",
        "\n",
        "# locate the row by calling the index name!!!! loc == locate\n",
        "data.loc[34.26]\n",
        "\n",
        "# iloc -> index locate\n",
        "data.iloc[1:10]"
      ],
      "execution_count": null,
      "outputs": []
    },
    {
      "cell_type": "code",
      "metadata": {
        "id": "Q3SYg95LkEYw",
        "colab_type": "code",
        "colab": {}
      },
      "source": [
        "\"\"\"\n",
        "Write a function that takes in a string of one or more words, and returns the same string, \n",
        "but with all five or more letter words reversed (Just like the name of this Kata). \n",
        "Strings passed in will consist of only letters and spaces. Spaces will be included only when more than one word is present.\n",
        "\n",
        "Examples: spinWords( \"Hey fellow warriors\" ) => returns \"Hey wollef sroirraw\" \n",
        "spinWords( \"This is a test\") => returns \"This is a test\" spinWords( \"This is another test\" )=> returns \"This is rehtona test\"\n",
        "\"\"\"\n",
        "\n",
        "# breakup string in spaces -> loop over the string if \" \" (space is found) I go get the index, and get what's behind\n",
        "\n",
        "# for loop over all the words\n",
        "\n",
        "# logical condition for the len(word) > 5\n",
        "\n",
        "# how to reverse the word\n",
        "\n",
        "# bring the words back together -> I would use a concatenation \"\" + word + ...\n",
        "\n",
        "mystring = \"Hey fellow warriors\"\n",
        "\n",
        "mylist = mystring.split(\" \")\n",
        "mylist\n",
        "\n",
        "word = mylist[2]\n",
        "# reverse the word\n",
        "word[::-1]\n",
        "\n",
        "\n",
        "reversed_list = [word[::-1] if len(word)>=5 else word for word in mylist ]\n",
        "\n",
        "# to bring back a list of strings together, we use the join method, applied\n",
        "# to the string we want to ne a seperator\n",
        "\" \".join(reversed_list)\n"
      ],
      "execution_count": null,
      "outputs": []
    }
  ]
}