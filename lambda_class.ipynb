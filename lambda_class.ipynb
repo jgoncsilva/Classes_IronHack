{
  "nbformat": 4,
  "nbformat_minor": 0,
  "metadata": {
    "colab": {
      "name": "lambda-class.ipynb",
      "provenance": [],
      "include_colab_link": true
    },
    "kernelspec": {
      "name": "python3",
      "display_name": "Python 3"
    }
  },
  "cells": [
    {
      "cell_type": "markdown",
      "metadata": {
        "id": "view-in-github",
        "colab_type": "text"
      },
      "source": [
        "<a href=\"https://colab.research.google.com/github/jgoncsilva/Classes_IronHack/blob/master/lambda_class.ipynb\" target=\"_parent\"><img src=\"https://colab.research.google.com/assets/colab-badge.svg\" alt=\"Open In Colab\"/></a>"
      ]
    },
    {
      "cell_type": "code",
      "metadata": {
        "id": "nOYV5jnqzy_J",
        "colab_type": "code",
        "colab": {}
      },
      "source": [
        "# you can be a perfectly excellent coder in python withhout knowing what lambda functions are\n",
        "\n",
        "# all that we will learn today can be coded with other python constructs which we have learnt\n",
        "\n",
        "# why lambda functions?\n",
        "\n",
        "# INTERVIEWS\n",
        "\n",
        "# efficient \n",
        "\n",
        "# when working in big projects, if the lead developer wants to use lambda function, we all need to abide\n"
      ],
      "execution_count": null,
      "outputs": []
    },
    {
      "cell_type": "code",
      "metadata": {
        "id": "l6ocHFp_j4wc",
        "colab_type": "code",
        "colab": {}
      },
      "source": [
        ""
      ],
      "execution_count": null,
      "outputs": []
    },
    {
      "cell_type": "code",
      "metadata": {
        "id": "z-DyjoIV1HyC",
        "colab_type": "code",
        "colab": {}
      },
      "source": [
        "# a lambda function is an anonymous function -> define them one time, and use them that time, and then they die"
      ],
      "execution_count": null,
      "outputs": []
    },
    {
      "cell_type": "code",
      "metadata": {
        "id": "DX_wDZfN1nc7",
        "colab_type": "code",
        "colab": {}
      },
      "source": [
        "# this is a real function that I can call as many times as it want, in different files, whenever I need\n",
        "def square(x):\n",
        "  g = lambda x : x**2\n",
        "  return g(x)"
      ],
      "execution_count": null,
      "outputs": []
    },
    {
      "cell_type": "code",
      "metadata": {
        "id": "Qq_-Plf91rLU",
        "colab_type": "code",
        "colab": {
          "base_uri": "https://localhost:8080/",
          "height": 34
        },
        "outputId": "f6339435-3307-46b9-ab29-0d49885bfa2e"
      },
      "source": [
        "square(4)"
      ],
      "execution_count": null,
      "outputs": [
        {
          "output_type": "execute_result",
          "data": {
            "text/plain": [
              "16"
            ]
          },
          "metadata": {
            "tags": []
          },
          "execution_count": 2
        }
      ]
    },
    {
      "cell_type": "code",
      "metadata": {
        "id": "6cVdmTmV1vvd",
        "colab_type": "code",
        "colab": {
          "base_uri": "https://localhost:8080/",
          "height": 34
        },
        "outputId": "6e501835-7f77-41e7-85f2-22d680525053"
      },
      "source": [
        "# how to do the same in a lambda function?\n",
        "\n",
        "# lambda input(s) : output\n",
        "\n",
        "lambda x : x**2\n",
        "\n",
        "# currently this is uselless"
      ],
      "execution_count": null,
      "outputs": [
        {
          "output_type": "execute_result",
          "data": {
            "text/plain": [
              "<function __main__.<lambda>>"
            ]
          },
          "metadata": {
            "tags": []
          },
          "execution_count": 4
        }
      ]
    },
    {
      "cell_type": "code",
      "metadata": {
        "id": "1XZrQrEh2H67",
        "colab_type": "code",
        "colab": {
          "base_uri": "https://localhost:8080/",
          "height": 34
        },
        "outputId": "b23f0593-e603-4b4b-e7d9-16e5fcd3bc5c"
      },
      "source": [
        "# normally you define them and apply them immediately\n",
        "\n",
        "(lambda x : x**2)(4)"
      ],
      "execution_count": null,
      "outputs": [
        {
          "output_type": "execute_result",
          "data": {
            "text/plain": [
              "16"
            ]
          },
          "metadata": {
            "tags": []
          },
          "execution_count": 5
        }
      ]
    },
    {
      "cell_type": "code",
      "metadata": {
        "id": "MSLsJ4I72nJj",
        "colab_type": "code",
        "colab": {
          "base_uri": "https://localhost:8080/",
          "height": 34
        },
        "outputId": "8e0c8f11-b0e7-472f-d9c2-3ed54c13834a"
      },
      "source": [
        "# you can name lambda functions\n",
        "g = lambda x,y : x**y\n",
        "\n",
        "g(2,3)"
      ],
      "execution_count": null,
      "outputs": [
        {
          "output_type": "execute_result",
          "data": {
            "text/plain": [
              "8"
            ]
          },
          "metadata": {
            "tags": []
          },
          "execution_count": 7
        }
      ]
    },
    {
      "cell_type": "code",
      "metadata": {
        "id": "y-tS3XkG2Qp9",
        "colab_type": "code",
        "colab": {
          "base_uri": "https://localhost:8080/",
          "height": 34
        },
        "outputId": "a7f2f17b-8f78-4cab-ab49-b70e1a59970a"
      },
      "source": [
        "# lambda functions are useful when combined with iterables -> list comprehension\n",
        "\n",
        "g = lambda x:x**2\n",
        "\n",
        "[g(x) for x in range(0,10)]"
      ],
      "execution_count": null,
      "outputs": [
        {
          "output_type": "execute_result",
          "data": {
            "text/plain": [
              "[0, 1, 4, 9, 16, 25, 36, 49, 64, 81]"
            ]
          },
          "metadata": {
            "tags": []
          },
          "execution_count": 12
        }
      ]
    },
    {
      "cell_type": "code",
      "metadata": {
        "id": "8LxCcHUF3I4G",
        "colab_type": "code",
        "colab": {
          "base_uri": "https://localhost:8080/",
          "height": 34
        },
        "outputId": "5e875eeb-656f-480b-9f43-0d465206c86a"
      },
      "source": [
        "#[(defining lambda function)(applying it to x) for x in iterable]\n",
        "\n",
        "[(lambda x:x**2)(x) for x in range(0,10)]"
      ],
      "execution_count": null,
      "outputs": [
        {
          "output_type": "execute_result",
          "data": {
            "text/plain": [
              "[0, 1, 4, 9, 16, 25, 36, 49, 64, 81]"
            ]
          },
          "metadata": {
            "tags": []
          },
          "execution_count": 16
        }
      ]
    },
    {
      "cell_type": "code",
      "metadata": {
        "id": "UVi1Pa_k4iTu",
        "colab_type": "code",
        "colab": {}
      },
      "source": [
        "# conditions in lambdas\n",
        "# insert small logical condition in lambda functions \n",
        "\n",
        "g = lambda a,b : a+b if a%2 == 0 else a-b\n",
        "\n"
      ],
      "execution_count": null,
      "outputs": []
    },
    {
      "cell_type": "code",
      "metadata": {
        "id": "sH-zgrwR5tK-",
        "colab_type": "code",
        "colab": {
          "base_uri": "https://localhost:8080/",
          "height": 34
        },
        "outputId": "1e86647f-6409-448a-db27-9ef5237d8f86"
      },
      "source": [
        "g(8,4)"
      ],
      "execution_count": null,
      "outputs": [
        {
          "output_type": "execute_result",
          "data": {
            "text/plain": [
              "12"
            ]
          },
          "metadata": {
            "tags": []
          },
          "execution_count": 19
        }
      ]
    },
    {
      "cell_type": "code",
      "metadata": {
        "id": "jOoZfqiD5xOw",
        "colab_type": "code",
        "colab": {}
      },
      "source": [
        "\"\"\"\n",
        "Unlike lambda forms in other languages, where they add functionality, \n",
        "Python lambdas are only a shorthand notation if you’re too lazy to define a function.\n",
        "\"\"\""
      ],
      "execution_count": null,
      "outputs": []
    },
    {
      "cell_type": "code",
      "metadata": {
        "id": "X-HMZ2VG6IXZ",
        "colab_type": "code",
        "colab": {}
      },
      "source": [
        "# a bit more interesting usecase is to havelambdas defined inside a function \n",
        "\n",
        "# ADVANCED\n",
        "\n",
        "def flexible_function(power):\n",
        "  # what the hell is a ? so far nothing -> this function by itself is still missing something\n",
        "  return lambda a : a**power\n",
        "\n",
        "\n",
        "# the flexible_functions actualy returns ANOTHER FUNCTION!!!!!!!!!!!! -> you will then be able to define new function\n",
        "\n"
      ],
      "execution_count": null,
      "outputs": []
    },
    {
      "cell_type": "code",
      "metadata": {
        "id": "PbGK2VPM7DOe",
        "colab_type": "code",
        "colab": {}
      },
      "source": [
        "# square numbers became ANOTHER FUNCTION that is ready to receive an input \"a\" and square it\n",
        "square_numbers = flexible_function(2)\n",
        "\n",
        "# the usecase of this is to define dynamic functions\n"
      ],
      "execution_count": null,
      "outputs": []
    },
    {
      "cell_type": "code",
      "metadata": {
        "id": "Z60b4zQE7Pw5",
        "colab_type": "code",
        "colab": {
          "base_uri": "https://localhost:8080/",
          "height": 34
        },
        "outputId": "ff63b834-2c6d-4404-c4fb-c13f4cbaf0f1"
      },
      "source": [
        "square_numbers(4)"
      ],
      "execution_count": null,
      "outputs": [
        {
          "output_type": "execute_result",
          "data": {
            "text/plain": [
              "64"
            ]
          },
          "metadata": {
            "tags": []
          },
          "execution_count": 25
        }
      ]
    },
    {
      "cell_type": "code",
      "metadata": {
        "id": "tD2NXeyl7UDZ",
        "colab_type": "code",
        "colab": {
          "base_uri": "https://localhost:8080/",
          "height": 34
        },
        "outputId": "d5c7b1aa-235e-469a-fef6-373172c67a56"
      },
      "source": [
        "# you can do it all in one step \n",
        "flexible_function(2)(4)"
      ],
      "execution_count": null,
      "outputs": [
        {
          "output_type": "execute_result",
          "data": {
            "text/plain": [
              "16"
            ]
          },
          "metadata": {
            "tags": []
          },
          "execution_count": 27
        }
      ]
    },
    {
      "cell_type": "code",
      "metadata": {
        "id": "rh3TWZF-8AOs",
        "colab_type": "code",
        "colab": {}
      },
      "source": [
        "# when we combine lambda functions with map function\n",
        "\n",
        "#but what is a map function?\n",
        "\n",
        "# the map function allows you to apply an operation (a function) to an array of elements, in a dynamic way -> the function is applied element by elemebt\n",
        "\n",
        "# you have a function with a very complex logic that you need to apply to each element in an iterable\n",
        "\n",
        "#map(function to apply, array to apply it to)\n",
        "\n",
        "def square(x):\n",
        "  return x**2"
      ],
      "execution_count": null,
      "outputs": []
    },
    {
      "cell_type": "code",
      "metadata": {
        "id": "ti60OSxx9CsF",
        "colab_type": "code",
        "colab": {
          "base_uri": "https://localhost:8080/",
          "height": 34
        },
        "outputId": "25983004-2bc6-4cf8-8f5a-f46643279e55"
      },
      "source": [
        "map(square,[1,2,3,4,5])\n",
        "\n",
        "# whenever you use the map method, it returns a crazy map object"
      ],
      "execution_count": null,
      "outputs": [
        {
          "output_type": "execute_result",
          "data": {
            "text/plain": [
              "<map at 0x7f421d871d68>"
            ]
          },
          "metadata": {
            "tags": []
          },
          "execution_count": 29
        }
      ]
    },
    {
      "cell_type": "code",
      "metadata": {
        "id": "AykJmQnr9HHY",
        "colab_type": "code",
        "colab": {
          "base_uri": "https://localhost:8080/",
          "height": 34
        },
        "outputId": "69774669-8d50-4fb8-a10d-cd556cf3087b"
      },
      "source": [
        "list(map(square,[1,2,3,4,5]))"
      ],
      "execution_count": null,
      "outputs": [
        {
          "output_type": "execute_result",
          "data": {
            "text/plain": [
              "[1, 4, 9, 16, 25]"
            ]
          },
          "metadata": {
            "tags": []
          },
          "execution_count": 30
        }
      ]
    },
    {
      "cell_type": "code",
      "metadata": {
        "id": "GMZ7wrhO9p60",
        "colab_type": "code",
        "colab": {
          "base_uri": "https://localhost:8080/",
          "height": 34
        },
        "outputId": "d9bb91c7-df21-4735-f642-a62902e4b2c4"
      },
      "source": [
        "# its very common to see map functions combined with lambda function\n",
        "\n",
        "list(map(lambda x:x**2,[1,2,3,4,5]))"
      ],
      "execution_count": null,
      "outputs": [
        {
          "output_type": "execute_result",
          "data": {
            "text/plain": [
              "[1, 4, 9, 16, 25]"
            ]
          },
          "metadata": {
            "tags": []
          },
          "execution_count": 31
        }
      ]
    },
    {
      "cell_type": "code",
      "metadata": {
        "id": "xfIZcYL--HFp",
        "colab_type": "code",
        "colab": {
          "base_uri": "https://localhost:8080/",
          "height": 34
        },
        "outputId": "d9d9d0b4-88ef-4dea-93f6-a1deba9a542e"
      },
      "source": [
        "result = []\n",
        "\n",
        "for number in [1,2,3,4,5]:\n",
        "  result.append(number**2)\n",
        "\n",
        "result"
      ],
      "execution_count": null,
      "outputs": [
        {
          "output_type": "execute_result",
          "data": {
            "text/plain": [
              "[1, 4, 9, 16, 25]"
            ]
          },
          "metadata": {
            "tags": []
          },
          "execution_count": 32
        }
      ]
    },
    {
      "cell_type": "code",
      "metadata": {
        "id": "fKmqF3gy-P3_",
        "colab_type": "code",
        "colab": {
          "base_uri": "https://localhost:8080/",
          "height": 34
        },
        "outputId": "79f2b6c9-586b-427c-f368-319106440622"
      },
      "source": [
        "# filter\n",
        "\n",
        "# similar to the logic of a map function but it applies a condition\n",
        "\n",
        "# i want to get only the even ones\n",
        "\n",
        "# filter is exactly like the map -> applies the function to each value, BUT only returns the true\n",
        "\n",
        "list(filter(lambda x : x%2 ==0, [1,2,3,4,5,6,7,8]))\n",
        "\n",
        "\n"
      ],
      "execution_count": null,
      "outputs": [
        {
          "output_type": "execute_result",
          "data": {
            "text/plain": [
              "[2, 4, 6, 8]"
            ]
          },
          "metadata": {
            "tags": []
          },
          "execution_count": 38
        }
      ]
    },
    {
      "cell_type": "code",
      "metadata": {
        "id": "PX05Au4Q_bGO",
        "colab_type": "code",
        "colab": {
          "base_uri": "https://localhost:8080/",
          "height": 34
        },
        "outputId": "455701f8-8779-4c5f-ec7c-99f798f74558"
      },
      "source": [
        "# the map would only apply the function to each one and return true or false\n",
        "list(map(lambda x : x%2 ==0, [1,2,3,4,5,6,7,8]))"
      ],
      "execution_count": null,
      "outputs": [
        {
          "output_type": "execute_result",
          "data": {
            "text/plain": [
              "[False, True, False, True, False, True, False, True]"
            ]
          },
          "metadata": {
            "tags": []
          },
          "execution_count": 39
        }
      ]
    },
    {
      "cell_type": "code",
      "metadata": {
        "id": "Ih0Kk1eZ_5fs",
        "colab_type": "code",
        "colab": {}
      },
      "source": [
        "import pandas as pd"
      ],
      "execution_count": null,
      "outputs": []
    },
    {
      "cell_type": "code",
      "metadata": {
        "id": "ujQSKqstASBh",
        "colab_type": "code",
        "colab": {}
      },
      "source": [
        "data = pd.read_csv('sample_data/california_housing_test.csv')\n"
      ],
      "execution_count": null,
      "outputs": []
    },
    {
      "cell_type": "code",
      "metadata": {
        "id": "UEERJoJaAWHL",
        "colab_type": "code",
        "colab": {
          "base_uri": "https://localhost:8080/",
          "height": 195
        },
        "outputId": "41f02700-4fbd-4ee6-bdce-77957be70973"
      },
      "source": [
        "data.head()"
      ],
      "execution_count": null,
      "outputs": [
        {
          "output_type": "execute_result",
          "data": {
            "text/html": [
              "<div>\n",
              "<style scoped>\n",
              "    .dataframe tbody tr th:only-of-type {\n",
              "        vertical-align: middle;\n",
              "    }\n",
              "\n",
              "    .dataframe tbody tr th {\n",
              "        vertical-align: top;\n",
              "    }\n",
              "\n",
              "    .dataframe thead th {\n",
              "        text-align: right;\n",
              "    }\n",
              "</style>\n",
              "<table border=\"1\" class=\"dataframe\">\n",
              "  <thead>\n",
              "    <tr style=\"text-align: right;\">\n",
              "      <th></th>\n",
              "      <th>longitude</th>\n",
              "      <th>latitude</th>\n",
              "      <th>housing_median_age</th>\n",
              "      <th>total_rooms</th>\n",
              "      <th>total_bedrooms</th>\n",
              "      <th>population</th>\n",
              "      <th>households</th>\n",
              "      <th>median_income</th>\n",
              "      <th>median_house_value</th>\n",
              "    </tr>\n",
              "  </thead>\n",
              "  <tbody>\n",
              "    <tr>\n",
              "      <th>0</th>\n",
              "      <td>-122.05</td>\n",
              "      <td>37.37</td>\n",
              "      <td>27.0</td>\n",
              "      <td>3885.0</td>\n",
              "      <td>661.0</td>\n",
              "      <td>1537.0</td>\n",
              "      <td>606.0</td>\n",
              "      <td>6.6085</td>\n",
              "      <td>344700.0</td>\n",
              "    </tr>\n",
              "    <tr>\n",
              "      <th>1</th>\n",
              "      <td>-118.30</td>\n",
              "      <td>34.26</td>\n",
              "      <td>43.0</td>\n",
              "      <td>1510.0</td>\n",
              "      <td>310.0</td>\n",
              "      <td>809.0</td>\n",
              "      <td>277.0</td>\n",
              "      <td>3.5990</td>\n",
              "      <td>176500.0</td>\n",
              "    </tr>\n",
              "    <tr>\n",
              "      <th>2</th>\n",
              "      <td>-117.81</td>\n",
              "      <td>33.78</td>\n",
              "      <td>27.0</td>\n",
              "      <td>3589.0</td>\n",
              "      <td>507.0</td>\n",
              "      <td>1484.0</td>\n",
              "      <td>495.0</td>\n",
              "      <td>5.7934</td>\n",
              "      <td>270500.0</td>\n",
              "    </tr>\n",
              "    <tr>\n",
              "      <th>3</th>\n",
              "      <td>-118.36</td>\n",
              "      <td>33.82</td>\n",
              "      <td>28.0</td>\n",
              "      <td>67.0</td>\n",
              "      <td>15.0</td>\n",
              "      <td>49.0</td>\n",
              "      <td>11.0</td>\n",
              "      <td>6.1359</td>\n",
              "      <td>330000.0</td>\n",
              "    </tr>\n",
              "    <tr>\n",
              "      <th>4</th>\n",
              "      <td>-119.67</td>\n",
              "      <td>36.33</td>\n",
              "      <td>19.0</td>\n",
              "      <td>1241.0</td>\n",
              "      <td>244.0</td>\n",
              "      <td>850.0</td>\n",
              "      <td>237.0</td>\n",
              "      <td>2.9375</td>\n",
              "      <td>81700.0</td>\n",
              "    </tr>\n",
              "  </tbody>\n",
              "</table>\n",
              "</div>"
            ],
            "text/plain": [
              "   longitude  latitude  ...  median_income  median_house_value\n",
              "0    -122.05     37.37  ...         6.6085            344700.0\n",
              "1    -118.30     34.26  ...         3.5990            176500.0\n",
              "2    -117.81     33.78  ...         5.7934            270500.0\n",
              "3    -118.36     33.82  ...         6.1359            330000.0\n",
              "4    -119.67     36.33  ...         2.9375             81700.0\n",
              "\n",
              "[5 rows x 9 columns]"
            ]
          },
          "metadata": {
            "tags": []
          },
          "execution_count": 42
        }
      ]
    },
    {
      "cell_type": "code",
      "metadata": {
        "id": "gSXizXx3AW5w",
        "colab_type": "code",
        "colab": {
          "base_uri": "https://localhost:8080/",
          "height": 218
        },
        "outputId": "08e231cc-f1f1-4d2e-e2e3-de5b8bf9b851"
      },
      "source": [
        "def square(x):\n",
        "  return x**2\n",
        "\n",
        "data['latitude'].apply(square)"
      ],
      "execution_count": null,
      "outputs": [
        {
          "output_type": "execute_result",
          "data": {
            "text/plain": [
              "0       1396.5169\n",
              "1       1173.7476\n",
              "2       1141.0884\n",
              "3       1143.7924\n",
              "4       1319.8689\n",
              "          ...    \n",
              "2995    1184.7364\n",
              "2996    1160.0836\n",
              "2997    1317.6900\n",
              "2998    1162.8100\n",
              "2999    1184.7364\n",
              "Name: latitude, Length: 3000, dtype: float64"
            ]
          },
          "metadata": {
            "tags": []
          },
          "execution_count": 43
        }
      ]
    },
    {
      "cell_type": "code",
      "metadata": {
        "id": "DXl6QtSmAfbB",
        "colab_type": "code",
        "colab": {
          "base_uri": "https://localhost:8080/",
          "height": 218
        },
        "outputId": "b5ba2bf2-ec9f-4bc0-cf68-573e6afe720e"
      },
      "source": [
        "data['latitude'].apply(lambda x : x**2)"
      ],
      "execution_count": null,
      "outputs": [
        {
          "output_type": "execute_result",
          "data": {
            "text/plain": [
              "0       1396.5169\n",
              "1       1173.7476\n",
              "2       1141.0884\n",
              "3       1143.7924\n",
              "4       1319.8689\n",
              "          ...    \n",
              "2995    1184.7364\n",
              "2996    1160.0836\n",
              "2997    1317.6900\n",
              "2998    1162.8100\n",
              "2999    1184.7364\n",
              "Name: latitude, Length: 3000, dtype: float64"
            ]
          },
          "metadata": {
            "tags": []
          },
          "execution_count": 44
        }
      ]
    },
    {
      "cell_type": "code",
      "metadata": {
        "id": "m9CRizPKAzyN",
        "colab_type": "code",
        "colab": {
          "base_uri": "https://localhost:8080/",
          "height": 34
        },
        "outputId": "980f4e5a-e8f4-48ff-8860-587fd46a89c7"
      },
      "source": [
        "list(map((lambda x : 2*x), [1,3,5,7,9]) )"
      ],
      "execution_count": null,
      "outputs": [
        {
          "output_type": "execute_result",
          "data": {
            "text/plain": [
              "[2, 6, 10, 14, 18]"
            ]
          },
          "metadata": {
            "tags": []
          },
          "execution_count": 48
        }
      ]
    },
    {
      "cell_type": "code",
      "metadata": {
        "id": "FUS9xSbfN9pT",
        "colab_type": "code",
        "colab": {
          "base_uri": "https://localhost:8080/",
          "height": 34
        },
        "outputId": "7131c841-9976-42b3-f1f8-a205e17c707a"
      },
      "source": [
        "list(filter((lambda x : x%3 == 0), [1,3,5,7,9]))\n",
        "\n"
      ],
      "execution_count": null,
      "outputs": [
        {
          "output_type": "execute_result",
          "data": {
            "text/plain": [
              "[3, 9]"
            ]
          },
          "metadata": {
            "tags": []
          },
          "execution_count": 52
        }
      ]
    },
    {
      "cell_type": "code",
      "metadata": {
        "id": "6xkia2OzQUPn",
        "colab_type": "code",
        "colab": {}
      },
      "source": [
        ""
      ],
      "execution_count": null,
      "outputs": []
    }
  ]
}