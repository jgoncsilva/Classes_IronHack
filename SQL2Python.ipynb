{
  "nbformat": 4,
  "nbformat_minor": 0,
  "metadata": {
    "kernelspec": {
      "display_name": "Python 3",
      "language": "python",
      "name": "python3"
    },
    "language_info": {
      "codemirror_mode": {
        "name": "ipython",
        "version": 3
      },
      "file_extension": ".py",
      "mimetype": "text/x-python",
      "name": "python",
      "nbconvert_exporter": "python",
      "pygments_lexer": "ipython3",
      "version": "3.7.3"
    },
    "toc": {
      "base_numbering": 1,
      "nav_menu": {},
      "number_sections": false,
      "sideBar": false,
      "skip_h1_title": false,
      "title_cell": "Table of Contents",
      "title_sidebar": "Contents",
      "toc_cell": false,
      "toc_position": {},
      "toc_section_display": false,
      "toc_window_display": false
    },
    "colab": {
      "name": "SQL2Python.ipynb",
      "provenance": [],
      "collapsed_sections": [],
      "include_colab_link": true
    }
  },
  "cells": [
    {
      "cell_type": "markdown",
      "metadata": {
        "id": "view-in-github",
        "colab_type": "text"
      },
      "source": [
        "<a href=\"https://colab.research.google.com/github/jgoncsilva/Classes_IronHack/blob/master/SQL2Python.ipynb\" target=\"_parent\"><img src=\"https://colab.research.google.com/assets/colab-badge.svg\" alt=\"Open In Colab\"/></a>"
      ]
    },
    {
      "cell_type": "code",
      "metadata": {
        "id": "fVFBLyGw_l7B",
        "colab_type": "code",
        "colab": {}
      },
      "source": [
        "import mysql.connector\n",
        "import pandas as pd"
      ],
      "execution_count": null,
      "outputs": []
    },
    {
      "cell_type": "code",
      "metadata": {
        "id": "hjQhmrD8ipKC",
        "colab_type": "code",
        "colab": {}
      },
      "source": [
        ""
      ],
      "execution_count": null,
      "outputs": []
    },
    {
      "cell_type": "code",
      "metadata": {
        "id": "T0_fMnVN_l7F",
        "colab_type": "code",
        "colab": {}
      },
      "source": [
        "#import mysql.connector  . The connect() constructor creates a connection to the MySQL server and returns a MySQLConnection objec\n",
        "\n",
        "cnx = mysql.connector.connect(user='root', password='rootroot', host='127.0.0.1', database='publications', use_pure=True)\n"
      ],
      "execution_count": null,
      "outputs": []
    },
    {
      "cell_type": "code",
      "metadata": {
        "id": "pfk_GTz__l7H",
        "colab_type": "code",
        "colab": {}
      },
      "source": [
        "# Inizializing cursor, we (MySQL ppl) use the cursor object as an iterator.\n",
        "cursor = cnx.cursor()\n",
        "\n",
        "#Inizialising query\n",
        "query = (\"SELECT * FROM authors\")  ## Any query\n",
        "\n",
        "#Sending query to database\n",
        "cursor.execute(query)"
      ],
      "execution_count": null,
      "outputs": []
    },
    {
      "cell_type": "code",
      "metadata": {
        "id": "gHPjy6Ig_l7K",
        "colab_type": "code",
        "colab": {}
      },
      "source": [
        "for data in cursor:\n",
        "    print(data)  ## data's type is tuple"
      ],
      "execution_count": null,
      "outputs": []
    },
    {
      "cell_type": "code",
      "metadata": {
        "id": "bPU-WG8H_l7M",
        "colab_type": "code",
        "colab": {}
      },
      "source": [
        "columns_authors = ['au_id', 'au_lname', 'au_fname', 'phone', 'address', 'city', 'state', 'zip', 'contract'] ## According to query\n",
        "sql2dataframe = pd.DataFrame(columns = columns_authors)\n",
        "\n",
        "sql2dataframe.head(10)"
      ],
      "execution_count": null,
      "outputs": []
    },
    {
      "cell_type": "code",
      "metadata": {
        "id": "aB9riyKF_l7O",
        "colab_type": "code",
        "colab": {}
      },
      "source": [
        "for i, data in enumerate(cursor):\n",
        "    sql2dataframe.loc[i] = data"
      ],
      "execution_count": null,
      "outputs": []
    },
    {
      "cell_type": "code",
      "metadata": {
        "id": "gvfGMZ04_l7Q",
        "colab_type": "code",
        "colab": {}
      },
      "source": [
        "sql2dataframe.head(40)"
      ],
      "execution_count": null,
      "outputs": []
    },
    {
      "cell_type": "code",
      "metadata": {
        "id": "BXzAwzRB_l7S",
        "colab_type": "code",
        "colab": {}
      },
      "source": [
        "# Remeber to close the cursor and connection!!\n",
        "cursor.close()\n",
        "cnx.close()"
      ],
      "execution_count": null,
      "outputs": []
    },
    {
      "cell_type": "code",
      "metadata": {
        "id": "JcILIy22_l7U",
        "colab_type": "code",
        "colab": {}
      },
      "source": [
        "sql2dataframe.head(20)"
      ],
      "execution_count": null,
      "outputs": []
    }
  ]
}