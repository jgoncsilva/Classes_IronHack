{
  "nbformat": 4,
  "nbformat_minor": 0,
  "metadata": {
    "colab": {
      "name": "pandas.ipynb",
      "provenance": [],
      "collapsed_sections": [],
      "include_colab_link": true
    },
    "kernelspec": {
      "name": "python3",
      "display_name": "Python 3"
    }
  },
  "cells": [
    {
      "cell_type": "markdown",
      "metadata": {
        "id": "view-in-github",
        "colab_type": "text"
      },
      "source": [
        "<a href=\"https://colab.research.google.com/github/jgoncsilva/Classes_IronHack/blob/master/pandas_classes.ipynb\" target=\"_parent\"><img src=\"https://colab.research.google.com/assets/colab-badge.svg\" alt=\"Open In Colab\"/></a>"
      ]
    },
    {
      "cell_type": "code",
      "metadata": {
        "id": "d4P39cSwpj4l",
        "colab_type": "code",
        "colab": {}
      },
      "source": [
        "import pandas as pd\n",
        "\n",
        "# remember what Peter said about pandas in Belgium\n",
        "\n",
        "# why Pandas?\n",
        "\n",
        "# pandas was built on top of numpy but to take care also of textual data (strings)\n",
        "\n"
      ],
      "execution_count": null,
      "outputs": []
    },
    {
      "cell_type": "code",
      "metadata": {
        "id": "xFhKKcW7udE9",
        "colab_type": "code",
        "colab": {}
      },
      "source": [
        "# when you have a pandas object with only one column -> Data Series\n",
        "\n",
        "series = pd.Series([\"Antero\",\"Zoe\",\"Gonçalo\",\"Maria\",\"Jhonatas\"])\n",
        "\n",
        "# a pandas series comes with an extra column for free!!!! -> index"
      ],
      "execution_count": null,
      "outputs": []
    },
    {
      "cell_type": "code",
      "metadata": {
        "id": "Mf6ihpZIulLK",
        "colab_type": "code",
        "colab": {
          "base_uri": "https://localhost:8080/",
          "height": 118
        },
        "outputId": "fff21ef2-c0a6-4cae-fca4-4d194af5d716"
      },
      "source": [
        "print(series)"
      ],
      "execution_count": null,
      "outputs": [
        {
          "output_type": "stream",
          "text": [
            "0      Antero\n",
            "1         Zoe\n",
            "2     Gonçalo\n",
            "3       Maria\n",
            "4    Jhonatas\n",
            "dtype: object\n"
          ],
          "name": "stdout"
        }
      ]
    },
    {
      "cell_type": "code",
      "metadata": {
        "id": "UHPbTf4-u7Zq",
        "colab_type": "code",
        "colab": {}
      },
      "source": [
        "# a dataframe is a bunch of pandas series side by side"
      ],
      "execution_count": null,
      "outputs": []
    },
    {
      "cell_type": "code",
      "metadata": {
        "id": "E2F7-q7PvceV",
        "colab_type": "code",
        "colab": {
          "base_uri": "https://localhost:8080/",
          "height": 34
        },
        "outputId": "61164ec9-7022-43b0-cb0c-02a526f26f9f"
      },
      "source": [
        "type(series)"
      ],
      "execution_count": null,
      "outputs": [
        {
          "output_type": "execute_result",
          "data": {
            "text/plain": [
              "pandas.core.series.Series"
            ]
          },
          "metadata": {
            "tags": []
          },
          "execution_count": 8
        }
      ]
    },
    {
      "cell_type": "code",
      "metadata": {
        "id": "D8_hOjKaveKQ",
        "colab_type": "code",
        "colab": {
          "base_uri": "https://localhost:8080/",
          "height": 34
        },
        "outputId": "c7fa24bf-b425-4353-f626-f0d66c59f6ba"
      },
      "source": [
        "# returns an iterable\n",
        "series.index"
      ],
      "execution_count": null,
      "outputs": [
        {
          "output_type": "execute_result",
          "data": {
            "text/plain": [
              "RangeIndex(start=0, stop=5, step=1)"
            ]
          },
          "metadata": {
            "tags": []
          },
          "execution_count": 9
        }
      ]
    },
    {
      "cell_type": "code",
      "metadata": {
        "id": "Sk4NqeyyvjDP",
        "colab_type": "code",
        "colab": {}
      },
      "source": [
        "series.index = range(2,7)"
      ],
      "execution_count": null,
      "outputs": []
    },
    {
      "cell_type": "code",
      "metadata": {
        "id": "7cmfXYHHvq7f",
        "colab_type": "code",
        "colab": {
          "base_uri": "https://localhost:8080/",
          "height": 34
        },
        "outputId": "67ba003f-298d-4dd2-ff04-a9bfb3c117f8"
      },
      "source": [
        "# you can get the values of a series to a list\n",
        "list(series)"
      ],
      "execution_count": null,
      "outputs": [
        {
          "output_type": "execute_result",
          "data": {
            "text/plain": [
              "['Antero', 'Zoe', 'Gonçalo', 'Maria', 'Jhonatas']"
            ]
          },
          "metadata": {
            "tags": []
          },
          "execution_count": 16
        }
      ]
    },
    {
      "cell_type": "code",
      "metadata": {
        "id": "PWmkUu7XvtfZ",
        "colab_type": "code",
        "colab": {
          "base_uri": "https://localhost:8080/",
          "height": 34
        },
        "outputId": "564c3773-f70e-449d-d243-1efae38e4a2d"
      },
      "source": [
        "# you can get the index of a series to a list\n",
        "list(series.index)"
      ],
      "execution_count": null,
      "outputs": [
        {
          "output_type": "execute_result",
          "data": {
            "text/plain": [
              "[2, 3, 4, 5, 6]"
            ]
          },
          "metadata": {
            "tags": []
          },
          "execution_count": 17
        }
      ]
    },
    {
      "cell_type": "code",
      "metadata": {
        "id": "TRSPp61BwSVG",
        "colab_type": "code",
        "colab": {}
      },
      "source": [
        "series.index = ['a','b','c','d','e']"
      ],
      "execution_count": null,
      "outputs": []
    },
    {
      "cell_type": "code",
      "metadata": {
        "id": "7y-Kl4-XwWhE",
        "colab_type": "code",
        "colab": {
          "base_uri": "https://localhost:8080/",
          "height": 118
        },
        "outputId": "18bb5ce5-dd6c-42f9-8f9e-2c6ebc64f57e"
      },
      "source": [
        "series"
      ],
      "execution_count": null,
      "outputs": [
        {
          "output_type": "execute_result",
          "data": {
            "text/plain": [
              "a      Antero\n",
              "b         Zoe\n",
              "c     Gonçalo\n",
              "d       Maria\n",
              "e    Jhonatas\n",
              "dtype: object"
            ]
          },
          "metadata": {
            "tags": []
          },
          "execution_count": 19
        }
      ]
    },
    {
      "cell_type": "code",
      "metadata": {
        "id": "0avsWL--wXI7",
        "colab_type": "code",
        "colab": {
          "base_uri": "https://localhost:8080/",
          "height": 118
        },
        "outputId": "f044135a-690b-40ea-92bd-62392e78810c"
      },
      "source": [
        "population_dict = {'California': 38332521,\n",
        "                   'Texas': 26448193,\n",
        "                   'New York': 19651127,\n",
        "                   'Florida': 19552860,\n",
        "                   'Illinois': 12882135}\n",
        "\n",
        "pd.Series(population_dict)\n",
        "\n",
        "# pandas dataframes were created to interact naturally with objects like lists, dictionaries, tuples (+-) \n",
        "#data series only have ONE column -> if you want more, lets go to dataframes"
      ],
      "execution_count": null,
      "outputs": [
        {
          "output_type": "execute_result",
          "data": {
            "text/plain": [
              "California    38332521\n",
              "Texas         26448193\n",
              "New York      19651127\n",
              "Florida       19552860\n",
              "Illinois      12882135\n",
              "dtype: int64"
            ]
          },
          "metadata": {
            "tags": []
          },
          "execution_count": 22
        }
      ]
    },
    {
      "cell_type": "code",
      "metadata": {
        "id": "rgJXwdCKxECZ",
        "colab_type": "code",
        "colab": {}
      },
      "source": [
        "import numpy as np"
      ],
      "execution_count": null,
      "outputs": []
    },
    {
      "cell_type": "code",
      "metadata": {
        "id": "cB8OW8wNx8ra",
        "colab_type": "code",
        "colab": {
          "base_uri": "https://localhost:8080/",
          "height": 185
        },
        "outputId": "14bbfd70-a176-4ea1-9400-46cab610d169"
      },
      "source": [
        "np.random.random((10,5))"
      ],
      "execution_count": null,
      "outputs": [
        {
          "output_type": "execute_result",
          "data": {
            "text/plain": [
              "array([[0.2758633 , 0.71922696, 0.20431616, 0.73376011, 0.15511824],\n",
              "       [0.9592603 , 0.68184384, 0.05769742, 0.64455208, 0.03206029],\n",
              "       [0.96365823, 0.5809659 , 0.94286597, 0.42191558, 0.27909865],\n",
              "       [0.73575833, 0.06548449, 0.43994567, 0.5712165 , 0.50600908],\n",
              "       [0.54557321, 0.22713313, 0.24840828, 0.20263257, 0.81714732],\n",
              "       [0.84172006, 0.03504133, 0.76785729, 0.69912926, 0.41492911],\n",
              "       [0.76830516, 0.02502433, 0.72380195, 0.76095501, 0.28660814],\n",
              "       [0.26177696, 0.15129522, 0.13399669, 0.76725061, 0.62736501],\n",
              "       [0.04236354, 0.56419128, 0.26687338, 0.98551782, 0.91460495],\n",
              "       [0.56363061, 0.50301848, 0.71062689, 0.7044904 , 0.9569166 ]])"
            ]
          },
          "metadata": {
            "tags": []
          },
          "execution_count": 24
        }
      ]
    },
    {
      "cell_type": "code",
      "metadata": {
        "id": "K_Wv5evbyB0c",
        "colab_type": "code",
        "colab": {
          "base_uri": "https://localhost:8080/",
          "height": 303
        },
        "outputId": "d8dd1185-ffcf-4a7f-bf66-8035536dfd3f"
      },
      "source": [
        "pd.Series(np.random.random((10,5)))"
      ],
      "execution_count": null,
      "outputs": [
        {
          "output_type": "error",
          "ename": "Exception",
          "evalue": "ignored",
          "traceback": [
            "\u001b[0;31m---------------------------------------------------------------------------\u001b[0m",
            "\u001b[0;31mException\u001b[0m                                 Traceback (most recent call last)",
            "\u001b[0;32m<ipython-input-25-d993abf5e963>\u001b[0m in \u001b[0;36m<module>\u001b[0;34m()\u001b[0m\n\u001b[0;32m----> 1\u001b[0;31m \u001b[0mpd\u001b[0m\u001b[0;34m.\u001b[0m\u001b[0mSeries\u001b[0m\u001b[0;34m(\u001b[0m\u001b[0mnp\u001b[0m\u001b[0;34m.\u001b[0m\u001b[0mrandom\u001b[0m\u001b[0;34m.\u001b[0m\u001b[0mrandom\u001b[0m\u001b[0;34m(\u001b[0m\u001b[0;34m(\u001b[0m\u001b[0;36m10\u001b[0m\u001b[0;34m,\u001b[0m\u001b[0;36m5\u001b[0m\u001b[0;34m)\u001b[0m\u001b[0;34m)\u001b[0m\u001b[0;34m)\u001b[0m\u001b[0;34m\u001b[0m\u001b[0;34m\u001b[0m\u001b[0m\n\u001b[0m",
            "\u001b[0;32m/usr/local/lib/python3.6/dist-packages/pandas/core/series.py\u001b[0m in \u001b[0;36m__init__\u001b[0;34m(self, data, index, dtype, name, copy, fastpath)\u001b[0m\n\u001b[1;32m    303\u001b[0m                     \u001b[0mdata\u001b[0m \u001b[0;34m=\u001b[0m \u001b[0mdata\u001b[0m\u001b[0;34m.\u001b[0m\u001b[0mcopy\u001b[0m\u001b[0;34m(\u001b[0m\u001b[0;34m)\u001b[0m\u001b[0;34m\u001b[0m\u001b[0;34m\u001b[0m\u001b[0m\n\u001b[1;32m    304\u001b[0m             \u001b[0;32melse\u001b[0m\u001b[0;34m:\u001b[0m\u001b[0;34m\u001b[0m\u001b[0;34m\u001b[0m\u001b[0m\n\u001b[0;32m--> 305\u001b[0;31m                 \u001b[0mdata\u001b[0m \u001b[0;34m=\u001b[0m \u001b[0msanitize_array\u001b[0m\u001b[0;34m(\u001b[0m\u001b[0mdata\u001b[0m\u001b[0;34m,\u001b[0m \u001b[0mindex\u001b[0m\u001b[0;34m,\u001b[0m \u001b[0mdtype\u001b[0m\u001b[0;34m,\u001b[0m \u001b[0mcopy\u001b[0m\u001b[0;34m,\u001b[0m \u001b[0mraise_cast_failure\u001b[0m\u001b[0;34m=\u001b[0m\u001b[0;32mTrue\u001b[0m\u001b[0;34m)\u001b[0m\u001b[0;34m\u001b[0m\u001b[0;34m\u001b[0m\u001b[0m\n\u001b[0m\u001b[1;32m    306\u001b[0m \u001b[0;34m\u001b[0m\u001b[0m\n\u001b[1;32m    307\u001b[0m                 \u001b[0mdata\u001b[0m \u001b[0;34m=\u001b[0m \u001b[0mSingleBlockManager\u001b[0m\u001b[0;34m(\u001b[0m\u001b[0mdata\u001b[0m\u001b[0;34m,\u001b[0m \u001b[0mindex\u001b[0m\u001b[0;34m,\u001b[0m \u001b[0mfastpath\u001b[0m\u001b[0;34m=\u001b[0m\u001b[0;32mTrue\u001b[0m\u001b[0;34m)\u001b[0m\u001b[0;34m\u001b[0m\u001b[0;34m\u001b[0m\u001b[0m\n",
            "\u001b[0;32m/usr/local/lib/python3.6/dist-packages/pandas/core/construction.py\u001b[0m in \u001b[0;36msanitize_array\u001b[0;34m(data, index, dtype, copy, raise_cast_failure)\u001b[0m\n\u001b[1;32m    480\u001b[0m     \u001b[0;32melif\u001b[0m \u001b[0msubarr\u001b[0m\u001b[0;34m.\u001b[0m\u001b[0mndim\u001b[0m \u001b[0;34m>\u001b[0m \u001b[0;36m1\u001b[0m\u001b[0;34m:\u001b[0m\u001b[0;34m\u001b[0m\u001b[0;34m\u001b[0m\u001b[0m\n\u001b[1;32m    481\u001b[0m         \u001b[0;32mif\u001b[0m \u001b[0misinstance\u001b[0m\u001b[0;34m(\u001b[0m\u001b[0mdata\u001b[0m\u001b[0;34m,\u001b[0m \u001b[0mnp\u001b[0m\u001b[0;34m.\u001b[0m\u001b[0mndarray\u001b[0m\u001b[0;34m)\u001b[0m\u001b[0;34m:\u001b[0m\u001b[0;34m\u001b[0m\u001b[0;34m\u001b[0m\u001b[0m\n\u001b[0;32m--> 482\u001b[0;31m             \u001b[0;32mraise\u001b[0m \u001b[0mException\u001b[0m\u001b[0;34m(\u001b[0m\u001b[0;34m\"Data must be 1-dimensional\"\u001b[0m\u001b[0;34m)\u001b[0m\u001b[0;34m\u001b[0m\u001b[0;34m\u001b[0m\u001b[0m\n\u001b[0m\u001b[1;32m    483\u001b[0m         \u001b[0;32melse\u001b[0m\u001b[0;34m:\u001b[0m\u001b[0;34m\u001b[0m\u001b[0;34m\u001b[0m\u001b[0m\n\u001b[1;32m    484\u001b[0m             \u001b[0msubarr\u001b[0m \u001b[0;34m=\u001b[0m \u001b[0mcom\u001b[0m\u001b[0;34m.\u001b[0m\u001b[0masarray_tuplesafe\u001b[0m\u001b[0;34m(\u001b[0m\u001b[0mdata\u001b[0m\u001b[0;34m,\u001b[0m \u001b[0mdtype\u001b[0m\u001b[0;34m=\u001b[0m\u001b[0mdtype\u001b[0m\u001b[0;34m)\u001b[0m\u001b[0;34m\u001b[0m\u001b[0;34m\u001b[0m\u001b[0m\n",
            "\u001b[0;31mException\u001b[0m: Data must be 1-dimensional"
          ]
        }
      ]
    },
    {
      "cell_type": "code",
      "metadata": {
        "id": "fKX4QJbTyINf",
        "colab_type": "code",
        "colab": {
          "base_uri": "https://localhost:8080/",
          "height": 348
        },
        "outputId": "f7a4fed3-477a-4d0d-c14d-d395505cf80c"
      },
      "source": [
        "# wrong method, ups\n",
        "\n",
        "pd.DataFrame(np.random.random((10,5)))"
      ],
      "execution_count": null,
      "outputs": [
        {
          "output_type": "execute_result",
          "data": {
            "text/html": [
              "<div>\n",
              "<style scoped>\n",
              "    .dataframe tbody tr th:only-of-type {\n",
              "        vertical-align: middle;\n",
              "    }\n",
              "\n",
              "    .dataframe tbody tr th {\n",
              "        vertical-align: top;\n",
              "    }\n",
              "\n",
              "    .dataframe thead th {\n",
              "        text-align: right;\n",
              "    }\n",
              "</style>\n",
              "<table border=\"1\" class=\"dataframe\">\n",
              "  <thead>\n",
              "    <tr style=\"text-align: right;\">\n",
              "      <th></th>\n",
              "      <th>0</th>\n",
              "      <th>1</th>\n",
              "      <th>2</th>\n",
              "      <th>3</th>\n",
              "      <th>4</th>\n",
              "    </tr>\n",
              "  </thead>\n",
              "  <tbody>\n",
              "    <tr>\n",
              "      <th>0</th>\n",
              "      <td>0.864758</td>\n",
              "      <td>0.408322</td>\n",
              "      <td>0.558489</td>\n",
              "      <td>0.423084</td>\n",
              "      <td>0.387600</td>\n",
              "    </tr>\n",
              "    <tr>\n",
              "      <th>1</th>\n",
              "      <td>0.946420</td>\n",
              "      <td>0.603926</td>\n",
              "      <td>0.214243</td>\n",
              "      <td>0.921590</td>\n",
              "      <td>0.437752</td>\n",
              "    </tr>\n",
              "    <tr>\n",
              "      <th>2</th>\n",
              "      <td>0.909099</td>\n",
              "      <td>0.611293</td>\n",
              "      <td>0.408959</td>\n",
              "      <td>0.293084</td>\n",
              "      <td>0.368047</td>\n",
              "    </tr>\n",
              "    <tr>\n",
              "      <th>3</th>\n",
              "      <td>0.895050</td>\n",
              "      <td>0.306910</td>\n",
              "      <td>0.493219</td>\n",
              "      <td>0.927040</td>\n",
              "      <td>0.776364</td>\n",
              "    </tr>\n",
              "    <tr>\n",
              "      <th>4</th>\n",
              "      <td>0.570805</td>\n",
              "      <td>0.069451</td>\n",
              "      <td>0.509048</td>\n",
              "      <td>0.992167</td>\n",
              "      <td>0.840923</td>\n",
              "    </tr>\n",
              "    <tr>\n",
              "      <th>5</th>\n",
              "      <td>0.755669</td>\n",
              "      <td>0.253158</td>\n",
              "      <td>0.514186</td>\n",
              "      <td>0.009101</td>\n",
              "      <td>0.436270</td>\n",
              "    </tr>\n",
              "    <tr>\n",
              "      <th>6</th>\n",
              "      <td>0.538535</td>\n",
              "      <td>0.308619</td>\n",
              "      <td>0.633877</td>\n",
              "      <td>0.532703</td>\n",
              "      <td>0.884201</td>\n",
              "    </tr>\n",
              "    <tr>\n",
              "      <th>7</th>\n",
              "      <td>0.698288</td>\n",
              "      <td>0.183604</td>\n",
              "      <td>0.611364</td>\n",
              "      <td>0.572918</td>\n",
              "      <td>0.026852</td>\n",
              "    </tr>\n",
              "    <tr>\n",
              "      <th>8</th>\n",
              "      <td>0.234906</td>\n",
              "      <td>0.621471</td>\n",
              "      <td>0.923261</td>\n",
              "      <td>0.952945</td>\n",
              "      <td>0.937166</td>\n",
              "    </tr>\n",
              "    <tr>\n",
              "      <th>9</th>\n",
              "      <td>0.975778</td>\n",
              "      <td>0.846604</td>\n",
              "      <td>0.995037</td>\n",
              "      <td>0.843696</td>\n",
              "      <td>0.419746</td>\n",
              "    </tr>\n",
              "  </tbody>\n",
              "</table>\n",
              "</div>"
            ],
            "text/plain": [
              "          0         1         2         3         4\n",
              "0  0.864758  0.408322  0.558489  0.423084  0.387600\n",
              "1  0.946420  0.603926  0.214243  0.921590  0.437752\n",
              "2  0.909099  0.611293  0.408959  0.293084  0.368047\n",
              "3  0.895050  0.306910  0.493219  0.927040  0.776364\n",
              "4  0.570805  0.069451  0.509048  0.992167  0.840923\n",
              "5  0.755669  0.253158  0.514186  0.009101  0.436270\n",
              "6  0.538535  0.308619  0.633877  0.532703  0.884201\n",
              "7  0.698288  0.183604  0.611364  0.572918  0.026852\n",
              "8  0.234906  0.621471  0.923261  0.952945  0.937166\n",
              "9  0.975778  0.846604  0.995037  0.843696  0.419746"
            ]
          },
          "metadata": {
            "tags": []
          },
          "execution_count": 26
        }
      ]
    },
    {
      "cell_type": "code",
      "metadata": {
        "id": "0MN4bN0NyP-f",
        "colab_type": "code",
        "colab": {
          "base_uri": "https://localhost:8080/",
          "height": 348
        },
        "outputId": "083abb0d-fa73-46ad-962e-60238126c551"
      },
      "source": [
        "# maybe I need to give names to columns\n",
        "\n",
        "# df is the universal variable we use to call dataframes\n",
        "df = pd.DataFrame(np.random.random((10,5)), columns=['antero','Joan','Joao Inverno','Melissa','Jorge'])\n",
        "#emea_df = pd.Data\n",
        "df"
      ],
      "execution_count": null,
      "outputs": [
        {
          "output_type": "execute_result",
          "data": {
            "text/html": [
              "<div>\n",
              "<style scoped>\n",
              "    .dataframe tbody tr th:only-of-type {\n",
              "        vertical-align: middle;\n",
              "    }\n",
              "\n",
              "    .dataframe tbody tr th {\n",
              "        vertical-align: top;\n",
              "    }\n",
              "\n",
              "    .dataframe thead th {\n",
              "        text-align: right;\n",
              "    }\n",
              "</style>\n",
              "<table border=\"1\" class=\"dataframe\">\n",
              "  <thead>\n",
              "    <tr style=\"text-align: right;\">\n",
              "      <th></th>\n",
              "      <th>antero</th>\n",
              "      <th>Joan</th>\n",
              "      <th>Joao Inverno</th>\n",
              "      <th>Melissa</th>\n",
              "      <th>Jorge</th>\n",
              "    </tr>\n",
              "  </thead>\n",
              "  <tbody>\n",
              "    <tr>\n",
              "      <th>0</th>\n",
              "      <td>0.148102</td>\n",
              "      <td>0.879422</td>\n",
              "      <td>0.629299</td>\n",
              "      <td>0.336867</td>\n",
              "      <td>0.436255</td>\n",
              "    </tr>\n",
              "    <tr>\n",
              "      <th>1</th>\n",
              "      <td>0.575235</td>\n",
              "      <td>0.647681</td>\n",
              "      <td>0.009154</td>\n",
              "      <td>0.017399</td>\n",
              "      <td>0.377947</td>\n",
              "    </tr>\n",
              "    <tr>\n",
              "      <th>2</th>\n",
              "      <td>0.847134</td>\n",
              "      <td>0.114069</td>\n",
              "      <td>0.728062</td>\n",
              "      <td>0.278509</td>\n",
              "      <td>0.757923</td>\n",
              "    </tr>\n",
              "    <tr>\n",
              "      <th>3</th>\n",
              "      <td>0.228328</td>\n",
              "      <td>0.878352</td>\n",
              "      <td>0.091171</td>\n",
              "      <td>0.122342</td>\n",
              "      <td>0.613815</td>\n",
              "    </tr>\n",
              "    <tr>\n",
              "      <th>4</th>\n",
              "      <td>0.750601</td>\n",
              "      <td>0.908247</td>\n",
              "      <td>0.533039</td>\n",
              "      <td>0.945024</td>\n",
              "      <td>0.711144</td>\n",
              "    </tr>\n",
              "    <tr>\n",
              "      <th>5</th>\n",
              "      <td>0.321937</td>\n",
              "      <td>0.628995</td>\n",
              "      <td>0.818928</td>\n",
              "      <td>0.070882</td>\n",
              "      <td>0.621834</td>\n",
              "    </tr>\n",
              "    <tr>\n",
              "      <th>6</th>\n",
              "      <td>0.188293</td>\n",
              "      <td>0.874026</td>\n",
              "      <td>0.832803</td>\n",
              "      <td>0.704578</td>\n",
              "      <td>0.392871</td>\n",
              "    </tr>\n",
              "    <tr>\n",
              "      <th>7</th>\n",
              "      <td>0.821067</td>\n",
              "      <td>0.277870</td>\n",
              "      <td>0.802189</td>\n",
              "      <td>0.959748</td>\n",
              "      <td>0.099311</td>\n",
              "    </tr>\n",
              "    <tr>\n",
              "      <th>8</th>\n",
              "      <td>0.978522</td>\n",
              "      <td>0.554457</td>\n",
              "      <td>0.365234</td>\n",
              "      <td>0.426383</td>\n",
              "      <td>0.227443</td>\n",
              "    </tr>\n",
              "    <tr>\n",
              "      <th>9</th>\n",
              "      <td>0.621418</td>\n",
              "      <td>0.852631</td>\n",
              "      <td>0.689077</td>\n",
              "      <td>0.142563</td>\n",
              "      <td>0.072908</td>\n",
              "    </tr>\n",
              "  </tbody>\n",
              "</table>\n",
              "</div>"
            ],
            "text/plain": [
              "     antero      Joan  Joao Inverno   Melissa     Jorge\n",
              "0  0.148102  0.879422      0.629299  0.336867  0.436255\n",
              "1  0.575235  0.647681      0.009154  0.017399  0.377947\n",
              "2  0.847134  0.114069      0.728062  0.278509  0.757923\n",
              "3  0.228328  0.878352      0.091171  0.122342  0.613815\n",
              "4  0.750601  0.908247      0.533039  0.945024  0.711144\n",
              "5  0.321937  0.628995      0.818928  0.070882  0.621834\n",
              "6  0.188293  0.874026      0.832803  0.704578  0.392871\n",
              "7  0.821067  0.277870      0.802189  0.959748  0.099311\n",
              "8  0.978522  0.554457      0.365234  0.426383  0.227443\n",
              "9  0.621418  0.852631      0.689077  0.142563  0.072908"
            ]
          },
          "metadata": {
            "tags": []
          },
          "execution_count": 51
        }
      ]
    },
    {
      "cell_type": "code",
      "metadata": {
        "id": "1sqHWtudy0px",
        "colab_type": "code",
        "colab": {
          "base_uri": "https://localhost:8080/",
          "height": 217
        },
        "outputId": "7c2ff9c1-6525-4d88-efd9-e573db362f79"
      },
      "source": [
        "df.antero"
      ],
      "execution_count": null,
      "outputs": [
        {
          "output_type": "execute_result",
          "data": {
            "text/plain": [
              "0    0.744517\n",
              "1    0.834116\n",
              "2    0.716774\n",
              "3    0.870836\n",
              "4    0.784927\n",
              "5    0.201550\n",
              "6    0.552673\n",
              "7    0.232253\n",
              "8    0.718086\n",
              "9    0.915616\n",
              "Name: antero, dtype: float64"
            ]
          },
          "metadata": {
            "tags": []
          },
          "execution_count": 32
        }
      ]
    },
    {
      "cell_type": "code",
      "metadata": {
        "id": "qABpml0nzto8",
        "colab_type": "code",
        "colab": {
          "base_uri": "https://localhost:8080/",
          "height": 217
        },
        "outputId": "6be04b6a-0586-4fec-9585-349972872b34"
      },
      "source": [
        "#index as always\n",
        "df['antero']"
      ],
      "execution_count": null,
      "outputs": [
        {
          "output_type": "execute_result",
          "data": {
            "text/plain": [
              "0    0.744517\n",
              "1    0.834116\n",
              "2    0.716774\n",
              "3    0.870836\n",
              "4    0.784927\n",
              "5    0.201550\n",
              "6    0.552673\n",
              "7    0.232253\n",
              "8    0.718086\n",
              "9    0.915616\n",
              "Name: antero, dtype: float64"
            ]
          },
          "metadata": {
            "tags": []
          },
          "execution_count": 33
        }
      ]
    },
    {
      "cell_type": "code",
      "metadata": {
        "id": "jQToMUxdzlfP",
        "colab_type": "code",
        "colab": {
          "base_uri": "https://localhost:8080/",
          "height": 348
        },
        "outputId": "75467982-f2fc-49ba-a46a-29b4f9caa355"
      },
      "source": [
        "df[['antero','Melissa']]"
      ],
      "execution_count": null,
      "outputs": [
        {
          "output_type": "execute_result",
          "data": {
            "text/html": [
              "<div>\n",
              "<style scoped>\n",
              "    .dataframe tbody tr th:only-of-type {\n",
              "        vertical-align: middle;\n",
              "    }\n",
              "\n",
              "    .dataframe tbody tr th {\n",
              "        vertical-align: top;\n",
              "    }\n",
              "\n",
              "    .dataframe thead th {\n",
              "        text-align: right;\n",
              "    }\n",
              "</style>\n",
              "<table border=\"1\" class=\"dataframe\">\n",
              "  <thead>\n",
              "    <tr style=\"text-align: right;\">\n",
              "      <th></th>\n",
              "      <th>antero</th>\n",
              "      <th>Melissa</th>\n",
              "    </tr>\n",
              "  </thead>\n",
              "  <tbody>\n",
              "    <tr>\n",
              "      <th>0</th>\n",
              "      <td>0.744517</td>\n",
              "      <td>0.035563</td>\n",
              "    </tr>\n",
              "    <tr>\n",
              "      <th>1</th>\n",
              "      <td>0.834116</td>\n",
              "      <td>0.244814</td>\n",
              "    </tr>\n",
              "    <tr>\n",
              "      <th>2</th>\n",
              "      <td>0.716774</td>\n",
              "      <td>0.060401</td>\n",
              "    </tr>\n",
              "    <tr>\n",
              "      <th>3</th>\n",
              "      <td>0.870836</td>\n",
              "      <td>0.980902</td>\n",
              "    </tr>\n",
              "    <tr>\n",
              "      <th>4</th>\n",
              "      <td>0.784927</td>\n",
              "      <td>0.858212</td>\n",
              "    </tr>\n",
              "    <tr>\n",
              "      <th>5</th>\n",
              "      <td>0.201550</td>\n",
              "      <td>0.800941</td>\n",
              "    </tr>\n",
              "    <tr>\n",
              "      <th>6</th>\n",
              "      <td>0.552673</td>\n",
              "      <td>0.670369</td>\n",
              "    </tr>\n",
              "    <tr>\n",
              "      <th>7</th>\n",
              "      <td>0.232253</td>\n",
              "      <td>0.157436</td>\n",
              "    </tr>\n",
              "    <tr>\n",
              "      <th>8</th>\n",
              "      <td>0.718086</td>\n",
              "      <td>0.040701</td>\n",
              "    </tr>\n",
              "    <tr>\n",
              "      <th>9</th>\n",
              "      <td>0.915616</td>\n",
              "      <td>0.058266</td>\n",
              "    </tr>\n",
              "  </tbody>\n",
              "</table>\n",
              "</div>"
            ],
            "text/plain": [
              "     antero   Melissa\n",
              "0  0.744517  0.035563\n",
              "1  0.834116  0.244814\n",
              "2  0.716774  0.060401\n",
              "3  0.870836  0.980902\n",
              "4  0.784927  0.858212\n",
              "5  0.201550  0.800941\n",
              "6  0.552673  0.670369\n",
              "7  0.232253  0.157436\n",
              "8  0.718086  0.040701\n",
              "9  0.915616  0.058266"
            ]
          },
          "metadata": {
            "tags": []
          },
          "execution_count": 36
        }
      ]
    },
    {
      "cell_type": "code",
      "metadata": {
        "id": "RoHf6TqBz4J7",
        "colab_type": "code",
        "colab": {}
      },
      "source": [
        "df.columns = [\"antero\",'Alvaro','Diogo','Celina','Felipython']"
      ],
      "execution_count": null,
      "outputs": []
    },
    {
      "cell_type": "code",
      "metadata": {
        "id": "fMBRtcja0gLU",
        "colab_type": "code",
        "colab": {
          "base_uri": "https://localhost:8080/",
          "height": 348
        },
        "outputId": "d4e69158-de06-4c6a-f812-b1c9edde4381"
      },
      "source": [
        "df"
      ],
      "execution_count": null,
      "outputs": [
        {
          "output_type": "execute_result",
          "data": {
            "text/html": [
              "<div>\n",
              "<style scoped>\n",
              "    .dataframe tbody tr th:only-of-type {\n",
              "        vertical-align: middle;\n",
              "    }\n",
              "\n",
              "    .dataframe tbody tr th {\n",
              "        vertical-align: top;\n",
              "    }\n",
              "\n",
              "    .dataframe thead th {\n",
              "        text-align: right;\n",
              "    }\n",
              "</style>\n",
              "<table border=\"1\" class=\"dataframe\">\n",
              "  <thead>\n",
              "    <tr style=\"text-align: right;\">\n",
              "      <th></th>\n",
              "      <th>antero</th>\n",
              "      <th>Alvaro</th>\n",
              "      <th>Diogo</th>\n",
              "      <th>Celina</th>\n",
              "      <th>Felipython</th>\n",
              "    </tr>\n",
              "  </thead>\n",
              "  <tbody>\n",
              "    <tr>\n",
              "      <th>0</th>\n",
              "      <td>0.744517</td>\n",
              "      <td>0.120594</td>\n",
              "      <td>0.004551</td>\n",
              "      <td>0.035563</td>\n",
              "      <td>0.078004</td>\n",
              "    </tr>\n",
              "    <tr>\n",
              "      <th>1</th>\n",
              "      <td>0.834116</td>\n",
              "      <td>0.853601</td>\n",
              "      <td>0.126123</td>\n",
              "      <td>0.244814</td>\n",
              "      <td>0.128767</td>\n",
              "    </tr>\n",
              "    <tr>\n",
              "      <th>2</th>\n",
              "      <td>0.716774</td>\n",
              "      <td>0.530051</td>\n",
              "      <td>0.201437</td>\n",
              "      <td>0.060401</td>\n",
              "      <td>0.601391</td>\n",
              "    </tr>\n",
              "    <tr>\n",
              "      <th>3</th>\n",
              "      <td>0.870836</td>\n",
              "      <td>0.132513</td>\n",
              "      <td>0.033082</td>\n",
              "      <td>0.980902</td>\n",
              "      <td>0.065383</td>\n",
              "    </tr>\n",
              "    <tr>\n",
              "      <th>4</th>\n",
              "      <td>0.784927</td>\n",
              "      <td>0.608320</td>\n",
              "      <td>0.326805</td>\n",
              "      <td>0.858212</td>\n",
              "      <td>0.378618</td>\n",
              "    </tr>\n",
              "    <tr>\n",
              "      <th>5</th>\n",
              "      <td>0.201550</td>\n",
              "      <td>0.666621</td>\n",
              "      <td>0.844595</td>\n",
              "      <td>0.800941</td>\n",
              "      <td>0.245969</td>\n",
              "    </tr>\n",
              "    <tr>\n",
              "      <th>6</th>\n",
              "      <td>0.552673</td>\n",
              "      <td>0.450995</td>\n",
              "      <td>0.298544</td>\n",
              "      <td>0.670369</td>\n",
              "      <td>0.083146</td>\n",
              "    </tr>\n",
              "    <tr>\n",
              "      <th>7</th>\n",
              "      <td>0.232253</td>\n",
              "      <td>0.649242</td>\n",
              "      <td>0.233663</td>\n",
              "      <td>0.157436</td>\n",
              "      <td>0.542010</td>\n",
              "    </tr>\n",
              "    <tr>\n",
              "      <th>8</th>\n",
              "      <td>0.718086</td>\n",
              "      <td>0.897718</td>\n",
              "      <td>0.525341</td>\n",
              "      <td>0.040701</td>\n",
              "      <td>0.629457</td>\n",
              "    </tr>\n",
              "    <tr>\n",
              "      <th>9</th>\n",
              "      <td>0.915616</td>\n",
              "      <td>0.368716</td>\n",
              "      <td>0.689680</td>\n",
              "      <td>0.058266</td>\n",
              "      <td>0.766940</td>\n",
              "    </tr>\n",
              "  </tbody>\n",
              "</table>\n",
              "</div>"
            ],
            "text/plain": [
              "     antero    Alvaro     Diogo    Celina  Felipython\n",
              "0  0.744517  0.120594  0.004551  0.035563    0.078004\n",
              "1  0.834116  0.853601  0.126123  0.244814    0.128767\n",
              "2  0.716774  0.530051  0.201437  0.060401    0.601391\n",
              "3  0.870836  0.132513  0.033082  0.980902    0.065383\n",
              "4  0.784927  0.608320  0.326805  0.858212    0.378618\n",
              "5  0.201550  0.666621  0.844595  0.800941    0.245969\n",
              "6  0.552673  0.450995  0.298544  0.670369    0.083146\n",
              "7  0.232253  0.649242  0.233663  0.157436    0.542010\n",
              "8  0.718086  0.897718  0.525341  0.040701    0.629457\n",
              "9  0.915616  0.368716  0.689680  0.058266    0.766940"
            ]
          },
          "metadata": {
            "tags": []
          },
          "execution_count": 38
        }
      ]
    },
    {
      "cell_type": "code",
      "metadata": {
        "id": "BCcmK0BV0gxW",
        "colab_type": "code",
        "colab": {
          "base_uri": "https://localhost:8080/",
          "height": 198
        },
        "outputId": "a4bace68-5270-409d-f3b8-7fc84ab4347f"
      },
      "source": [
        "# transposing in DataFrame\n",
        "#compare to numpy\n",
        "# array.transpose()\n",
        "df.T"
      ],
      "execution_count": null,
      "outputs": [
        {
          "output_type": "execute_result",
          "data": {
            "text/html": [
              "<div>\n",
              "<style scoped>\n",
              "    .dataframe tbody tr th:only-of-type {\n",
              "        vertical-align: middle;\n",
              "    }\n",
              "\n",
              "    .dataframe tbody tr th {\n",
              "        vertical-align: top;\n",
              "    }\n",
              "\n",
              "    .dataframe thead th {\n",
              "        text-align: right;\n",
              "    }\n",
              "</style>\n",
              "<table border=\"1\" class=\"dataframe\">\n",
              "  <thead>\n",
              "    <tr style=\"text-align: right;\">\n",
              "      <th></th>\n",
              "      <th>0</th>\n",
              "      <th>1</th>\n",
              "      <th>2</th>\n",
              "      <th>3</th>\n",
              "      <th>4</th>\n",
              "      <th>5</th>\n",
              "      <th>6</th>\n",
              "      <th>7</th>\n",
              "      <th>8</th>\n",
              "      <th>9</th>\n",
              "    </tr>\n",
              "  </thead>\n",
              "  <tbody>\n",
              "    <tr>\n",
              "      <th>antero</th>\n",
              "      <td>0.744517</td>\n",
              "      <td>0.834116</td>\n",
              "      <td>0.716774</td>\n",
              "      <td>0.870836</td>\n",
              "      <td>0.784927</td>\n",
              "      <td>0.201550</td>\n",
              "      <td>0.552673</td>\n",
              "      <td>0.232253</td>\n",
              "      <td>0.718086</td>\n",
              "      <td>0.915616</td>\n",
              "    </tr>\n",
              "    <tr>\n",
              "      <th>Alvaro</th>\n",
              "      <td>0.120594</td>\n",
              "      <td>0.853601</td>\n",
              "      <td>0.530051</td>\n",
              "      <td>0.132513</td>\n",
              "      <td>0.608320</td>\n",
              "      <td>0.666621</td>\n",
              "      <td>0.450995</td>\n",
              "      <td>0.649242</td>\n",
              "      <td>0.897718</td>\n",
              "      <td>0.368716</td>\n",
              "    </tr>\n",
              "    <tr>\n",
              "      <th>Diogo</th>\n",
              "      <td>0.004551</td>\n",
              "      <td>0.126123</td>\n",
              "      <td>0.201437</td>\n",
              "      <td>0.033082</td>\n",
              "      <td>0.326805</td>\n",
              "      <td>0.844595</td>\n",
              "      <td>0.298544</td>\n",
              "      <td>0.233663</td>\n",
              "      <td>0.525341</td>\n",
              "      <td>0.689680</td>\n",
              "    </tr>\n",
              "    <tr>\n",
              "      <th>Celina</th>\n",
              "      <td>0.035563</td>\n",
              "      <td>0.244814</td>\n",
              "      <td>0.060401</td>\n",
              "      <td>0.980902</td>\n",
              "      <td>0.858212</td>\n",
              "      <td>0.800941</td>\n",
              "      <td>0.670369</td>\n",
              "      <td>0.157436</td>\n",
              "      <td>0.040701</td>\n",
              "      <td>0.058266</td>\n",
              "    </tr>\n",
              "    <tr>\n",
              "      <th>Felipython</th>\n",
              "      <td>0.078004</td>\n",
              "      <td>0.128767</td>\n",
              "      <td>0.601391</td>\n",
              "      <td>0.065383</td>\n",
              "      <td>0.378618</td>\n",
              "      <td>0.245969</td>\n",
              "      <td>0.083146</td>\n",
              "      <td>0.542010</td>\n",
              "      <td>0.629457</td>\n",
              "      <td>0.766940</td>\n",
              "    </tr>\n",
              "  </tbody>\n",
              "</table>\n",
              "</div>"
            ],
            "text/plain": [
              "                   0         1         2  ...         7         8         9\n",
              "antero      0.744517  0.834116  0.716774  ...  0.232253  0.718086  0.915616\n",
              "Alvaro      0.120594  0.853601  0.530051  ...  0.649242  0.897718  0.368716\n",
              "Diogo       0.004551  0.126123  0.201437  ...  0.233663  0.525341  0.689680\n",
              "Celina      0.035563  0.244814  0.060401  ...  0.157436  0.040701  0.058266\n",
              "Felipython  0.078004  0.128767  0.601391  ...  0.542010  0.629457  0.766940\n",
              "\n",
              "[5 rows x 10 columns]"
            ]
          },
          "metadata": {
            "tags": []
          },
          "execution_count": 39
        }
      ]
    },
    {
      "cell_type": "code",
      "metadata": {
        "id": "mGXckNQD0oqb",
        "colab_type": "code",
        "colab": {}
      },
      "source": [
        "# what is we want to import some cooler structures/datatypes?\n",
        "colnames = ['LotSize','Neighborhood','YearBuilt','Quality','SalePrice']\n",
        "\n",
        "lst_lst = [[8450, 'CollgCr', 2003, 7, 208500],\n",
        "           [9600, 'Veenker', 1976, 6, 181500],\n",
        "           [11250, 'CollgCr', 2001, 7, 223500],\n",
        "           [9550, 'Crawfor', 1915, 7, 140000],\n",
        "           [14260, 'NoRidge', 2000, 8, 250000],\n",
        "           [14115, 'Mitchel', 1993, 5, 143000],\n",
        "           [10084, 'Somerst', 2004, 8, 307000],\n",
        "           [10382, 'NWAmes', 1973, 7, 200000],\n",
        "           [6120, 'OldTown', 1931, 7, 129900],\n",
        "           [7420, 'BrkSide', 1939, 5, 118000]]"
      ],
      "execution_count": null,
      "outputs": []
    },
    {
      "cell_type": "code",
      "metadata": {
        "id": "tl01G5le2Kpf",
        "colab_type": "code",
        "colab": {
          "base_uri": "https://localhost:8080/",
          "height": 348
        },
        "outputId": "170713b0-1013-4791-c6c5-4f6ec0396d5e"
      },
      "source": [
        "data = pd.DataFrame(lst_lst, columns=colnames)\n",
        "data"
      ],
      "execution_count": null,
      "outputs": [
        {
          "output_type": "execute_result",
          "data": {
            "text/html": [
              "<div>\n",
              "<style scoped>\n",
              "    .dataframe tbody tr th:only-of-type {\n",
              "        vertical-align: middle;\n",
              "    }\n",
              "\n",
              "    .dataframe tbody tr th {\n",
              "        vertical-align: top;\n",
              "    }\n",
              "\n",
              "    .dataframe thead th {\n",
              "        text-align: right;\n",
              "    }\n",
              "</style>\n",
              "<table border=\"1\" class=\"dataframe\">\n",
              "  <thead>\n",
              "    <tr style=\"text-align: right;\">\n",
              "      <th></th>\n",
              "      <th>LotSize</th>\n",
              "      <th>Neighborhood</th>\n",
              "      <th>YearBuilt</th>\n",
              "      <th>Quality</th>\n",
              "      <th>SalePrice</th>\n",
              "    </tr>\n",
              "  </thead>\n",
              "  <tbody>\n",
              "    <tr>\n",
              "      <th>0</th>\n",
              "      <td>8450</td>\n",
              "      <td>CollgCr</td>\n",
              "      <td>2003</td>\n",
              "      <td>7</td>\n",
              "      <td>208500</td>\n",
              "    </tr>\n",
              "    <tr>\n",
              "      <th>1</th>\n",
              "      <td>9600</td>\n",
              "      <td>Veenker</td>\n",
              "      <td>1976</td>\n",
              "      <td>6</td>\n",
              "      <td>181500</td>\n",
              "    </tr>\n",
              "    <tr>\n",
              "      <th>2</th>\n",
              "      <td>11250</td>\n",
              "      <td>CollgCr</td>\n",
              "      <td>2001</td>\n",
              "      <td>7</td>\n",
              "      <td>223500</td>\n",
              "    </tr>\n",
              "    <tr>\n",
              "      <th>3</th>\n",
              "      <td>9550</td>\n",
              "      <td>Crawfor</td>\n",
              "      <td>1915</td>\n",
              "      <td>7</td>\n",
              "      <td>140000</td>\n",
              "    </tr>\n",
              "    <tr>\n",
              "      <th>4</th>\n",
              "      <td>14260</td>\n",
              "      <td>NoRidge</td>\n",
              "      <td>2000</td>\n",
              "      <td>8</td>\n",
              "      <td>250000</td>\n",
              "    </tr>\n",
              "    <tr>\n",
              "      <th>5</th>\n",
              "      <td>14115</td>\n",
              "      <td>Mitchel</td>\n",
              "      <td>1993</td>\n",
              "      <td>5</td>\n",
              "      <td>143000</td>\n",
              "    </tr>\n",
              "    <tr>\n",
              "      <th>6</th>\n",
              "      <td>10084</td>\n",
              "      <td>Somerst</td>\n",
              "      <td>2004</td>\n",
              "      <td>8</td>\n",
              "      <td>307000</td>\n",
              "    </tr>\n",
              "    <tr>\n",
              "      <th>7</th>\n",
              "      <td>10382</td>\n",
              "      <td>NWAmes</td>\n",
              "      <td>1973</td>\n",
              "      <td>7</td>\n",
              "      <td>200000</td>\n",
              "    </tr>\n",
              "    <tr>\n",
              "      <th>8</th>\n",
              "      <td>6120</td>\n",
              "      <td>OldTown</td>\n",
              "      <td>1931</td>\n",
              "      <td>7</td>\n",
              "      <td>129900</td>\n",
              "    </tr>\n",
              "    <tr>\n",
              "      <th>9</th>\n",
              "      <td>7420</td>\n",
              "      <td>BrkSide</td>\n",
              "      <td>1939</td>\n",
              "      <td>5</td>\n",
              "      <td>118000</td>\n",
              "    </tr>\n",
              "  </tbody>\n",
              "</table>\n",
              "</div>"
            ],
            "text/plain": [
              "   LotSize Neighborhood  YearBuilt  Quality  SalePrice\n",
              "0     8450      CollgCr       2003        7     208500\n",
              "1     9600      Veenker       1976        6     181500\n",
              "2    11250      CollgCr       2001        7     223500\n",
              "3     9550      Crawfor       1915        7     140000\n",
              "4    14260      NoRidge       2000        8     250000\n",
              "5    14115      Mitchel       1993        5     143000\n",
              "6    10084      Somerst       2004        8     307000\n",
              "7    10382       NWAmes       1973        7     200000\n",
              "8     6120      OldTown       1931        7     129900\n",
              "9     7420      BrkSide       1939        5     118000"
            ]
          },
          "metadata": {
            "tags": []
          },
          "execution_count": 46
        }
      ]
    },
    {
      "cell_type": "code",
      "metadata": {
        "id": "Lm-yFnRy2SdQ",
        "colab_type": "code",
        "colab": {}
      },
      "source": [
        "# you never iterate over the rows!!! -> you manipulate the data, always refering to the columns\n",
        "data['price_per_m2'] = data['SalePrice']/data['LotSize']"
      ],
      "execution_count": null,
      "outputs": []
    },
    {
      "cell_type": "code",
      "metadata": {
        "id": "73VbqYgH2ea_",
        "colab_type": "code",
        "colab": {
          "base_uri": "https://localhost:8080/",
          "height": 348
        },
        "outputId": "8448b5c4-bbe8-44c7-9f18-69b45ec801e3"
      },
      "source": [
        "\n",
        "#data\n",
        "#= A1/B2"
      ],
      "execution_count": null,
      "outputs": [
        {
          "output_type": "execute_result",
          "data": {
            "text/html": [
              "<div>\n",
              "<style scoped>\n",
              "    .dataframe tbody tr th:only-of-type {\n",
              "        vertical-align: middle;\n",
              "    }\n",
              "\n",
              "    .dataframe tbody tr th {\n",
              "        vertical-align: top;\n",
              "    }\n",
              "\n",
              "    .dataframe thead th {\n",
              "        text-align: right;\n",
              "    }\n",
              "</style>\n",
              "<table border=\"1\" class=\"dataframe\">\n",
              "  <thead>\n",
              "    <tr style=\"text-align: right;\">\n",
              "      <th></th>\n",
              "      <th>LotSize</th>\n",
              "      <th>Neighborhood</th>\n",
              "      <th>YearBuilt</th>\n",
              "      <th>Quality</th>\n",
              "      <th>SalePrice</th>\n",
              "      <th>price_per_m2</th>\n",
              "    </tr>\n",
              "  </thead>\n",
              "  <tbody>\n",
              "    <tr>\n",
              "      <th>0</th>\n",
              "      <td>8450</td>\n",
              "      <td>CollgCr</td>\n",
              "      <td>2003</td>\n",
              "      <td>7</td>\n",
              "      <td>208500</td>\n",
              "      <td>24.674556</td>\n",
              "    </tr>\n",
              "    <tr>\n",
              "      <th>1</th>\n",
              "      <td>9600</td>\n",
              "      <td>Veenker</td>\n",
              "      <td>1976</td>\n",
              "      <td>6</td>\n",
              "      <td>181500</td>\n",
              "      <td>18.906250</td>\n",
              "    </tr>\n",
              "    <tr>\n",
              "      <th>2</th>\n",
              "      <td>11250</td>\n",
              "      <td>CollgCr</td>\n",
              "      <td>2001</td>\n",
              "      <td>7</td>\n",
              "      <td>223500</td>\n",
              "      <td>19.866667</td>\n",
              "    </tr>\n",
              "    <tr>\n",
              "      <th>3</th>\n",
              "      <td>9550</td>\n",
              "      <td>Crawfor</td>\n",
              "      <td>1915</td>\n",
              "      <td>7</td>\n",
              "      <td>140000</td>\n",
              "      <td>14.659686</td>\n",
              "    </tr>\n",
              "    <tr>\n",
              "      <th>4</th>\n",
              "      <td>14260</td>\n",
              "      <td>NoRidge</td>\n",
              "      <td>2000</td>\n",
              "      <td>8</td>\n",
              "      <td>250000</td>\n",
              "      <td>17.531557</td>\n",
              "    </tr>\n",
              "    <tr>\n",
              "      <th>5</th>\n",
              "      <td>14115</td>\n",
              "      <td>Mitchel</td>\n",
              "      <td>1993</td>\n",
              "      <td>5</td>\n",
              "      <td>143000</td>\n",
              "      <td>10.131066</td>\n",
              "    </tr>\n",
              "    <tr>\n",
              "      <th>6</th>\n",
              "      <td>10084</td>\n",
              "      <td>Somerst</td>\n",
              "      <td>2004</td>\n",
              "      <td>8</td>\n",
              "      <td>307000</td>\n",
              "      <td>30.444268</td>\n",
              "    </tr>\n",
              "    <tr>\n",
              "      <th>7</th>\n",
              "      <td>10382</td>\n",
              "      <td>NWAmes</td>\n",
              "      <td>1973</td>\n",
              "      <td>7</td>\n",
              "      <td>200000</td>\n",
              "      <td>19.264111</td>\n",
              "    </tr>\n",
              "    <tr>\n",
              "      <th>8</th>\n",
              "      <td>6120</td>\n",
              "      <td>OldTown</td>\n",
              "      <td>1931</td>\n",
              "      <td>7</td>\n",
              "      <td>129900</td>\n",
              "      <td>21.225490</td>\n",
              "    </tr>\n",
              "    <tr>\n",
              "      <th>9</th>\n",
              "      <td>7420</td>\n",
              "      <td>BrkSide</td>\n",
              "      <td>1939</td>\n",
              "      <td>5</td>\n",
              "      <td>118000</td>\n",
              "      <td>15.902965</td>\n",
              "    </tr>\n",
              "  </tbody>\n",
              "</table>\n",
              "</div>"
            ],
            "text/plain": [
              "   LotSize Neighborhood  YearBuilt  Quality  SalePrice  price_per_m2\n",
              "0     8450      CollgCr       2003        7     208500     24.674556\n",
              "1     9600      Veenker       1976        6     181500     18.906250\n",
              "2    11250      CollgCr       2001        7     223500     19.866667\n",
              "3     9550      Crawfor       1915        7     140000     14.659686\n",
              "4    14260      NoRidge       2000        8     250000     17.531557\n",
              "5    14115      Mitchel       1993        5     143000     10.131066\n",
              "6    10084      Somerst       2004        8     307000     30.444268\n",
              "7    10382       NWAmes       1973        7     200000     19.264111\n",
              "8     6120      OldTown       1931        7     129900     21.225490\n",
              "9     7420      BrkSide       1939        5     118000     15.902965"
            ]
          },
          "metadata": {
            "tags": []
          },
          "execution_count": 49
        }
      ]
    },
    {
      "cell_type": "code",
      "metadata": {
        "id": "Q1AwaTCU3uKY",
        "colab_type": "code",
        "colab": {
          "base_uri": "https://localhost:8080/",
          "height": 198
        },
        "outputId": "338051e6-c29d-461c-a673-9ff5a0995820"
      },
      "source": [
        "house_dict = {'Baker House': [7420, 'BrkSide', 1939, 5, 118000],\n",
        "              'Beazley House': [14115, 'Mitchel', 1993, 5, 143000],\n",
        "              'Dominguez House': [14260, 'NoRidge', 2000, 8, 250000],\n",
        "              'Hamilton House': [6120, 'OldTown', 1931, 7, 129900],\n",
        "              'James House': [11250, 'CollgCr', 2001, 7, 223500],\n",
        "              'Martinez House': [9600, 'Veenker', 1976, 6, 181500],\n",
        "              'Roberts House': [9550, 'Crawfor', 1915, 7, 140000],\n",
        "              'Smith House': [8450, 'CollgCr', 2003, 7, 208500],\n",
        "              'Snyder House': [10084, 'Somerst', 2004, 8, 307000],\n",
        "              'Zuckerman House': [10382, 'NWAmes', 1973, 7, 200000]}\n",
        "\n",
        "data = pd.DataFrame(house_dict)\n",
        "data"
      ],
      "execution_count": null,
      "outputs": [
        {
          "output_type": "execute_result",
          "data": {
            "text/html": [
              "<div>\n",
              "<style scoped>\n",
              "    .dataframe tbody tr th:only-of-type {\n",
              "        vertical-align: middle;\n",
              "    }\n",
              "\n",
              "    .dataframe tbody tr th {\n",
              "        vertical-align: top;\n",
              "    }\n",
              "\n",
              "    .dataframe thead th {\n",
              "        text-align: right;\n",
              "    }\n",
              "</style>\n",
              "<table border=\"1\" class=\"dataframe\">\n",
              "  <thead>\n",
              "    <tr style=\"text-align: right;\">\n",
              "      <th></th>\n",
              "      <th>Baker House</th>\n",
              "      <th>Beazley House</th>\n",
              "      <th>Dominguez House</th>\n",
              "      <th>Hamilton House</th>\n",
              "      <th>James House</th>\n",
              "      <th>Martinez House</th>\n",
              "      <th>Roberts House</th>\n",
              "      <th>Smith House</th>\n",
              "      <th>Snyder House</th>\n",
              "      <th>Zuckerman House</th>\n",
              "    </tr>\n",
              "  </thead>\n",
              "  <tbody>\n",
              "    <tr>\n",
              "      <th>0</th>\n",
              "      <td>7420</td>\n",
              "      <td>14115</td>\n",
              "      <td>14260</td>\n",
              "      <td>6120</td>\n",
              "      <td>11250</td>\n",
              "      <td>9600</td>\n",
              "      <td>9550</td>\n",
              "      <td>8450</td>\n",
              "      <td>10084</td>\n",
              "      <td>10382</td>\n",
              "    </tr>\n",
              "    <tr>\n",
              "      <th>1</th>\n",
              "      <td>BrkSide</td>\n",
              "      <td>Mitchel</td>\n",
              "      <td>NoRidge</td>\n",
              "      <td>OldTown</td>\n",
              "      <td>CollgCr</td>\n",
              "      <td>Veenker</td>\n",
              "      <td>Crawfor</td>\n",
              "      <td>CollgCr</td>\n",
              "      <td>Somerst</td>\n",
              "      <td>NWAmes</td>\n",
              "    </tr>\n",
              "    <tr>\n",
              "      <th>2</th>\n",
              "      <td>1939</td>\n",
              "      <td>1993</td>\n",
              "      <td>2000</td>\n",
              "      <td>1931</td>\n",
              "      <td>2001</td>\n",
              "      <td>1976</td>\n",
              "      <td>1915</td>\n",
              "      <td>2003</td>\n",
              "      <td>2004</td>\n",
              "      <td>1973</td>\n",
              "    </tr>\n",
              "    <tr>\n",
              "      <th>3</th>\n",
              "      <td>5</td>\n",
              "      <td>5</td>\n",
              "      <td>8</td>\n",
              "      <td>7</td>\n",
              "      <td>7</td>\n",
              "      <td>6</td>\n",
              "      <td>7</td>\n",
              "      <td>7</td>\n",
              "      <td>8</td>\n",
              "      <td>7</td>\n",
              "    </tr>\n",
              "    <tr>\n",
              "      <th>4</th>\n",
              "      <td>118000</td>\n",
              "      <td>143000</td>\n",
              "      <td>250000</td>\n",
              "      <td>129900</td>\n",
              "      <td>223500</td>\n",
              "      <td>181500</td>\n",
              "      <td>140000</td>\n",
              "      <td>208500</td>\n",
              "      <td>307000</td>\n",
              "      <td>200000</td>\n",
              "    </tr>\n",
              "  </tbody>\n",
              "</table>\n",
              "</div>"
            ],
            "text/plain": [
              "  Baker House Beazley House  ... Snyder House Zuckerman House\n",
              "0        7420         14115  ...        10084           10382\n",
              "1     BrkSide       Mitchel  ...      Somerst          NWAmes\n",
              "2        1939          1993  ...         2004            1973\n",
              "3           5             5  ...            8               7\n",
              "4      118000        143000  ...       307000          200000\n",
              "\n",
              "[5 rows x 10 columns]"
            ]
          },
          "metadata": {
            "tags": []
          },
          "execution_count": 54
        }
      ]
    },
    {
      "cell_type": "code",
      "metadata": {
        "id": "qr3mYkm_44Jk",
        "colab_type": "code",
        "colab": {}
      },
      "source": [
        "# dataframe calculations work (by default) row by row!!\n",
        "data['alvaro'] = data['Baker House'] + data['James House']"
      ],
      "execution_count": null,
      "outputs": []
    },
    {
      "cell_type": "code",
      "metadata": {
        "id": "jkwege285Sq_",
        "colab_type": "code",
        "colab": {
          "base_uri": "https://localhost:8080/",
          "height": 198
        },
        "outputId": "270addd1-d97a-402b-e506-468ed5c1f416"
      },
      "source": [
        "data"
      ],
      "execution_count": null,
      "outputs": [
        {
          "output_type": "execute_result",
          "data": {
            "text/html": [
              "<div>\n",
              "<style scoped>\n",
              "    .dataframe tbody tr th:only-of-type {\n",
              "        vertical-align: middle;\n",
              "    }\n",
              "\n",
              "    .dataframe tbody tr th {\n",
              "        vertical-align: top;\n",
              "    }\n",
              "\n",
              "    .dataframe thead th {\n",
              "        text-align: right;\n",
              "    }\n",
              "</style>\n",
              "<table border=\"1\" class=\"dataframe\">\n",
              "  <thead>\n",
              "    <tr style=\"text-align: right;\">\n",
              "      <th></th>\n",
              "      <th>Baker House</th>\n",
              "      <th>Beazley House</th>\n",
              "      <th>Dominguez House</th>\n",
              "      <th>Hamilton House</th>\n",
              "      <th>James House</th>\n",
              "      <th>Martinez House</th>\n",
              "      <th>Roberts House</th>\n",
              "      <th>Smith House</th>\n",
              "      <th>Snyder House</th>\n",
              "      <th>Zuckerman House</th>\n",
              "      <th>alvaro</th>\n",
              "    </tr>\n",
              "  </thead>\n",
              "  <tbody>\n",
              "    <tr>\n",
              "      <th>0</th>\n",
              "      <td>7420</td>\n",
              "      <td>14115</td>\n",
              "      <td>14260</td>\n",
              "      <td>6120</td>\n",
              "      <td>11250</td>\n",
              "      <td>9600</td>\n",
              "      <td>9550</td>\n",
              "      <td>8450</td>\n",
              "      <td>10084</td>\n",
              "      <td>10382</td>\n",
              "      <td>18670</td>\n",
              "    </tr>\n",
              "    <tr>\n",
              "      <th>1</th>\n",
              "      <td>BrkSide</td>\n",
              "      <td>Mitchel</td>\n",
              "      <td>NoRidge</td>\n",
              "      <td>OldTown</td>\n",
              "      <td>CollgCr</td>\n",
              "      <td>Veenker</td>\n",
              "      <td>Crawfor</td>\n",
              "      <td>CollgCr</td>\n",
              "      <td>Somerst</td>\n",
              "      <td>NWAmes</td>\n",
              "      <td>BrkSideCollgCr</td>\n",
              "    </tr>\n",
              "    <tr>\n",
              "      <th>2</th>\n",
              "      <td>1939</td>\n",
              "      <td>1993</td>\n",
              "      <td>2000</td>\n",
              "      <td>1931</td>\n",
              "      <td>2001</td>\n",
              "      <td>1976</td>\n",
              "      <td>1915</td>\n",
              "      <td>2003</td>\n",
              "      <td>2004</td>\n",
              "      <td>1973</td>\n",
              "      <td>3940</td>\n",
              "    </tr>\n",
              "    <tr>\n",
              "      <th>3</th>\n",
              "      <td>5</td>\n",
              "      <td>5</td>\n",
              "      <td>8</td>\n",
              "      <td>7</td>\n",
              "      <td>7</td>\n",
              "      <td>6</td>\n",
              "      <td>7</td>\n",
              "      <td>7</td>\n",
              "      <td>8</td>\n",
              "      <td>7</td>\n",
              "      <td>12</td>\n",
              "    </tr>\n",
              "    <tr>\n",
              "      <th>4</th>\n",
              "      <td>118000</td>\n",
              "      <td>143000</td>\n",
              "      <td>250000</td>\n",
              "      <td>129900</td>\n",
              "      <td>223500</td>\n",
              "      <td>181500</td>\n",
              "      <td>140000</td>\n",
              "      <td>208500</td>\n",
              "      <td>307000</td>\n",
              "      <td>200000</td>\n",
              "      <td>341500</td>\n",
              "    </tr>\n",
              "  </tbody>\n",
              "</table>\n",
              "</div>"
            ],
            "text/plain": [
              "  Baker House Beazley House  ... Zuckerman House          alvaro\n",
              "0        7420         14115  ...           10382           18670\n",
              "1     BrkSide       Mitchel  ...          NWAmes  BrkSideCollgCr\n",
              "2        1939          1993  ...            1973            3940\n",
              "3           5             5  ...               7              12\n",
              "4      118000        143000  ...          200000          341500\n",
              "\n",
              "[5 rows x 11 columns]"
            ]
          },
          "metadata": {
            "tags": []
          },
          "execution_count": 56
        }
      ]
    },
    {
      "cell_type": "code",
      "metadata": {
        "id": "eB8Ft05x5TvZ",
        "colab_type": "code",
        "colab": {}
      },
      "source": [
        "data = data.transpose()"
      ],
      "execution_count": null,
      "outputs": []
    },
    {
      "cell_type": "code",
      "metadata": {
        "id": "R9CcIRzI5sEO",
        "colab_type": "code",
        "colab": {
          "base_uri": "https://localhost:8080/",
          "height": 378
        },
        "outputId": "c8b9ecf4-77f4-4b04-b73c-129b9dba82af"
      },
      "source": [
        "data.columns = colnames\n",
        "\n",
        "data"
      ],
      "execution_count": null,
      "outputs": [
        {
          "output_type": "execute_result",
          "data": {
            "text/html": [
              "<div>\n",
              "<style scoped>\n",
              "    .dataframe tbody tr th:only-of-type {\n",
              "        vertical-align: middle;\n",
              "    }\n",
              "\n",
              "    .dataframe tbody tr th {\n",
              "        vertical-align: top;\n",
              "    }\n",
              "\n",
              "    .dataframe thead th {\n",
              "        text-align: right;\n",
              "    }\n",
              "</style>\n",
              "<table border=\"1\" class=\"dataframe\">\n",
              "  <thead>\n",
              "    <tr style=\"text-align: right;\">\n",
              "      <th></th>\n",
              "      <th>LotSize</th>\n",
              "      <th>Neighborhood</th>\n",
              "      <th>YearBuilt</th>\n",
              "      <th>Quality</th>\n",
              "      <th>SalePrice</th>\n",
              "    </tr>\n",
              "  </thead>\n",
              "  <tbody>\n",
              "    <tr>\n",
              "      <th>Baker House</th>\n",
              "      <td>7420</td>\n",
              "      <td>BrkSide</td>\n",
              "      <td>1939</td>\n",
              "      <td>5</td>\n",
              "      <td>118000</td>\n",
              "    </tr>\n",
              "    <tr>\n",
              "      <th>Beazley House</th>\n",
              "      <td>14115</td>\n",
              "      <td>Mitchel</td>\n",
              "      <td>1993</td>\n",
              "      <td>5</td>\n",
              "      <td>143000</td>\n",
              "    </tr>\n",
              "    <tr>\n",
              "      <th>Dominguez House</th>\n",
              "      <td>14260</td>\n",
              "      <td>NoRidge</td>\n",
              "      <td>2000</td>\n",
              "      <td>8</td>\n",
              "      <td>250000</td>\n",
              "    </tr>\n",
              "    <tr>\n",
              "      <th>Hamilton House</th>\n",
              "      <td>6120</td>\n",
              "      <td>OldTown</td>\n",
              "      <td>1931</td>\n",
              "      <td>7</td>\n",
              "      <td>129900</td>\n",
              "    </tr>\n",
              "    <tr>\n",
              "      <th>James House</th>\n",
              "      <td>11250</td>\n",
              "      <td>CollgCr</td>\n",
              "      <td>2001</td>\n",
              "      <td>7</td>\n",
              "      <td>223500</td>\n",
              "    </tr>\n",
              "    <tr>\n",
              "      <th>Martinez House</th>\n",
              "      <td>9600</td>\n",
              "      <td>Veenker</td>\n",
              "      <td>1976</td>\n",
              "      <td>6</td>\n",
              "      <td>181500</td>\n",
              "    </tr>\n",
              "    <tr>\n",
              "      <th>Roberts House</th>\n",
              "      <td>9550</td>\n",
              "      <td>Crawfor</td>\n",
              "      <td>1915</td>\n",
              "      <td>7</td>\n",
              "      <td>140000</td>\n",
              "    </tr>\n",
              "    <tr>\n",
              "      <th>Smith House</th>\n",
              "      <td>8450</td>\n",
              "      <td>CollgCr</td>\n",
              "      <td>2003</td>\n",
              "      <td>7</td>\n",
              "      <td>208500</td>\n",
              "    </tr>\n",
              "    <tr>\n",
              "      <th>Snyder House</th>\n",
              "      <td>10084</td>\n",
              "      <td>Somerst</td>\n",
              "      <td>2004</td>\n",
              "      <td>8</td>\n",
              "      <td>307000</td>\n",
              "    </tr>\n",
              "    <tr>\n",
              "      <th>Zuckerman House</th>\n",
              "      <td>10382</td>\n",
              "      <td>NWAmes</td>\n",
              "      <td>1973</td>\n",
              "      <td>7</td>\n",
              "      <td>200000</td>\n",
              "    </tr>\n",
              "    <tr>\n",
              "      <th>alvaro</th>\n",
              "      <td>18670</td>\n",
              "      <td>BrkSideCollgCr</td>\n",
              "      <td>3940</td>\n",
              "      <td>12</td>\n",
              "      <td>341500</td>\n",
              "    </tr>\n",
              "  </tbody>\n",
              "</table>\n",
              "</div>"
            ],
            "text/plain": [
              "                LotSize    Neighborhood YearBuilt Quality SalePrice\n",
              "Baker House        7420         BrkSide      1939       5    118000\n",
              "Beazley House     14115         Mitchel      1993       5    143000\n",
              "Dominguez House   14260         NoRidge      2000       8    250000\n",
              "Hamilton House     6120         OldTown      1931       7    129900\n",
              "James House       11250         CollgCr      2001       7    223500\n",
              "Martinez House     9600         Veenker      1976       6    181500\n",
              "Roberts House      9550         Crawfor      1915       7    140000\n",
              "Smith House        8450         CollgCr      2003       7    208500\n",
              "Snyder House      10084         Somerst      2004       8    307000\n",
              "Zuckerman House   10382          NWAmes      1973       7    200000\n",
              "alvaro            18670  BrkSideCollgCr      3940      12    341500"
            ]
          },
          "metadata": {
            "tags": []
          },
          "execution_count": 63
        }
      ]
    },
    {
      "cell_type": "code",
      "metadata": {
        "id": "iWU6-yrI57-U",
        "colab_type": "code",
        "colab": {}
      },
      "source": [
        "house_dict = {'Baker House': [7420, 'BrkSide', 1939, 5, 118000],\n",
        "              'Beazley House': [14115, 'Mitchel', 1993, 5, 143000],\n",
        "              'Dominguez House': [14260, 'NoRidge', 2000, 8, 250000],\n",
        "              'Hamilton House': [6120, 'OldTown', 1931, 7, 129900],\n",
        "              'James House': [11250, 'CollgCr', 2001, 7, 223500],\n",
        "              'Martinez House': [9600, 'Veenker', 1976, 6, 181500],\n",
        "              'Roberts House': [9550, 'Crawfor', 1915, 7, 140000],\n",
        "              'Smith House': [8450, 'CollgCr', 2003, 7, 208500],\n",
        "              'Snyder House': [10084, 'Somerst', 2004, 8, 307000],\n",
        "              'Zuckerman House': [10382, 'NWAmes', 1973, 7, 200000]}\n",
        "\n"
      ],
      "execution_count": null,
      "outputs": []
    },
    {
      "cell_type": "code",
      "metadata": {
        "id": "G6E-Ss7r6R52",
        "colab_type": "code",
        "colab": {
          "base_uri": "https://localhost:8080/",
          "height": 348
        },
        "outputId": "dba14518-c11e-4308-9dc0-b91b6c8dec61"
      },
      "source": [
        "# how could I get directly the best datastructure in one line?\n",
        "# orient parameter allows you to define the orientation in which you will import your data\n",
        "data =pd.DataFrame.from_dict(house_dict, orient='index',columns = colnames)\n",
        "# I want the keys of the dictionary to becomes the index of the dataframe\n",
        "data"
      ],
      "execution_count": null,
      "outputs": [
        {
          "output_type": "execute_result",
          "data": {
            "text/html": [
              "<div>\n",
              "<style scoped>\n",
              "    .dataframe tbody tr th:only-of-type {\n",
              "        vertical-align: middle;\n",
              "    }\n",
              "\n",
              "    .dataframe tbody tr th {\n",
              "        vertical-align: top;\n",
              "    }\n",
              "\n",
              "    .dataframe thead th {\n",
              "        text-align: right;\n",
              "    }\n",
              "</style>\n",
              "<table border=\"1\" class=\"dataframe\">\n",
              "  <thead>\n",
              "    <tr style=\"text-align: right;\">\n",
              "      <th></th>\n",
              "      <th>LotSize</th>\n",
              "      <th>Neighborhood</th>\n",
              "      <th>YearBuilt</th>\n",
              "      <th>Quality</th>\n",
              "      <th>SalePrice</th>\n",
              "    </tr>\n",
              "  </thead>\n",
              "  <tbody>\n",
              "    <tr>\n",
              "      <th>Baker House</th>\n",
              "      <td>7420</td>\n",
              "      <td>BrkSide</td>\n",
              "      <td>1939</td>\n",
              "      <td>5</td>\n",
              "      <td>118000</td>\n",
              "    </tr>\n",
              "    <tr>\n",
              "      <th>Beazley House</th>\n",
              "      <td>14115</td>\n",
              "      <td>Mitchel</td>\n",
              "      <td>1993</td>\n",
              "      <td>5</td>\n",
              "      <td>143000</td>\n",
              "    </tr>\n",
              "    <tr>\n",
              "      <th>Dominguez House</th>\n",
              "      <td>14260</td>\n",
              "      <td>NoRidge</td>\n",
              "      <td>2000</td>\n",
              "      <td>8</td>\n",
              "      <td>250000</td>\n",
              "    </tr>\n",
              "    <tr>\n",
              "      <th>Hamilton House</th>\n",
              "      <td>6120</td>\n",
              "      <td>OldTown</td>\n",
              "      <td>1931</td>\n",
              "      <td>7</td>\n",
              "      <td>129900</td>\n",
              "    </tr>\n",
              "    <tr>\n",
              "      <th>James House</th>\n",
              "      <td>11250</td>\n",
              "      <td>CollgCr</td>\n",
              "      <td>2001</td>\n",
              "      <td>7</td>\n",
              "      <td>223500</td>\n",
              "    </tr>\n",
              "    <tr>\n",
              "      <th>Martinez House</th>\n",
              "      <td>9600</td>\n",
              "      <td>Veenker</td>\n",
              "      <td>1976</td>\n",
              "      <td>6</td>\n",
              "      <td>181500</td>\n",
              "    </tr>\n",
              "    <tr>\n",
              "      <th>Roberts House</th>\n",
              "      <td>9550</td>\n",
              "      <td>Crawfor</td>\n",
              "      <td>1915</td>\n",
              "      <td>7</td>\n",
              "      <td>140000</td>\n",
              "    </tr>\n",
              "    <tr>\n",
              "      <th>Smith House</th>\n",
              "      <td>8450</td>\n",
              "      <td>CollgCr</td>\n",
              "      <td>2003</td>\n",
              "      <td>7</td>\n",
              "      <td>208500</td>\n",
              "    </tr>\n",
              "    <tr>\n",
              "      <th>Snyder House</th>\n",
              "      <td>10084</td>\n",
              "      <td>Somerst</td>\n",
              "      <td>2004</td>\n",
              "      <td>8</td>\n",
              "      <td>307000</td>\n",
              "    </tr>\n",
              "    <tr>\n",
              "      <th>Zuckerman House</th>\n",
              "      <td>10382</td>\n",
              "      <td>NWAmes</td>\n",
              "      <td>1973</td>\n",
              "      <td>7</td>\n",
              "      <td>200000</td>\n",
              "    </tr>\n",
              "  </tbody>\n",
              "</table>\n",
              "</div>"
            ],
            "text/plain": [
              "                 LotSize Neighborhood  YearBuilt  Quality  SalePrice\n",
              "Baker House         7420      BrkSide       1939        5     118000\n",
              "Beazley House      14115      Mitchel       1993        5     143000\n",
              "Dominguez House    14260      NoRidge       2000        8     250000\n",
              "Hamilton House      6120      OldTown       1931        7     129900\n",
              "James House        11250      CollgCr       2001        7     223500\n",
              "Martinez House      9600      Veenker       1976        6     181500\n",
              "Roberts House       9550      Crawfor       1915        7     140000\n",
              "Smith House         8450      CollgCr       2003        7     208500\n",
              "Snyder House       10084      Somerst       2004        8     307000\n",
              "Zuckerman House    10382       NWAmes       1973        7     200000"
            ]
          },
          "metadata": {
            "tags": []
          },
          "execution_count": 76
        }
      ]
    },
    {
      "cell_type": "code",
      "metadata": {
        "id": "e2pTXiLK6gEC",
        "colab_type": "code",
        "colab": {
          "base_uri": "https://localhost:8080/",
          "height": 35
        },
        "outputId": "e645d3fc-3853-4725-9c23-3812dc835198"
      },
      "source": [
        "# you can also do mathematical function on these things\n",
        "\n",
        "# Total Price of the houses\n",
        "\n",
        "data['SalePrice'].sum()"
      ],
      "execution_count": null,
      "outputs": [
        {
          "output_type": "execute_result",
          "data": {
            "text/plain": [
              "1901400"
            ]
          },
          "metadata": {
            "tags": []
          },
          "execution_count": 71
        }
      ]
    },
    {
      "cell_type": "code",
      "metadata": {
        "id": "mNyqrz097YqV",
        "colab_type": "code",
        "colab": {
          "base_uri": "https://localhost:8080/",
          "height": 35
        },
        "outputId": "d494936b-255e-4dc3-c420-c2ef366481fc"
      },
      "source": [
        "# average Price of the houses\n",
        "\n",
        "data['SalePrice'].mean()"
      ],
      "execution_count": null,
      "outputs": [
        {
          "output_type": "execute_result",
          "data": {
            "text/plain": [
              "190140.0"
            ]
          },
          "metadata": {
            "tags": []
          },
          "execution_count": 72
        }
      ]
    },
    {
      "cell_type": "code",
      "metadata": {
        "id": "6Jaab08k7cVz",
        "colab_type": "code",
        "colab": {
          "base_uri": "https://localhost:8080/",
          "height": 632
        },
        "outputId": "de2b505d-44ce-43b0-c810-5553ad8c8bb4"
      },
      "source": [
        "# read data from a csv\n",
        "\n",
        "# this csv is a \"database\" of the sales of a company\n",
        "pd.read_csv(\"Sample - EU Superstore.csv\")"
      ],
      "execution_count": null,
      "outputs": [
        {
          "output_type": "execute_result",
          "data": {
            "text/html": [
              "<div>\n",
              "<style scoped>\n",
              "    .dataframe tbody tr th:only-of-type {\n",
              "        vertical-align: middle;\n",
              "    }\n",
              "\n",
              "    .dataframe tbody tr th {\n",
              "        vertical-align: top;\n",
              "    }\n",
              "\n",
              "    .dataframe thead th {\n",
              "        text-align: right;\n",
              "    }\n",
              "</style>\n",
              "<table border=\"1\" class=\"dataframe\">\n",
              "  <thead>\n",
              "    <tr style=\"text-align: right;\">\n",
              "      <th></th>\n",
              "      <th>Row ID</th>\n",
              "      <th>Order ID</th>\n",
              "      <th>Order Date</th>\n",
              "      <th>Ship Date</th>\n",
              "      <th>Ship Mode</th>\n",
              "      <th>Customer ID</th>\n",
              "      <th>Customer Name</th>\n",
              "      <th>Segment</th>\n",
              "      <th>City</th>\n",
              "      <th>State</th>\n",
              "      <th>Country</th>\n",
              "      <th>Region</th>\n",
              "      <th>Product ID</th>\n",
              "      <th>Category</th>\n",
              "      <th>Sub-Category</th>\n",
              "      <th>Product Name</th>\n",
              "      <th>Sales</th>\n",
              "      <th>Quantity</th>\n",
              "      <th>Discount</th>\n",
              "      <th>Profit</th>\n",
              "    </tr>\n",
              "  </thead>\n",
              "  <tbody>\n",
              "    <tr>\n",
              "      <th>0</th>\n",
              "      <td>1</td>\n",
              "      <td>ES-2017-1311038</td>\n",
              "      <td>07/02/2017</td>\n",
              "      <td>11/02/2017</td>\n",
              "      <td>Standard Class</td>\n",
              "      <td>AS-10045</td>\n",
              "      <td>Aaron Smayling</td>\n",
              "      <td>Corporate</td>\n",
              "      <td>Leeds</td>\n",
              "      <td>England</td>\n",
              "      <td>United Kingdom</td>\n",
              "      <td>North</td>\n",
              "      <td>OFF-ST-10000988</td>\n",
              "      <td>Office Supplies</td>\n",
              "      <td>Storage</td>\n",
              "      <td>Fellowes Folders, Blue</td>\n",
              "      <td>79.20</td>\n",
              "      <td>3</td>\n",
              "      <td>0.0</td>\n",
              "      <td>39.60</td>\n",
              "    </tr>\n",
              "    <tr>\n",
              "      <th>1</th>\n",
              "      <td>2</td>\n",
              "      <td>ES-2017-1311038</td>\n",
              "      <td>07/02/2017</td>\n",
              "      <td>11/02/2017</td>\n",
              "      <td>Standard Class</td>\n",
              "      <td>AS-10045</td>\n",
              "      <td>Aaron Smayling</td>\n",
              "      <td>Corporate</td>\n",
              "      <td>Leeds</td>\n",
              "      <td>England</td>\n",
              "      <td>United Kingdom</td>\n",
              "      <td>North</td>\n",
              "      <td>TEC-AC-10004144</td>\n",
              "      <td>Technology</td>\n",
              "      <td>Accessories</td>\n",
              "      <td>SanDisk Numeric Keypad, Bluetooth</td>\n",
              "      <td>388.92</td>\n",
              "      <td>7</td>\n",
              "      <td>0.0</td>\n",
              "      <td>0.00</td>\n",
              "    </tr>\n",
              "    <tr>\n",
              "      <th>2</th>\n",
              "      <td>3</td>\n",
              "      <td>ES-2017-1311038</td>\n",
              "      <td>07/02/2017</td>\n",
              "      <td>11/02/2017</td>\n",
              "      <td>Standard Class</td>\n",
              "      <td>AS-10045</td>\n",
              "      <td>Aaron Smayling</td>\n",
              "      <td>Corporate</td>\n",
              "      <td>Leeds</td>\n",
              "      <td>England</td>\n",
              "      <td>United Kingdom</td>\n",
              "      <td>North</td>\n",
              "      <td>OFF-LA-10001915</td>\n",
              "      <td>Office Supplies</td>\n",
              "      <td>Labels</td>\n",
              "      <td>Avery Legal Exhibit Labels, 5000 Label Set</td>\n",
              "      <td>35.19</td>\n",
              "      <td>3</td>\n",
              "      <td>0.0</td>\n",
              "      <td>16.11</td>\n",
              "    </tr>\n",
              "    <tr>\n",
              "      <th>3</th>\n",
              "      <td>4</td>\n",
              "      <td>ES-2017-1311038</td>\n",
              "      <td>07/02/2017</td>\n",
              "      <td>11/02/2017</td>\n",
              "      <td>Standard Class</td>\n",
              "      <td>AS-10045</td>\n",
              "      <td>Aaron Smayling</td>\n",
              "      <td>Corporate</td>\n",
              "      <td>Leeds</td>\n",
              "      <td>England</td>\n",
              "      <td>United Kingdom</td>\n",
              "      <td>North</td>\n",
              "      <td>OFF-ST-10004550</td>\n",
              "      <td>Office Supplies</td>\n",
              "      <td>Storage</td>\n",
              "      <td>Fellowes Folders, Wire Frame</td>\n",
              "      <td>50.94</td>\n",
              "      <td>2</td>\n",
              "      <td>0.0</td>\n",
              "      <td>13.20</td>\n",
              "    </tr>\n",
              "    <tr>\n",
              "      <th>4</th>\n",
              "      <td>5</td>\n",
              "      <td>ES-2017-1311038</td>\n",
              "      <td>07/02/2017</td>\n",
              "      <td>11/02/2017</td>\n",
              "      <td>Standard Class</td>\n",
              "      <td>AS-10045</td>\n",
              "      <td>Aaron Smayling</td>\n",
              "      <td>Corporate</td>\n",
              "      <td>Leeds</td>\n",
              "      <td>England</td>\n",
              "      <td>United Kingdom</td>\n",
              "      <td>North</td>\n",
              "      <td>TEC-AC-10004068</td>\n",
              "      <td>Technology</td>\n",
              "      <td>Accessories</td>\n",
              "      <td>Memorex Memory Card, USB</td>\n",
              "      <td>307.44</td>\n",
              "      <td>3</td>\n",
              "      <td>0.0</td>\n",
              "      <td>73.71</td>\n",
              "    </tr>\n",
              "    <tr>\n",
              "      <th>...</th>\n",
              "      <td>...</td>\n",
              "      <td>...</td>\n",
              "      <td>...</td>\n",
              "      <td>...</td>\n",
              "      <td>...</td>\n",
              "      <td>...</td>\n",
              "      <td>...</td>\n",
              "      <td>...</td>\n",
              "      <td>...</td>\n",
              "      <td>...</td>\n",
              "      <td>...</td>\n",
              "      <td>...</td>\n",
              "      <td>...</td>\n",
              "      <td>...</td>\n",
              "      <td>...</td>\n",
              "      <td>...</td>\n",
              "      <td>...</td>\n",
              "      <td>...</td>\n",
              "      <td>...</td>\n",
              "      <td>...</td>\n",
              "    </tr>\n",
              "    <tr>\n",
              "      <th>9995</th>\n",
              "      <td>9996</td>\n",
              "      <td>ES-2014-3780358</td>\n",
              "      <td>16/11/2014</td>\n",
              "      <td>19/11/2014</td>\n",
              "      <td>First Class</td>\n",
              "      <td>CC-12100</td>\n",
              "      <td>Chad Cunningham</td>\n",
              "      <td>Home Office</td>\n",
              "      <td>Rovigo</td>\n",
              "      <td>Veneto</td>\n",
              "      <td>Italy</td>\n",
              "      <td>South</td>\n",
              "      <td>OFF-BI-10000346</td>\n",
              "      <td>Office Supplies</td>\n",
              "      <td>Binders</td>\n",
              "      <td>Ibico 3-Hole Punch, Clear</td>\n",
              "      <td>59.82</td>\n",
              "      <td>2</td>\n",
              "      <td>0.0</td>\n",
              "      <td>23.88</td>\n",
              "    </tr>\n",
              "    <tr>\n",
              "      <th>9996</th>\n",
              "      <td>9997</td>\n",
              "      <td>ES-2015-5371207</td>\n",
              "      <td>25/01/2015</td>\n",
              "      <td>29/01/2015</td>\n",
              "      <td>Standard Class</td>\n",
              "      <td>GB-14575</td>\n",
              "      <td>Giulietta Baptist</td>\n",
              "      <td>Consumer</td>\n",
              "      <td>Hamburg</td>\n",
              "      <td>Hamburg</td>\n",
              "      <td>Germany</td>\n",
              "      <td>Central</td>\n",
              "      <td>OFF-BI-10002083</td>\n",
              "      <td>Office Supplies</td>\n",
              "      <td>Binders</td>\n",
              "      <td>Acco Hole Reinforcements, Economy</td>\n",
              "      <td>6.66</td>\n",
              "      <td>1</td>\n",
              "      <td>0.0</td>\n",
              "      <td>0.57</td>\n",
              "    </tr>\n",
              "    <tr>\n",
              "      <th>9997</th>\n",
              "      <td>9998</td>\n",
              "      <td>ES-2015-5371207</td>\n",
              "      <td>25/01/2015</td>\n",
              "      <td>29/01/2015</td>\n",
              "      <td>Standard Class</td>\n",
              "      <td>GB-14575</td>\n",
              "      <td>Giulietta Baptist</td>\n",
              "      <td>Consumer</td>\n",
              "      <td>Hamburg</td>\n",
              "      <td>Hamburg</td>\n",
              "      <td>Germany</td>\n",
              "      <td>Central</td>\n",
              "      <td>OFF-SU-10003211</td>\n",
              "      <td>Office Supplies</td>\n",
              "      <td>Supplies</td>\n",
              "      <td>Acme Ruler, Steel</td>\n",
              "      <td>96.66</td>\n",
              "      <td>6</td>\n",
              "      <td>0.0</td>\n",
              "      <td>28.98</td>\n",
              "    </tr>\n",
              "    <tr>\n",
              "      <th>9998</th>\n",
              "      <td>9999</td>\n",
              "      <td>ES-2015-5371207</td>\n",
              "      <td>25/01/2015</td>\n",
              "      <td>29/01/2015</td>\n",
              "      <td>Standard Class</td>\n",
              "      <td>GB-14575</td>\n",
              "      <td>Giulietta Baptist</td>\n",
              "      <td>Consumer</td>\n",
              "      <td>Hamburg</td>\n",
              "      <td>Hamburg</td>\n",
              "      <td>Germany</td>\n",
              "      <td>Central</td>\n",
              "      <td>TEC-PH-10001664</td>\n",
              "      <td>Technology</td>\n",
              "      <td>Phones</td>\n",
              "      <td>Motorola Office Telephone, VoIP</td>\n",
              "      <td>502.95</td>\n",
              "      <td>7</td>\n",
              "      <td>0.0</td>\n",
              "      <td>221.13</td>\n",
              "    </tr>\n",
              "    <tr>\n",
              "      <th>9999</th>\n",
              "      <td>10000</td>\n",
              "      <td>ES-2015-5371207</td>\n",
              "      <td>25/01/2015</td>\n",
              "      <td>29/01/2015</td>\n",
              "      <td>Standard Class</td>\n",
              "      <td>GB-14575</td>\n",
              "      <td>Giulietta Baptist</td>\n",
              "      <td>Consumer</td>\n",
              "      <td>Hamburg</td>\n",
              "      <td>Hamburg</td>\n",
              "      <td>Germany</td>\n",
              "      <td>Central</td>\n",
              "      <td>OFF-AR-10001228</td>\n",
              "      <td>Office Supplies</td>\n",
              "      <td>Art</td>\n",
              "      <td>Stanley Markers, Water Color</td>\n",
              "      <td>152.28</td>\n",
              "      <td>6</td>\n",
              "      <td>0.0</td>\n",
              "      <td>50.22</td>\n",
              "    </tr>\n",
              "  </tbody>\n",
              "</table>\n",
              "<p>10000 rows × 20 columns</p>\n",
              "</div>"
            ],
            "text/plain": [
              "      Row ID         Order ID  Order Date  ... Quantity Discount  Profit\n",
              "0          1  ES-2017-1311038  07/02/2017  ...        3      0.0   39.60\n",
              "1          2  ES-2017-1311038  07/02/2017  ...        7      0.0    0.00\n",
              "2          3  ES-2017-1311038  07/02/2017  ...        3      0.0   16.11\n",
              "3          4  ES-2017-1311038  07/02/2017  ...        2      0.0   13.20\n",
              "4          5  ES-2017-1311038  07/02/2017  ...        3      0.0   73.71\n",
              "...      ...              ...         ...  ...      ...      ...     ...\n",
              "9995    9996  ES-2014-3780358  16/11/2014  ...        2      0.0   23.88\n",
              "9996    9997  ES-2015-5371207  25/01/2015  ...        1      0.0    0.57\n",
              "9997    9998  ES-2015-5371207  25/01/2015  ...        6      0.0   28.98\n",
              "9998    9999  ES-2015-5371207  25/01/2015  ...        7      0.0  221.13\n",
              "9999   10000  ES-2015-5371207  25/01/2015  ...        6      0.0   50.22\n",
              "\n",
              "[10000 rows x 20 columns]"
            ]
          },
          "metadata": {
            "tags": []
          },
          "execution_count": 73
        }
      ]
    },
    {
      "cell_type": "code",
      "metadata": {
        "id": "utwg1XIz734S",
        "colab_type": "code",
        "colab": {}
      },
      "source": [
        ""
      ],
      "execution_count": null,
      "outputs": []
    }
  ]
}