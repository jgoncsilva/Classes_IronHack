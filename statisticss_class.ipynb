{
  "nbformat": 4,
  "nbformat_minor": 0,
  "metadata": {
    "colab": {
      "name": "statisticss-class.ipynb",
      "provenance": [],
      "include_colab_link": true
    },
    "kernelspec": {
      "name": "python3",
      "display_name": "Python 3"
    }
  },
  "cells": [
    {
      "cell_type": "markdown",
      "metadata": {
        "id": "view-in-github",
        "colab_type": "text"
      },
      "source": [
        "<a href=\"https://colab.research.google.com/github/jgoncsilva/Classes_IronHack/blob/master/statisticss_class.ipynb\" target=\"_parent\"><img src=\"https://colab.research.google.com/assets/colab-badge.svg\" alt=\"Open In Colab\"/></a>"
      ]
    },
    {
      "cell_type": "code",
      "metadata": {
        "id": "7DlwntB_17VO",
        "colab_type": "code",
        "colab": {}
      },
      "source": [
        "import numpy as np\n",
        "import matplotlib.pyplot as plt"
      ],
      "execution_count": null,
      "outputs": []
    },
    {
      "cell_type": "code",
      "metadata": {
        "id": "tEnIyrm56s2j",
        "colab_type": "code",
        "colab": {
          "base_uri": "https://localhost:8080/",
          "height": 521
        },
        "outputId": "dd783a89-8bf8-4b98-8283-59fe64b81f17"
      },
      "source": [
        "dataset = np.random.randint(18,90,size = 500)\n",
        "dataset"
      ],
      "execution_count": null,
      "outputs": [
        {
          "output_type": "execute_result",
          "data": {
            "text/plain": [
              "array([79, 74, 61, 88, 67, 43, 19, 46, 36, 24, 76, 86, 48, 31, 53, 49, 72,\n",
              "       23, 38, 79, 78, 64, 85, 77, 41, 26, 61, 40, 25, 22, 24, 60, 43, 63,\n",
              "       52, 20, 67, 62, 64, 89, 19, 53, 24, 63, 76, 77, 71, 72, 64, 78, 85,\n",
              "       60, 74, 69, 23, 87, 78, 45, 54, 48, 43, 48, 19, 59, 21, 31, 53, 81,\n",
              "       69, 23, 41, 29, 26, 61, 78, 67, 54, 54, 35, 73, 40, 43, 73, 80, 78,\n",
              "       70, 87, 36, 88, 63, 40, 85, 88, 86, 33, 58, 27, 57, 88, 43, 65, 62,\n",
              "       74, 46, 47, 70, 72, 50, 44, 63, 23, 60, 78, 41, 75, 47, 41, 37, 88,\n",
              "       79, 63, 73, 26, 65, 34, 35, 35, 43, 88, 36, 78, 56, 72, 27, 30, 87,\n",
              "       43, 35, 89, 64, 82, 56, 24, 70, 22, 74, 63, 55, 21, 48, 50, 59, 81,\n",
              "       33, 25, 23, 77, 86, 43, 45, 52, 66, 18, 72, 48, 45, 78, 74, 33, 27,\n",
              "       54, 65, 51, 57, 79, 48, 85, 46, 27, 31, 61, 32, 47, 26, 24, 48, 21,\n",
              "       57, 87, 34, 48, 22, 28, 51, 21, 84, 65, 59, 62, 47, 78, 79, 32, 62,\n",
              "       21, 30, 26, 41, 50, 52, 24, 72, 80, 23, 82, 47, 82, 41, 46, 22, 70,\n",
              "       79, 41, 56, 29, 81, 40, 73, 85, 21, 84, 62, 35, 33, 75, 83, 48, 23,\n",
              "       22, 18, 18, 87, 82, 62, 51, 78, 30, 19, 62, 23, 77, 81, 29, 35, 70,\n",
              "       32, 82, 47, 61, 43, 65, 88, 26, 75, 19, 71, 63, 74, 49, 43, 41, 44,\n",
              "       23, 43, 30, 29, 67, 18, 34, 78, 45, 29, 84, 25, 63, 53, 19, 23, 29,\n",
              "       64, 19, 71, 51, 59, 29, 80, 79, 73, 85, 46, 68, 21, 63, 36, 18, 79,\n",
              "       61, 59, 55, 63, 84, 36, 71, 53, 39, 41, 87, 46, 18, 34, 37, 24, 55,\n",
              "       70, 24, 58, 72, 88, 33, 75, 81, 47, 56, 28, 34, 22, 81, 56, 28, 18,\n",
              "       38, 58, 57, 19, 78, 66, 59, 28, 70, 85, 19, 53, 33, 61, 62, 41, 52,\n",
              "       28, 46, 84, 44, 31, 19, 49, 74, 86, 35, 54, 67, 29, 54, 52, 21, 32,\n",
              "       84, 41, 76, 89, 85, 25, 43, 89, 57, 69, 64, 19, 33, 50, 89, 21, 84,\n",
              "       68, 61, 35, 35, 75, 31, 69, 64, 58, 55, 87, 32, 69, 21, 49, 83, 75,\n",
              "       18, 36, 19, 52, 45, 34, 75, 44, 20, 37, 50, 31, 64, 85, 39, 40, 21,\n",
              "       51, 84, 67, 78, 41, 68, 24, 45, 61, 67, 33, 60, 74, 69, 63, 75, 28,\n",
              "       52, 59, 53, 84, 19, 54, 55, 81, 33, 43, 72, 38, 35, 18, 67, 64, 49,\n",
              "       31, 27, 78, 76, 83, 51, 28, 74, 23, 58, 31, 62, 77, 59, 38, 67, 51,\n",
              "       89, 21, 71, 70, 21, 40, 88, 37, 42, 22, 60, 83, 56, 59, 59, 48, 73,\n",
              "       73, 38, 31, 76, 80, 54, 75])"
            ]
          },
          "metadata": {
            "tags": []
          },
          "execution_count": 7
        }
      ]
    },
    {
      "cell_type": "code",
      "metadata": {
        "id": "FhF5VHzp63uj",
        "colab_type": "code",
        "colab": {
          "base_uri": "https://localhost:8080/",
          "height": 50
        },
        "outputId": "1599382f-0dbc-4f2f-83e7-ac6d4f9438e3"
      },
      "source": [
        "# calculate the mean/average\n",
        "\n",
        "mean = (np.sum(dataset)+1000)/len(dataset+1)\n",
        "\n",
        "print(mean)\n",
        "\n",
        "# there is a function for this in numpy \n",
        "print(dataset.mean())\n",
        "\n",
        "# mean is a measure of location/center \n",
        "\n",
        "# problem of mean: it is very sensitive to outliers"
      ],
      "execution_count": null,
      "outputs": [
        {
          "output_type": "stream",
          "text": [
            "55.052\n",
            "53.052\n"
          ],
          "name": "stdout"
        }
      ]
    },
    {
      "cell_type": "code",
      "metadata": {
        "id": "5hx4RyYB8LdC",
        "colab_type": "code",
        "colab": {
          "base_uri": "https://localhost:8080/",
          "height": 34
        },
        "outputId": "76e316a8-5495-49eb-c6a3-309f69c4ae43"
      },
      "source": [
        "# median -> the central number/ middle value\n",
        "#understand why the median is barely affected by outliers\n",
        "# because outliers only count as \"one more element\" and barely change the center\n",
        "dataset.sort()\n",
        "print(np.median(dataset))"
      ],
      "execution_count": null,
      "outputs": [
        {
          "output_type": "stream",
          "text": [
            "53.0\n"
          ],
          "name": "stdout"
        }
      ]
    },
    {
      "cell_type": "code",
      "metadata": {
        "id": "fPayHz2L88yw",
        "colab_type": "code",
        "colab": {
          "base_uri": "https://localhost:8080/",
          "height": 34
        },
        "outputId": "f637a90d-1aff-4609-bee5-5157b9a0819c"
      },
      "source": [
        "# mode is the most frequent value aka: the one that appears the most\n",
        "# numpy doesnt have an easy mode function\n",
        "# https://www.scipy.org/\n",
        "\n",
        "from scipy import stats\n",
        "\n",
        "stats.mode(dataset)\n",
        "#mode method returns 2 elements -> the mode, and the count of that element"
      ],
      "execution_count": null,
      "outputs": [
        {
          "output_type": "execute_result",
          "data": {
            "text/plain": [
              "ModeResult(mode=array([78]), count=array([14]))"
            ]
          },
          "metadata": {
            "tags": []
          },
          "execution_count": 20
        }
      ]
    },
    {
      "cell_type": "code",
      "metadata": {
        "id": "G62ELS_O64mF",
        "colab_type": "code",
        "colab": {
          "base_uri": "https://localhost:8080/",
          "height": 67
        },
        "outputId": "526942bb-f24d-4cd6-e25f-ead646a3145e"
      },
      "source": [
        "# calculated the lower quartile -> the position where 25% of my data \"has passed\"\n",
        "q1 = np.quantile(dataset, 0.25)\n",
        "print(\"the first quartile is\", q1)\n",
        "q2 = np.quantile(dataset, 0.50)\n",
        "print(\"the second quartile is\",q2)\n",
        "q3 = np.quantile(dataset, 0.75)\n",
        "print(\"the third quartile is\", q3)"
      ],
      "execution_count": null,
      "outputs": [
        {
          "output_type": "stream",
          "text": [
            "the first quartile is 34.0\n",
            "the second quartile is 53.0\n",
            "the third quartile is 72.0\n"
          ],
          "name": "stdout"
        }
      ]
    },
    {
      "cell_type": "code",
      "metadata": {
        "id": "KknpesjQAGjC",
        "colab_type": "code",
        "colab": {
          "base_uri": "https://localhost:8080/",
          "height": 34
        },
        "outputId": "b155a30e-0b19-4ddb-dde4-774a4c7af653"
      },
      "source": [
        "# I have 500 numbers in my dataset, in which position should the lower quartile be?\n",
        "# the first quarter of 500 is 125. Therefore by definiton the 125th element is my lower quartile\n",
        "# the numbers must be sorted\n",
        "dataset[125]\n",
        "\n"
      ],
      "execution_count": null,
      "outputs": [
        {
          "output_type": "execute_result",
          "data": {
            "text/plain": [
              "34"
            ]
          },
          "metadata": {
            "tags": []
          },
          "execution_count": 22
        }
      ]
    },
    {
      "cell_type": "code",
      "metadata": {
        "id": "qDclJA5RAR8p",
        "colab_type": "code",
        "colab": {
          "base_uri": "https://localhost:8080/",
          "height": 513
        },
        "outputId": "e3913946-acb9-4a4b-b9dc-4af2bfed7bde"
      },
      "source": [
        "# plotting histograms allows us to visualize nicely the distribution of our data\n",
        "# this histograms creates \"buckets/boxes\" of values and then places the numbers of the dataser in each box and counts\n",
        "\n",
        "\n",
        "plt.hist(dataset, bins = 20)\n",
        "plt.show()\n",
        "\n",
        "plt.hist(dataset, bins = 20, cumulative = True)\n",
        "plt.hlines([125,250,375],0,90,colors = 'r')\n",
        "plt.vlines([q1,q2,q3],0,500,colors='r', label= [q1,q2,q3])\n",
        "plt.show()"
      ],
      "execution_count": null,
      "outputs": [
        {
          "output_type": "display_data",
          "data": {
            "image/png": "[encoded data removed]",
            "text/plain": [
              "<Figure size 432x288 with 1 Axes>"
            ]
          },
          "metadata": {
            "tags": [],
            "needs_background": "light"
          }
        },
        {
          "output_type": "display_data",
          "data": {
            "image/png": "[encoded data removed]",
            "text/plain": [
              "<Figure size 432x288 with 1 Axes>"
            ]
          },
          "metadata": {
            "tags": [],
            "needs_background": "light"
          }
        }
      ]
    },
    {
      "cell_type": "code",
      "metadata": {
        "id": "8hl2r6YbBMIV",
        "colab_type": "code",
        "colab": {
          "base_uri": "https://localhost:8080/",
          "height": 265
        },
        "outputId": "b38f8f34-abab-45e8-bbb0-ec67adb1c0ee"
      },
      "source": [
        "# the box plot brings together all this information\n",
        "\n",
        "plt.boxplot(dataset)\n",
        "plt.show()"
      ],
      "execution_count": null,
      "outputs": [
        {
          "output_type": "display_data",
          "data": {
            "image/png": "[encoded data removed]",
            "text/plain": [
              "<Figure size 432x288 with 1 Axes>"
            ]
          },
          "metadata": {
            "tags": [],
            "needs_background": "light"
          }
        }
      ]
    },
    {
      "cell_type": "code",
      "metadata": {
        "id": "EYDexzlPDkGj",
        "colab_type": "code",
        "colab": {
          "base_uri": "https://localhost:8080/",
          "height": 34
        },
        "outputId": "4eb2700c-bb53-4862-8827-1fb14a2a6c2a"
      },
      "source": [
        "# Interquartile Range\n",
        "\n",
        "# what information does the IQR give you about how spread out the data is?\n",
        "# between the upper quartile and the lower quartile lies for sure 50% of the data\n",
        "#it's a measure of how spread out, 50% of the data is?\n",
        "iqr = q3 - q1\n",
        "print(iqr)"
      ],
      "execution_count": null,
      "outputs": [
        {
          "output_type": "stream",
          "text": [
            "38.0\n"
          ],
          "name": "stdout"
        }
      ]
    },
    {
      "cell_type": "code",
      "metadata": {
        "id": "mTM4AryaMXgD",
        "colab_type": "code",
        "colab": {
          "base_uri": "https://localhost:8080/",
          "height": 34
        },
        "outputId": "a4c93026-6977-4aec-d3db-6e4aa6c8b20b"
      },
      "source": [
        "# range\n",
        "\n",
        "dataset.max() - dataset.min()"
      ],
      "execution_count": null,
      "outputs": [
        {
          "output_type": "execute_result",
          "data": {
            "text/plain": [
              "71"
            ]
          },
          "metadata": {
            "tags": []
          },
          "execution_count": 56
        }
      ]
    },
    {
      "cell_type": "code",
      "metadata": {
        "id": "TOOgDewwCvSO",
        "colab_type": "code",
        "colab": {}
      },
      "source": [
        "# definition of outlier\n",
        "# -> a point above Q3 + 1.5*IQR\n",
        "# -> a point below Q1 - 1.5*IQR"
      ],
      "execution_count": null,
      "outputs": []
    },
    {
      "cell_type": "code",
      "metadata": {
        "id": "G_7x3XoQMoKP",
        "colab_type": "code",
        "colab": {
          "base_uri": "https://localhost:8080/",
          "height": 50
        },
        "outputId": "7dc23cdd-f9cf-4cd2-f1c7-7acf5968c6c7"
      },
      "source": [
        "# variance\n",
        "# standard deviation\n",
        "\n",
        "# standard deviation -> square root of the variance\n",
        "\n",
        "# this right now calculates the average deviation from the mean\n",
        "np.mean(dataset - np.mean(dataset))\n",
        "\n",
        "# we square the differences between the mean and each point\n",
        "\n",
        "squared_differences = np.square(dataset - np.mean(dataset))\n",
        "\n",
        "variance = np.sum(squared_differences)/500\n",
        "print(variance)\n",
        "\n",
        "# is the variance a meaningful indicator? why?\n",
        "# the units of the variance are the square of the units of each elements\n",
        "# makes it hard to relate to the average.\n",
        "\n",
        "standard_deviation = np.sqrt(variance)\n",
        "\n",
        "# the standard deviation has the correct units compared to each element\n",
        "# \"the typical\" variation of ages in this data set is 21.25\n",
        "standard_deviation"
      ],
      "execution_count": null,
      "outputs": [
        {
          "output_type": "stream",
          "text": [
            "451.62929600000007\n"
          ],
          "name": "stdout"
        },
        {
          "output_type": "execute_result",
          "data": {
            "text/plain": [
              "21.251571612471395"
            ]
          },
          "metadata": {
            "tags": []
          },
          "execution_count": 70
        }
      ]
    },
    {
      "cell_type": "code",
      "metadata": {
        "id": "Aum8pflGPDJ6",
        "colab_type": "code",
        "colab": {
          "base_uri": "https://localhost:8080/",
          "height": 34
        },
        "outputId": "1c638bc0-8f03-4dd9-e743-0c7dad2d51e7"
      },
      "source": [
        "# numpy method to calculate standard deviation\n",
        "print( \"the standard deviation is \" + str(np.std(dataset)) + ' years')\n",
        "\n",
        "# the variance is the average squared distance to the mean"
      ],
      "execution_count": null,
      "outputs": [
        {
          "output_type": "stream",
          "text": [
            "the standard deviation is 21.251571612471395 years\n"
          ],
          "name": "stdout"
        }
      ]
    },
    {
      "cell_type": "code",
      "metadata": {
        "id": "2TP2x1PZQeMS",
        "colab_type": "code",
        "colab": {
          "base_uri": "https://localhost:8080/",
          "height": 50
        },
        "outputId": "079135e0-cda2-47e7-a378-5b9a1fd74376"
      },
      "source": [
        "# coefficient of variation\n",
        "\n",
        "cv = standard_deviation/np.mean(dataset)\n",
        "\n",
        "#sometimes people prefer to give it as a percentage\n",
        "cv\n",
        "\n",
        "#webdev cohort std of height = 20 cm\n",
        "#cv_webdev = 35%\n",
        "\n",
        "#data cohort std of ages = 4 years\n",
        "#cv_data = 15%\n",
        "\n",
        "\n",
        "#what has more variation? heights in webdev of ages in data?\n",
        "# based on CV I can say that ages in data, has less variation than heights in webdev\n",
        "\n",
        "\n",
        "#big advantage -> this indicator has no units -> its a relative indicator\n",
        "# very useful when comparing the variations of measures with different units\n",
        "\n",
        "# one disadvantage of CV\n",
        "\n",
        "# very useful when comparing very different phenomena with different units\n",
        "\n",
        "# celsius faranheit scale example \n",
        "# relative units!!\n",
        "#these numbers are exactly the same but in two different scales\n",
        "\n",
        "Celsius =  [0, 10, 20, 30, 40]\n",
        "\n",
        "Fahrenheit =  [32, 50, 68, 86, 104]\n",
        "\n",
        "print(np.std(Celsius)/np.mean(Celsius))\n",
        "\n",
        "print(np.std(Fahrenheit)/np.mean(Fahrenheit))\n"
      ],
      "execution_count": null,
      "outputs": [
        {
          "output_type": "stream",
          "text": [
            "0.7071067811865476\n",
            "0.3743506488634663\n"
          ],
          "name": "stdout"
        }
      ]
    },
    {
      "cell_type": "code",
      "metadata": {
        "id": "7vKgaqPyTuay",
        "colab_type": "code",
        "colab": {
          "base_uri": "https://localhost:8080/",
          "height": 50
        },
        "outputId": "dab57a2f-4978-4bfc-b26a-66eb671372d0"
      },
      "source": [
        "Kelvin = [273.15, 283.15, 293.15, 303.15, 313.15]\n",
        "\n",
        "Rankine = [491.67, 509.67, 527.67, 545.67, 563.67]\n",
        "\n",
        "# however!!! big advantage of coefficient of variation vs standard deviation as a measure of dispersion -> unitless -> comparison between datasets/samples\n",
        "\n",
        "# absolute units!!!\n",
        "np.divide(np.array(Kelvin),np.array(Rankine))\n",
        "\n",
        "print(np.std(Kelvin)/np.mean(Kelvin))\n",
        "\n",
        "print(np.std(Rankine)/np.mean(Rankine))\n"
      ],
      "execution_count": null,
      "outputs": [
        {
          "output_type": "stream",
          "text": [
            "0.04824197722575798\n",
            "0.04824197722575793\n"
          ],
          "name": "stdout"
        }
      ]
    },
    {
      "cell_type": "code",
      "metadata": {
        "id": "MuIXp0tpUVLN",
        "colab_type": "code",
        "colab": {}
      },
      "source": [
        "#quartile coefficient of dispersion\n",
        "# https://en.wikipedia.org/wiki/Quartile_coefficient_of_dispersion\n",
        "\n",
        "(q3 - q1)/(q3 + q1)\n"
      ],
      "execution_count": null,
      "outputs": []
    },
    {
      "cell_type": "code",
      "metadata": {
        "id": "sZvD5ZF_U153",
        "colab_type": "code",
        "colab": {}
      },
      "source": [
        "# Coefficients that measure the shape of a distribution"
      ],
      "execution_count": null,
      "outputs": []
    },
    {
      "cell_type": "code",
      "metadata": {
        "id": "2JuDYDm_GKMz",
        "colab_type": "code",
        "colab": {
          "base_uri": "https://localhost:8080/",
          "height": 34
        },
        "outputId": "82cd7b30-7000-4ed3-d641-1dbb9e83b530"
      },
      "source": [
        "3# examples to solve mini test\n",
        "data = np.array([1,2,3,4,5,6,6,7,8,9])\n",
        "\n",
        "np.median(data)\n",
        "\n",
        "# whenever you have an even number of elements in an array, the median\n",
        "# is the average of the two numbers in the middle"
      ],
      "execution_count": null,
      "outputs": [
        {
          "output_type": "execute_result",
          "data": {
            "text/plain": [
              "5.5"
            ]
          },
          "metadata": {
            "tags": []
          },
          "execution_count": 47
        }
      ]
    },
    {
      "cell_type": "code",
      "metadata": {
        "id": "1v4qkJD4GPJb",
        "colab_type": "code",
        "colab": {
          "base_uri": "https://localhost:8080/",
          "height": 34
        },
        "outputId": "acaa252f-bcad-45ae-a605-51107ab22b2f"
      },
      "source": [
        "data = np.array([1,2,3,2,2])\n",
        "\n",
        "np.mean(data)"
      ],
      "execution_count": null,
      "outputs": [
        {
          "output_type": "execute_result",
          "data": {
            "text/plain": [
              "2.0"
            ]
          },
          "metadata": {
            "tags": []
          },
          "execution_count": 49
        }
      ]
    },
    {
      "cell_type": "code",
      "metadata": {
        "id": "nnRm2wChHKFr",
        "colab_type": "code",
        "colab": {
          "base_uri": "https://localhost:8080/",
          "height": 34
        },
        "outputId": "a39c9b45-8831-4fce-be71-76bcc43379ca"
      },
      "source": [
        "stats.mode(data)"
      ],
      "execution_count": null,
      "outputs": [
        {
          "output_type": "execute_result",
          "data": {
            "text/plain": [
              "ModeResult(mode=array([2]), count=array([2]))"
            ]
          },
          "metadata": {
            "tags": []
          },
          "execution_count": 50
        }
      ]
    },
    {
      "cell_type": "code",
      "metadata": {
        "id": "X2CtzAvIHVfF",
        "colab_type": "code",
        "colab": {
          "base_uri": "https://localhost:8080/",
          "height": 34
        },
        "outputId": "bbcca699-3883-43e9-ea89-b51811248a13"
      },
      "source": [
        "data = np.array([1,2,3,4,5,6,7,8,9])\n",
        "\n",
        "np.mean(data)"
      ],
      "execution_count": null,
      "outputs": [
        {
          "output_type": "execute_result",
          "data": {
            "text/plain": [
              "5.0"
            ]
          },
          "metadata": {
            "tags": []
          },
          "execution_count": 53
        }
      ]
    },
    {
      "cell_type": "code",
      "metadata": {
        "id": "rSCRneAQHmY4",
        "colab_type": "code",
        "colab": {
          "base_uri": "https://localhost:8080/",
          "height": 34
        },
        "outputId": "99c73a82-e293-4e60-9a37-202fa17a8e9f"
      },
      "source": [
        "data = np.array([1,1,2,3,4,5,6,6,7,7)\n",
        "np.mean(data)"
      ],
      "execution_count": null,
      "outputs": [
        {
          "output_type": "execute_result",
          "data": {
            "text/plain": [
              "21.545454545454547"
            ]
          },
          "metadata": {
            "tags": []
          },
          "execution_count": 55
        }
      ]
    },
    {
      "cell_type": "code",
      "metadata": {
        "id": "003YvOKkH-T0",
        "colab_type": "code",
        "colab": {}
      },
      "source": [
        "# second statistics class\n",
        "\n",
        "from scipy import stats\n",
        "import numpy as np\n",
        "from matplotlib import pyplot as plt"
      ],
      "execution_count": null,
      "outputs": []
    },
    {
      "cell_type": "code",
      "metadata": {
        "id": "PnVkSoz6SkLF",
        "colab_type": "code",
        "colab": {}
      },
      "source": [
        "skewed_data = stats.skewnorm.rvs(a= 2,loc = 10, scale = 2, size = 100)"
      ],
      "execution_count": null,
      "outputs": []
    },
    {
      "cell_type": "code",
      "metadata": {
        "id": "asgVxyM7S9K7",
        "colab_type": "code",
        "colab": {
          "base_uri": "https://localhost:8080/",
          "height": 513
        },
        "outputId": "8b5b8fe5-dbe1-4afd-d0fb-97ca688ca8a9"
      },
      "source": [
        "# a = 0 will not give you skewness\n",
        "\n",
        "plt.hist(skewed_data)\n",
        "plt.show()\n",
        "\n",
        "# by setting density to true you are normalizing the dataset in the y direction!!! not the normalization of the class\n",
        "# it simply means that you divide every \"bar\" by the total number of points (100)\n",
        "plt.hist(skewed_data, density = True)\n",
        "plt.show()"
      ],
      "execution_count": null,
      "outputs": [
        {
          "output_type": "display_data",
          "data": {
            "image/png": "[encoded data removed]",
            "text/plain": [
              "<Figure size 432x288 with 1 Axes>"
            ]
          },
          "metadata": {
            "tags": [],
            "needs_background": "light"
          }
        },
        {
          "output_type": "display_data",
          "data": {
            "image/png": "[encoded data removed]",
            "text/plain": [
              "<Figure size 432x288 with 1 Axes>"
            ]
          },
          "metadata": {
            "tags": [],
            "needs_background": "light"
          }
        }
      ]
    },
    {
      "cell_type": "code",
      "metadata": {
        "id": "XtM8f2UFTQAF",
        "colab_type": "code",
        "colab": {
          "base_uri": "https://localhost:8080/",
          "height": 67
        },
        "outputId": "72661ae6-dc78-444a-9c3a-252cc0f1f62f"
      },
      "source": [
        "# exploring some methods\n",
        "\n",
        "# IQR\n",
        "print(stats.iqr(skewed_data))\n",
        "\n",
        "# skewness\n",
        "\n",
        "print(stats.skew(skewed_data))\n",
        "\n",
        "# kurtosis\n",
        "\n",
        "stats.kurtosis(skewed_data, fisher = True)\n",
        "\n",
        "# the fisher parameter either subtracts the usual kurtosis by 3 or not"
      ],
      "execution_count": null,
      "outputs": [
        {
          "output_type": "stream",
          "text": [
            "2.128346564269801\n",
            "0.17635490901238612\n"
          ],
          "name": "stdout"
        },
        {
          "output_type": "execute_result",
          "data": {
            "text/plain": [
              "-0.19152754785991588"
            ]
          },
          "metadata": {
            "tags": []
          },
          "execution_count": 19
        }
      ]
    },
    {
      "cell_type": "code",
      "metadata": {
        "id": "tcO35mD1T96X",
        "colab_type": "code",
        "colab": {
          "base_uri": "https://localhost:8080/",
          "height": 34
        },
        "outputId": "11069c44-cfa1-4acf-e14e-d92b35104261"
      },
      "source": [
        "# ask ourselves if this data obeys the chebychev criteria for 2 standard deviations?\n",
        "\n",
        "condition = (skewed_data < (skewed_data.mean() + 2*skewed_data.std())) & (skewed_data > (skewed_data.mean() - 2*skewed_data.std()))\n",
        "\n",
        "# I use my condition as a slicing criteria to obtain only the values that obey it\n",
        "skewed_data[condition]\n",
        "\n",
        "# get my final porportion\n",
        "\n",
        "100*len(skewed_data[condition])/len(skewed_data)\n",
        "\n",
        "# checbychev predicted 75% or more within 2 sigmas -> and we proved it right with our example\n",
        "\n"
      ],
      "execution_count": null,
      "outputs": [
        {
          "output_type": "execute_result",
          "data": {
            "text/plain": [
              "96.0"
            ]
          },
          "metadata": {
            "tags": []
          },
          "execution_count": 23
        }
      ]
    },
    {
      "cell_type": "code",
      "metadata": {
        "id": "_rfo2r-4V2yR",
        "colab_type": "code",
        "colab": {}
      },
      "source": [
        "#Example of standardization\n",
        "\n",
        "import numpy as np\n",
        "\n",
        "# loc determines the mean/center of your distribution \n",
        "# scale determines the dispersion or standard deviation\n",
        "data1 = np.random.normal(loc = 10, scale = 3, size = 200)\n",
        "data2 = np.random.normal(loc = 100, scale = 30, size = 200)\n",
        "\n"
      ],
      "execution_count": null,
      "outputs": []
    },
    {
      "cell_type": "code",
      "metadata": {
        "id": "NB4ZdtSuXNBJ",
        "colab_type": "code",
        "colab": {
          "base_uri": "https://localhost:8080/",
          "height": 265
        },
        "outputId": "e7ffab01-6e59-4dff-f5a0-2e8cbf509b87"
      },
      "source": [
        "# standardize the data\n",
        "standard_data = (data - np.mean(data))/np.std(data)\n",
        "\n",
        "# normalize the data\n",
        "normalized_data = (data - np.min(data))/(np.max(data)-np.min(data))\n",
        "\n",
        "#plt.hist(data)\n",
        "#plt.hist(standard_data)\n",
        "#plt.show()\n",
        "\n",
        "#plt.hist(data)\n",
        "plt.hist(standard_data)\n",
        "plt.hist(normalized_data)\n",
        "\n",
        "plt.show()"
      ],
      "execution_count": null,
      "outputs": [
        {
          "output_type": "display_data",
          "data": {
            "image/png": "[encoded data removed]",
            "text/plain": [
              "<Figure size 432x288 with 1 Axes>"
            ]
          },
          "metadata": {
            "tags": [],
            "needs_background": "light"
          }
        }
      ]
    },
    {
      "cell_type": "code",
      "metadata": {
        "id": "VU1OGsnRXma0",
        "colab_type": "code",
        "colab": {
          "base_uri": "https://localhost:8080/",
          "height": 513
        },
        "outputId": "75829bb9-24bc-4efc-ea90-0dee302bbc21"
      },
      "source": [
        "# answering question: what is the purpose? to bring everything to the same scale\n",
        "data1 = np.random.normal(loc = 10, scale = 3, size = 200)\n",
        "data2 = np.random.normal(loc = 100, scale = 30, size = 200)\n",
        "\n",
        "plt.hist(data1)\n",
        "plt.hist(data2)\n",
        "\n",
        "plt.show()\n",
        "\n",
        "plt.hist((data1 - np.mean(data1))/np.std(data1))\n",
        "plt.hist((data2 - np.mean(data2))/np.std(data2))\n",
        "plt.show()"
      ],
      "execution_count": null,
      "outputs": [
        {
          "output_type": "display_data",
          "data": {
            "image/png": "[encoded data removed]",
            "text/plain": [
              "<Figure size 432x288 with 1 Axes>"
            ]
          },
          "metadata": {
            "tags": [],
            "needs_background": "light"
          }
        },
        {
          "output_type": "display_data",
          "data": {
            "image/png": "[encoded data removed]",
            "text/plain": [
              "<Figure size 432x288 with 1 Axes>"
            ]
          },
          "metadata": {
            "tags": [],
            "needs_background": "light"
          }
        }
      ]
    },
    {
      "cell_type": "code",
      "metadata": {
        "id": "Jub2g77A9SiO",
        "colab_type": "code",
        "colab": {
          "base_uri": "https://localhost:8080/",
          "height": 689
        },
        "outputId": "0503ce00-f18a-4592-af88-43f52b234f1a"
      },
      "source": [
        "# Covariance and correlation\n",
        "\n",
        "import numpy as np\n",
        "\n",
        "data_1 = np.random.normal(loc = 1, scale = 2, size = 200)\n",
        "data_2 = np.random.normal(loc = 1, scale = 2, size = 200)\n",
        "data_3 = np.random.normal(loc = 1, scale = 2, size = 200)\n",
        "\n",
        "data_1\n"
      ],
      "execution_count": null,
      "outputs": [
        {
          "output_type": "execute_result",
          "data": {
            "text/plain": [
              "array([-1.3264065 , -2.28608677,  0.12021524, -1.26167682, -2.35366815,\n",
              "        0.85293363,  3.49134157, -0.36027457,  1.2302246 ,  1.19030215,\n",
              "        3.36271262, -0.81062541, -1.44228918, -0.33962991,  4.07434386,\n",
              "        1.05893273,  0.7306677 , -1.56963139, -0.35985538,  1.62021284,\n",
              "        1.40990566,  3.25645271,  1.06695387,  0.76820133,  3.651957  ,\n",
              "        0.60013559,  3.56579553,  3.4264948 ,  0.14603218, -0.60155083,\n",
              "        0.93342377,  1.54626466, -0.72505658,  4.63052218,  0.17772873,\n",
              "        0.39989218,  3.38065517,  0.61153582, -1.82779304,  0.05058964,\n",
              "       -2.26492825, -0.49307599,  3.21544971, -2.23536737,  2.94021141,\n",
              "        0.91613506,  2.98090923, -2.41598849, -1.25302408, -3.76759094,\n",
              "        2.2529655 , -1.08664769, -1.64536164,  4.14773956,  1.40887377,\n",
              "        3.21172033,  1.00086547,  3.50303441,  4.7331811 ,  4.89601994,\n",
              "        1.67017152,  0.53207574,  0.5110692 ,  2.39784829,  2.70036669,\n",
              "        2.32963279, -0.8835499 ,  0.99295522, -0.69888082, -2.87972073,\n",
              "        0.90441617,  3.03637546,  2.28701218,  2.38377224,  4.72761989,\n",
              "        1.39802753,  0.0083357 ,  3.23886456,  4.51386758, -0.50536657,\n",
              "       -4.16434504,  1.6793666 , -0.83430084, -0.95173481,  4.58793337,\n",
              "        2.13560215,  5.41504805, -0.54781312, -1.58585679,  2.27431479,\n",
              "       -1.0268452 ,  3.77545575,  3.18514387, -3.58826918, -2.88666818,\n",
              "        2.16812705, -1.24880501, -1.64254162,  3.53151334, -1.17025936,\n",
              "        3.6492273 ,  0.46993657, -0.60792102,  0.70867542, -0.8204048 ,\n",
              "       -3.02719713, -1.70435904, -0.56677583,  3.6171193 ,  2.56947784,\n",
              "        1.73029897,  2.14608102,  1.102189  ,  2.34042338,  3.49362452,\n",
              "        0.46318403, -3.50053406,  3.21489829, -1.61499157,  0.11551086,\n",
              "       -1.40882717,  2.40166787, -3.59834384,  0.5288487 ,  0.23600355,\n",
              "       -0.01343234, -1.60440182, -0.07014718,  1.63981819,  3.08341154,\n",
              "       -2.82183748,  2.37233901,  0.81809728,  1.68545595, -2.45496934,\n",
              "        2.01117845,  3.05882922,  2.6061329 , -1.00249684, -1.57445583,\n",
              "        0.5163999 ,  1.85681864,  4.45678353,  2.51578348,  1.99617526,\n",
              "        6.27410554,  4.14067959,  2.82719994,  2.02438574,  0.38900111,\n",
              "       -0.890378  , -0.86426372,  2.04961282, -3.34896842, -2.09327982,\n",
              "        3.25274603, -2.11401465,  3.39373404,  0.03729197, -0.14820575,\n",
              "        4.4953396 ,  2.18913344,  1.10859921,  1.7830669 ,  0.11362776,\n",
              "       -0.12803314, -2.99645283,  2.49710506, -1.05225048,  1.05341149,\n",
              "        0.80907842,  1.46809795,  4.51230688,  0.52595703, -0.42190189,\n",
              "        0.87381556, -0.24607085,  3.91313552,  0.13404949,  0.23493479,\n",
              "       -1.29164353, -0.89346495,  1.64410923,  0.47412958,  3.48075149,\n",
              "        2.41522529, -0.1278437 ,  0.63298645, -1.23243751,  2.34895097,\n",
              "        0.49349541,  3.17538557, -0.12104495, -2.18936728,  3.07095798,\n",
              "        0.61476697,  1.3685461 ,  4.85221701,  1.07795897,  0.84593181])"
            ]
          },
          "metadata": {
            "tags": []
          },
          "execution_count": 13
        }
      ]
    },
    {
      "cell_type": "code",
      "metadata": {
        "id": "WEcN-r-K9maA",
        "colab_type": "code",
        "colab": {
          "base_uri": "https://localhost:8080/",
          "height": 50
        },
        "outputId": "e4771274-cb9b-40c2-ad14-4884c551badf"
      },
      "source": [
        "# when we have two numpy arrays, we  may want to place them in a  single array as coordinate pairs\n",
        "\n",
        "points = np.stack((data_1,data_2), axis = 0)\n",
        "# we could also achieve this with a zip and a list :) \n",
        "#np.array(list(zip(data_1,data_2)))\n",
        "\n",
        "# calculating the covariance between both array\n",
        "\n",
        "np.cov(points)\n",
        "#returns a matrix of covariances, how do I interpret this?\n",
        "\n",
        "#[ cov data_ 1 with data_1 == variance data_1, cov data_1 with data_2]\n",
        "# [cov data_2 with data_1, cov data_2 with data_2 == variance data_2]\n"
      ],
      "execution_count": null,
      "outputs": [
        {
          "output_type": "execute_result",
          "data": {
            "text/plain": [
              "array([[ 4.66115688, -0.13891151],\n",
              "       [-0.13891151,  4.810235  ]])"
            ]
          },
          "metadata": {
            "tags": []
          },
          "execution_count": 15
        }
      ]
    },
    {
      "cell_type": "code",
      "metadata": {
        "id": "lpsCLV0nAMeg",
        "colab_type": "code",
        "colab": {
          "base_uri": "https://localhost:8080/",
          "height": 265
        },
        "outputId": "7130742d-5f8f-45bc-fc4b-a4eb658cc2cf"
      },
      "source": [
        "import matplotlib.pyplot as plt\n",
        "\n",
        "plt.scatter(data_1,data_2)\n",
        "plt.show()"
      ],
      "execution_count": null,
      "outputs": [
        {
          "output_type": "display_data",
          "data": {
            "image/png": "[encoded data removed]",
            "text/plain": [
              "<Figure size 432x288 with 1 Axes>"
            ]
          },
          "metadata": {
            "tags": [],
            "needs_background": "light"
          }
        }
      ]
    },
    {
      "cell_type": "code",
      "metadata": {
        "id": "HcnXwXVfAc0N",
        "colab_type": "code",
        "colab": {
          "base_uri": "https://localhost:8080/",
          "height": 50
        },
        "outputId": "96b5d715-f76f-49d6-954a-c26f655017ab"
      },
      "source": [
        "# let's calculate the correlation\n",
        "# this command returns pearson correlation only\n",
        "np.corrcoef(data_1,data_2)\n",
        "\n",
        "# [ corr data_1 with itself, corr data_1 with data_2]\n",
        "# [ corr data_2 with data_1, corr data_2 with itself]"
      ],
      "execution_count": null,
      "outputs": [
        {
          "output_type": "execute_result",
          "data": {
            "text/plain": [
              "array([[ 1.       , -0.0293365],\n",
              "       [-0.0293365,  1.       ]])"
            ]
          },
          "metadata": {
            "tags": []
          },
          "execution_count": 18
        }
      ]
    },
    {
      "cell_type": "code",
      "metadata": {
        "id": "lM_RKJNGBMy3",
        "colab_type": "code",
        "colab": {
          "base_uri": "https://localhost:8080/",
          "height": 118
        },
        "outputId": "b4dae600-1cc8-4696-a32f-4e7d3d8fe08f"
      },
      "source": [
        "# spearman correlation example -> good correlations\n",
        "x = np.arange(0,10,1)\n",
        "\n",
        "# try running the cells below with these combinations\n",
        "y = np.square(x) + np.random.normal(loc = 1, scale = 5, size = 10)\n",
        "y = np.exp(x) + np.random.normal(loc = 1, scale = 5, size = 10)\n",
        "\n",
        "\n",
        "# spearman correlation example -> bad correlations\n",
        "#x = np.arange(-10,10,1)\n",
        "\n",
        "# try running the cells below with these combinations\n",
        "#y = np.square(x) + np.random.normal(loc = 1, scale = 5, size = 20)\n",
        "#y = np.exp(x) + np.random.normal(loc = 1, scale = 5, size = 20)\n",
        "\n",
        "\n",
        "print(x)\n",
        "print(y)"
      ],
      "execution_count": null,
      "outputs": [
        {
          "output_type": "stream",
          "text": [
            "[-10  -9  -8  -7  -6  -5  -4  -3  -2  -1   0   1   2   3   4   5   6   7\n",
            "   8   9]\n",
            "[103.62347592  81.54919509  61.87672223  54.19636179  39.36552825\n",
            "  15.01554305  14.20030356   5.59100203  10.6579816    5.99852734\n",
            "  -1.77744101   2.83033572  13.56144609   8.2123479   28.71304407\n",
            "  28.23179758  29.86684492  54.74949037  62.00125538  85.79373828]\n"
          ],
          "name": "stdout"
        }
      ]
    },
    {
      "cell_type": "code",
      "metadata": {
        "id": "bGtMCcc0BeNU",
        "colab_type": "code",
        "colab": {
          "base_uri": "https://localhost:8080/",
          "height": 67
        },
        "outputId": "db2a6cc1-4817-4eeb-cb8c-25dfa52ef332"
      },
      "source": [
        "from scipy import stats\n",
        "# pearson \n",
        "print(stats.pearsonr(x,y))\n",
        "# spearman\n",
        "print(stats.spearmanr(x,y))\n",
        "# kendall tau\n",
        "print(stats.kendalltau(x,y))\n"
      ],
      "execution_count": null,
      "outputs": [
        {
          "output_type": "stream",
          "text": [
            "(-0.16066503273186744, 0.49861666707844804)\n",
            "SpearmanrResult(correlation=-0.08120300751879699, pvalue=0.733607630478017)\n",
            "KendalltauResult(correlation=-0.06315789473684211, pvalue=0.7246362205272812)\n"
          ],
          "name": "stdout"
        }
      ]
    },
    {
      "cell_type": "code",
      "metadata": {
        "id": "9rFeFYB4BzgM",
        "colab_type": "code",
        "colab": {
          "base_uri": "https://localhost:8080/",
          "height": 265
        },
        "outputId": "af0078d7-205c-4ca9-cc23-b1dd2fdc0d53"
      },
      "source": [
        "plt.scatter(x,y)\n",
        "plt.show()"
      ],
      "execution_count": null,
      "outputs": [
        {
          "output_type": "display_data",
          "data": {
            "image/png": "[encoded data removed]",
            "text/plain": [
              "<Figure size 432x288 with 1 Axes>"
            ]
          },
          "metadata": {
            "tags": [],
            "needs_background": "light"
          }
        }
      ]
    },
    {
      "cell_type": "code",
      "metadata": {
        "id": "mZWN36n_EMlM",
        "colab_type": "code",
        "colab": {}
      },
      "source": [
        "# cool hands on example\n",
        "# try amazon and microsoft and then microsoft and mcd\n",
        "import requests\n",
        "# alpha vantage stock market API\n",
        "key = 'LD1TS7G1MUG3SD5Q'\n",
        "\n",
        "inputs1 = {\n",
        "  'function' : 'TIME_SERIES_DAILY',\n",
        " 'symbol' : 'MSFT',\n",
        " 'apikey' : key   \n",
        "\n",
        "}\n",
        "\n",
        "inputs2 = {\n",
        "  'function' : 'TIME_SERIES_DAILY',\n",
        " 'symbol' : 'MCD',\n",
        " 'apikey' : key   \n",
        "\n",
        "}\n",
        "\n",
        "response1 = requests.get(\"https://www.alphavantage.co/query\",inputs1)\n",
        "response2 = requests.get(\"https://www.alphavantage.co/query\",inputs2)\n",
        "\n",
        "# getting stock time series for past 100 days for both stocks\n"
      ],
      "execution_count": null,
      "outputs": []
    },
    {
      "cell_type": "code",
      "metadata": {
        "id": "J0W5Li0lEY2C",
        "colab_type": "code",
        "colab": {}
      },
      "source": [
        "# converting api responses to dataframes\n",
        "import pandas as pd\n",
        "data1 = pd.DataFrame(response1.json()['Time Series (Daily)']).T\n",
        "data2 = pd.DataFrame(response2.json()['Time Series (Daily)']).T"
      ],
      "execution_count": null,
      "outputs": []
    },
    {
      "cell_type": "code",
      "metadata": {
        "id": "eXWnAE8UEniG",
        "colab_type": "code",
        "colab": {
          "base_uri": "https://localhost:8080/",
          "height": 195
        },
        "outputId": "ba5c584f-43fa-4adb-b415-79d67b0b2217"
      },
      "source": [
        "data2.head()"
      ],
      "execution_count": null,
      "outputs": [
        {
          "output_type": "execute_result",
          "data": {
            "text/html": [
              "<div>\n",
              "<style scoped>\n",
              "    .dataframe tbody tr th:only-of-type {\n",
              "        vertical-align: middle;\n",
              "    }\n",
              "\n",
              "    .dataframe tbody tr th {\n",
              "        vertical-align: top;\n",
              "    }\n",
              "\n",
              "    .dataframe thead th {\n",
              "        text-align: right;\n",
              "    }\n",
              "</style>\n",
              "<table border=\"1\" class=\"dataframe\">\n",
              "  <thead>\n",
              "    <tr style=\"text-align: right;\">\n",
              "      <th></th>\n",
              "      <th>1. open</th>\n",
              "      <th>2. high</th>\n",
              "      <th>3. low</th>\n",
              "      <th>4. close</th>\n",
              "      <th>5. volume</th>\n",
              "    </tr>\n",
              "  </thead>\n",
              "  <tbody>\n",
              "    <tr>\n",
              "      <th>2020-04-24</th>\n",
              "      <td>183.2600</td>\n",
              "      <td>184.3500</td>\n",
              "      <td>180.8600</td>\n",
              "      <td>184.0200</td>\n",
              "      <td>3284658</td>\n",
              "    </tr>\n",
              "    <tr>\n",
              "      <th>2020-04-23</th>\n",
              "      <td>186.1600</td>\n",
              "      <td>187.3300</td>\n",
              "      <td>181.3200</td>\n",
              "      <td>182.0400</td>\n",
              "      <td>5047598</td>\n",
              "    </tr>\n",
              "    <tr>\n",
              "      <th>2020-04-22</th>\n",
              "      <td>180.7500</td>\n",
              "      <td>187.7300</td>\n",
              "      <td>180.7500</td>\n",
              "      <td>186.4800</td>\n",
              "      <td>4243540</td>\n",
              "    </tr>\n",
              "    <tr>\n",
              "      <th>2020-04-21</th>\n",
              "      <td>177.3700</td>\n",
              "      <td>179.3900</td>\n",
              "      <td>176.1000</td>\n",
              "      <td>177.5800</td>\n",
              "      <td>4756259</td>\n",
              "    </tr>\n",
              "    <tr>\n",
              "      <th>2020-04-20</th>\n",
              "      <td>184.4500</td>\n",
              "      <td>185.7800</td>\n",
              "      <td>181.5500</td>\n",
              "      <td>181.6500</td>\n",
              "      <td>3855035</td>\n",
              "    </tr>\n",
              "  </tbody>\n",
              "</table>\n",
              "</div>"
            ],
            "text/plain": [
              "             1. open   2. high    3. low  4. close 5. volume\n",
              "2020-04-24  183.2600  184.3500  180.8600  184.0200   3284658\n",
              "2020-04-23  186.1600  187.3300  181.3200  182.0400   5047598\n",
              "2020-04-22  180.7500  187.7300  180.7500  186.4800   4243540\n",
              "2020-04-21  177.3700  179.3900  176.1000  177.5800   4756259\n",
              "2020-04-20  184.4500  185.7800  181.5500  181.6500   3855035"
            ]
          },
          "metadata": {
            "tags": []
          },
          "execution_count": 53
        }
      ]
    },
    {
      "cell_type": "code",
      "metadata": {
        "id": "p8XFFHe4Ehgx",
        "colab_type": "code",
        "colab": {
          "base_uri": "https://localhost:8080/",
          "height": 195
        },
        "outputId": "65cfc287-51b2-4474-bd45-62006c0a6d7a"
      },
      "source": [
        "merged = data1.merge(data2, how = 'inner', left_index= True, right_index = True)\n",
        "merged.head()\n"
      ],
      "execution_count": null,
      "outputs": [
        {
          "output_type": "execute_result",
          "data": {
            "text/html": [
              "<div>\n",
              "<style scoped>\n",
              "    .dataframe tbody tr th:only-of-type {\n",
              "        vertical-align: middle;\n",
              "    }\n",
              "\n",
              "    .dataframe tbody tr th {\n",
              "        vertical-align: top;\n",
              "    }\n",
              "\n",
              "    .dataframe thead th {\n",
              "        text-align: right;\n",
              "    }\n",
              "</style>\n",
              "<table border=\"1\" class=\"dataframe\">\n",
              "  <thead>\n",
              "    <tr style=\"text-align: right;\">\n",
              "      <th></th>\n",
              "      <th>1. open_x</th>\n",
              "      <th>2. high_x</th>\n",
              "      <th>3. low_x</th>\n",
              "      <th>4. close_x</th>\n",
              "      <th>5. volume_x</th>\n",
              "      <th>1. open_y</th>\n",
              "      <th>2. high_y</th>\n",
              "      <th>3. low_y</th>\n",
              "      <th>4. close_y</th>\n",
              "      <th>5. volume_y</th>\n",
              "    </tr>\n",
              "  </thead>\n",
              "  <tbody>\n",
              "    <tr>\n",
              "      <th>2020-04-24</th>\n",
              "      <td>172.0600</td>\n",
              "      <td>174.5600</td>\n",
              "      <td>170.7100</td>\n",
              "      <td>174.5500</td>\n",
              "      <td>34050329</td>\n",
              "      <td>183.2600</td>\n",
              "      <td>184.3500</td>\n",
              "      <td>180.8600</td>\n",
              "      <td>184.0200</td>\n",
              "      <td>3284658</td>\n",
              "    </tr>\n",
              "    <tr>\n",
              "      <th>2020-04-23</th>\n",
              "      <td>174.1100</td>\n",
              "      <td>175.0600</td>\n",
              "      <td>170.9100</td>\n",
              "      <td>171.4200</td>\n",
              "      <td>32790804</td>\n",
              "      <td>186.1600</td>\n",
              "      <td>187.3300</td>\n",
              "      <td>181.3200</td>\n",
              "      <td>182.0400</td>\n",
              "      <td>5047598</td>\n",
              "    </tr>\n",
              "    <tr>\n",
              "      <th>2020-04-22</th>\n",
              "      <td>171.3900</td>\n",
              "      <td>174.0000</td>\n",
              "      <td>170.8200</td>\n",
              "      <td>173.5200</td>\n",
              "      <td>34651604</td>\n",
              "      <td>180.7500</td>\n",
              "      <td>187.7300</td>\n",
              "      <td>180.7500</td>\n",
              "      <td>186.4800</td>\n",
              "      <td>4243540</td>\n",
              "    </tr>\n",
              "    <tr>\n",
              "      <th>2020-04-21</th>\n",
              "      <td>173.5000</td>\n",
              "      <td>173.6699</td>\n",
              "      <td>166.1102</td>\n",
              "      <td>167.8200</td>\n",
              "      <td>56203749</td>\n",
              "      <td>177.3700</td>\n",
              "      <td>179.3900</td>\n",
              "      <td>176.1000</td>\n",
              "      <td>177.5800</td>\n",
              "      <td>4756259</td>\n",
              "    </tr>\n",
              "    <tr>\n",
              "      <th>2020-04-20</th>\n",
              "      <td>176.6300</td>\n",
              "      <td>178.7500</td>\n",
              "      <td>174.9900</td>\n",
              "      <td>175.0600</td>\n",
              "      <td>36669595</td>\n",
              "      <td>184.4500</td>\n",
              "      <td>185.7800</td>\n",
              "      <td>181.5500</td>\n",
              "      <td>181.6500</td>\n",
              "      <td>3855035</td>\n",
              "    </tr>\n",
              "  </tbody>\n",
              "</table>\n",
              "</div>"
            ],
            "text/plain": [
              "           1. open_x 2. high_x  3. low_x  ...  3. low_y 4. close_y 5. volume_y\n",
              "2020-04-24  172.0600  174.5600  170.7100  ...  180.8600   184.0200     3284658\n",
              "2020-04-23  174.1100  175.0600  170.9100  ...  181.3200   182.0400     5047598\n",
              "2020-04-22  171.3900  174.0000  170.8200  ...  180.7500   186.4800     4243540\n",
              "2020-04-21  173.5000  173.6699  166.1102  ...  176.1000   177.5800     4756259\n",
              "2020-04-20  176.6300  178.7500  174.9900  ...  181.5500   181.6500     3855035\n",
              "\n",
              "[5 rows x 10 columns]"
            ]
          },
          "metadata": {
            "tags": []
          },
          "execution_count": 54
        }
      ]
    },
    {
      "cell_type": "code",
      "metadata": {
        "id": "QwAgOOQKE1hC",
        "colab_type": "code",
        "colab": {
          "base_uri": "https://localhost:8080/",
          "height": 67
        },
        "outputId": "27f5aedb-dde9-4664-a728-44846ef83b4f"
      },
      "source": [
        "# let's test the correlations for the past 100 days between the closing prices\n",
        "\n",
        "\n",
        "print(pd.to_numeric(merged['4. close_x']).corr(pd.to_numeric(merged['4. close_y'])))\n",
        "print(pd.to_numeric(merged['4. close_x']).corr(pd.to_numeric(merged['4. close_y']),method = 'spearman'))\n",
        "print(pd.to_numeric(merged['4. close_x']).corr(pd.to_numeric(merged['4. close_y']),method = 'kendall'))"
      ],
      "execution_count": null,
      "outputs": [
        {
          "output_type": "stream",
          "text": [
            "0.6628016969661399\n",
            "0.6588878421112637\n",
            "0.5403111739745404\n"
          ],
          "name": "stdout"
        }
      ]
    },
    {
      "cell_type": "code",
      "metadata": {
        "id": "kOCGv2Y3FFe8",
        "colab_type": "code",
        "colab": {
          "base_uri": "https://localhost:8080/",
          "height": 265
        },
        "outputId": "d4bf8b7b-df8e-4df0-cb10-8f0ec77697af"
      },
      "source": [
        "plt.scatter(pd.to_numeric(merged['4. close_x']),pd.to_numeric(merged['4. close_y']))\n",
        "plt.show()"
      ],
      "execution_count": null,
      "outputs": [
        {
          "output_type": "display_data",
          "data": {
            "image/png": "[encoded data removed]",
            "text/plain": [
              "<Figure size 432x288 with 1 Axes>"
            ]
          },
          "metadata": {
            "tags": [],
            "needs_background": "light"
          }
        }
      ]
    },
    {
      "cell_type": "code",
      "metadata": {
        "id": "BV0GDHOxVI1x",
        "colab_type": "code",
        "colab": {}
      },
      "source": [
        "# references\n",
        "#https://medium.com/@swethalakshmanan14/how-when-and-why-should-you-normalize-standardize-rescale-your-data-3f083def38ff\n",
        "\n"
      ],
      "execution_count": null,
      "outputs": []
    }
  ]
}