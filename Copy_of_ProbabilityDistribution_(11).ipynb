{
  "nbformat": 4,
  "nbformat_minor": 0,
  "metadata": {
    "colab": {
      "name": "Copy of ProbabilityDistribution (1).ipynb",
      "provenance": [],
      "collapsed_sections": [],
      "include_colab_link": true
    },
    "kernelspec": {
      "name": "python3",
      "display_name": "Python 3"
    }
  },
  "cells": [
    {
      "cell_type": "markdown",
      "metadata": {
        "id": "view-in-github",
        "colab_type": "text"
      },
      "source": [
        "<a href=\"https://colab.research.google.com/github/jgoncsilva/Classes_IronHack/blob/master/Copy_of_ProbabilityDistribution_(11).ipynb\" target=\"_parent\"><img src=\"https://colab.research.google.com/assets/colab-badge.svg\" alt=\"Open In Colab\"/></a>"
      ]
    },
    {
      "cell_type": "code",
      "metadata": {
        "id": "XIOBIS0N_h39",
        "colab_type": "code",
        "colab": {}
      },
      "source": [
        "# importing libraries\n",
        "import numpy as np\n",
        "import math\n",
        "import pandas as pd\n",
        "import matplotlib.pyplot as plt\n",
        "\n",
        "from scipy.stats import uniform\n",
        "from scipy.stats import norm\n",
        "from scipy.stats import expon"
      ],
      "execution_count": null,
      "outputs": []
    },
    {
      "cell_type": "markdown",
      "metadata": {
        "id": "RGEdKGZnMqBF",
        "colab_type": "text"
      },
      "source": [
        "## Random Variables\n",
        "\n",
        "**Random Variables** (def): a random variable X is a function from the sample space to the real numbers. \n",
        "\n",
        "                                   X: S -> IR\n",
        "\n",
        "**Discreet Random Variable** is a random variable which range is countable. "
      ]
    },
    {
      "cell_type": "markdown",
      "metadata": {
        "id": "_vnlL9EmGloP",
        "colab_type": "text"
      },
      "source": [
        "# Discrete Distribution\n",
        "\n",
        "**Probability Mass Function (PMF)** (def) Let X be a discreet random variable with range R<sub>X</sub> = {x<sub>1</sub>, x<sub>2</sub>, ...} finite or countably infinite. The function   \n",
        "\n",
        "> P<sub>X</sub>(x<sub>k</sub>) = P(x = x<sub>k</sub>)   k = 1, ...\n",
        "\n",
        "is called Probability Mass Function.\n",
        "\n",
        "*Properties*\n",
        "\n",
        "**Indipendent Random Variables** (def) consider two random variables X and Y. They are indipendent if \n",
        "\n",
        "> P(X = x, Y = y) = P(X = x)P(Y = y)    for all x,y\n"
      ]
    },
    {
      "cell_type": "markdown",
      "metadata": {
        "id": "052WgnEWHEbG",
        "colab_type": "text"
      },
      "source": [
        "## Bernoulli Distribution\n",
        "\n",
        "Two events collectively exhaustive, like the coin. Success or failure. \n"
      ]
    },
    {
      "cell_type": "code",
      "metadata": {
        "id": "Rm-AQZ_DGor6",
        "colab_type": "code",
        "colab": {}
      },
      "source": [
        "import matplotlib.pyplot as plt\n",
        "from scipy.stats import bernoulli\n",
        "\n",
        "p = 0.8\n",
        "X = bernoulli.rvs(p, size=1000000)\n",
        "\n",
        "# plotting\n",
        "plt.hist(X, align='mid')"
      ],
      "execution_count": null,
      "outputs": []
    },
    {
      "cell_type": "markdown",
      "metadata": {
        "id": "9sUuXu0SMc60",
        "colab_type": "text"
      },
      "source": [
        "## Binomial Distribution\n",
        "\n",
        "Probability of having k successed in n total trials of Bernulli with probability p. Sequence of successes. "
      ]
    },
    {
      "cell_type": "code",
      "metadata": {
        "id": "h-_Ioss8NwNo",
        "colab_type": "code",
        "colab": {}
      },
      "source": [
        "# importing libraries\n",
        "%matplotlib inline\n",
        "from scipy import stats\n",
        "from scipy.stats import binom\n",
        "\n",
        "n=10\n",
        "p=0.5\n",
        "binomial = binom(n,p)\n",
        "print(binomial.pmf(3))\n",
        "print(binomial.cdf(3))\n",
        "print(binomial.mean())\n",
        "print(binomial.var())\n",
        "print(binomial.std())\n",
        "print(binomial.rvs(15))\n",
        "x = np.arange(0,11)\n",
        "fig, ax = plt.subplots(1, 1)\n",
        "ax.plot(x, binom.pmf(x, n, p), 'bo')\n",
        "ax.vlines(x, 0, binom.pmf(x, n, p), colors='b', lw=5, alpha=0.5)\n"
      ],
      "execution_count": null,
      "outputs": []
    },
    {
      "cell_type": "code",
      "metadata": {
        "id": "9NNpanrLBygi",
        "colab_type": "code",
        "colab": {}
      },
      "source": [
        "x = binomial.rvs(100)\n",
        "plt.hist(x)"
      ],
      "execution_count": null,
      "outputs": []
    },
    {
      "cell_type": "markdown",
      "metadata": {
        "id": "7Nhl8BlTSCjW",
        "colab_type": "text"
      },
      "source": [
        "## Geometric Distribution\n",
        "\n",
        "Given a percentage of failures is p, what is the probability that the testing fails at x trials?"
      ]
    },
    {
      "cell_type": "code",
      "metadata": {
        "id": "o6M6E0y2SCJJ",
        "colab_type": "code",
        "colab": {}
      },
      "source": [
        "import matplotlib.pyplot as plt\n",
        "from scipy.stats import geom\n",
        "\n",
        "p = 0.01\n",
        "mean, var, skew, kurt = geom.stats(p, moments='mvsk')\n",
        "\n",
        "# plotting\n",
        "x = np.arange(geom.ppf(0.2, p), geom.ppf(0.27, p))\n",
        "#x = np.arange(0.1,100)\n",
        "plt.plot(x, geom.pmf(x, p), 'bo', ms=8, label='geom pmf')\n",
        "plt.show()"
      ],
      "execution_count": null,
      "outputs": []
    },
    {
      "cell_type": "markdown",
      "metadata": {
        "id": "9pTUdx3ESmBH",
        "colab_type": "text"
      },
      "source": [
        "## Poisson Distribution\n",
        "\n",
        "The event can only be measured as occurring or not as occurring, meaning the variable can only be measured in whole numbers.\n",
        "\n",
        "The Poisson Distribution is used to predict how many times something might happen in a specific timeframe. It was used to estimate the annual number of Prussian cavalry soldiers killed due to horse-kicks.\n",
        "\n",
        "It is also use to model the spread of an illness. "
      ]
    },
    {
      "cell_type": "code",
      "metadata": {
        "id": "7vWUFVMDSoEK",
        "colab_type": "code",
        "colab": {}
      },
      "source": [
        "from scipy.stats import poisson\n",
        "\n",
        "mu = 1\n",
        "mean, var, skew, kurt = poisson.stats(mu, moments='mvsk')\n",
        "\n",
        "x = np.arange(poisson.ppf(0.00001, mu), poisson.ppf(0.9999, mu))\n",
        "plt.plot(x, poisson.pmf(x, mu), 'bo', ms=8, label='poisson pmf')\n",
        "plt.show()"
      ],
      "execution_count": null,
      "outputs": []
    },
    {
      "cell_type": "markdown",
      "metadata": {
        "id": "5dn6JLn8GhnC",
        "colab_type": "text"
      },
      "source": [
        "# Continuous Distribution\n",
        "\n",
        "**Cumulative Distribution Function (CDF)** (def) of a random variable.\n",
        "> F<sub>X</sub>(x) = P(X >= x)   for all x E IR\n",
        "\n",
        "For all a <= b we have P(a < X <= b) = F <sub>X</sub>(b) - F <sub>X</sub>(a)\n",
        "\n",
        "**Expectation** is the average in probability-talk\n",
        "\n",
        "**Variance** How spread out the distribution of a random variable is. \n",
        "\n"
      ]
    },
    {
      "cell_type": "code",
      "metadata": {
        "id": "FRLGyVcFR8i-",
        "colab_type": "code",
        "colab": {}
      },
      "source": [
        "x = np.array([0.2, 0.4, 0.5, 0.8, 1])\n",
        "p = np.array([0.1, 0.2, 0.2, 0.3, 0.2])\n",
        "\n",
        "\n",
        "plt.scatter(x,np.cumsum(p))"
      ],
      "execution_count": null,
      "outputs": []
    },
    {
      "cell_type": "markdown",
      "metadata": {
        "id": "jxCKG7yN_1PS",
        "colab_type": "text"
      },
      "source": [
        "## Uniform Distribution\n",
        "\n",
        "### Standard Uniform Distribution"
      ]
    },
    {
      "cell_type": "code",
      "metadata": {
        "id": "0zuIXTQf_qav",
        "colab_type": "code",
        "colab": {}
      },
      "source": [
        "x = np.linspace(0,1, 100)\n",
        "plt.plot(x, uniform.pdf(x))"
      ],
      "execution_count": null,
      "outputs": []
    },
    {
      "cell_type": "markdown",
      "metadata": {
        "id": "xsScdABy_6rm",
        "colab_type": "text"
      },
      "source": [
        "### Uniform distribution between a and b"
      ]
    },
    {
      "cell_type": "code",
      "metadata": {
        "id": "PF9hUHQTABbu",
        "colab_type": "code",
        "colab": {}
      },
      "source": [
        "a=1\n",
        "b=3\n",
        "x = np.linspace(a,b, 100)\n",
        "y = uniform.pdf(x, a, b)\n",
        "plt.plot(x, y)"
      ],
      "execution_count": null,
      "outputs": []
    },
    {
      "cell_type": "markdown",
      "metadata": {
        "id": "2hX05u3CHAev",
        "colab_type": "text"
      },
      "source": [
        "## Exponential Distribution\n",
        "\n",
        "is often concerned with the amount of time until some specific event occurs. Model situations where certain events occur with a constant probability per unit length: queuing lines, calls at call center during afternoon, radioactive particles decay, DNA strands. \n",
        "\n",
        "It can be shown, too, that the value of the change that you have in your pocket or purse approximately follows an exponential distribution."
      ]
    },
    {
      "cell_type": "code",
      "metadata": {
        "id": "DMv4P_-fGJuO",
        "colab_type": "code",
        "colab": {}
      },
      "source": [
        "exp = expon(0.001) \n",
        "\n",
        "print(exp.pdf(2))\n",
        "print(exp.cdf(4))       \n",
        "print(exp.rvs(33)) \n",
        "\n",
        "# plotting\n",
        "x = np.linspace(0,10,100)\n",
        "y = expon.pdf(x)\n",
        "fig, ax = plt.subplots(1, 1)\n",
        "ax.plot(x,y)"
      ],
      "execution_count": null,
      "outputs": []
    },
    {
      "cell_type": "markdown",
      "metadata": {
        "id": "KV4SBDcZAK3B",
        "colab_type": "text"
      },
      "source": [
        "## Gaussian Distribution\n",
        "\n",
        "How the particles distribute themselves in the process of diffusion: traffic lines, sugar in cup of tea, people sitting in conferences. \n",
        "\n"
      ]
    },
    {
      "cell_type": "code",
      "metadata": {
        "id": "bFPxuWYQAOYJ",
        "colab_type": "code",
        "colab": {}
      },
      "source": [
        "normal = norm(0, math.sqrt(9)) \n",
        "\n",
        "print(normal.pdf(2))\n",
        "print(normal.cdf(4))       \n",
        "print(normal.rvs()) \n",
        "\n",
        "# plotting\n",
        "fig, ax = plt.subplots(1, 1)\n",
        "x = np.linspace(-3,3,1000)\n",
        "y = norm.pdf(x)\n",
        "ax.plot(x,y)\n",
        "plt.show()"
      ],
      "execution_count": null,
      "outputs": []
    }
  ]
}